{
 "cells": [
  {
   "cell_type": "markdown",
   "metadata": {},
   "source": [
    "# Features selection"
   ]
  },
  {
   "cell_type": "markdown",
   "metadata": {},
   "source": [
    "In this script, we remove different groups of features from training to see when the performance decreases\n",
    "\n",
    "To run this script, the following data files are needed:\n",
    "- dt_final.xlsx (+)\n",
    "\n",
    "Saved models:\n",
    "- xgboost_no_enrichm.model (+)\n",
    "- xgboost_no_tfidf.model (+)\n",
    "- xgboost_no_lex.model (+)\n",
    "- xgboost_no_liwc.model (+)\n",
    "- xgboost_no_bias_lex.model (+)\n",
    "- xgboost_no_context.model (+)\n",
    "\n",
    "(attached: +, not attached: -)"
   ]
  },
  {
   "cell_type": "code",
   "execution_count": 1,
   "metadata": {},
   "outputs": [],
   "source": [
    "# misc\n",
    "import os\n",
    "import re\n",
    "import time\n",
    "import ast\n",
    "import warnings\n",
    "import math\n",
    "import copy\n",
    "import matplotlib.pyplot as plt\n",
    "from xgboost import plot_tree\n",
    "import seaborn as sns\n",
    "\n",
    "# data\n",
    "import pandas as pd\n",
    "import numpy as np\n",
    "import csv\n",
    "\n",
    "# ML\n",
    "from sklearn.preprocessing import MinMaxScaler\n",
    "from sklearn.model_selection import train_test_split\n",
    "from sklearn.model_selection import cross_val_score\n",
    "from sklearn.model_selection import cross_validate\n",
    "from sklearn.model_selection import KFold\n",
    "from sklearn import metrics\n",
    "import scikitplot as skplt\n",
    "import xgboost"
   ]
  },
  {
   "cell_type": "code",
   "execution_count": 2,
   "metadata": {},
   "outputs": [],
   "source": [
    "os.chdir('/Users/ladarudnitckaia/Desktop/Master Thesis/9. ML')\n",
    "data = pd.read_excel('dt_final.xlsx')"
   ]
  },
  {
   "cell_type": "markdown",
   "metadata": {},
   "source": [
    "## 1 Data preparation"
   ]
  },
  {
   "cell_type": "code",
   "execution_count": 4,
   "metadata": {},
   "outputs": [],
   "source": [
    "dt = data[[\n",
    " 'label4', \n",
    " 'glove_vec300_norm', \n",
    " 'tfidf_art', \n",
    " 'negative_conc',\n",
    " 'positive_conc',\n",
    " 'weak_subj',\n",
    " 'strong_subj',\n",
    " 'hyperbolic_terms',\n",
    " 'attitude_markers',\n",
    " 'kill_verbs',\n",
    " 'bias_lexicon',\n",
    " 'assertive_verbs',\n",
    " 'factive_verbs',\n",
    " 'report_verbs',\n",
    " 'implicative_verbs',\n",
    " 'hedges',\n",
    " 'boosters',\n",
    " 'affect ',\n",
    " 'posemo ',\n",
    " 'negemo ',\n",
    " 'anx ',\n",
    " 'anger ',\n",
    " 'sad ',\n",
    " 'social ',\n",
    " 'family ',\n",
    " 'friend ',\n",
    " 'female ',\n",
    " 'male ',\n",
    " 'cogproc ',\n",
    " 'insight ',\n",
    " 'cause ',\n",
    " 'discrep ',\n",
    " 'tentat ',\n",
    " 'certain ',\n",
    " 'differ ',\n",
    " 'percept ',\n",
    " 'see ',\n",
    " 'hear ',\n",
    " 'feel ',\n",
    " 'bio ',\n",
    " 'body ',\n",
    " 'health ',\n",
    " 'sexual ',\n",
    " 'ingest ',\n",
    " 'drives ',\n",
    " 'affiliation ',\n",
    " 'achieve ',\n",
    " 'power ',\n",
    " 'reward ',\n",
    " 'risk ',\n",
    " 'focuspast ',\n",
    " 'focuspresent ',\n",
    " 'focusfuture ',\n",
    " 'relativ ',\n",
    " 'motion ',\n",
    " 'space ',\n",
    " 'time ',\n",
    " 'work ',\n",
    " 'leisure ',\n",
    " 'home ',\n",
    " 'money ',\n",
    " 'relig ',\n",
    " 'death ',\n",
    " 'informal ',\n",
    " 'swear ',\n",
    " 'netspeak ',\n",
    " 'assent ',\n",
    " 'nonflu ',\n",
    " 'filler ',\n",
    " 'pos_ADJ',\n",
    " 'pos_ADP',\n",
    " 'pos_ADV',\n",
    " 'pos_AUX',\n",
    " 'pos_DET',\n",
    " 'pos_INTJ',\n",
    " 'pos_NOUN',\n",
    " 'pos_PRON',\n",
    " 'pos_PROPN',\n",
    " 'pos_SCONJ',\n",
    " 'pos_VERB',\n",
    " 'pos_X',\n",
    " 'dep_ROOT',\n",
    " 'dep_acl',\n",
    " 'dep_acomp',\n",
    " 'dep_advcl',\n",
    " 'dep_advmod',\n",
    " 'dep_agent',\n",
    " 'dep_amod',\n",
    " 'dep_appos',\n",
    " 'dep_attr',\n",
    " 'dep_aux',\n",
    " 'dep_auxpass',\n",
    " 'dep_case',\n",
    " 'dep_cc',\n",
    " 'dep_ccomp',\n",
    " 'dep_compound',\n",
    " 'dep_conj',\n",
    " 'dep_csubj',\n",
    " 'dep_dative',\n",
    " 'dep_dep',\n",
    " 'dep_det',\n",
    " 'dep_dobj',\n",
    " 'dep_expl',\n",
    " 'dep_intj',\n",
    " 'dep_mark',\n",
    " 'dep_meta',\n",
    " 'dep_neg',\n",
    " 'dep_nmod',\n",
    " 'dep_npadvmod',\n",
    " 'dep_nsubj',\n",
    " 'dep_nsubjpass',\n",
    " 'dep_nummod',\n",
    " 'dep_oprd',\n",
    " 'dep_parataxis',\n",
    " 'dep_pcomp',\n",
    " 'dep_pobj',\n",
    " 'dep_poss',\n",
    " 'dep_preconj',\n",
    " 'dep_predet',\n",
    " 'dep_prep',\n",
    " 'dep_prt',\n",
    " 'dep_punct',\n",
    " 'dep_quantmod',\n",
    " 'dep_relcl',\n",
    " 'dep_xcomp',\n",
    " 'ne_CARDINAL',\n",
    " 'ne_DATE',\n",
    " 'ne_EVENT',\n",
    " 'ne_FAC',\n",
    " 'ne_GPE',\n",
    " 'ne_LANGUAGE',\n",
    " 'ne_LAW',\n",
    " 'ne_LOC',\n",
    " 'ne_MONEY',\n",
    " 'ne_NORP',\n",
    " 'ne_ORDINAL',\n",
    " 'ne_ORG',\n",
    " 'ne_PERCENT',\n",
    " 'ne_PERSON',\n",
    " 'ne_PRODUCT',\n",
    " 'ne_QUANTITY',\n",
    " 'ne_TIME',\n",
    " 'ne_WORK_OF_ART',\n",
    " 'negative_conc_context',\n",
    " 'positive_conc_context',\n",
    " 'weak_subj_context',\n",
    " 'strong_subj_context',\n",
    " 'hyperbolic_terms_context',\n",
    " 'attitude_markers_context',\n",
    " 'kill_verbs_context',\n",
    " 'bias_lexicon_context',\n",
    " 'assertive_verbs_context',\n",
    " 'factive_verbs_context',\n",
    " 'report_verbs_context',\n",
    " 'hedges_context',\n",
    " 'implicative_verbs_context',\n",
    " 'boosters_context',\n",
    " 'affect _context',\n",
    " 'posemo _context',\n",
    " 'negemo _context',\n",
    " 'anx _context',\n",
    " 'anger _context',\n",
    " 'sad _context',\n",
    " 'social _context',\n",
    " 'family _context',\n",
    " 'friend _context',\n",
    " 'female _context',\n",
    " 'male _context',\n",
    " 'cogproc _context',\n",
    " 'insight _context',\n",
    " 'cause _context',\n",
    " 'discrep _context',\n",
    " 'tentat _context',\n",
    " 'certain _context',\n",
    " 'differ _context',\n",
    " 'percept _context',\n",
    " 'see _context',\n",
    " 'hear _context',\n",
    " 'feel _context',\n",
    " 'bio _context',\n",
    " 'body _context',\n",
    " 'health _context',\n",
    " 'sexual _context',\n",
    " 'ingest _context',\n",
    " 'drives _context',\n",
    " 'affiliation _context',\n",
    " 'achieve _context',\n",
    " 'power _context',\n",
    " 'reward _context',\n",
    " 'risk _context',\n",
    " 'focuspast _context',\n",
    " 'focuspresent _context',\n",
    " 'focusfuture _context',\n",
    " 'relativ _context',\n",
    " 'motion _context',\n",
    " 'space _context',\n",
    " 'time _context',\n",
    " 'work _context',\n",
    " 'leisure _context',\n",
    " 'home _context',\n",
    " 'money _context',\n",
    " 'relig _context',\n",
    " 'death _context',\n",
    " 'informal _context',\n",
    " 'swear _context',\n",
    " 'netspeak _context',\n",
    " 'assent _context',\n",
    " 'nonflu _context',\n",
    " 'filler _context',\n",
    " 'pos_ADJ_context',\n",
    " 'pos_ADP_context',\n",
    " 'pos_ADV_context',\n",
    " 'pos_AUX_context',\n",
    " 'pos_DET_context',\n",
    " 'pos_INTJ_context',\n",
    " 'pos_NOUN_context',\n",
    " 'pos_PRON_context',\n",
    " 'pos_PROPN_context',\n",
    " 'pos_SCONJ_context',\n",
    " 'pos_VERB_context',\n",
    " 'pos_X_context',\n",
    " 'dep_ROOT_context',\n",
    " 'dep_acl_context',\n",
    " 'dep_acomp_context',\n",
    " 'dep_advcl_context',\n",
    " 'dep_advmod_context',\n",
    " 'dep_agent_context',\n",
    " 'dep_amod_context',\n",
    " 'dep_appos_context',\n",
    " 'dep_attr_context',\n",
    " 'dep_aux_context',\n",
    " 'dep_auxpass_context',\n",
    " 'dep_case_context',\n",
    " 'dep_cc_context',\n",
    " 'dep_ccomp_context',\n",
    " 'dep_compound_context',\n",
    " 'dep_conj_context',\n",
    " 'dep_csubj_context',\n",
    " 'dep_dative_context',\n",
    " 'dep_dep_context',\n",
    " 'dep_det_context',\n",
    " 'dep_dobj_context',\n",
    " 'dep_expl_context',\n",
    " 'dep_intj_context',\n",
    " 'dep_mark_context',\n",
    " 'dep_meta_context',\n",
    " 'dep_neg_context',\n",
    " 'dep_nmod_context',\n",
    " 'dep_npadvmod_context',\n",
    " 'dep_nsubj_context',\n",
    " 'dep_nsubjpass_context',\n",
    " 'dep_nummod_context',\n",
    " 'dep_oprd_context',\n",
    " 'dep_parataxis_context',\n",
    " 'dep_pcomp_context',\n",
    " 'dep_pobj_context',\n",
    " 'dep_poss_context',\n",
    " 'dep_preconj_context',\n",
    " 'dep_predet_context',\n",
    " 'dep_prep_context',\n",
    " 'dep_prt_context',\n",
    " 'dep_punct_context',\n",
    " 'dep_quantmod_context',\n",
    " 'dep_relcl_context',\n",
    " 'dep_xcomp_context',\n",
    " 'ne_CARDINAL_context',\n",
    " 'ne_DATE_context',\n",
    " 'ne_EVENT_context',\n",
    " 'ne_FAC_context',\n",
    " 'ne_GPE_context',\n",
    " 'ne_LAW_context',\n",
    " 'ne_LOC_context',\n",
    " 'ne_MONEY_context',\n",
    " 'ne_NORP_context',\n",
    " 'ne_ORDINAL_context',\n",
    " 'ne_ORG_context',\n",
    " 'ne_PERCENT_context',\n",
    " 'ne_PERSON_context',\n",
    " 'ne_PRODUCT_context',\n",
    " 'ne_QUANTITY_context',\n",
    " 'ne_TIME_context',\n",
    " 'ne_WORK_OF_ART_context',\n",
    " 'ne_LANGUAGE_context']]"
   ]
  },
  {
   "cell_type": "code",
   "execution_count": 5,
   "metadata": {},
   "outputs": [
    {
     "name": "stdout",
     "output_type": "stream",
     "text": [
      "Number of missing values:\n",
      "tfidf_art 658\n"
     ]
    }
   ],
   "source": [
    "print('Number of missing values:')\n",
    "mis = (dt.isnull().sum()).to_frame()\n",
    "for i, row in mis.iterrows():\n",
    "    if row[0] > 0:\n",
    "        print(i, row[0])\n",
    "\n",
    "# Delete the rows with missing article text:\n",
    "dt = dt.dropna(subset=['tfidf_art'])"
   ]
  },
  {
   "cell_type": "code",
   "execution_count": 6,
   "metadata": {},
   "outputs": [],
   "source": [
    "x = dt.drop(['label4'], 1)\n",
    "y4 = dt[['label4']]"
   ]
  },
  {
   "cell_type": "code",
   "execution_count": 7,
   "metadata": {},
   "outputs": [],
   "source": [
    "# train-test split\n",
    "train_features, test_features, train_labels, test_labels = train_test_split(x, y4, \n",
    "                                                                            test_size = 0.10, random_state = 42)\n",
    "train_features1, val_features, train_labels1, val_labels = train_test_split(train_features, train_labels, \n",
    "                                                                            test_size = 0.10, random_state = 42)"
   ]
  },
  {
   "cell_type": "code",
   "execution_count": 8,
   "metadata": {},
   "outputs": [
    {
     "data": {
      "text/plain": [
       "282"
      ]
     },
     "execution_count": 8,
     "metadata": {},
     "output_type": "execute_result"
    }
   ],
   "source": [
    "feature_names = list(x.columns)\n",
    "len(feature_names)"
   ]
  },
  {
   "cell_type": "code",
   "execution_count": 9,
   "metadata": {},
   "outputs": [],
   "source": [
    "# matrix for XGBoost\n",
    "dtrain = xgboost.DMatrix(train_features, label=train_labels, feature_names=feature_names)\n",
    "dtest = xgboost.DMatrix(test_features, label=test_labels, feature_names=feature_names)\n",
    "dtrain1 = xgboost.DMatrix(train_features1, label=train_labels1, feature_names=feature_names)\n",
    "dval = xgboost.DMatrix(val_features, label=val_labels, feature_names=feature_names)"
   ]
  },
  {
   "cell_type": "code",
   "execution_count": 10,
   "metadata": {},
   "outputs": [
    {
     "name": "stdout",
     "output_type": "stream",
     "text": [
      "Training Features Shape: (28022, 282)\n",
      "Training Labels Shape: (28022, 1)\n",
      "Testing Features Shape: (3114, 282)\n",
      "Testing Labels Shape: (3114, 1)\n",
      "Training Features for final model Shape: (25219, 282)\n",
      "Training Labels for final model Shape: (25219, 1)\n",
      "Validation Features Shape: (2803, 282)\n",
      "Validation Labels Shape: (2803, 1)\n"
     ]
    }
   ],
   "source": [
    "print('Training Features Shape:', train_features.shape)\n",
    "print('Training Labels Shape:', train_labels.shape)\n",
    "print('Testing Features Shape:', test_features.shape)\n",
    "print('Testing Labels Shape:', test_labels.shape)\n",
    "print('Training Features for final model Shape:', train_features1.shape)\n",
    "print('Training Labels for final model Shape:', train_labels1.shape)\n",
    "print('Validation Features Shape:', val_features.shape)\n",
    "print('Validation Labels Shape:', val_labels.shape)"
   ]
  },
  {
   "cell_type": "markdown",
   "metadata": {},
   "source": [
    "## 2 Features selection"
   ]
  },
  {
   "cell_type": "markdown",
   "metadata": {},
   "source": [
    "### 2.1 Final model (all features)"
   ]
  },
  {
   "cell_type": "code",
   "execution_count": 11,
   "metadata": {},
   "outputs": [],
   "source": [
    "os.chdir('/Users/ladarudnitckaia/Desktop/Master Thesis/9. ML')\n",
    "# xgboost_tuned_weighted.save_model(\"xgboost_tuned_weighted.model\")\n",
    "xgboost_tuned_weighted = xgboost.Booster()\n",
    "xgboost_tuned_weighted.load_model(\"xgboost_tuned_weighted.model\")"
   ]
  },
  {
   "cell_type": "code",
   "execution_count": 12,
   "metadata": {},
   "outputs": [
    {
     "data": {
      "text/html": [
       "<div>\n",
       "<style scoped>\n",
       "    .dataframe tbody tr th:only-of-type {\n",
       "        vertical-align: middle;\n",
       "    }\n",
       "\n",
       "    .dataframe tbody tr th {\n",
       "        vertical-align: top;\n",
       "    }\n",
       "\n",
       "    .dataframe thead th {\n",
       "        text-align: right;\n",
       "    }\n",
       "</style>\n",
       "<table border=\"1\" class=\"dataframe\">\n",
       "  <thead>\n",
       "    <tr style=\"text-align: right;\">\n",
       "      <th></th>\n",
       "      <th>feature</th>\n",
       "      <th>score</th>\n",
       "      <th>name</th>\n",
       "    </tr>\n",
       "  </thead>\n",
       "  <tbody>\n",
       "    <tr>\n",
       "      <td>0</td>\n",
       "      <td>f2</td>\n",
       "      <td>1194.802702</td>\n",
       "      <td>negative_conc</td>\n",
       "    </tr>\n",
       "    <tr>\n",
       "      <td>1</td>\n",
       "      <td>f76</td>\n",
       "      <td>469.829776</td>\n",
       "      <td>pos_PROPN</td>\n",
       "    </tr>\n",
       "    <tr>\n",
       "      <td>2</td>\n",
       "      <td>f3</td>\n",
       "      <td>143.969471</td>\n",
       "      <td>positive_conc</td>\n",
       "    </tr>\n",
       "    <tr>\n",
       "      <td>4</td>\n",
       "      <td>f56</td>\n",
       "      <td>134.593434</td>\n",
       "      <td>work</td>\n",
       "    </tr>\n",
       "    <tr>\n",
       "      <td>26</td>\n",
       "      <td>f15</td>\n",
       "      <td>124.563202</td>\n",
       "      <td>boosters</td>\n",
       "    </tr>\n",
       "    <tr>\n",
       "      <td>...</td>\n",
       "      <td>...</td>\n",
       "      <td>...</td>\n",
       "      <td>...</td>\n",
       "    </tr>\n",
       "    <tr>\n",
       "      <td>87</td>\n",
       "      <td>f167</td>\n",
       "      <td>7.748619</td>\n",
       "      <td>cogproc _context</td>\n",
       "    </tr>\n",
       "    <tr>\n",
       "      <td>47</td>\n",
       "      <td>f160</td>\n",
       "      <td>6.290741</td>\n",
       "      <td>anger _context</td>\n",
       "    </tr>\n",
       "    <tr>\n",
       "      <td>69</td>\n",
       "      <td>f224</td>\n",
       "      <td>5.473555</td>\n",
       "      <td>dep_advmod_context</td>\n",
       "    </tr>\n",
       "    <tr>\n",
       "      <td>59</td>\n",
       "      <td>f113</td>\n",
       "      <td>5.329407</td>\n",
       "      <td>dep_pcomp</td>\n",
       "    </tr>\n",
       "    <tr>\n",
       "      <td>64</td>\n",
       "      <td>f158</td>\n",
       "      <td>5.114073</td>\n",
       "      <td>negemo _context</td>\n",
       "    </tr>\n",
       "  </tbody>\n",
       "</table>\n",
       "<p>149 rows × 3 columns</p>\n",
       "</div>"
      ],
      "text/plain": [
       "   feature        score                name\n",
       "0       f2  1194.802702       negative_conc\n",
       "1      f76   469.829776           pos_PROPN\n",
       "2       f3   143.969471       positive_conc\n",
       "4      f56   134.593434               work \n",
       "26     f15   124.563202            boosters\n",
       "..     ...          ...                 ...\n",
       "87    f167     7.748619    cogproc _context\n",
       "47    f160     6.290741      anger _context\n",
       "69    f224     5.473555  dep_advmod_context\n",
       "59    f113     5.329407           dep_pcomp\n",
       "64    f158     5.114073     negemo _context\n",
       "\n",
       "[149 rows x 3 columns]"
      ]
     },
     "execution_count": 12,
     "metadata": {},
     "output_type": "execute_result"
    }
   ],
   "source": [
    "feat_imp = pd.DataFrame.from_dict(xgboost_tuned_weighted.get_score(importance_type='gain'), orient='index')\n",
    "feat_imp = feat_imp.reset_index()\n",
    "feat_imp = feat_imp.rename(columns={\"index\": \"feature\", 0: \"score\"})\n",
    "feat_imp = feat_imp.sort_values(by=['score'], ascending=False)\n",
    "\n",
    "feat_imp['name'] = None\n",
    "for i, feat in enumerate(feature_names):\n",
    "    #print(i, feat)\n",
    "    f = 'f'+str(i)\n",
    "    feat_imp['name'] = feat_imp.apply(lambda row: feat if row['feature']==f else row['name'], axis=1)\n",
    "\n",
    "feat_imp"
   ]
  },
  {
   "cell_type": "markdown",
   "metadata": {},
   "source": [
    "### 2.2 Vary importance score [>10 ... >400]"
   ]
  },
  {
   "cell_type": "code",
   "execution_count": 13,
   "metadata": {},
   "outputs": [
    {
     "data": {
      "text/plain": [
       "['negative_conc', 'pos_PROPN']"
      ]
     },
     "execution_count": 13,
     "metadata": {},
     "output_type": "execute_result"
    }
   ],
   "source": [
    "imp_feats = list(feat_imp[feat_imp['score']>400]['name'])\n",
    "x_imp_feats = x[imp_feats]\n",
    "list(x_imp_feats)"
   ]
  },
  {
   "cell_type": "code",
   "execution_count": 14,
   "metadata": {},
   "outputs": [],
   "source": [
    "def f1_eval(predt: np.ndarray, dtrain: xgboost.DMatrix):\n",
    "    y = dtrain.get_label()\n",
    "    predt_binary = np.where(predt > 0.5, 1, 0)\n",
    "    return \"F1_score\", metrics.f1_score(y_true=y, y_pred=predt_binary)"
   ]
  },
  {
   "cell_type": "code",
   "execution_count": 15,
   "metadata": {},
   "outputs": [],
   "source": [
    "column_names = [\"imp_thr\", \"auc\", \"f1\", \"precision\", \"recall\"]\n",
    "imp_perf = pd.DataFrame(columns = column_names)\n",
    "imp_perf_l = []"
   ]
  },
  {
   "cell_type": "code",
   "execution_count": 16,
   "metadata": {
    "scrolled": true
   },
   "outputs": [
    {
     "name": "stdout",
     "output_type": "stream",
     "text": [
      "[0]\tdtrain-F1_score:0.00000\tdval-F1_score:0.00000\n",
      "Multiple eval metrics have been passed: 'dval-F1_score' will be used for early stopping.\n",
      "\n",
      "Will train until dval-F1_score hasn't improved in 10 rounds.\n",
      "[1]\tdtrain-F1_score:0.38939\tdval-F1_score:0.39400\n",
      "[2]\tdtrain-F1_score:0.43131\tdval-F1_score:0.43575\n",
      "[3]\tdtrain-F1_score:0.44423\tdval-F1_score:0.45439\n",
      "[4]\tdtrain-F1_score:0.44074\tdval-F1_score:0.44839\n",
      "[5]\tdtrain-F1_score:0.45089\tdval-F1_score:0.45981\n",
      "[6]\tdtrain-F1_score:0.44791\tdval-F1_score:0.45426\n",
      "[7]\tdtrain-F1_score:0.44944\tdval-F1_score:0.45669\n",
      "[8]\tdtrain-F1_score:0.45450\tdval-F1_score:0.47170\n",
      "[9]\tdtrain-F1_score:0.45857\tdval-F1_score:0.47261\n",
      "[10]\tdtrain-F1_score:0.46071\tdval-F1_score:0.47114\n",
      "[11]\tdtrain-F1_score:0.46204\tdval-F1_score:0.47500\n",
      "[12]\tdtrain-F1_score:0.46434\tdval-F1_score:0.46967\n",
      "[13]\tdtrain-F1_score:0.46790\tdval-F1_score:0.47385\n",
      "[14]\tdtrain-F1_score:0.46814\tdval-F1_score:0.47473\n",
      "[15]\tdtrain-F1_score:0.47202\tdval-F1_score:0.47489\n",
      "[16]\tdtrain-F1_score:0.47230\tdval-F1_score:0.47734\n",
      "[17]\tdtrain-F1_score:0.47409\tdval-F1_score:0.47819\n",
      "[18]\tdtrain-F1_score:0.47675\tdval-F1_score:0.47376\n",
      "[19]\tdtrain-F1_score:0.47655\tdval-F1_score:0.47006\n",
      "[20]\tdtrain-F1_score:0.48022\tdval-F1_score:0.47164\n",
      "[21]\tdtrain-F1_score:0.48004\tdval-F1_score:0.47251\n",
      "[22]\tdtrain-F1_score:0.48303\tdval-F1_score:0.47744\n",
      "[23]\tdtrain-F1_score:0.48361\tdval-F1_score:0.48105\n",
      "[24]\tdtrain-F1_score:0.48568\tdval-F1_score:0.48336\n",
      "[25]\tdtrain-F1_score:0.49004\tdval-F1_score:0.48266\n",
      "[26]\tdtrain-F1_score:0.49058\tdval-F1_score:0.48127\n",
      "[27]\tdtrain-F1_score:0.49242\tdval-F1_score:0.48080\n",
      "[28]\tdtrain-F1_score:0.49419\tdval-F1_score:0.48227\n",
      "[29]\tdtrain-F1_score:0.49529\tdval-F1_score:0.48579\n",
      "[30]\tdtrain-F1_score:0.49924\tdval-F1_score:0.48870\n",
      "[31]\tdtrain-F1_score:0.49766\tdval-F1_score:0.48801\n",
      "[32]\tdtrain-F1_score:0.49983\tdval-F1_score:0.48732\n",
      "[33]\tdtrain-F1_score:0.50366\tdval-F1_score:0.48315\n",
      "[34]\tdtrain-F1_score:0.50640\tdval-F1_score:0.48247\n",
      "[35]\tdtrain-F1_score:0.50913\tdval-F1_score:0.48808\n",
      "[36]\tdtrain-F1_score:0.50921\tdval-F1_score:0.48951\n",
      "[37]\tdtrain-F1_score:0.50785\tdval-F1_score:0.48814\n",
      "[38]\tdtrain-F1_score:0.50817\tdval-F1_score:0.48401\n",
      "[39]\tdtrain-F1_score:0.50840\tdval-F1_score:0.47978\n",
      "[40]\tdtrain-F1_score:0.50927\tdval-F1_score:0.48468\n",
      "[41]\tdtrain-F1_score:0.50934\tdval-F1_score:0.48603\n",
      "[42]\tdtrain-F1_score:0.50907\tdval-F1_score:0.48257\n",
      "[43]\tdtrain-F1_score:0.51218\tdval-F1_score:0.48112\n",
      "[44]\tdtrain-F1_score:0.51248\tdval-F1_score:0.48257\n",
      "[45]\tdtrain-F1_score:0.51462\tdval-F1_score:0.48257\n",
      "[46]\tdtrain-F1_score:0.51593\tdval-F1_score:0.47911\n",
      "Stopping. Best iteration:\n",
      "[36]\tdtrain-F1_score:0.50921\tdval-F1_score:0.48951\n",
      "\n",
      "[0]\tdtrain-F1_score:0.00000\tdval-F1_score:0.00000\n",
      "Multiple eval metrics have been passed: 'dval-F1_score' will be used for early stopping.\n",
      "\n",
      "Will train until dval-F1_score hasn't improved in 10 rounds.\n",
      "[1]\tdtrain-F1_score:0.38939\tdval-F1_score:0.39400\n",
      "[2]\tdtrain-F1_score:0.42863\tdval-F1_score:0.43657\n",
      "[3]\tdtrain-F1_score:0.44277\tdval-F1_score:0.45771\n",
      "[4]\tdtrain-F1_score:0.44030\tdval-F1_score:0.44911\n",
      "[5]\tdtrain-F1_score:0.45182\tdval-F1_score:0.45614\n",
      "[6]\tdtrain-F1_score:0.45012\tdval-F1_score:0.45354\n",
      "[7]\tdtrain-F1_score:0.45128\tdval-F1_score:0.45669\n",
      "[8]\tdtrain-F1_score:0.45592\tdval-F1_score:0.46762\n",
      "[9]\tdtrain-F1_score:0.45802\tdval-F1_score:0.46563\n",
      "[10]\tdtrain-F1_score:0.46154\tdval-F1_score:0.46802\n",
      "[11]\tdtrain-F1_score:0.46316\tdval-F1_score:0.47278\n",
      "[12]\tdtrain-F1_score:0.46571\tdval-F1_score:0.47132\n",
      "[13]\tdtrain-F1_score:0.46931\tdval-F1_score:0.47926\n",
      "[14]\tdtrain-F1_score:0.47236\tdval-F1_score:0.49155\n",
      "[15]\tdtrain-F1_score:0.47151\tdval-F1_score:0.48558\n",
      "[16]\tdtrain-F1_score:0.47421\tdval-F1_score:0.48567\n",
      "[17]\tdtrain-F1_score:0.47667\tdval-F1_score:0.49096\n",
      "[18]\tdtrain-F1_score:0.47849\tdval-F1_score:0.48729\n",
      "[19]\tdtrain-F1_score:0.47970\tdval-F1_score:0.47988\n",
      "[20]\tdtrain-F1_score:0.48214\tdval-F1_score:0.48000\n",
      "[21]\tdtrain-F1_score:0.48245\tdval-F1_score:0.47846\n",
      "[22]\tdtrain-F1_score:0.48210\tdval-F1_score:0.47647\n",
      "[23]\tdtrain-F1_score:0.48269\tdval-F1_score:0.47953\n",
      "[24]\tdtrain-F1_score:0.48602\tdval-F1_score:0.47246\n",
      "Stopping. Best iteration:\n",
      "[14]\tdtrain-F1_score:0.47236\tdval-F1_score:0.49155\n",
      "\n",
      "[0]\tdtrain-F1_score:0.00000\tdval-F1_score:0.00000\n",
      "Multiple eval metrics have been passed: 'dval-F1_score' will be used for early stopping.\n",
      "\n",
      "Will train until dval-F1_score hasn't improved in 10 rounds.\n",
      "[1]\tdtrain-F1_score:0.39060\tdval-F1_score:0.40598\n",
      "[2]\tdtrain-F1_score:0.43426\tdval-F1_score:0.44944\n",
      "[3]\tdtrain-F1_score:0.44871\tdval-F1_score:0.45258\n",
      "[4]\tdtrain-F1_score:0.44684\tdval-F1_score:0.45320\n",
      "[5]\tdtrain-F1_score:0.44495\tdval-F1_score:0.44728\n",
      "[6]\tdtrain-F1_score:0.44486\tdval-F1_score:0.45397\n",
      "[7]\tdtrain-F1_score:0.44689\tdval-F1_score:0.44757\n",
      "[8]\tdtrain-F1_score:0.45249\tdval-F1_score:0.45937\n",
      "[9]\tdtrain-F1_score:0.45418\tdval-F1_score:0.45794\n",
      "[10]\tdtrain-F1_score:0.45466\tdval-F1_score:0.46154\n",
      "[11]\tdtrain-F1_score:0.45728\tdval-F1_score:0.46202\n",
      "[12]\tdtrain-F1_score:0.45975\tdval-F1_score:0.46177\n",
      "[13]\tdtrain-F1_score:0.46489\tdval-F1_score:0.46201\n",
      "[14]\tdtrain-F1_score:0.46758\tdval-F1_score:0.46154\n",
      "[15]\tdtrain-F1_score:0.46766\tdval-F1_score:0.46084\n",
      "[16]\tdtrain-F1_score:0.46823\tdval-F1_score:0.46293\n",
      "[17]\tdtrain-F1_score:0.47016\tdval-F1_score:0.46547\n",
      "[18]\tdtrain-F1_score:0.47122\tdval-F1_score:0.46316\n",
      "[19]\tdtrain-F1_score:0.46888\tdval-F1_score:0.46936\n",
      "[20]\tdtrain-F1_score:0.47134\tdval-F1_score:0.47407\n",
      "[21]\tdtrain-F1_score:0.47158\tdval-F1_score:0.47423\n",
      "[22]\tdtrain-F1_score:0.47494\tdval-F1_score:0.46974\n",
      "[23]\tdtrain-F1_score:0.47500\tdval-F1_score:0.47059\n",
      "[24]\tdtrain-F1_score:0.47715\tdval-F1_score:0.47278\n",
      "[25]\tdtrain-F1_score:0.47670\tdval-F1_score:0.47511\n",
      "[26]\tdtrain-F1_score:0.47701\tdval-F1_score:0.47511\n",
      "[27]\tdtrain-F1_score:0.47541\tdval-F1_score:0.46713\n",
      "[28]\tdtrain-F1_score:0.47543\tdval-F1_score:0.46910\n",
      "[29]\tdtrain-F1_score:0.47725\tdval-F1_score:0.47010\n",
      "[30]\tdtrain-F1_score:0.47909\tdval-F1_score:0.47091\n",
      "[31]\tdtrain-F1_score:0.48216\tdval-F1_score:0.47566\n",
      "[32]\tdtrain-F1_score:0.48138\tdval-F1_score:0.47010\n",
      "[33]\tdtrain-F1_score:0.48297\tdval-F1_score:0.47790\n",
      "[34]\tdtrain-F1_score:0.48323\tdval-F1_score:0.47868\n",
      "[35]\tdtrain-F1_score:0.48246\tdval-F1_score:0.48000\n",
      "[36]\tdtrain-F1_score:0.48219\tdval-F1_score:0.47268\n",
      "[37]\tdtrain-F1_score:0.48501\tdval-F1_score:0.47514\n",
      "[38]\tdtrain-F1_score:0.48399\tdval-F1_score:0.46549\n",
      "[39]\tdtrain-F1_score:0.48456\tdval-F1_score:0.47075\n",
      "[40]\tdtrain-F1_score:0.48460\tdval-F1_score:0.46613\n",
      "[41]\tdtrain-F1_score:0.48520\tdval-F1_score:0.46505\n",
      "[42]\tdtrain-F1_score:0.48523\tdval-F1_score:0.46711\n",
      "[43]\tdtrain-F1_score:0.48675\tdval-F1_score:0.46568\n",
      "[44]\tdtrain-F1_score:0.48780\tdval-F1_score:0.46381\n",
      "[45]\tdtrain-F1_score:0.48853\tdval-F1_score:0.46443\n",
      "Stopping. Best iteration:\n",
      "[35]\tdtrain-F1_score:0.48246\tdval-F1_score:0.48000\n",
      "\n",
      "[0]\tdtrain-F1_score:0.00000\tdval-F1_score:0.00000\n",
      "Multiple eval metrics have been passed: 'dval-F1_score' will be used for early stopping.\n",
      "\n",
      "Will train until dval-F1_score hasn't improved in 10 rounds.\n",
      "[1]\tdtrain-F1_score:0.35223\tdval-F1_score:0.37019\n",
      "[2]\tdtrain-F1_score:0.42523\tdval-F1_score:0.44280\n",
      "[3]\tdtrain-F1_score:0.42831\tdval-F1_score:0.45070\n",
      "[4]\tdtrain-F1_score:0.43711\tdval-F1_score:0.46875\n",
      "[5]\tdtrain-F1_score:0.43614\tdval-F1_score:0.45439\n",
      "[6]\tdtrain-F1_score:0.43658\tdval-F1_score:0.46986\n",
      "[7]\tdtrain-F1_score:0.43760\tdval-F1_score:0.46914\n",
      "[8]\tdtrain-F1_score:0.43964\tdval-F1_score:0.46914\n",
      "[9]\tdtrain-F1_score:0.44132\tdval-F1_score:0.47132\n",
      "[10]\tdtrain-F1_score:0.44076\tdval-F1_score:0.46841\n",
      "[11]\tdtrain-F1_score:0.44170\tdval-F1_score:0.46789\n",
      "[12]\tdtrain-F1_score:0.44246\tdval-F1_score:0.46626\n",
      "[13]\tdtrain-F1_score:0.44249\tdval-F1_score:0.45921\n",
      "[14]\tdtrain-F1_score:0.44126\tdval-F1_score:0.45783\n",
      "[15]\tdtrain-F1_score:0.44291\tdval-F1_score:0.46777\n",
      "[16]\tdtrain-F1_score:0.44375\tdval-F1_score:0.46477\n",
      "[17]\tdtrain-F1_score:0.44330\tdval-F1_score:0.46338\n",
      "[18]\tdtrain-F1_score:0.44395\tdval-F1_score:0.46338\n",
      "[19]\tdtrain-F1_score:0.44350\tdval-F1_score:0.45536\n",
      "Stopping. Best iteration:\n",
      "[9]\tdtrain-F1_score:0.44132\tdval-F1_score:0.47132\n",
      "\n",
      "[0]\tdtrain-F1_score:0.00000\tdval-F1_score:0.00000\n",
      "Multiple eval metrics have been passed: 'dval-F1_score' will be used for early stopping.\n",
      "\n",
      "Will train until dval-F1_score hasn't improved in 10 rounds.\n",
      "[1]\tdtrain-F1_score:0.35841\tdval-F1_score:0.36715\n",
      "[2]\tdtrain-F1_score:0.42133\tdval-F1_score:0.43686\n"
     ]
    },
    {
     "name": "stdout",
     "output_type": "stream",
     "text": [
      "[3]\tdtrain-F1_score:0.43690\tdval-F1_score:0.46644\n",
      "[4]\tdtrain-F1_score:0.44264\tdval-F1_score:0.46723\n",
      "[5]\tdtrain-F1_score:0.43549\tdval-F1_score:0.45425\n",
      "[6]\tdtrain-F1_score:0.42949\tdval-F1_score:0.45732\n",
      "[7]\tdtrain-F1_score:0.42888\tdval-F1_score:0.46083\n",
      "[8]\tdtrain-F1_score:0.43519\tdval-F1_score:0.46914\n",
      "[9]\tdtrain-F1_score:0.43364\tdval-F1_score:0.46697\n",
      "[10]\tdtrain-F1_score:0.43284\tdval-F1_score:0.46554\n",
      "[11]\tdtrain-F1_score:0.43400\tdval-F1_score:0.46342\n",
      "[12]\tdtrain-F1_score:0.43179\tdval-F1_score:0.46131\n",
      "[13]\tdtrain-F1_score:0.43146\tdval-F1_score:0.45238\n",
      "[14]\tdtrain-F1_score:0.43228\tdval-F1_score:0.45045\n",
      "[15]\tdtrain-F1_score:0.43311\tdval-F1_score:0.44977\n",
      "[16]\tdtrain-F1_score:0.43352\tdval-F1_score:0.44910\n",
      "[17]\tdtrain-F1_score:0.43405\tdval-F1_score:0.44934\n",
      "[18]\tdtrain-F1_score:0.43860\tdval-F1_score:0.45277\n",
      "Stopping. Best iteration:\n",
      "[8]\tdtrain-F1_score:0.43519\tdval-F1_score:0.46914\n",
      "\n",
      "[0]\tdtrain-F1_score:0.00000\tdval-F1_score:0.00000\n",
      "Multiple eval metrics have been passed: 'dval-F1_score' will be used for early stopping.\n",
      "\n",
      "Will train until dval-F1_score hasn't improved in 10 rounds.\n",
      "[1]\tdtrain-F1_score:0.34930\tdval-F1_score:0.34867\n",
      "[2]\tdtrain-F1_score:0.41693\tdval-F1_score:0.42568\n",
      "[3]\tdtrain-F1_score:0.42720\tdval-F1_score:0.45364\n",
      "[4]\tdtrain-F1_score:0.43446\tdval-F1_score:0.45574\n",
      "[5]\tdtrain-F1_score:0.43013\tdval-F1_score:0.45057\n",
      "[6]\tdtrain-F1_score:0.43356\tdval-F1_score:0.45351\n",
      "[7]\tdtrain-F1_score:0.43359\tdval-F1_score:0.45513\n",
      "[8]\tdtrain-F1_score:0.43300\tdval-F1_score:0.45141\n",
      "[9]\tdtrain-F1_score:0.43256\tdval-F1_score:0.44444\n",
      "[10]\tdtrain-F1_score:0.43604\tdval-F1_score:0.44930\n",
      "[11]\tdtrain-F1_score:0.43407\tdval-F1_score:0.44376\n",
      "[12]\tdtrain-F1_score:0.43524\tdval-F1_score:0.44860\n",
      "[13]\tdtrain-F1_score:0.43480\tdval-F1_score:0.44930\n",
      "[14]\tdtrain-F1_score:0.43604\tdval-F1_score:0.45000\n",
      "Stopping. Best iteration:\n",
      "[4]\tdtrain-F1_score:0.43446\tdval-F1_score:0.45574\n",
      "\n",
      "[0]\tdtrain-F1_score:0.00000\tdval-F1_score:0.00000\n",
      "Multiple eval metrics have been passed: 'dval-F1_score' will be used for early stopping.\n",
      "\n",
      "Will train until dval-F1_score hasn't improved in 10 rounds.\n",
      "[1]\tdtrain-F1_score:0.33294\tdval-F1_score:0.33915\n",
      "[2]\tdtrain-F1_score:0.41020\tdval-F1_score:0.42910\n",
      "[3]\tdtrain-F1_score:0.41886\tdval-F1_score:0.43617\n",
      "[4]\tdtrain-F1_score:0.41849\tdval-F1_score:0.43463\n",
      "[5]\tdtrain-F1_score:0.41507\tdval-F1_score:0.43290\n",
      "[6]\tdtrain-F1_score:0.41676\tdval-F1_score:0.43605\n",
      "[7]\tdtrain-F1_score:0.41735\tdval-F1_score:0.43668\n",
      "[8]\tdtrain-F1_score:0.41790\tdval-F1_score:0.43796\n",
      "[9]\tdtrain-F1_score:0.42142\tdval-F1_score:0.44380\n",
      "[10]\tdtrain-F1_score:0.41945\tdval-F1_score:0.44122\n",
      "[11]\tdtrain-F1_score:0.42109\tdval-F1_score:0.44250\n",
      "[12]\tdtrain-F1_score:0.42262\tdval-F1_score:0.44380\n",
      "[13]\tdtrain-F1_score:0.42259\tdval-F1_score:0.44444\n",
      "[14]\tdtrain-F1_score:0.42315\tdval-F1_score:0.44380\n",
      "[15]\tdtrain-F1_score:0.42112\tdval-F1_score:0.43794\n",
      "[16]\tdtrain-F1_score:0.41967\tdval-F1_score:0.43802\n",
      "[17]\tdtrain-F1_score:0.41979\tdval-F1_score:0.43862\n",
      "[18]\tdtrain-F1_score:0.41962\tdval-F1_score:0.43923\n",
      "[19]\tdtrain-F1_score:0.41896\tdval-F1_score:0.43862\n",
      "[20]\tdtrain-F1_score:0.41896\tdval-F1_score:0.43862\n",
      "[21]\tdtrain-F1_score:0.41921\tdval-F1_score:0.43862\n",
      "[22]\tdtrain-F1_score:0.41943\tdval-F1_score:0.43862\n",
      "[23]\tdtrain-F1_score:0.41956\tdval-F1_score:0.43923\n",
      "Stopping. Best iteration:\n",
      "[13]\tdtrain-F1_score:0.42259\tdval-F1_score:0.44444\n",
      "\n",
      "[0]\tdtrain-F1_score:0.00000\tdval-F1_score:0.00000\n",
      "Multiple eval metrics have been passed: 'dval-F1_score' will be used for early stopping.\n",
      "\n",
      "Will train until dval-F1_score hasn't improved in 10 rounds.\n",
      "[1]\tdtrain-F1_score:0.36482\tdval-F1_score:0.40336\n",
      "[2]\tdtrain-F1_score:0.36991\tdval-F1_score:0.40664\n",
      "[3]\tdtrain-F1_score:0.39886\tdval-F1_score:0.42679\n",
      "[4]\tdtrain-F1_score:0.39844\tdval-F1_score:0.42991\n",
      "[5]\tdtrain-F1_score:0.39915\tdval-F1_score:0.42924\n",
      "[6]\tdtrain-F1_score:0.39887\tdval-F1_score:0.42924\n",
      "[7]\tdtrain-F1_score:0.40085\tdval-F1_score:0.43653\n",
      "[8]\tdtrain-F1_score:0.40092\tdval-F1_score:0.43653\n",
      "[9]\tdtrain-F1_score:0.40021\tdval-F1_score:0.43692\n",
      "[10]\tdtrain-F1_score:0.39244\tdval-F1_score:0.43597\n",
      "[11]\tdtrain-F1_score:0.39254\tdval-F1_score:0.43537\n",
      "[12]\tdtrain-F1_score:0.39254\tdval-F1_score:0.43537\n",
      "[13]\tdtrain-F1_score:0.39254\tdval-F1_score:0.43537\n",
      "[14]\tdtrain-F1_score:0.39254\tdval-F1_score:0.43537\n",
      "[15]\tdtrain-F1_score:0.39430\tdval-F1_score:0.43597\n",
      "[16]\tdtrain-F1_score:0.39490\tdval-F1_score:0.43896\n",
      "[17]\tdtrain-F1_score:0.39484\tdval-F1_score:0.43896\n",
      "[18]\tdtrain-F1_score:0.39581\tdval-F1_score:0.43956\n",
      "[19]\tdtrain-F1_score:0.39581\tdval-F1_score:0.43956\n",
      "[20]\tdtrain-F1_score:0.39587\tdval-F1_score:0.43956\n",
      "[21]\tdtrain-F1_score:0.39594\tdval-F1_score:0.43956\n",
      "[22]\tdtrain-F1_score:0.39594\tdval-F1_score:0.43956\n",
      "[23]\tdtrain-F1_score:0.39588\tdval-F1_score:0.43956\n",
      "[24]\tdtrain-F1_score:0.39600\tdval-F1_score:0.43956\n",
      "[25]\tdtrain-F1_score:0.39600\tdval-F1_score:0.43956\n",
      "[26]\tdtrain-F1_score:0.39600\tdval-F1_score:0.43956\n",
      "[27]\tdtrain-F1_score:0.39600\tdval-F1_score:0.43956\n",
      "[28]\tdtrain-F1_score:0.39600\tdval-F1_score:0.43956\n",
      "Stopping. Best iteration:\n",
      "[18]\tdtrain-F1_score:0.39581\tdval-F1_score:0.43956\n",
      "\n",
      "[0]\tdtrain-F1_score:0.00000\tdval-F1_score:0.00000\n",
      "Multiple eval metrics have been passed: 'dval-F1_score' will be used for early stopping.\n",
      "\n",
      "Will train until dval-F1_score hasn't improved in 10 rounds.\n",
      "[1]\tdtrain-F1_score:0.36283\tdval-F1_score:0.40000\n",
      "[2]\tdtrain-F1_score:0.36810\tdval-F1_score:0.40650\n",
      "[3]\tdtrain-F1_score:0.39280\tdval-F1_score:0.41818\n",
      "[4]\tdtrain-F1_score:0.39414\tdval-F1_score:0.41755\n",
      "[5]\tdtrain-F1_score:0.39414\tdval-F1_score:0.41755\n",
      "[6]\tdtrain-F1_score:0.39616\tdval-F1_score:0.42470\n",
      "[7]\tdtrain-F1_score:0.39616\tdval-F1_score:0.42470\n",
      "[8]\tdtrain-F1_score:0.39616\tdval-F1_score:0.42470\n",
      "[9]\tdtrain-F1_score:0.39632\tdval-F1_score:0.42643\n",
      "[10]\tdtrain-F1_score:0.39632\tdval-F1_score:0.42643\n",
      "[11]\tdtrain-F1_score:0.39632\tdval-F1_score:0.42643\n",
      "[12]\tdtrain-F1_score:0.38761\tdval-F1_score:0.42202\n",
      "[13]\tdtrain-F1_score:0.38755\tdval-F1_score:0.42424\n",
      "[14]\tdtrain-F1_score:0.38767\tdval-F1_score:0.42368\n",
      "[15]\tdtrain-F1_score:0.38767\tdval-F1_score:0.42368\n",
      "[16]\tdtrain-F1_score:0.38767\tdval-F1_score:0.42368\n",
      "[17]\tdtrain-F1_score:0.38805\tdval-F1_score:0.42649\n",
      "[18]\tdtrain-F1_score:0.38805\tdval-F1_score:0.42649\n",
      "[19]\tdtrain-F1_score:0.38805\tdval-F1_score:0.42649\n",
      "[20]\tdtrain-F1_score:0.38805\tdval-F1_score:0.42649\n",
      "[21]\tdtrain-F1_score:0.38781\tdval-F1_score:0.42649\n",
      "[22]\tdtrain-F1_score:0.38805\tdval-F1_score:0.42649\n",
      "[23]\tdtrain-F1_score:0.38805\tdval-F1_score:0.42649\n",
      "[24]\tdtrain-F1_score:0.38805\tdval-F1_score:0.42649\n",
      "[25]\tdtrain-F1_score:0.38805\tdval-F1_score:0.42649\n",
      "[26]\tdtrain-F1_score:0.38805\tdval-F1_score:0.42649\n",
      "[27]\tdtrain-F1_score:0.38781\tdval-F1_score:0.42649\n",
      "Stopping. Best iteration:\n",
      "[17]\tdtrain-F1_score:0.38805\tdval-F1_score:0.42649\n",
      "\n",
      "[0]\tdtrain-F1_score:0.00000\tdval-F1_score:0.00000\n",
      "Multiple eval metrics have been passed: 'dval-F1_score' will be used for early stopping.\n",
      "\n",
      "Will train until dval-F1_score hasn't improved in 10 rounds.\n",
      "[1]\tdtrain-F1_score:0.17962\tdval-F1_score:0.18237\n",
      "[2]\tdtrain-F1_score:0.39349\tdval-F1_score:0.42024\n",
      "[3]\tdtrain-F1_score:0.39349\tdval-F1_score:0.42024\n",
      "[4]\tdtrain-F1_score:0.39349\tdval-F1_score:0.42024\n",
      "[5]\tdtrain-F1_score:0.39411\tdval-F1_score:0.42089\n",
      "[6]\tdtrain-F1_score:0.39349\tdval-F1_score:0.42024\n",
      "[7]\tdtrain-F1_score:0.39349\tdval-F1_score:0.42024\n",
      "[8]\tdtrain-F1_score:0.39349\tdval-F1_score:0.42024\n",
      "[9]\tdtrain-F1_score:0.39349\tdval-F1_score:0.42024\n",
      "[10]\tdtrain-F1_score:0.39349\tdval-F1_score:0.42024\n",
      "[11]\tdtrain-F1_score:0.39349\tdval-F1_score:0.42024\n",
      "[12]\tdtrain-F1_score:0.39349\tdval-F1_score:0.42024\n",
      "[13]\tdtrain-F1_score:0.39349\tdval-F1_score:0.42024\n",
      "[14]\tdtrain-F1_score:0.39349\tdval-F1_score:0.42024\n",
      "[15]\tdtrain-F1_score:0.39349\tdval-F1_score:0.42024\n",
      "Stopping. Best iteration:\n",
      "[5]\tdtrain-F1_score:0.39411\tdval-F1_score:0.42089\n",
      "\n",
      "[0]\tdtrain-F1_score:0.00000\tdval-F1_score:0.00000\n",
      "Multiple eval metrics have been passed: 'dval-F1_score' will be used for early stopping.\n",
      "\n",
      "Will train until dval-F1_score hasn't improved in 10 rounds.\n",
      "[1]\tdtrain-F1_score:0.00000\tdval-F1_score:0.00000\n",
      "[2]\tdtrain-F1_score:0.38409\tdval-F1_score:0.40689\n",
      "[3]\tdtrain-F1_score:0.38409\tdval-F1_score:0.40689\n",
      "[4]\tdtrain-F1_score:0.38409\tdval-F1_score:0.40689\n",
      "[5]\tdtrain-F1_score:0.38409\tdval-F1_score:0.40689\n",
      "[6]\tdtrain-F1_score:0.38409\tdval-F1_score:0.40689\n",
      "[7]\tdtrain-F1_score:0.38409\tdval-F1_score:0.40689\n"
     ]
    },
    {
     "name": "stdout",
     "output_type": "stream",
     "text": [
      "[8]\tdtrain-F1_score:0.38409\tdval-F1_score:0.40689\n",
      "[9]\tdtrain-F1_score:0.38409\tdval-F1_score:0.40689\n",
      "[10]\tdtrain-F1_score:0.38409\tdval-F1_score:0.40689\n",
      "[11]\tdtrain-F1_score:0.38409\tdval-F1_score:0.40689\n",
      "[12]\tdtrain-F1_score:0.38409\tdval-F1_score:0.40689\n",
      "Stopping. Best iteration:\n",
      "[2]\tdtrain-F1_score:0.38409\tdval-F1_score:0.40689\n",
      "\n"
     ]
    },
    {
     "data": {
      "text/html": [
       "<div>\n",
       "<style scoped>\n",
       "    .dataframe tbody tr th:only-of-type {\n",
       "        vertical-align: middle;\n",
       "    }\n",
       "\n",
       "    .dataframe tbody tr th {\n",
       "        vertical-align: top;\n",
       "    }\n",
       "\n",
       "    .dataframe thead th {\n",
       "        text-align: right;\n",
       "    }\n",
       "</style>\n",
       "<table border=\"1\" class=\"dataframe\">\n",
       "  <thead>\n",
       "    <tr style=\"text-align: right;\">\n",
       "      <th></th>\n",
       "      <th>imp_thr</th>\n",
       "      <th>auc</th>\n",
       "      <th>f1</th>\n",
       "      <th>precision</th>\n",
       "      <th>recall</th>\n",
       "    </tr>\n",
       "  </thead>\n",
       "  <tbody>\n",
       "    <tr>\n",
       "      <td>0</td>\n",
       "      <td>10</td>\n",
       "      <td>0.77</td>\n",
       "      <td>0.41</td>\n",
       "      <td>0.28</td>\n",
       "      <td>0.74</td>\n",
       "    </tr>\n",
       "    <tr>\n",
       "      <td>1</td>\n",
       "      <td>20</td>\n",
       "      <td>0.78</td>\n",
       "      <td>0.42</td>\n",
       "      <td>0.29</td>\n",
       "      <td>0.75</td>\n",
       "    </tr>\n",
       "    <tr>\n",
       "      <td>2</td>\n",
       "      <td>30</td>\n",
       "      <td>0.78</td>\n",
       "      <td>0.41</td>\n",
       "      <td>0.28</td>\n",
       "      <td>0.76</td>\n",
       "    </tr>\n",
       "    <tr>\n",
       "      <td>3</td>\n",
       "      <td>40</td>\n",
       "      <td>0.76</td>\n",
       "      <td>0.39</td>\n",
       "      <td>0.27</td>\n",
       "      <td>0.74</td>\n",
       "    </tr>\n",
       "    <tr>\n",
       "      <td>4</td>\n",
       "      <td>50</td>\n",
       "      <td>0.76</td>\n",
       "      <td>0.40</td>\n",
       "      <td>0.27</td>\n",
       "      <td>0.74</td>\n",
       "    </tr>\n",
       "    <tr>\n",
       "      <td>5</td>\n",
       "      <td>60</td>\n",
       "      <td>0.76</td>\n",
       "      <td>0.39</td>\n",
       "      <td>0.27</td>\n",
       "      <td>0.73</td>\n",
       "    </tr>\n",
       "    <tr>\n",
       "      <td>6</td>\n",
       "      <td>70</td>\n",
       "      <td>0.75</td>\n",
       "      <td>0.36</td>\n",
       "      <td>0.24</td>\n",
       "      <td>0.78</td>\n",
       "    </tr>\n",
       "    <tr>\n",
       "      <td>7</td>\n",
       "      <td>80</td>\n",
       "      <td>0.71</td>\n",
       "      <td>0.36</td>\n",
       "      <td>0.26</td>\n",
       "      <td>0.62</td>\n",
       "    </tr>\n",
       "    <tr>\n",
       "      <td>8</td>\n",
       "      <td>90</td>\n",
       "      <td>0.71</td>\n",
       "      <td>0.36</td>\n",
       "      <td>0.25</td>\n",
       "      <td>0.63</td>\n",
       "    </tr>\n",
       "    <tr>\n",
       "      <td>9</td>\n",
       "      <td>100</td>\n",
       "      <td>0.71</td>\n",
       "      <td>0.36</td>\n",
       "      <td>0.26</td>\n",
       "      <td>0.60</td>\n",
       "    </tr>\n",
       "    <tr>\n",
       "      <td>10</td>\n",
       "      <td>400</td>\n",
       "      <td>0.69</td>\n",
       "      <td>0.40</td>\n",
       "      <td>0.36</td>\n",
       "      <td>0.47</td>\n",
       "    </tr>\n",
       "  </tbody>\n",
       "</table>\n",
       "</div>"
      ],
      "text/plain": [
       "   imp_thr   auc    f1  precision  recall\n",
       "0       10  0.77  0.41       0.28    0.74\n",
       "1       20  0.78  0.42       0.29    0.75\n",
       "2       30  0.78  0.41       0.28    0.76\n",
       "3       40  0.76  0.39       0.27    0.74\n",
       "4       50  0.76  0.40       0.27    0.74\n",
       "5       60  0.76  0.39       0.27    0.73\n",
       "6       70  0.75  0.36       0.24    0.78\n",
       "7       80  0.71  0.36       0.26    0.62\n",
       "8       90  0.71  0.36       0.25    0.63\n",
       "9      100  0.71  0.36       0.26    0.60\n",
       "10     400  0.69  0.40       0.36    0.47"
      ]
     },
     "execution_count": 16,
     "metadata": {},
     "output_type": "execute_result"
    }
   ],
   "source": [
    "thr = [10, 20, 30, 40, 50, 60, 70, 80, 90, 100, 400]\n",
    "for th in thr:\n",
    "    imp_feats = list(feat_imp[feat_imp['score']>=th]['name'])\n",
    "    x_imp_feats = x[imp_feats]\n",
    "    \n",
    "    train_features, test_features, train_labels, test_labels = train_test_split(x_imp_feats, y4, \n",
    "                                                                            test_size = 0.10, random_state = 42)\n",
    "    train_features1, val_features, train_labels1, val_labels = train_test_split(train_features, train_labels, \n",
    "                                                                                test_size = 0.10, random_state = 42)\n",
    "    \n",
    "    feature_names = list(train_features)\n",
    "    \n",
    "    dtrain = xgboost.DMatrix(train_features, label=train_labels, feature_names=feature_names)\n",
    "    dtest = xgboost.DMatrix(test_features, label=test_labels, feature_names=feature_names)\n",
    "    dtrain1 = xgboost.DMatrix(train_features1, label=train_labels1, feature_names=feature_names)\n",
    "    dval = xgboost.DMatrix(val_features, label=val_labels, feature_names=feature_names)\n",
    "    \n",
    "    params = {'max_depth': 6,\n",
    "     'min_child_weight': 18,\n",
    "     'eta': 0.2,\n",
    "     'subsample': 1.0,\n",
    "     'colsample_bytree': 1.0,\n",
    "     'objective': 'binary:logistic',\n",
    "     'disable_default_eval_metric': 1,\n",
    "     'seed': 42,\n",
    "     'tree_method': 'hist',\n",
    "     'scale_pos_weight': 9.471599402092675}\n",
    "    num_boost_round=999\n",
    "\n",
    "    xgboost_imp = xgboost.train(\n",
    "        params,\n",
    "        dtrain1,\n",
    "        num_boost_round=num_boost_round,\n",
    "        evals=[(dtrain1, 'dtrain'), (dval, 'dval')],\n",
    "        feval=f1_eval,\n",
    "        early_stopping_rounds = 10,\n",
    "        maximize=True)\n",
    "\n",
    "    xgboost_imp_predt = np.where(xgboost_imp.predict(dtest) > 0.5, 1, 0)\n",
    "    auc = round(metrics.roc_auc_score(dtest.get_label(), xgboost_imp_predt),2)\n",
    "    f1 = round(metrics.f1_score(dtest.get_label(),xgboost_imp_predt),2)\n",
    "    pr = round(metrics.precision_score(dtest.get_label(), xgboost_imp_predt),2)\n",
    "    rc = round(metrics.recall_score(dtest.get_label(), xgboost_imp_predt),2)\n",
    "    \n",
    "    values = [th, auc, f1, pr, rc]\n",
    "    zipped = zip(column_names, values)\n",
    "    a_dictionary = dict(zipped)\n",
    "    imp_perf_l.append(a_dictionary) \n",
    "\n",
    "imp_perf = imp_perf.append(imp_perf_l, True)\n",
    "imp_perf"
   ]
  },
  {
   "cell_type": "markdown",
   "metadata": {},
   "source": [
    "### 2.3 All features without enrichment features"
   ]
  },
  {
   "cell_type": "code",
   "execution_count": 17,
   "metadata": {},
   "outputs": [],
   "source": [
    "x_no_enrichm = x.drop(['pos_ADJ',\n",
    " 'pos_ADP',\n",
    " 'pos_ADV',\n",
    " 'pos_AUX',\n",
    " 'pos_DET',\n",
    " 'pos_INTJ',\n",
    " 'pos_NOUN',\n",
    " 'pos_PRON',\n",
    " 'pos_PROPN',\n",
    " 'pos_SCONJ',\n",
    " 'pos_VERB',\n",
    " 'pos_X',\n",
    " 'dep_ROOT',\n",
    " 'dep_acl',\n",
    " 'dep_acomp',\n",
    " 'dep_advcl',\n",
    " 'dep_advmod',\n",
    " 'dep_agent',\n",
    " 'dep_amod',\n",
    " 'dep_appos',\n",
    " 'dep_attr',\n",
    " 'dep_aux',\n",
    " 'dep_auxpass',\n",
    " 'dep_case',\n",
    " 'dep_cc',\n",
    " 'dep_ccomp',\n",
    " 'dep_compound',\n",
    " 'dep_conj',\n",
    " 'dep_csubj',\n",
    " 'dep_dative',\n",
    " 'dep_dep',\n",
    " 'dep_det',\n",
    " 'dep_dobj',\n",
    " 'dep_expl',\n",
    " 'dep_intj',\n",
    " 'dep_mark',\n",
    " 'dep_meta',\n",
    " 'dep_neg',\n",
    " 'dep_nmod',\n",
    " 'dep_npadvmod',\n",
    " 'dep_nsubj',\n",
    " 'dep_nsubjpass',\n",
    " 'dep_nummod',\n",
    " 'dep_oprd',\n",
    " 'dep_parataxis',\n",
    " 'dep_pcomp',\n",
    " 'dep_pobj',\n",
    " 'dep_poss',\n",
    " 'dep_preconj',\n",
    " 'dep_predet',\n",
    " 'dep_prep',\n",
    " 'dep_prt',\n",
    " 'dep_punct',\n",
    " 'dep_quantmod',\n",
    " 'dep_relcl',\n",
    " 'dep_xcomp',\n",
    " 'ne_CARDINAL',\n",
    " 'ne_DATE',\n",
    " 'ne_EVENT',\n",
    " 'ne_FAC',\n",
    " 'ne_GPE',\n",
    " 'ne_LANGUAGE',\n",
    " 'ne_LAW',\n",
    " 'ne_LOC',\n",
    " 'ne_MONEY',\n",
    " 'ne_NORP',\n",
    " 'ne_ORDINAL',\n",
    " 'ne_ORG',\n",
    " 'ne_PERCENT',\n",
    " 'ne_PERSON',\n",
    " 'ne_PRODUCT',\n",
    " 'ne_QUANTITY',\n",
    " 'ne_TIME',\n",
    " 'ne_WORK_OF_ART',                \n",
    " 'pos_ADJ_context',\n",
    " 'pos_ADP_context',\n",
    " 'pos_ADV_context',\n",
    " 'pos_AUX_context',\n",
    " 'pos_DET_context',\n",
    " 'pos_INTJ_context',\n",
    " 'pos_NOUN_context',\n",
    " 'pos_PRON_context',\n",
    " 'pos_PROPN_context',\n",
    " 'pos_SCONJ_context',\n",
    " 'pos_VERB_context',\n",
    " 'pos_X_context',\n",
    " 'dep_ROOT_context',\n",
    " 'dep_acl_context',\n",
    " 'dep_acomp_context',\n",
    " 'dep_advcl_context',\n",
    " 'dep_advmod_context',\n",
    " 'dep_agent_context',\n",
    " 'dep_amod_context',\n",
    " 'dep_appos_context',\n",
    " 'dep_attr_context',\n",
    " 'dep_aux_context',\n",
    " 'dep_auxpass_context',\n",
    " 'dep_case_context',\n",
    " 'dep_cc_context',\n",
    " 'dep_ccomp_context',\n",
    " 'dep_compound_context',\n",
    " 'dep_conj_context',\n",
    " 'dep_csubj_context',\n",
    " 'dep_dative_context',\n",
    " 'dep_dep_context',\n",
    " 'dep_det_context',\n",
    " 'dep_dobj_context',\n",
    " 'dep_expl_context',\n",
    " 'dep_intj_context',\n",
    " 'dep_mark_context',\n",
    " 'dep_meta_context',\n",
    " 'dep_neg_context',\n",
    " 'dep_nmod_context',\n",
    " 'dep_npadvmod_context',\n",
    " 'dep_nsubj_context',\n",
    " 'dep_nsubjpass_context',\n",
    " 'dep_nummod_context',\n",
    " 'dep_oprd_context',\n",
    " 'dep_parataxis_context',\n",
    " 'dep_pcomp_context',\n",
    " 'dep_pobj_context',\n",
    " 'dep_poss_context',\n",
    " 'dep_preconj_context',\n",
    " 'dep_predet_context',\n",
    " 'dep_prep_context',\n",
    " 'dep_prt_context',\n",
    " 'dep_punct_context',\n",
    " 'dep_quantmod_context',\n",
    " 'dep_relcl_context',\n",
    " 'dep_xcomp_context',\n",
    " 'ne_CARDINAL_context',\n",
    " 'ne_DATE_context',\n",
    " 'ne_EVENT_context',\n",
    " 'ne_FAC_context',\n",
    " 'ne_GPE_context',\n",
    " 'ne_LAW_context',\n",
    " 'ne_LOC_context',\n",
    " 'ne_MONEY_context',\n",
    " 'ne_NORP_context',\n",
    " 'ne_ORDINAL_context',\n",
    " 'ne_ORG_context',\n",
    " 'ne_PERCENT_context',\n",
    " 'ne_PERSON_context',\n",
    " 'ne_PRODUCT_context',\n",
    " 'ne_QUANTITY_context',\n",
    " 'ne_TIME_context',\n",
    " 'ne_WORK_OF_ART_context',\n",
    " 'ne_LANGUAGE_context'], 1)"
   ]
  },
  {
   "cell_type": "code",
   "execution_count": 18,
   "metadata": {},
   "outputs": [],
   "source": [
    "train_features, test_features, train_labels, test_labels = train_test_split(x_no_enrichm, y4, \n",
    "                                                                            test_size = 0.10, random_state = 42)\n",
    "train_features1, val_features, train_labels1, val_labels = train_test_split(train_features, train_labels, \n",
    "                                                                            test_size = 0.10, random_state = 42)"
   ]
  },
  {
   "cell_type": "code",
   "execution_count": 19,
   "metadata": {},
   "outputs": [
    {
     "data": {
      "text/plain": [
       "134"
      ]
     },
     "execution_count": 19,
     "metadata": {},
     "output_type": "execute_result"
    }
   ],
   "source": [
    "feature_names = list(x_no_enrichm.columns)\n",
    "len(feature_names)"
   ]
  },
  {
   "cell_type": "code",
   "execution_count": 20,
   "metadata": {},
   "outputs": [],
   "source": [
    "dtrain = xgboost.DMatrix(train_features, label=train_labels, feature_names=feature_names)\n",
    "dtest = xgboost.DMatrix(test_features, label=test_labels, feature_names=feature_names)\n",
    "dtrain1 = xgboost.DMatrix(train_features1, label=train_labels1, feature_names=feature_names)\n",
    "dval = xgboost.DMatrix(val_features, label=val_labels, feature_names=feature_names)"
   ]
  },
  {
   "cell_type": "code",
   "execution_count": 21,
   "metadata": {},
   "outputs": [],
   "source": [
    "params = {'max_depth': 6,\n",
    " 'min_child_weight': 18,\n",
    " 'eta': 0.2,\n",
    " 'subsample': 1.0,\n",
    " 'colsample_bytree': 1.0,\n",
    " 'objective': 'binary:logistic',\n",
    " 'disable_default_eval_metric': 1,\n",
    " 'seed': 42,\n",
    " 'tree_method': 'hist',\n",
    " 'scale_pos_weight': 9.471599402092675}\n",
    "num_boost_round=999"
   ]
  },
  {
   "cell_type": "code",
   "execution_count": 22,
   "metadata": {
    "scrolled": true
   },
   "outputs": [
    {
     "name": "stdout",
     "output_type": "stream",
     "text": [
      "[0]\tdtrain-F1_score:0.00000\tdval-F1_score:0.00000\n",
      "Multiple eval metrics have been passed: 'dval-F1_score' will be used for early stopping.\n",
      "\n",
      "Will train until dval-F1_score hasn't improved in 10 rounds.\n",
      "[1]\tdtrain-F1_score:0.36494\tdval-F1_score:0.37642\n",
      "[2]\tdtrain-F1_score:0.42523\tdval-F1_score:0.42336\n",
      "[3]\tdtrain-F1_score:0.43403\tdval-F1_score:0.43421\n",
      "[4]\tdtrain-F1_score:0.43395\tdval-F1_score:0.44588\n",
      "[5]\tdtrain-F1_score:0.43873\tdval-F1_score:0.45141\n",
      "[6]\tdtrain-F1_score:0.44150\tdval-F1_score:0.44584\n",
      "[7]\tdtrain-F1_score:0.44035\tdval-F1_score:0.44513\n",
      "[8]\tdtrain-F1_score:0.44220\tdval-F1_score:0.44584\n",
      "[9]\tdtrain-F1_score:0.44785\tdval-F1_score:0.45827\n",
      "[10]\tdtrain-F1_score:0.44875\tdval-F1_score:0.45566\n",
      "[11]\tdtrain-F1_score:0.44864\tdval-F1_score:0.45454\n",
      "[12]\tdtrain-F1_score:0.44842\tdval-F1_score:0.45386\n",
      "[13]\tdtrain-F1_score:0.45109\tdval-F1_score:0.45688\n",
      "[14]\tdtrain-F1_score:0.45520\tdval-F1_score:0.45550\n",
      "[15]\tdtrain-F1_score:0.45783\tdval-F1_score:0.44879\n",
      "[16]\tdtrain-F1_score:0.45830\tdval-F1_score:0.46246\n",
      "[17]\tdtrain-F1_score:0.45964\tdval-F1_score:0.45970\n",
      "[18]\tdtrain-F1_score:0.46080\tdval-F1_score:0.45740\n",
      "[19]\tdtrain-F1_score:0.46298\tdval-F1_score:0.46177\n",
      "[20]\tdtrain-F1_score:0.46562\tdval-F1_score:0.46246\n",
      "[21]\tdtrain-F1_score:0.46711\tdval-F1_score:0.46547\n",
      "[22]\tdtrain-F1_score:0.46583\tdval-F1_score:0.46477\n",
      "[23]\tdtrain-F1_score:0.46735\tdval-F1_score:0.46847\n",
      "[24]\tdtrain-F1_score:0.46809\tdval-F1_score:0.46707\n",
      "[25]\tdtrain-F1_score:0.46797\tdval-F1_score:0.46547\n",
      "[26]\tdtrain-F1_score:0.47225\tdval-F1_score:0.46269\n",
      "[27]\tdtrain-F1_score:0.47274\tdval-F1_score:0.46796\n",
      "[28]\tdtrain-F1_score:0.47346\tdval-F1_score:0.47024\n",
      "[29]\tdtrain-F1_score:0.47386\tdval-F1_score:0.47251\n",
      "[30]\tdtrain-F1_score:0.47565\tdval-F1_score:0.47181\n",
      "[31]\tdtrain-F1_score:0.47965\tdval-F1_score:0.46746\n",
      "[32]\tdtrain-F1_score:0.48080\tdval-F1_score:0.47059\n",
      "[33]\tdtrain-F1_score:0.48277\tdval-F1_score:0.46903\n",
      "[34]\tdtrain-F1_score:0.48324\tdval-F1_score:0.46765\n",
      "[35]\tdtrain-F1_score:0.48429\tdval-F1_score:0.46381\n",
      "[36]\tdtrain-F1_score:0.48494\tdval-F1_score:0.46765\n",
      "[37]\tdtrain-F1_score:0.48599\tdval-F1_score:0.46628\n",
      "[38]\tdtrain-F1_score:0.48755\tdval-F1_score:0.46784\n",
      "[39]\tdtrain-F1_score:0.48919\tdval-F1_score:0.47214\n",
      "Stopping. Best iteration:\n",
      "[29]\tdtrain-F1_score:0.47386\tdval-F1_score:0.47251\n",
      "\n"
     ]
    }
   ],
   "source": [
    "xgboost_no_enrichm = xgboost.train(\n",
    "    params,\n",
    "    dtrain1,\n",
    "    num_boost_round=num_boost_round,\n",
    "    evals=[(dtrain1, 'dtrain'), (dval, 'dval')],\n",
    "    feval=f1_eval,\n",
    "    early_stopping_rounds = 10,\n",
    "    maximize=True)"
   ]
  },
  {
   "cell_type": "code",
   "execution_count": 24,
   "metadata": {},
   "outputs": [],
   "source": [
    "os.chdir('/Users/ladarudnitckaia/Desktop/Master Thesis/9. ML')\n",
    "# xgboost_no_enrichm.save_model(\"xgboost_no_enrichm.model\")\n",
    "xgboost_no_enrichm = xgboost.Booster()\n",
    "xgboost_no_enrichm.load_model(\"xgboost_no_enrichm.model\")"
   ]
  },
  {
   "cell_type": "code",
   "execution_count": 23,
   "metadata": {},
   "outputs": [
    {
     "name": "stdout",
     "output_type": "stream",
     "text": [
      "Performance of xgboost_no_enrichm, test:\n",
      "F1: 0.41\n",
      "Precision: 0.29\n",
      "Recall: 0.67\n",
      "AUC: 0.75\n",
      "Accuracy: 0.81\n",
      "Confusion matrix:\n",
      " [[2325  101]\n",
      " [ 487  201]]\n"
     ]
    }
   ],
   "source": [
    "xgboost_no_enrichm_predt = np.where(xgboost_no_enrichm.predict(dtest) > 0.5, 1, 0)\n",
    "print('Performance of xgboost_no_enrichm, test:')\n",
    "print('F1:', round(metrics.f1_score(dtest.get_label(),xgboost_no_enrichm_predt),2))\n",
    "print('Precision:', round(metrics.precision_score(dtest.get_label(), xgboost_no_enrichm_predt),2))\n",
    "print('Recall:', round(metrics.recall_score(dtest.get_label(), xgboost_no_enrichm_predt),2))\n",
    "print('AUC:', round(metrics.roc_auc_score(dtest.get_label(), xgboost_no_enrichm_predt),2))\n",
    "print('Accuracy:', round(metrics.accuracy_score(dtest.get_label(), xgboost_no_enrichm_predt),2))\n",
    "print('Confusion matrix:\\n', metrics.confusion_matrix(dtest.get_label(), xgboost_no_enrichm_predt).transpose())"
   ]
  },
  {
   "cell_type": "code",
   "execution_count": 25,
   "metadata": {},
   "outputs": [
    {
     "data": {
      "text/plain": [
       "Text(0, 0.5, 'Features')"
      ]
     },
     "execution_count": 25,
     "metadata": {},
     "output_type": "execute_result"
    },
    {
     "data": {
      "image/png": "[encoded data removed]",
      "text/plain": [
       "<Figure size 576x576 with 1 Axes>"
      ]
     },
     "metadata": {
      "needs_background": "light"
     },
     "output_type": "display_data"
    }
   ],
   "source": [
    "fig, ax = plt.subplots(1, 1, figsize=(8,8))\n",
    "plt.rcParams['font.size'] = 16\n",
    "\n",
    "xgboost.plot_importance(xgboost_no_enrichm, ax=ax, show_values=False, max_num_features=20,\n",
    "                       importance_type='gain', height=0.7, grid=False, color='lightsteelblue')\n",
    "ax.set_ylabel('Features', fontsize=16)"
   ]
  },
  {
   "cell_type": "markdown",
   "metadata": {},
   "source": [
    "### 2.4 All features without TF-IDF"
   ]
  },
  {
   "cell_type": "code",
   "execution_count": 26,
   "metadata": {},
   "outputs": [],
   "source": [
    "x_no_tfidf = x.drop(['tfidf_art'], 1)"
   ]
  },
  {
   "cell_type": "code",
   "execution_count": 27,
   "metadata": {},
   "outputs": [],
   "source": [
    "train_features, test_features, train_labels, test_labels = train_test_split(x_no_tfidf, y4, \n",
    "                                                                            test_size = 0.10, random_state = 42)\n",
    "train_features1, val_features, train_labels1, val_labels = train_test_split(train_features, train_labels, \n",
    "                                                                            test_size = 0.10, random_state = 42)"
   ]
  },
  {
   "cell_type": "code",
   "execution_count": 28,
   "metadata": {},
   "outputs": [
    {
     "data": {
      "text/plain": [
       "281"
      ]
     },
     "execution_count": 28,
     "metadata": {},
     "output_type": "execute_result"
    }
   ],
   "source": [
    "feature_names = list(x_no_tfidf.columns)\n",
    "len(feature_names)"
   ]
  },
  {
   "cell_type": "code",
   "execution_count": 29,
   "metadata": {},
   "outputs": [],
   "source": [
    "dtrain = xgboost.DMatrix(train_features, label=train_labels, feature_names=feature_names)\n",
    "dtest = xgboost.DMatrix(test_features, label=test_labels, feature_names=feature_names)\n",
    "dtrain1 = xgboost.DMatrix(train_features1, label=train_labels1, feature_names=feature_names)\n",
    "dval = xgboost.DMatrix(val_features, label=val_labels, feature_names=feature_names)"
   ]
  },
  {
   "cell_type": "code",
   "execution_count": 30,
   "metadata": {},
   "outputs": [],
   "source": [
    "params = {'max_depth': 6,\n",
    " 'min_child_weight': 18,\n",
    " 'eta': 0.2,\n",
    " 'subsample': 1.0,\n",
    " 'colsample_bytree': 1.0,\n",
    " 'objective': 'binary:logistic',\n",
    " 'disable_default_eval_metric': 1,\n",
    " 'seed': 42,\n",
    " 'tree_method': 'hist',\n",
    " 'scale_pos_weight': 9.471599402092675}\n",
    "num_boost_round=999"
   ]
  },
  {
   "cell_type": "code",
   "execution_count": 31,
   "metadata": {
    "scrolled": true
   },
   "outputs": [
    {
     "name": "stdout",
     "output_type": "stream",
     "text": [
      "[0]\tdtrain-F1_score:0.00000\tdval-F1_score:0.00000\n",
      "Multiple eval metrics have been passed: 'dval-F1_score' will be used for early stopping.\n",
      "\n",
      "Will train until dval-F1_score hasn't improved in 10 rounds.\n",
      "[1]\tdtrain-F1_score:0.39614\tdval-F1_score:0.40592\n",
      "[2]\tdtrain-F1_score:0.43881\tdval-F1_score:0.43972\n",
      "[3]\tdtrain-F1_score:0.45284\tdval-F1_score:0.45596\n",
      "[4]\tdtrain-F1_score:0.44880\tdval-F1_score:0.45603\n",
      "[5]\tdtrain-F1_score:0.44957\tdval-F1_score:0.46527\n",
      "[6]\tdtrain-F1_score:0.45390\tdval-F1_score:0.45741\n",
      "[7]\tdtrain-F1_score:0.45397\tdval-F1_score:0.45669\n",
      "[8]\tdtrain-F1_score:0.45252\tdval-F1_score:0.45201\n",
      "[9]\tdtrain-F1_score:0.45727\tdval-F1_score:0.45652\n",
      "[10]\tdtrain-F1_score:0.45906\tdval-F1_score:0.46034\n",
      "[11]\tdtrain-F1_score:0.46444\tdval-F1_score:0.46440\n",
      "[12]\tdtrain-F1_score:0.46560\tdval-F1_score:0.46368\n",
      "[13]\tdtrain-F1_score:0.46804\tdval-F1_score:0.46296\n",
      "[14]\tdtrain-F1_score:0.46691\tdval-F1_score:0.46390\n",
      "[15]\tdtrain-F1_score:0.47082\tdval-F1_score:0.46789\n",
      "[16]\tdtrain-F1_score:0.47321\tdval-F1_score:0.47023\n",
      "[17]\tdtrain-F1_score:0.47502\tdval-F1_score:0.48193\n",
      "[18]\tdtrain-F1_score:0.47661\tdval-F1_score:0.48348\n",
      "[19]\tdtrain-F1_score:0.47707\tdval-F1_score:0.48449\n",
      "[20]\tdtrain-F1_score:0.47709\tdval-F1_score:0.48449\n",
      "[21]\tdtrain-F1_score:0.48057\tdval-F1_score:0.48449\n",
      "[22]\tdtrain-F1_score:0.48075\tdval-F1_score:0.48235\n",
      "[23]\tdtrain-F1_score:0.48472\tdval-F1_score:0.48083\n",
      "[24]\tdtrain-F1_score:0.48584\tdval-F1_score:0.47929\n",
      "[25]\tdtrain-F1_score:0.49131\tdval-F1_score:0.48012\n",
      "[26]\tdtrain-F1_score:0.49286\tdval-F1_score:0.48094\n",
      "[27]\tdtrain-F1_score:0.49671\tdval-F1_score:0.48035\n",
      "[28]\tdtrain-F1_score:0.49647\tdval-F1_score:0.47674\n",
      "[29]\tdtrain-F1_score:0.49849\tdval-F1_score:0.47619\n",
      "Stopping. Best iteration:\n",
      "[19]\tdtrain-F1_score:0.47707\tdval-F1_score:0.48449\n",
      "\n"
     ]
    }
   ],
   "source": [
    "xgboost_no_tfidf = xgboost.train(\n",
    "    params,\n",
    "    dtrain1,\n",
    "    num_boost_round=num_boost_round,\n",
    "    evals=[(dtrain1, 'dtrain'), (dval, 'dval')],\n",
    "    feval=f1_eval,\n",
    "    early_stopping_rounds = 10,\n",
    "    maximize=True)"
   ]
  },
  {
   "cell_type": "code",
   "execution_count": 34,
   "metadata": {},
   "outputs": [],
   "source": [
    "os.chdir('/Users/ladarudnitckaia/Desktop/Master Thesis/9. ML')\n",
    "# xgboost_no_tfidf.save_model(\"xgboost_no_tfidf.model\")\n",
    "xgboost_no_tfidf = xgboost.Booster()\n",
    "xgboost_no_tfidf.load_model(\"xgboost_no_tfidf.model\")"
   ]
  },
  {
   "cell_type": "code",
   "execution_count": 32,
   "metadata": {},
   "outputs": [
    {
     "name": "stdout",
     "output_type": "stream",
     "text": [
      "Performance of xgboost_no_tfidf, test:\n",
      "F1: 0.42\n",
      "Precision: 0.29\n",
      "Recall: 0.75\n",
      "AUC: 0.77\n",
      "Accuracy: 0.8\n",
      "Confusion matrix:\n",
      " [[2253   76]\n",
      " [ 559  226]]\n"
     ]
    }
   ],
   "source": [
    "xgboost_no_tfidf_predt = np.where(xgboost_no_tfidf.predict(dtest) > 0.5, 1, 0)\n",
    "print('Performance of xgboost_no_tfidf, test:')\n",
    "print('F1:', round(metrics.f1_score(dtest.get_label(),xgboost_no_tfidf_predt),2))\n",
    "print('Precision:', round(metrics.precision_score(dtest.get_label(), xgboost_no_tfidf_predt),2))\n",
    "print('Recall:', round(metrics.recall_score(dtest.get_label(), xgboost_no_tfidf_predt),2))\n",
    "print('AUC:', round(metrics.roc_auc_score(dtest.get_label(), xgboost_no_tfidf_predt),2))\n",
    "print('Accuracy:', round(metrics.accuracy_score(dtest.get_label(), xgboost_no_tfidf_predt),2))\n",
    "print('Confusion matrix:\\n', metrics.confusion_matrix(dtest.get_label(), xgboost_no_tfidf_predt).transpose())"
   ]
  },
  {
   "cell_type": "code",
   "execution_count": 33,
   "metadata": {},
   "outputs": [
    {
     "data": {
      "text/plain": [
       "Text(0, 0.5, 'Features')"
      ]
     },
     "execution_count": 33,
     "metadata": {},
     "output_type": "execute_result"
    },
    {
     "data": {
      "image/png": "[encoded data removed]",
      "text/plain": [
       "<Figure size 576x576 with 1 Axes>"
      ]
     },
     "metadata": {
      "needs_background": "light"
     },
     "output_type": "display_data"
    }
   ],
   "source": [
    "fig, ax = plt.subplots(1, 1, figsize=(8,8))\n",
    "plt.rcParams['font.size'] = 16\n",
    "\n",
    "xgboost.plot_importance(xgboost_no_tfidf, ax=ax, show_values=False, max_num_features=20,\n",
    "                       importance_type='gain', height=0.7, grid=False, color='lightsteelblue')\n",
    "ax.set_ylabel('Features', fontsize=16)"
   ]
  },
  {
   "cell_type": "markdown",
   "metadata": {},
   "source": [
    "### 2.5 All features without LIWC2015"
   ]
  },
  {
   "cell_type": "code",
   "execution_count": 35,
   "metadata": {},
   "outputs": [],
   "source": [
    "x_no_liwc = x.drop(['affect ',\n",
    " 'posemo ',\n",
    " 'negemo ',\n",
    " 'anx ',\n",
    " 'anger ',\n",
    " 'sad ',\n",
    " 'social ',\n",
    " 'family ',\n",
    " 'friend ',\n",
    " 'female ',\n",
    " 'male ',\n",
    " 'cogproc ',\n",
    " 'insight ',\n",
    " 'cause ',\n",
    " 'discrep ',\n",
    " 'tentat ',\n",
    " 'certain ',\n",
    " 'differ ',\n",
    " 'percept ',\n",
    " 'see ',\n",
    " 'hear ',\n",
    " 'feel ',\n",
    " 'bio ',\n",
    " 'body ',\n",
    " 'health ',\n",
    " 'sexual ',\n",
    " 'ingest ',\n",
    " 'drives ',\n",
    " 'affiliation ',\n",
    " 'achieve ',\n",
    " 'power ',\n",
    " 'reward ',\n",
    " 'risk ',\n",
    " 'focuspast ',\n",
    " 'focuspresent ',\n",
    " 'focusfuture ',\n",
    " 'relativ ',\n",
    " 'motion ',\n",
    " 'space ',\n",
    " 'time ',\n",
    " 'work ',\n",
    " 'leisure ',\n",
    " 'home ',\n",
    " 'money ',\n",
    " 'relig ',\n",
    " 'death ',\n",
    " 'informal ',\n",
    " 'swear ',\n",
    " 'netspeak ',\n",
    " 'assent ',\n",
    " 'nonflu ',\n",
    " 'filler ',\n",
    " 'affect _context',\n",
    " 'posemo _context',\n",
    " 'negemo _context',\n",
    " 'anx _context',\n",
    " 'anger _context',\n",
    " 'sad _context',\n",
    " 'social _context',\n",
    " 'family _context',\n",
    " 'friend _context',\n",
    " 'female _context',\n",
    " 'male _context',\n",
    " 'cogproc _context',\n",
    " 'insight _context',\n",
    " 'cause _context',\n",
    " 'discrep _context',\n",
    " 'tentat _context',\n",
    " 'certain _context',\n",
    " 'differ _context',\n",
    " 'percept _context',\n",
    " 'see _context',\n",
    " 'hear _context',\n",
    " 'feel _context',\n",
    " 'bio _context',\n",
    " 'body _context',\n",
    " 'health _context',\n",
    " 'sexual _context',\n",
    " 'ingest _context',\n",
    " 'drives _context',\n",
    " 'affiliation _context',\n",
    " 'achieve _context',\n",
    " 'power _context',\n",
    " 'reward _context',\n",
    " 'risk _context',\n",
    " 'focuspast _context',\n",
    " 'focuspresent _context',\n",
    " 'focusfuture _context',\n",
    " 'relativ _context',\n",
    " 'motion _context',\n",
    " 'space _context',\n",
    " 'time _context',\n",
    " 'work _context',\n",
    " 'leisure _context',\n",
    " 'home _context',\n",
    " 'money _context',\n",
    " 'relig _context',\n",
    " 'death _context',\n",
    " 'informal _context',\n",
    " 'swear _context',\n",
    " 'netspeak _context',\n",
    " 'assent _context',\n",
    " 'nonflu _context',\n",
    " 'filler _context'], 1)"
   ]
  },
  {
   "cell_type": "code",
   "execution_count": 36,
   "metadata": {},
   "outputs": [],
   "source": [
    "train_features, test_features, train_labels, test_labels = train_test_split(x_no_liwc, y4, \n",
    "                                                                            test_size = 0.10, random_state = 42)\n",
    "train_features1, val_features, train_labels1, val_labels = train_test_split(train_features, train_labels, \n",
    "                                                                            test_size = 0.10, random_state = 42)"
   ]
  },
  {
   "cell_type": "code",
   "execution_count": 37,
   "metadata": {},
   "outputs": [
    {
     "data": {
      "text/plain": [
       "178"
      ]
     },
     "execution_count": 37,
     "metadata": {},
     "output_type": "execute_result"
    }
   ],
   "source": [
    "feature_names = list(x_no_liwc.columns)\n",
    "len(feature_names)"
   ]
  },
  {
   "cell_type": "code",
   "execution_count": 38,
   "metadata": {},
   "outputs": [],
   "source": [
    "dtrain = xgboost.DMatrix(train_features, label=train_labels, feature_names=feature_names)\n",
    "dtest = xgboost.DMatrix(test_features, label=test_labels, feature_names=feature_names)\n",
    "dtrain1 = xgboost.DMatrix(train_features1, label=train_labels1, feature_names=feature_names)\n",
    "dval = xgboost.DMatrix(val_features, label=val_labels, feature_names=feature_names)"
   ]
  },
  {
   "cell_type": "code",
   "execution_count": 39,
   "metadata": {},
   "outputs": [],
   "source": [
    "params = {'max_depth': 6,\n",
    " 'min_child_weight': 18,\n",
    " 'eta': 0.2,\n",
    " 'subsample': 1.0,\n",
    " 'colsample_bytree': 1.0,\n",
    " 'objective': 'binary:logistic',\n",
    " 'disable_default_eval_metric': 1,\n",
    " 'seed': 42,\n",
    " 'tree_method': 'hist',\n",
    " 'scale_pos_weight': 9.471599402092675}\n",
    "num_boost_round=999"
   ]
  },
  {
   "cell_type": "code",
   "execution_count": 40,
   "metadata": {
    "scrolled": true
   },
   "outputs": [
    {
     "name": "stdout",
     "output_type": "stream",
     "text": [
      "[0]\tdtrain-F1_score:0.00000\tdval-F1_score:0.00000\n",
      "Multiple eval metrics have been passed: 'dval-F1_score' will be used for early stopping.\n",
      "\n",
      "Will train until dval-F1_score hasn't improved in 10 rounds.\n",
      "[1]\tdtrain-F1_score:0.40297\tdval-F1_score:0.40425\n",
      "[2]\tdtrain-F1_score:0.44069\tdval-F1_score:0.43911\n",
      "[3]\tdtrain-F1_score:0.45113\tdval-F1_score:0.44330\n",
      "[4]\tdtrain-F1_score:0.44579\tdval-F1_score:0.44260\n",
      "[5]\tdtrain-F1_score:0.44627\tdval-F1_score:0.46230\n",
      "[6]\tdtrain-F1_score:0.45246\tdval-F1_score:0.45192\n",
      "[7]\tdtrain-F1_score:0.45204\tdval-F1_score:0.45223\n",
      "[8]\tdtrain-F1_score:0.45495\tdval-F1_score:0.45642\n",
      "[9]\tdtrain-F1_score:0.45418\tdval-F1_score:0.45201\n",
      "[10]\tdtrain-F1_score:0.45241\tdval-F1_score:0.44954\n",
      "[11]\tdtrain-F1_score:0.45582\tdval-F1_score:0.45566\n",
      "[12]\tdtrain-F1_score:0.45890\tdval-F1_score:0.45619\n",
      "[13]\tdtrain-F1_score:0.46186\tdval-F1_score:0.44776\n",
      "[14]\tdtrain-F1_score:0.46327\tdval-F1_score:0.44807\n",
      "[15]\tdtrain-F1_score:0.46438\tdval-F1_score:0.45388\n",
      "Stopping. Best iteration:\n",
      "[5]\tdtrain-F1_score:0.44627\tdval-F1_score:0.46230\n",
      "\n"
     ]
    }
   ],
   "source": [
    "xgboost_no_liwc = xgboost.train(\n",
    "    params,\n",
    "    dtrain1,\n",
    "    num_boost_round=num_boost_round,\n",
    "    evals=[(dtrain1, 'dtrain'), (dval, 'dval')],\n",
    "    feval=f1_eval,\n",
    "    early_stopping_rounds = 10,\n",
    "    maximize=True)"
   ]
  },
  {
   "cell_type": "code",
   "execution_count": 41,
   "metadata": {},
   "outputs": [],
   "source": [
    "os.chdir('/Users/ladarudnitckaia/Desktop/Master Thesis/9. ML')\n",
    "xgboost_no_liwc.save_model(\"xgboost_no_liwc.model\")\n",
    "# xgboost_no_liwc = xgboost.Booster()\n",
    "# xgboost_no_liwc.load_model(\"xgboost_no_liwc.model\")"
   ]
  },
  {
   "cell_type": "code",
   "execution_count": 42,
   "metadata": {},
   "outputs": [
    {
     "name": "stdout",
     "output_type": "stream",
     "text": [
      "Performance of xgboost_no_liwc, test:\n",
      "F1: 0.4\n",
      "Precision: 0.28\n",
      "Recall: 0.72\n",
      "AUC: 0.76\n",
      "Accuracy: 0.8\n",
      "Confusion matrix:\n",
      " [[2260   86]\n",
      " [ 552  216]]\n"
     ]
    }
   ],
   "source": [
    "xgboost_no_liwc_predt = np.where(xgboost_no_liwc.predict(dtest) > 0.5, 1, 0)\n",
    "print('Performance of xgboost_no_liwc, test:')\n",
    "print('F1:', round(metrics.f1_score(dtest.get_label(),xgboost_no_liwc_predt),2))\n",
    "print('Precision:', round(metrics.precision_score(dtest.get_label(), xgboost_no_liwc_predt),2))\n",
    "print('Recall:', round(metrics.recall_score(dtest.get_label(), xgboost_no_liwc_predt),2))\n",
    "print('AUC:', round(metrics.roc_auc_score(dtest.get_label(), xgboost_no_liwc_predt),2))\n",
    "print('Accuracy:', round(metrics.accuracy_score(dtest.get_label(), xgboost_no_liwc_predt),2))\n",
    "print('Confusion matrix:\\n', metrics.confusion_matrix(dtest.get_label(), xgboost_no_liwc_predt).transpose())"
   ]
  },
  {
   "cell_type": "code",
   "execution_count": 43,
   "metadata": {},
   "outputs": [
    {
     "data": {
      "text/plain": [
       "Text(0, 0.5, 'Features')"
      ]
     },
     "execution_count": 43,
     "metadata": {},
     "output_type": "execute_result"
    },
    {
     "data": {
      "image/png": "[encoded data removed]",
      "text/plain": [
       "<Figure size 576x576 with 1 Axes>"
      ]
     },
     "metadata": {
      "needs_background": "light"
     },
     "output_type": "display_data"
    }
   ],
   "source": [
    "fig, ax = plt.subplots(1, 1, figsize=(8,8))\n",
    "plt.rcParams['font.size'] = 16\n",
    "\n",
    "xgboost.plot_importance(xgboost_no_liwc, ax=ax, show_values=False, max_num_features=20,\n",
    "                       importance_type='gain', height=0.7, grid=False, color='lightsteelblue')\n",
    "ax.set_ylabel('Features', fontsize=16)"
   ]
  },
  {
   "cell_type": "markdown",
   "metadata": {},
   "source": [
    "### 2.6 All features without lexical features"
   ]
  },
  {
   "cell_type": "code",
   "execution_count": 72,
   "metadata": {},
   "outputs": [],
   "source": [
    "x_no_lex = x.drop(['negative_conc',\n",
    " 'positive_conc',\n",
    " 'weak_subj',\n",
    " 'strong_subj',\n",
    " 'hyperbolic_terms',\n",
    " 'attitude_markers',\n",
    " 'kill_verbs',\n",
    " 'bias_lexicon',\n",
    " 'assertive_verbs',\n",
    " 'factive_verbs',\n",
    " 'report_verbs',\n",
    " 'implicative_verbs',                   \n",
    " 'hedges',\n",
    " 'boosters',\n",
    " 'negative_conc_context',\n",
    " 'positive_conc_context',\n",
    " 'weak_subj_context',\n",
    " 'strong_subj_context',\n",
    " 'hyperbolic_terms_context',\n",
    " 'attitude_markers_context',\n",
    " 'kill_verbs_context',\n",
    " 'bias_lexicon_context',\n",
    " 'assertive_verbs_context',\n",
    " 'factive_verbs_context',\n",
    " 'report_verbs_context',\n",
    " 'implicative_verbs_context',\n",
    " 'hedges_context',\n",
    " 'boosters_context'], 1)"
   ]
  },
  {
   "cell_type": "code",
   "execution_count": 73,
   "metadata": {},
   "outputs": [],
   "source": [
    "train_features, test_features, train_labels, test_labels = train_test_split(x_no_lex, y4, \n",
    "                                                                            test_size = 0.10, random_state = 42)\n",
    "train_features1, val_features, train_labels1, val_labels = train_test_split(train_features, train_labels, \n",
    "                                                                            test_size = 0.10, random_state = 42)"
   ]
  },
  {
   "cell_type": "code",
   "execution_count": 74,
   "metadata": {},
   "outputs": [
    {
     "data": {
      "text/plain": [
       "254"
      ]
     },
     "execution_count": 74,
     "metadata": {},
     "output_type": "execute_result"
    }
   ],
   "source": [
    "feature_names = list(x_no_lex.columns)\n",
    "len(feature_names)"
   ]
  },
  {
   "cell_type": "code",
   "execution_count": 75,
   "metadata": {},
   "outputs": [],
   "source": [
    "dtrain = xgboost.DMatrix(train_features, label=train_labels, feature_names=feature_names)\n",
    "dtest = xgboost.DMatrix(test_features, label=test_labels, feature_names=feature_names)\n",
    "dtrain1 = xgboost.DMatrix(train_features1, label=train_labels1, feature_names=feature_names)\n",
    "dval = xgboost.DMatrix(val_features, label=val_labels, feature_names=feature_names)"
   ]
  },
  {
   "cell_type": "code",
   "execution_count": 76,
   "metadata": {},
   "outputs": [],
   "source": [
    "params = {'max_depth': 6,\n",
    " 'min_child_weight': 18,\n",
    " 'eta': 0.2,\n",
    " 'subsample': 1.0,\n",
    " 'colsample_bytree': 1.0,\n",
    " 'objective': 'binary:logistic',\n",
    " 'disable_default_eval_metric': 1,\n",
    " 'seed': 42,\n",
    " 'tree_method': 'hist',\n",
    " 'scale_pos_weight': 9.471599402092675}\n",
    "num_boost_round=999"
   ]
  },
  {
   "cell_type": "code",
   "execution_count": 77,
   "metadata": {
    "scrolled": true
   },
   "outputs": [
    {
     "name": "stdout",
     "output_type": "stream",
     "text": [
      "[0]\tdtrain-F1_score:0.00000\tdval-F1_score:0.00000\n",
      "Multiple eval metrics have been passed: 'dval-F1_score' will be used for early stopping.\n",
      "\n",
      "Will train until dval-F1_score hasn't improved in 10 rounds.\n",
      "[1]\tdtrain-F1_score:0.00000\tdval-F1_score:0.00000\n",
      "[2]\tdtrain-F1_score:0.28417\tdval-F1_score:0.30624\n",
      "[3]\tdtrain-F1_score:0.31923\tdval-F1_score:0.33218\n",
      "[4]\tdtrain-F1_score:0.32571\tdval-F1_score:0.33956\n",
      "[5]\tdtrain-F1_score:0.35669\tdval-F1_score:0.35934\n",
      "[6]\tdtrain-F1_score:0.35702\tdval-F1_score:0.34574\n",
      "[7]\tdtrain-F1_score:0.36580\tdval-F1_score:0.36562\n",
      "[8]\tdtrain-F1_score:0.37273\tdval-F1_score:0.37301\n",
      "[9]\tdtrain-F1_score:0.37602\tdval-F1_score:0.37408\n",
      "[10]\tdtrain-F1_score:0.37747\tdval-F1_score:0.36912\n",
      "[11]\tdtrain-F1_score:0.38131\tdval-F1_score:0.36700\n",
      "[12]\tdtrain-F1_score:0.38470\tdval-F1_score:0.36810\n",
      "[13]\tdtrain-F1_score:0.38805\tdval-F1_score:0.37363\n",
      "[14]\tdtrain-F1_score:0.38825\tdval-F1_score:0.37181\n",
      "[15]\tdtrain-F1_score:0.38830\tdval-F1_score:0.37454\n",
      "[16]\tdtrain-F1_score:0.38977\tdval-F1_score:0.37317\n",
      "[17]\tdtrain-F1_score:0.39343\tdval-F1_score:0.37638\n",
      "[18]\tdtrain-F1_score:0.39400\tdval-F1_score:0.37670\n",
      "[19]\tdtrain-F1_score:0.39494\tdval-F1_score:0.37838\n",
      "[20]\tdtrain-F1_score:0.39846\tdval-F1_score:0.38575\n",
      "[21]\tdtrain-F1_score:0.40155\tdval-F1_score:0.38605\n",
      "[22]\tdtrain-F1_score:0.40092\tdval-F1_score:0.38806\n",
      "[23]\tdtrain-F1_score:0.40333\tdval-F1_score:0.39055\n",
      "[24]\tdtrain-F1_score:0.40419\tdval-F1_score:0.39259\n",
      "[25]\tdtrain-F1_score:0.41005\tdval-F1_score:0.39255\n",
      "[26]\tdtrain-F1_score:0.40925\tdval-F1_score:0.39157\n",
      "[27]\tdtrain-F1_score:0.41440\tdval-F1_score:0.39109\n",
      "[28]\tdtrain-F1_score:0.41744\tdval-F1_score:0.38964\n",
      "[29]\tdtrain-F1_score:0.41799\tdval-F1_score:0.39114\n",
      "[30]\tdtrain-F1_score:0.41808\tdval-F1_score:0.39114\n",
      "[31]\tdtrain-F1_score:0.41764\tdval-F1_score:0.39312\n",
      "[32]\tdtrain-F1_score:0.41963\tdval-F1_score:0.39755\n",
      "[33]\tdtrain-F1_score:0.42190\tdval-F1_score:0.39312\n",
      "[34]\tdtrain-F1_score:0.42523\tdval-F1_score:0.39506\n",
      "[35]\tdtrain-F1_score:0.43178\tdval-F1_score:0.39852\n",
      "[36]\tdtrain-F1_score:0.43682\tdval-F1_score:0.40297\n",
      "[37]\tdtrain-F1_score:0.43848\tdval-F1_score:0.40248\n",
      "[38]\tdtrain-F1_score:0.43811\tdval-F1_score:0.40248\n",
      "[39]\tdtrain-F1_score:0.43911\tdval-F1_score:0.40444\n",
      "[40]\tdtrain-F1_score:0.44171\tdval-F1_score:0.40745\n",
      "[41]\tdtrain-F1_score:0.44618\tdval-F1_score:0.40994\n",
      "[42]\tdtrain-F1_score:0.44640\tdval-F1_score:0.40741\n",
      "[43]\tdtrain-F1_score:0.44609\tdval-F1_score:0.41133\n",
      "[44]\tdtrain-F1_score:0.44698\tdval-F1_score:0.40937\n",
      "[45]\tdtrain-F1_score:0.45240\tdval-F1_score:0.40342\n",
      "[46]\tdtrain-F1_score:0.45415\tdval-F1_score:0.40244\n",
      "[47]\tdtrain-F1_score:0.45336\tdval-F1_score:0.40049\n",
      "[48]\tdtrain-F1_score:0.45221\tdval-F1_score:0.40048\n",
      "[49]\tdtrain-F1_score:0.45345\tdval-F1_score:0.40000\n",
      "[50]\tdtrain-F1_score:0.45464\tdval-F1_score:0.39711\n",
      "[51]\tdtrain-F1_score:0.45476\tdval-F1_score:0.39325\n",
      "[52]\tdtrain-F1_score:0.45557\tdval-F1_score:0.39611\n",
      "[53]\tdtrain-F1_score:0.45704\tdval-F1_score:0.39178\n",
      "Stopping. Best iteration:\n",
      "[43]\tdtrain-F1_score:0.44609\tdval-F1_score:0.41133\n",
      "\n"
     ]
    }
   ],
   "source": [
    "xgboost_no_lex = xgboost.train(\n",
    "    params,\n",
    "    dtrain1,\n",
    "    num_boost_round=num_boost_round,\n",
    "    evals=[(dtrain1, 'dtrain'), (dval, 'dval')],\n",
    "    feval=f1_eval,\n",
    "    early_stopping_rounds = 10,\n",
    "    maximize=True)"
   ]
  },
  {
   "cell_type": "code",
   "execution_count": 78,
   "metadata": {},
   "outputs": [],
   "source": [
    "os.chdir('/Users/ladarudnitckaia/Desktop/Master Thesis/9. ML')\n",
    "# xgboost_no_lex.save_model(\"xgboost_no_lex.model\")\n",
    "xgboost_no_lex = xgboost.Booster()\n",
    "xgboost_no_lex.load_model(\"xgboost_no_lex.model\")"
   ]
  },
  {
   "cell_type": "code",
   "execution_count": 79,
   "metadata": {},
   "outputs": [
    {
     "name": "stdout",
     "output_type": "stream",
     "text": [
      "Performance of xgboost_no_lex, test:\n",
      "F1: 0.35\n",
      "Precision: 0.23\n",
      "Recall: 0.75\n",
      "AUC: 0.74\n",
      "Accuracy: 0.73\n",
      "Confusion matrix:\n",
      " [[2053   74]\n",
      " [ 759  228]]\n"
     ]
    }
   ],
   "source": [
    "xgboost_no_lex_predt = np.where(xgboost_no_lex.predict(dtest) > 0.5, 1, 0)\n",
    "print('Performance of xgboost_no_lex, test:')\n",
    "print('F1:', round(metrics.f1_score(dtest.get_label(),xgboost_no_lex_predt),2))\n",
    "print('Precision:', round(metrics.precision_score(dtest.get_label(), xgboost_no_lex_predt),2))\n",
    "print('Recall:', round(metrics.recall_score(dtest.get_label(), xgboost_no_lex_predt),2))\n",
    "print('AUC:', round(metrics.roc_auc_score(dtest.get_label(), xgboost_no_lex_predt),2))\n",
    "print('Accuracy:', round(metrics.accuracy_score(dtest.get_label(), xgboost_no_lex_predt),2))\n",
    "print('Confusion matrix:\\n', metrics.confusion_matrix(dtest.get_label(), xgboost_no_lex_predt).transpose())"
   ]
  },
  {
   "cell_type": "code",
   "execution_count": 80,
   "metadata": {},
   "outputs": [
    {
     "data": {
      "text/plain": [
       "Text(0, 0.5, 'Features')"
      ]
     },
     "execution_count": 80,
     "metadata": {},
     "output_type": "execute_result"
    },
    {
     "data": {
      "image/png": "[encoded data removed]",
      "text/plain": [
       "<Figure size 576x576 with 1 Axes>"
      ]
     },
     "metadata": {
      "needs_background": "light"
     },
     "output_type": "display_data"
    }
   ],
   "source": [
    "fig, ax = plt.subplots(1, 1, figsize=(8,8))\n",
    "plt.rcParams['font.size'] = 16\n",
    "\n",
    "xgboost.plot_importance(xgboost_no_lex, ax=ax, show_values=False, max_num_features=20,\n",
    "                       importance_type='gain', height=0.7, grid=False, color='lightsteelblue')\n",
    "ax.set_ylabel('Features', fontsize=16)"
   ]
  },
  {
   "cell_type": "markdown",
   "metadata": {},
   "source": [
    "### 2.7 All features without bias lexicon"
   ]
  },
  {
   "cell_type": "code",
   "execution_count": 54,
   "metadata": {},
   "outputs": [],
   "source": [
    "x_no_bias_lex = x.drop(['bias_lexicon', 'bias_lexicon_context'], 1)"
   ]
  },
  {
   "cell_type": "code",
   "execution_count": 55,
   "metadata": {},
   "outputs": [],
   "source": [
    "train_features, test_features, train_labels, test_labels = train_test_split(x_no_bias_lex, y4, \n",
    "                                                                            test_size = 0.10, random_state = 42)\n",
    "train_features1, val_features, train_labels1, val_labels = train_test_split(train_features, train_labels, \n",
    "                                                                            test_size = 0.10, random_state = 42)"
   ]
  },
  {
   "cell_type": "code",
   "execution_count": 56,
   "metadata": {},
   "outputs": [
    {
     "data": {
      "text/plain": [
       "280"
      ]
     },
     "execution_count": 56,
     "metadata": {},
     "output_type": "execute_result"
    }
   ],
   "source": [
    "feature_names = list(x_no_bias_lex.columns)\n",
    "len(feature_names)"
   ]
  },
  {
   "cell_type": "code",
   "execution_count": 57,
   "metadata": {},
   "outputs": [],
   "source": [
    "dtrain = xgboost.DMatrix(train_features, label=train_labels, feature_names=feature_names)\n",
    "dtest = xgboost.DMatrix(test_features, label=test_labels, feature_names=feature_names)\n",
    "dtrain1 = xgboost.DMatrix(train_features1, label=train_labels1, feature_names=feature_names)\n",
    "dval = xgboost.DMatrix(val_features, label=val_labels, feature_names=feature_names)"
   ]
  },
  {
   "cell_type": "code",
   "execution_count": 58,
   "metadata": {},
   "outputs": [],
   "source": [
    "params = {'max_depth': 6,\n",
    " 'min_child_weight': 18,\n",
    " 'eta': 0.2,\n",
    " 'subsample': 1.0,\n",
    " 'colsample_bytree': 1.0,\n",
    " 'objective': 'binary:logistic',\n",
    " 'disable_default_eval_metric': 1,\n",
    " 'seed': 42,\n",
    " 'tree_method': 'hist',\n",
    " 'scale_pos_weight': 9.471599402092675}\n",
    "num_boost_round=999"
   ]
  },
  {
   "cell_type": "code",
   "execution_count": 59,
   "metadata": {
    "scrolled": true
   },
   "outputs": [
    {
     "name": "stdout",
     "output_type": "stream",
     "text": [
      "[0]\tdtrain-F1_score:0.00000\tdval-F1_score:0.00000\n",
      "Multiple eval metrics have been passed: 'dval-F1_score' will be used for early stopping.\n",
      "\n",
      "Will train until dval-F1_score hasn't improved in 10 rounds.\n",
      "[1]\tdtrain-F1_score:0.38308\tdval-F1_score:0.39301\n",
      "[2]\tdtrain-F1_score:0.44027\tdval-F1_score:0.43310\n",
      "[3]\tdtrain-F1_score:0.44368\tdval-F1_score:0.44174\n",
      "[4]\tdtrain-F1_score:0.43851\tdval-F1_score:0.44079\n",
      "[5]\tdtrain-F1_score:0.43934\tdval-F1_score:0.44013\n",
      "[6]\tdtrain-F1_score:0.44170\tdval-F1_score:0.44481\n",
      "[7]\tdtrain-F1_score:0.44671\tdval-F1_score:0.44654\n",
      "[8]\tdtrain-F1_score:0.44721\tdval-F1_score:0.45101\n",
      "[9]\tdtrain-F1_score:0.44756\tdval-F1_score:0.44992\n",
      "[10]\tdtrain-F1_score:0.45084\tdval-F1_score:0.45131\n",
      "[11]\tdtrain-F1_score:0.45181\tdval-F1_score:0.44923\n",
      "[12]\tdtrain-F1_score:0.45195\tdval-F1_score:0.45062\n",
      "[13]\tdtrain-F1_score:0.45568\tdval-F1_score:0.45454\n",
      "[14]\tdtrain-F1_score:0.45728\tdval-F1_score:0.46316\n",
      "[15]\tdtrain-F1_score:0.46539\tdval-F1_score:0.45536\n",
      "[16]\tdtrain-F1_score:0.46824\tdval-F1_score:0.47181\n",
      "[17]\tdtrain-F1_score:0.46862\tdval-F1_score:0.47181\n",
      "[18]\tdtrain-F1_score:0.47047\tdval-F1_score:0.46715\n",
      "[19]\tdtrain-F1_score:0.47585\tdval-F1_score:0.46957\n",
      "[20]\tdtrain-F1_score:0.47741\tdval-F1_score:0.46198\n",
      "[21]\tdtrain-F1_score:0.47857\tdval-F1_score:0.45739\n",
      "[22]\tdtrain-F1_score:0.47811\tdval-F1_score:0.45869\n",
      "[23]\tdtrain-F1_score:0.48058\tdval-F1_score:0.46262\n",
      "[24]\tdtrain-F1_score:0.48244\tdval-F1_score:0.46328\n",
      "[25]\tdtrain-F1_score:0.48183\tdval-F1_score:0.46808\n",
      "[26]\tdtrain-F1_score:0.48519\tdval-F1_score:0.47025\n",
      "Stopping. Best iteration:\n",
      "[16]\tdtrain-F1_score:0.46824\tdval-F1_score:0.47181\n",
      "\n"
     ]
    }
   ],
   "source": [
    "xgboost_no_bias_lex = xgboost.train(\n",
    "    params,\n",
    "    dtrain1,\n",
    "    num_boost_round=num_boost_round,\n",
    "    evals=[(dtrain1, 'dtrain'), (dval, 'dval')],\n",
    "    feval=f1_eval,\n",
    "    early_stopping_rounds = 10,\n",
    "    maximize=True)"
   ]
  },
  {
   "cell_type": "code",
   "execution_count": 60,
   "metadata": {},
   "outputs": [],
   "source": [
    "os.chdir('/Users/ladarudnitckaia/Desktop/Master Thesis/9. ML')\n",
    "# xgboost_no_bias_lex.save_model(\"xgboost_no_bias_lex.model\")\n",
    "xgboost_no_bias_lex = xgboost.Booster()\n",
    "xgboost_no_bias_lex.load_model(\"xgboost_no_bias_lex.model\")"
   ]
  },
  {
   "cell_type": "code",
   "execution_count": 61,
   "metadata": {},
   "outputs": [
    {
     "name": "stdout",
     "output_type": "stream",
     "text": [
      "Performance of xgboost_no_bias_lex, test:\n",
      "F1: 0.41\n",
      "Precision: 0.28\n",
      "Recall: 0.75\n",
      "AUC: 0.77\n",
      "Accuracy: 0.79\n",
      "Confusion matrix:\n",
      " [[2224   74]\n",
      " [ 588  228]]\n"
     ]
    }
   ],
   "source": [
    "xgboost_no_bias_lex_predt = np.where(xgboost_no_bias_lex.predict(dtest) > 0.5, 1, 0)\n",
    "print('Performance of xgboost_no_bias_lex, test:')\n",
    "print('F1:', round(metrics.f1_score(dtest.get_label(),xgboost_no_bias_lex_predt),2))\n",
    "print('Precision:', round(metrics.precision_score(dtest.get_label(), xgboost_no_bias_lex_predt),2))\n",
    "print('Recall:', round(metrics.recall_score(dtest.get_label(), xgboost_no_bias_lex_predt),2))\n",
    "print('AUC:', round(metrics.roc_auc_score(dtest.get_label(), xgboost_no_bias_lex_predt),2))\n",
    "print('Accuracy:', round(metrics.accuracy_score(dtest.get_label(), xgboost_no_bias_lex_predt),2))\n",
    "print('Confusion matrix:\\n', metrics.confusion_matrix(dtest.get_label(), xgboost_no_bias_lex_predt).transpose())"
   ]
  },
  {
   "cell_type": "code",
   "execution_count": 62,
   "metadata": {},
   "outputs": [
    {
     "data": {
      "text/plain": [
       "Text(0, 0.5, 'Features')"
      ]
     },
     "execution_count": 62,
     "metadata": {},
     "output_type": "execute_result"
    },
    {
     "data": {
      "image/png": "[encoded data removed]",
      "text/plain": [
       "<Figure size 576x576 with 1 Axes>"
      ]
     },
     "metadata": {
      "needs_background": "light"
     },
     "output_type": "display_data"
    }
   ],
   "source": [
    "fig, ax = plt.subplots(1, 1, figsize=(8,8))\n",
    "plt.rcParams['font.size'] = 16\n",
    "\n",
    "xgboost.plot_importance(xgboost_no_bias_lex, ax=ax, show_values=False, max_num_features=20,\n",
    "                       importance_type='gain', height=0.7, grid=False, color='lightsteelblue')\n",
    "ax.set_ylabel('Features', fontsize=16)"
   ]
  },
  {
   "cell_type": "markdown",
   "metadata": {},
   "source": [
    "### 2.8 No context"
   ]
  },
  {
   "cell_type": "code",
   "execution_count": 63,
   "metadata": {},
   "outputs": [],
   "source": [
    "x_no_context = x.drop(['negative_conc_context',\n",
    " 'positive_conc_context',\n",
    " 'weak_subj_context',\n",
    " 'strong_subj_context',\n",
    " 'hyperbolic_terms_context',\n",
    " 'attitude_markers_context',\n",
    " 'kill_verbs_context',\n",
    " 'bias_lexicon_context',\n",
    " 'assertive_verbs_context',\n",
    " 'factive_verbs_context',\n",
    " 'report_verbs_context',\n",
    " 'implicative_verbs_context',                       \n",
    " 'hedges_context',\n",
    " 'boosters_context',\n",
    " 'affect _context',\n",
    " 'posemo _context',\n",
    " 'negemo _context',\n",
    " 'anx _context',\n",
    " 'anger _context',\n",
    " 'sad _context',\n",
    " 'social _context',\n",
    " 'family _context',\n",
    " 'friend _context',\n",
    " 'female _context',\n",
    " 'male _context',\n",
    " 'cogproc _context',\n",
    " 'insight _context',\n",
    " 'cause _context',\n",
    " 'discrep _context',\n",
    " 'tentat _context',\n",
    " 'certain _context',\n",
    " 'differ _context',\n",
    " 'percept _context',\n",
    " 'see _context',\n",
    " 'hear _context',\n",
    " 'feel _context',\n",
    " 'bio _context',\n",
    " 'body _context',\n",
    " 'health _context',\n",
    " 'sexual _context',\n",
    " 'ingest _context',\n",
    " 'drives _context',\n",
    " 'affiliation _context',\n",
    " 'achieve _context',\n",
    " 'power _context',\n",
    " 'reward _context',\n",
    " 'risk _context',\n",
    " 'focuspast _context',\n",
    " 'focuspresent _context',\n",
    " 'focusfuture _context',\n",
    " 'relativ _context',\n",
    " 'motion _context',\n",
    " 'space _context',\n",
    " 'time _context',\n",
    " 'work _context',\n",
    " 'leisure _context',\n",
    " 'home _context',\n",
    " 'money _context',\n",
    " 'relig _context',\n",
    " 'death _context',\n",
    " 'informal _context',\n",
    " 'swear _context',\n",
    " 'netspeak _context',\n",
    " 'assent _context',\n",
    " 'nonflu _context',\n",
    " 'filler _context',\n",
    " 'pos_ADJ_context',\n",
    " 'pos_ADP_context',\n",
    " 'pos_ADV_context',\n",
    " 'pos_AUX_context',\n",
    " 'pos_DET_context',\n",
    " 'pos_INTJ_context',\n",
    " 'pos_NOUN_context',\n",
    " 'pos_PRON_context',\n",
    " 'pos_PROPN_context',\n",
    " 'pos_SCONJ_context',\n",
    " 'pos_VERB_context',\n",
    " 'pos_X_context',\n",
    " 'dep_ROOT_context',\n",
    " 'dep_acl_context',\n",
    " 'dep_acomp_context',\n",
    " 'dep_advcl_context',\n",
    " 'dep_advmod_context',\n",
    " 'dep_agent_context',\n",
    " 'dep_amod_context',\n",
    " 'dep_appos_context',\n",
    " 'dep_attr_context',\n",
    " 'dep_aux_context',\n",
    " 'dep_auxpass_context',\n",
    " 'dep_case_context',\n",
    " 'dep_cc_context',\n",
    " 'dep_ccomp_context',\n",
    " 'dep_compound_context',\n",
    " 'dep_conj_context',\n",
    " 'dep_csubj_context',\n",
    " 'dep_dative_context',\n",
    " 'dep_dep_context',\n",
    " 'dep_det_context',\n",
    " 'dep_dobj_context',\n",
    " 'dep_expl_context',\n",
    " 'dep_intj_context',\n",
    " 'dep_mark_context',\n",
    " 'dep_meta_context',\n",
    " 'dep_neg_context',\n",
    " 'dep_nmod_context',\n",
    " 'dep_npadvmod_context',\n",
    " 'dep_nsubj_context',\n",
    " 'dep_nsubjpass_context',\n",
    " 'dep_nummod_context',\n",
    " 'dep_oprd_context',\n",
    " 'dep_parataxis_context',\n",
    " 'dep_pcomp_context',\n",
    " 'dep_pobj_context',\n",
    " 'dep_poss_context',\n",
    " 'dep_preconj_context',\n",
    " 'dep_predet_context',\n",
    " 'dep_prep_context',\n",
    " 'dep_prt_context',\n",
    " 'dep_punct_context',\n",
    " 'dep_quantmod_context',\n",
    " 'dep_relcl_context',\n",
    " 'dep_xcomp_context',\n",
    " 'ne_CARDINAL_context',\n",
    " 'ne_DATE_context',\n",
    " 'ne_EVENT_context',\n",
    " 'ne_FAC_context',\n",
    " 'ne_GPE_context',\n",
    " 'ne_LAW_context',\n",
    " 'ne_LOC_context',\n",
    " 'ne_MONEY_context',\n",
    " 'ne_NORP_context',\n",
    " 'ne_ORDINAL_context',\n",
    " 'ne_ORG_context',\n",
    " 'ne_PERCENT_context',\n",
    " 'ne_PERSON_context',\n",
    " 'ne_PRODUCT_context',\n",
    " 'ne_QUANTITY_context',\n",
    " 'ne_TIME_context',\n",
    " 'ne_WORK_OF_ART_context',\n",
    " 'ne_LANGUAGE_context'], 1)"
   ]
  },
  {
   "cell_type": "code",
   "execution_count": 64,
   "metadata": {},
   "outputs": [],
   "source": [
    "train_features, test_features, train_labels, test_labels = train_test_split(x_no_context, y4, \n",
    "                                                                            test_size = 0.10, random_state = 42)\n",
    "train_features1, val_features, train_labels1, val_labels = train_test_split(train_features, train_labels, \n",
    "                                                                            test_size = 0.10, random_state = 42)"
   ]
  },
  {
   "cell_type": "code",
   "execution_count": 65,
   "metadata": {},
   "outputs": [
    {
     "data": {
      "text/plain": [
       "142"
      ]
     },
     "execution_count": 65,
     "metadata": {},
     "output_type": "execute_result"
    }
   ],
   "source": [
    "feature_names = list(x_no_context.columns)\n",
    "len(feature_names)"
   ]
  },
  {
   "cell_type": "code",
   "execution_count": 66,
   "metadata": {},
   "outputs": [],
   "source": [
    "dtrain = xgboost.DMatrix(train_features, label=train_labels, feature_names=feature_names)\n",
    "dtest = xgboost.DMatrix(test_features, label=test_labels, feature_names=feature_names)\n",
    "dtrain1 = xgboost.DMatrix(train_features1, label=train_labels1, feature_names=feature_names)\n",
    "dval = xgboost.DMatrix(val_features, label=val_labels, feature_names=feature_names)"
   ]
  },
  {
   "cell_type": "code",
   "execution_count": 67,
   "metadata": {},
   "outputs": [],
   "source": [
    "params = {'max_depth': 6,\n",
    " 'min_child_weight': 18,\n",
    " 'eta': 0.2,\n",
    " 'subsample': 1.0,\n",
    " 'colsample_bytree': 1.0,\n",
    " 'objective': 'binary:logistic',\n",
    " 'disable_default_eval_metric': 1,\n",
    " 'seed': 42,\n",
    " 'tree_method': 'hist',\n",
    " 'scale_pos_weight': 9.471599402092675}\n",
    "num_boost_round=999"
   ]
  },
  {
   "cell_type": "code",
   "execution_count": 68,
   "metadata": {
    "scrolled": true
   },
   "outputs": [
    {
     "name": "stdout",
     "output_type": "stream",
     "text": [
      "[0]\tdtrain-F1_score:0.00000\tdval-F1_score:0.00000\n",
      "Multiple eval metrics have been passed: 'dval-F1_score' will be used for early stopping.\n",
      "\n",
      "Will train until dval-F1_score hasn't improved in 10 rounds.\n",
      "[1]\tdtrain-F1_score:0.39342\tdval-F1_score:0.39915\n",
      "[2]\tdtrain-F1_score:0.44534\tdval-F1_score:0.44890\n",
      "[3]\tdtrain-F1_score:0.44346\tdval-F1_score:0.45946\n",
      "[4]\tdtrain-F1_score:0.44666\tdval-F1_score:0.45854\n",
      "[5]\tdtrain-F1_score:0.44916\tdval-F1_score:0.45826\n",
      "[6]\tdtrain-F1_score:0.44726\tdval-F1_score:0.45586\n",
      "[7]\tdtrain-F1_score:0.44819\tdval-F1_score:0.46105\n",
      "[8]\tdtrain-F1_score:0.45027\tdval-F1_score:0.46914\n",
      "[9]\tdtrain-F1_score:0.45261\tdval-F1_score:0.46626\n",
      "[10]\tdtrain-F1_score:0.45229\tdval-F1_score:0.46697\n",
      "[11]\tdtrain-F1_score:0.45338\tdval-F1_score:0.46861\n",
      "[12]\tdtrain-F1_score:0.45979\tdval-F1_score:0.47113\n",
      "[13]\tdtrain-F1_score:0.46011\tdval-F1_score:0.47041\n",
      "[14]\tdtrain-F1_score:0.46062\tdval-F1_score:0.47201\n",
      "[15]\tdtrain-F1_score:0.45977\tdval-F1_score:0.47360\n",
      "[16]\tdtrain-F1_score:0.45979\tdval-F1_score:0.46796\n",
      "[17]\tdtrain-F1_score:0.46046\tdval-F1_score:0.47007\n",
      "[18]\tdtrain-F1_score:0.45892\tdval-F1_score:0.46356\n",
      "[19]\tdtrain-F1_score:0.45869\tdval-F1_score:0.46444\n",
      "[20]\tdtrain-F1_score:0.45968\tdval-F1_score:0.46310\n",
      "[21]\tdtrain-F1_score:0.45968\tdval-F1_score:0.46310\n",
      "[22]\tdtrain-F1_score:0.46045\tdval-F1_score:0.46619\n",
      "[23]\tdtrain-F1_score:0.46146\tdval-F1_score:0.47059\n",
      "[24]\tdtrain-F1_score:0.46084\tdval-F1_score:0.47429\n",
      "[25]\tdtrain-F1_score:0.46338\tdval-F1_score:0.47059\n",
      "[26]\tdtrain-F1_score:0.46390\tdval-F1_score:0.47496\n",
      "[27]\tdtrain-F1_score:0.46509\tdval-F1_score:0.47578\n",
      "[28]\tdtrain-F1_score:0.46463\tdval-F1_score:0.47795\n",
      "[29]\tdtrain-F1_score:0.46575\tdval-F1_score:0.47361\n",
      "[30]\tdtrain-F1_score:0.46925\tdval-F1_score:0.46658\n",
      "[31]\tdtrain-F1_score:0.46829\tdval-F1_score:0.46930\n",
      "[32]\tdtrain-F1_score:0.46953\tdval-F1_score:0.46995\n",
      "[33]\tdtrain-F1_score:0.47018\tdval-F1_score:0.46947\n",
      "[34]\tdtrain-F1_score:0.47010\tdval-F1_score:0.46884\n",
      "[35]\tdtrain-F1_score:0.46969\tdval-F1_score:0.46884\n",
      "[36]\tdtrain-F1_score:0.47203\tdval-F1_score:0.46900\n",
      "[37]\tdtrain-F1_score:0.47277\tdval-F1_score:0.47106\n",
      "[38]\tdtrain-F1_score:0.47171\tdval-F1_score:0.46917\n",
      "Stopping. Best iteration:\n",
      "[28]\tdtrain-F1_score:0.46463\tdval-F1_score:0.47795\n",
      "\n"
     ]
    }
   ],
   "source": [
    "xgboost_no_context = xgboost.train(\n",
    "    params,\n",
    "    dtrain1,\n",
    "    num_boost_round=num_boost_round,\n",
    "    evals=[(dtrain1, 'dtrain'), (dval, 'dval')],\n",
    "    feval=f1_eval,\n",
    "    early_stopping_rounds = 10,\n",
    "    maximize=True)"
   ]
  },
  {
   "cell_type": "code",
   "execution_count": 69,
   "metadata": {},
   "outputs": [],
   "source": [
    "os.chdir('/Users/ladarudnitckaia/Desktop/Master Thesis/9. ML')\n",
    "# xgboost_no_context.save_model(\"xgboost_no_context.model\")\n",
    "xgboost_no_context = xgboost.Booster()\n",
    "xgboost_no_context.load_model(\"xgboost_no_context.model\")"
   ]
  },
  {
   "cell_type": "code",
   "execution_count": 70,
   "metadata": {},
   "outputs": [
    {
     "name": "stdout",
     "output_type": "stream",
     "text": [
      "Performance of xgboost_no_context, test:\n",
      "F1: 0.43\n",
      "Precision: 0.3\n",
      "Recall: 0.75\n",
      "AUC: 0.78\n",
      "Accuracy: 0.81\n",
      "Confusion matrix:\n",
      " [[2283   77]\n",
      " [ 529  225]]\n"
     ]
    }
   ],
   "source": [
    "xgboost_no_context_predt = np.where(xgboost_no_context.predict(dtest) > 0.5, 1, 0)\n",
    "print('Performance of xgboost_no_context, test:')\n",
    "print('F1:', round(metrics.f1_score(dtest.get_label(),xgboost_no_context_predt),2))\n",
    "print('Precision:', round(metrics.precision_score(dtest.get_label(), xgboost_no_context_predt),2))\n",
    "print('Recall:', round(metrics.recall_score(dtest.get_label(), xgboost_no_context_predt),2))\n",
    "print('AUC:', round(metrics.roc_auc_score(dtest.get_label(), xgboost_no_context_predt),2))\n",
    "print('Accuracy:', round(metrics.accuracy_score(dtest.get_label(), xgboost_no_context_predt),2))\n",
    "print('Confusion matrix:\\n', metrics.confusion_matrix(dtest.get_label(), xgboost_no_context_predt).transpose())"
   ]
  },
  {
   "cell_type": "code",
   "execution_count": 71,
   "metadata": {},
   "outputs": [
    {
     "data": {
      "text/plain": [
       "Text(0, 0.5, 'Features')"
      ]
     },
     "execution_count": 71,
     "metadata": {},
     "output_type": "execute_result"
    },
    {
     "data": {
      "image/png": "[encoded data removed]",
      "text/plain": [
       "<Figure size 576x576 with 1 Axes>"
      ]
     },
     "metadata": {
      "needs_background": "light"
     },
     "output_type": "display_data"
    }
   ],
   "source": [
    "fig, ax = plt.subplots(1, 1, figsize=(8,8))\n",
    "plt.rcParams['font.size'] = 16\n",
    "\n",
    "xgboost.plot_importance(xgboost_no_context, ax=ax, show_values=False, max_num_features=20,\n",
    "                       importance_type='gain', height=0.7, grid=False, color='lightsteelblue')\n",
    "ax.set_ylabel('Features', fontsize=16)"
   ]
  },
  {
   "cell_type": "code",
   "execution_count": null,
   "metadata": {},
   "outputs": [],
   "source": []
  }
 ],
 "metadata": {
  "kernelspec": {
   "display_name": "Python 3",
   "language": "python",
   "name": "python3"
  },
  "language_info": {
   "codemirror_mode": {
    "name": "ipython",
    "version": 3
   },
   "file_extension": ".py",
   "mimetype": "text/x-python",
   "name": "python",
   "nbconvert_exporter": "python",
   "pygments_lexer": "ipython3",
   "version": "3.7.4"
  }
 },
 "nbformat": 4,
 "nbformat_minor": 2
}
