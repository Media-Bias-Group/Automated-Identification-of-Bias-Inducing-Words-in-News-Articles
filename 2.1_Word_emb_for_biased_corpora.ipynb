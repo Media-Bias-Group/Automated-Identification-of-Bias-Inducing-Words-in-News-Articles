{
 "cells": [
  {
   "cell_type": "markdown",
   "metadata": {
    "colab_type": "text",
    "id": "m4biyKLvvvS-"
   },
   "source": [
    "# Word embeddings for biased outlets\n",
    "\n",
    "\n",
    "\n"
   ]
  },
  {
   "cell_type": "markdown",
   "metadata": {
    "colab_type": "text",
    "id": "lRpfnXvndr1v"
   },
   "source": [
    "In this script, we:\n",
    "- train word embeddings for HuffPost and Breitbart\n",
    "- extract seed biased words from the words close to the words describing contentious topics\n",
    "\n",
    "To run this script, the following data files are needed:\n",
    "- left_news_dates.csv (-)\n",
    "- right_news_dates.csv (-)\n",
    "- wordsim353.tsv (-)\n",
    "- men.txt (-)\n",
    "- questions-words.txt (-)\n",
    "\n",
    "Saved models:\n",
    "- huff_simp_bi_trigr10.model (+)\n",
    "- breitbart10.model (+)\n",
    "\n",
    "(attached: +, not attached: -)"
   ]
  },
  {
   "cell_type": "code",
   "execution_count": 1,
   "metadata": {
    "colab": {
     "base_uri": "https://localhost:8080/",
     "height": 34
    },
    "colab_type": "code",
    "executionInfo": {
     "elapsed": 19868,
     "status": "ok",
     "timestamp": 1600990805480,
     "user": {
      "displayName": "Lada Rudnitckaia",
      "photoUrl": "",
      "userId": "10725902859466840654"
     },
     "user_tz": -120
    },
    "id": "carVnnAnxcmM",
    "outputId": "0d56b720-fc7d-4b94-82ef-ace9a212345f"
   },
   "outputs": [
    {
     "name": "stdout",
     "output_type": "stream",
     "text": [
      "Mounted at /content/gdrive\n"
     ]
    }
   ],
   "source": [
    "import os\n",
    "# for jupyter notebook\n",
    "# os.chdir('/Users/ladarudnitckaia/Desktop/CSS/Project/queries from ccnc')\n",
    "\n",
    "# for colaboratory gpu\n",
    "\n",
    "from google.colab import drive\n",
    "drive.mount('/content/gdrive')\n",
    "import sys\n",
    "\n",
    "os.chdir(\"/content/gdrive/My Drive/CSS Project\")"
   ]
  },
  {
   "cell_type": "code",
   "execution_count": 3,
   "metadata": {
    "colab": {
     "base_uri": "https://localhost:8080/",
     "height": 119
    },
    "colab_type": "code",
    "executionInfo": {
     "elapsed": 4061,
     "status": "ok",
     "timestamp": 1600990820066,
     "user": {
      "displayName": "Lada Rudnitckaia",
      "photoUrl": "",
      "userId": "10725902859466840654"
     },
     "user_tz": -120
    },
    "id": "RfnRgBsyvvTJ",
    "outputId": "ecee7b49-c269-46c7-eadb-1648b08c98eb"
   },
   "outputs": [
    {
     "name": "stdout",
     "output_type": "stream",
     "text": [
      "[nltk_data] Downloading package punkt to /root/nltk_data...\n",
      "[nltk_data]   Unzipping tokenizers/punkt.zip.\n",
      "[nltk_data] Downloading package stopwords to /root/nltk_data...\n",
      "[nltk_data]   Unzipping corpora/stopwords.zip.\n",
      "[nltk_data] Downloading package words to /root/nltk_data...\n",
      "[nltk_data]   Unzipping corpora/words.zip.\n"
     ]
    }
   ],
   "source": [
    "# data\n",
    "import pandas as pd\n",
    "import numpy as np\n",
    "import csv\n",
    "\n",
    "# misc\n",
    "import ast\n",
    "import time\n",
    "import re\n",
    "from random import sample\n",
    "import statistics\n",
    "from sklearn.decomposition import IncrementalPCA\n",
    "from sklearn.manifold import TSNE\n",
    "\n",
    "# nlp\n",
    "import string\n",
    "import inflect\n",
    "infl = inflect.engine()\n",
    "from nltk.tokenize import sent_tokenize, word_tokenize\n",
    "import nltk\n",
    "nltk.download('punkt')\n",
    "from nltk.corpus import stopwords\n",
    "nltk.download('stopwords')\n",
    "nltk.download('words')\n",
    "import warnings  \n",
    "warnings.filterwarnings(action = 'ignore')\n",
    "import gensim \n",
    "from gensim.models import Word2Vec\n",
    "from gensim.test.utils import datapath\n",
    "from gensim import utils\n",
    "from gensim.corpora import Dictionary\n",
    "from gensim.utils import tokenize\n",
    "from gensim.models.phrases import Phrases, Phraser\n",
    "from gensim.models.phrases import original_scorer"
   ]
  },
  {
   "cell_type": "markdown",
   "metadata": {
    "colab_type": "text",
    "id": "6Qxdldh3E-wR"
   },
   "source": [
    "## 1 HuffPost"
   ]
  },
  {
   "cell_type": "markdown",
   "metadata": {
    "colab_type": "text",
    "id": "ewOo_TEmE-wS"
   },
   "source": [
    "### 1.1 Data Exploration"
   ]
  },
  {
   "cell_type": "code",
   "execution_count": null,
   "metadata": {
    "colab": {
     "base_uri": "https://localhost:8080/",
     "height": 289
    },
    "colab_type": "code",
    "executionInfo": {
     "elapsed": 17774,
     "status": "ok",
     "timestamp": 1587884321423,
     "user": {
      "displayName": "Lada Rudnitckaia",
      "photoUrl": "",
      "userId": "10725902859466840654"
     },
     "user_tz": -120
    },
    "id": "NZU7pYLxE-wT",
    "outputId": "ae0c292f-7f49-49a6-ff26-e9e3d3b00771"
   },
   "outputs": [
    {
     "data": {
      "text/html": [
       "<div>\n",
       "<style scoped>\n",
       "    .dataframe tbody tr th:only-of-type {\n",
       "        vertical-align: middle;\n",
       "    }\n",
       "\n",
       "    .dataframe tbody tr th {\n",
       "        vertical-align: top;\n",
       "    }\n",
       "\n",
       "    .dataframe thead th {\n",
       "        text-align: right;\n",
       "    }\n",
       "</style>\n",
       "<table border=\"1\" class=\"dataframe\">\n",
       "  <thead>\n",
       "    <tr style=\"text-align: right;\">\n",
       "      <th></th>\n",
       "      <th>date_publish</th>\n",
       "      <th>lang</th>\n",
       "      <th>source_domain</th>\n",
       "      <th>title</th>\n",
       "      <th>text</th>\n",
       "    </tr>\n",
       "  </thead>\n",
       "  <tbody>\n",
       "    <tr>\n",
       "      <th>2384</th>\n",
       "      <td>2018-07-23 13:44:16</td>\n",
       "      <td>en</td>\n",
       "      <td>www.huffingtonpost.com</td>\n",
       "      <td>Yes, Democrats Need To Run Left - On Economics</td>\n",
       "      <td>Spencer Platt via Getty Images Rising progress...</td>\n",
       "    </tr>\n",
       "    <tr>\n",
       "      <th>2385</th>\n",
       "      <td>2017-09-27 22:45:42</td>\n",
       "      <td>en</td>\n",
       "      <td>www.huffingtonpost.com</td>\n",
       "      <td>Trump's Explanation For Removing Sudan From Hi...</td>\n",
       "      <td>At a press briefing on Wednesday afternoon, U....</td>\n",
       "    </tr>\n",
       "    <tr>\n",
       "      <th>2386</th>\n",
       "      <td>2017-10-02 17:56:46</td>\n",
       "      <td>en</td>\n",
       "      <td>www.huffingtonpost.com</td>\n",
       "      <td>It's Completely Legal To Walk Around Las Vegas...</td>\n",
       "      <td>Sunday’s horrific mass shooting in Las Vegas o...</td>\n",
       "    </tr>\n",
       "    <tr>\n",
       "      <th>2387</th>\n",
       "      <td>2017-08-01 14:55:48</td>\n",
       "      <td>en</td>\n",
       "      <td>www.huffingtonpost.com</td>\n",
       "      <td>Dylan Sprouse Is Acting Again For The First Ti...</td>\n",
       "      <td>Dylan Sprouse is returning to screens after ta...</td>\n",
       "    </tr>\n",
       "    <tr>\n",
       "      <th>2388</th>\n",
       "      <td>2016-12-30 16:47:06</td>\n",
       "      <td>en</td>\n",
       "      <td>www.huffingtonpost.com</td>\n",
       "      <td>How to Tell if You've Really Found Your Soulmate</td>\n",
       "      <td>How can you be sure the person you're going to...</td>\n",
       "    </tr>\n",
       "  </tbody>\n",
       "</table>\n",
       "</div>"
      ],
      "text/plain": [
       "             date_publish  ...                                               text\n",
       "2384  2018-07-23 13:44:16  ...  Spencer Platt via Getty Images Rising progress...\n",
       "2385  2017-09-27 22:45:42  ...  At a press briefing on Wednesday afternoon, U....\n",
       "2386  2017-10-02 17:56:46  ...  Sunday’s horrific mass shooting in Las Vegas o...\n",
       "2387  2017-08-01 14:55:48  ...  Dylan Sprouse is returning to screens after ta...\n",
       "2388  2016-12-30 16:47:06  ...  How can you be sure the person you're going to...\n",
       "\n",
       "[5 rows x 5 columns]"
      ]
     },
     "execution_count": 3,
     "metadata": {
      "tags": []
     },
     "output_type": "execute_result"
    }
   ],
   "source": [
    "os.chdir(\"/content/gdrive/My Drive/CSS Project/Data\")\n",
    "left_news = pd.read_csv(\"left_news_dates.csv\")\n",
    "huffpost = left_news[left_news.source_domain == \"www.huffingtonpost.com\"]\n",
    "del(left_news)\n",
    "huffpost.head()"
   ]
  },
  {
   "cell_type": "code",
   "execution_count": null,
   "metadata": {
    "colab": {
     "base_uri": "https://localhost:8080/",
     "height": 34
    },
    "colab_type": "code",
    "executionInfo": {
     "elapsed": 1024,
     "status": "ok",
     "timestamp": 1587738545767,
     "user": {
      "displayName": "Lada Rudnitckaia",
      "photoUrl": "",
      "userId": "10725902859466840654"
     },
     "user_tz": -120
    },
    "id": "ZWk0NejSlsEN",
    "outputId": "9ec30d70-d242-4b2c-a23d-e97c273d7bb7"
   },
   "outputs": [
    {
     "name": "stdout",
     "output_type": "stream",
     "text": [
      "Number of articles: 101108\n"
     ]
    }
   ],
   "source": [
    "print('Number of articles:', huffpost.shape[0]) # 101108"
   ]
  },
  {
   "cell_type": "code",
   "execution_count": null,
   "metadata": {
    "colab": {
     "base_uri": "https://localhost:8080/",
     "height": 51
    },
    "colab_type": "code",
    "executionInfo": {
     "elapsed": 5348,
     "status": "ok",
     "timestamp": 1587738550117,
     "user": {
      "displayName": "Lada Rudnitckaia",
      "photoUrl": "",
      "userId": "10725902859466840654"
     },
     "user_tz": -120
    },
    "id": "UFRTIgDVlR6R",
    "outputId": "392b631b-1256-4b6c-bcfd-ab89aca63fb8"
   },
   "outputs": [
    {
     "name": "stdout",
     "output_type": "stream",
     "text": [
      "The number of articles published in or later than 2010: 101101 , 100.0 %\n",
      "The number of articles published earlier than 2010: 1 , 0.0 %\n"
     ]
    }
   ],
   "source": [
    "# Select only articles published in or later than 2010\n",
    "huffpost['year_publish'] = huffpost.apply(lambda row: int(row.date_publish[:4]) if (pd.notnull(row.date_publish)) else row.date_publish, axis=1)\n",
    "\n",
    "print(\"The number of articles published in or later than 2010:\",\n",
    "      len(huffpost[huffpost.year_publish >= 2010]), \",\",\n",
    "      round(len(huffpost[huffpost.year_publish >= 2010])/len(huffpost[pd.notnull(huffpost.year_publish)])*100,2),\n",
    "      \"%\")\n",
    "print(\"The number of articles published earlier than 2010:\",\n",
    "      len(huffpost[huffpost.year_publish < 2010]), \",\",\n",
    "      round(len(huffpost[huffpost.year_publish < 2010])/len(huffpost[pd.notnull(huffpost.year_publish)])*100,2),\n",
    "      \"%\")"
   ]
  },
  {
   "cell_type": "code",
   "execution_count": null,
   "metadata": {
    "colab": {
     "base_uri": "https://localhost:8080/",
     "height": 34
    },
    "colab_type": "code",
    "executionInfo": {
     "elapsed": 5338,
     "status": "ok",
     "timestamp": 1587738550118,
     "user": {
      "displayName": "Lada Rudnitckaia",
      "photoUrl": "",
      "userId": "10725902859466840654"
     },
     "user_tz": -120
    },
    "id": "R6uBKn-RlR6X",
    "outputId": "e50a99ee-0a25-4c57-a2b0-17b045fe28fd"
   },
   "outputs": [
    {
     "name": "stdout",
     "output_type": "stream",
     "text": [
      "The number of articles with missing publish date: 6\n"
     ]
    }
   ],
   "source": [
    "print(\"The number of articles with missing publish date:\", huffpost.date_publish.isnull().sum())"
   ]
  },
  {
   "cell_type": "markdown",
   "metadata": {
    "colab_type": "text",
    "id": "rUscDAE8lR6a"
   },
   "source": [
    "Articles with unknown publish date are kept due to the scarcity of the data. Basing on the rest of the data, I assume that majority of them were published later than 2010."
   ]
  },
  {
   "cell_type": "code",
   "execution_count": null,
   "metadata": {
    "colab": {},
    "colab_type": "code",
    "id": "lHqG0V4klR6b"
   },
   "outputs": [],
   "source": [
    "huffpost = pd.concat([huffpost[huffpost.year_publish >= 2010],\n",
    "                        huffpost[huffpost.year_publish.isnull() == True]])"
   ]
  },
  {
   "cell_type": "code",
   "execution_count": null,
   "metadata": {
    "colab": {
     "base_uri": "https://localhost:8080/",
     "height": 170
    },
    "colab_type": "code",
    "executionInfo": {
     "elapsed": 7769,
     "status": "ok",
     "timestamp": 1587884324026,
     "user": {
      "displayName": "Lada Rudnitckaia",
      "photoUrl": "",
      "userId": "10725902859466840654"
     },
     "user_tz": -120
    },
    "id": "rK2U-_fklR6g",
    "outputId": "0a20ee87-bcec-4963-9cfb-8a423e3f85a4"
   },
   "outputs": [
    {
     "name": "stdout",
     "output_type": "stream",
     "text": [
      "Is there missing values? True\n",
      "Number of missing values:\n",
      " date_publish      6\n",
      "lang              0\n",
      "source_domain     0\n",
      "title             0\n",
      "text             10\n",
      "year_publish      6\n",
      "dtype: int64\n"
     ]
    }
   ],
   "source": [
    "print('Is there missing values?', huffpost.isnull().values.any())\n",
    "print('Number of missing values:\\n', huffpost.isnull().sum())\n",
    "# Delete the rows with missing article text:\n",
    "huffpost = huffpost.dropna(subset=['text'])"
   ]
  },
  {
   "cell_type": "code",
   "execution_count": null,
   "metadata": {
    "colab": {
     "base_uri": "https://localhost:8080/",
     "height": 34
    },
    "colab_type": "code",
    "executionInfo": {
     "elapsed": 1174,
     "status": "ok",
     "timestamp": 1587738582312,
     "user": {
      "displayName": "Lada Rudnitckaia",
      "photoUrl": "",
      "userId": "10725902859466840654"
     },
     "user_tz": -120
    },
    "id": "d6t-EfVQlR6i",
    "outputId": "3a6847b7-982d-41fd-869e-f6a7d4a70625"
   },
   "outputs": [
    {
     "name": "stdout",
     "output_type": "stream",
     "text": [
      "Number of articles after filtering: 101097\n"
     ]
    }
   ],
   "source": [
    "print('Number of articles after filtering:', huffpost.shape[0]) # 101097"
   ]
  },
  {
   "cell_type": "markdown",
   "metadata": {
    "colab_type": "text",
    "id": "zjXkL0rivNXk"
   },
   "source": [
    "### 1.2 Pre-processing"
   ]
  },
  {
   "cell_type": "code",
   "execution_count": null,
   "metadata": {
    "colab": {},
    "colab_type": "code",
    "id": "inmDvWkRyOEs"
   },
   "outputs": [],
   "source": [
    "huffpost['text_preprocessed'] = huffpost[\"title\"].astype(str) + \". \" + huffpost[\"text\"]"
   ]
  },
  {
   "cell_type": "code",
   "execution_count": null,
   "metadata": {
    "colab": {
     "base_uri": "https://localhost:8080/",
     "height": 85
    },
    "colab_type": "code",
    "executionInfo": {
     "elapsed": 1913,
     "status": "ok",
     "timestamp": 1587739410601,
     "user": {
      "displayName": "Lada Rudnitckaia",
      "photoUrl": "",
      "userId": "10725902859466840654"
     },
     "user_tz": -120
    },
    "id": "I9V5mBP_yOE_",
    "outputId": "e7d562ae-1dcc-4533-f0ea-edda46a1c53d"
   },
   "outputs": [
    {
     "name": "stdout",
     "output_type": "stream",
     "text": [
      "The number of articles containing \"http\" in the text 7075\n",
      "The number of articles containing \"www\" in the text 2870\n",
      "The number of articles containing \"pic.\" in the text 9497\n",
      "The number of articles containing \"@\" in the text 18196\n"
     ]
    }
   ],
   "source": [
    "# Remove links and nicknames\n",
    "http_number, www_number, pic_number, at_number = 0, 0, 0, 0\n",
    "for row in huffpost.text_preprocessed:\n",
    "  if \"http\" in row:\n",
    "    http_number += 1\n",
    "  if 'www' in row:\n",
    "    www_number += 1\n",
    "  if 'pic.' in row:\n",
    "    pic_number += 1\n",
    "  if '@' in row:\n",
    "    at_number += 1\n",
    "\n",
    "print('The number of articles containing \"http\" in the text', http_number)\n",
    "print('The number of articles containing \"www\" in the text', www_number)\n",
    "print('The number of articles containing \"pic.\" in the text', pic_number)\n",
    "print('The number of articles containing \"@\" in the text', at_number)"
   ]
  },
  {
   "cell_type": "code",
   "execution_count": null,
   "metadata": {
    "colab": {},
    "colab_type": "code",
    "id": "PyeYgBR7yOFP"
   },
   "outputs": [],
   "source": [
    "huffpost['text_preprocessed'] = huffpost.apply(lambda row: re.sub(r'http\\S+', '', row.text_preprocessed), axis=1) # including https\n",
    "huffpost['text_preprocessed'] = huffpost.apply(lambda row: re.sub(r'www\\.\\S+', '', row.text_preprocessed), axis=1)\n",
    "huffpost['text_preprocessed'] = huffpost.apply(lambda row: re.sub(r'pic\\.\\S+', '', row.text_preprocessed), axis=1)\n",
    "huffpost['text_preprocessed'] = huffpost.apply(lambda row: re.sub(r'@\\S+', '', row.text_preprocessed), axis=1)"
   ]
  },
  {
   "cell_type": "code",
   "execution_count": null,
   "metadata": {
    "colab": {
     "base_uri": "https://localhost:8080/",
     "height": 34
    },
    "colab_type": "code",
    "executionInfo": {
     "elapsed": 68142,
     "status": "ok",
     "timestamp": 1587884408241,
     "user": {
      "displayName": "Lada Rudnitckaia",
      "photoUrl": "",
      "userId": "10725902859466840654"
     },
     "user_tz": -120
    },
    "id": "MUyRmDquyiMl",
    "outputId": "945192e9-8c1e-4fa9-d04e-8160ca633e51"
   },
   "outputs": [
    {
     "name": "stdout",
     "output_type": "stream",
     "text": [
      "huffpost gensim simple_preprocess 66.7 seconds\n"
     ]
    }
   ],
   "source": [
    "start_time = time.time()\n",
    "huffpost['tokens'] = huffpost.apply(lambda row: gensim.utils.simple_preprocess(row.text_preprocessed, \n",
    "                                                                               deacc=False, min_len=1, max_len=28),\n",
    "                                    axis=1)\n",
    "end_time = time.time()\n",
    "print(\"huffpost gensim simple_preprocess\", round((end_time - start_time),2), \"seconds\")"
   ]
  },
  {
   "cell_type": "code",
   "execution_count": null,
   "metadata": {
    "colab": {
     "base_uri": "https://localhost:8080/",
     "height": 51
    },
    "colab_type": "code",
    "executionInfo": {
     "elapsed": 81960,
     "status": "ok",
     "timestamp": 1587842713984,
     "user": {
      "displayName": "Lada Rudnitckaia",
      "photoUrl": "",
      "userId": "10725902859466840654"
     },
     "user_tz": -120
    },
    "id": "V8MXsWcqyiM2",
    "outputId": "da42b630-750d-479b-df8c-abb7a300ff52"
   },
   "outputs": [
    {
     "name": "stdout",
     "output_type": "stream",
     "text": [
      "Total number of words for training: 68172239\n",
      "Average number of words per article: 674.0\n"
     ]
    }
   ],
   "source": [
    "huffpost['words'] = huffpost.apply(lambda row: len(row.tokens), axis=1)\n",
    "\n",
    "print(\"Total number of words for training:\", sum(huffpost['words']))\n",
    "print(\"Average number of words per article:\", round(statistics.mean(huffpost['words']),0))"
   ]
  },
  {
   "cell_type": "markdown",
   "metadata": {
    "colab_type": "text",
    "id": "S1awIfoFvbT6"
   },
   "source": [
    "### 1.3 Word embeddings"
   ]
  },
  {
   "cell_type": "markdown",
   "metadata": {
    "colab_type": "text",
    "id": "Y0y0dcTKzB5a"
   },
   "source": [
    "#### 1.3.1 Bigrams generation"
   ]
  },
  {
   "cell_type": "code",
   "execution_count": null,
   "metadata": {
    "colab": {
     "base_uri": "https://localhost:8080/",
     "height": 357
    },
    "colab_type": "code",
    "executionInfo": {
     "elapsed": 1254,
     "status": "ok",
     "timestamp": 1587889298510,
     "user": {
      "displayName": "Lada Rudnitckaia",
      "photoUrl": "",
      "userId": "10725902859466840654"
     },
     "user_tz": -120
    },
    "id": "jesz_QI5SJDn",
    "outputId": "dc8724c5-cf04-4198-9f96-b969180a8c7e"
   },
   "outputs": [
    {
     "name": "stdout",
     "output_type": "stream",
     "text": [
      "Very frequent:\n",
      "new_york 154.48516218496692\n",
      "climate_change 250.0298531202226\n",
      "left_wing 101.62679355675907\n",
      "civil_rights 374.46785059152614\n",
      "human_rights 163.22080595400888\n",
      "sexual_harassment 532.5095309904502\n",
      "anti_semitic 1353.1335189491524\n",
      "anti_lgbtq 102.27561044843367\n",
      "Medium frequent:\n",
      "self_promotion 36.65566785642789\n",
      "tax_fraud 17.75379120420146\n",
      "bike_share 41.50921181045425\n",
      "illegal_aliens 662.5123260623196\n",
      "pro_choice 116.91339719655505\n",
      "Rare:\n",
      "limited_liability 53.260706472796244\n",
      "audio_recordings 268.56713763834347\n",
      "auto_pilot 91.39903352407279\n",
      "westminster_abbey 6614.475009278733\n"
     ]
    }
   ],
   "source": [
    "# Check the scores of a sample of real bigrams\n",
    "print(\"Very frequent:\")\n",
    "print(\"new_york\", original_scorer(bigram_transformer.vocab[b'new'], bigram_transformer.vocab[b'york'], \n",
    "                    bigram_transformer.vocab[b'new_york'], len(bigram_transformer.vocab), \n",
    "                    bigram_transformer.min_count, bigram_transformer.corpus_word_count))\n",
    "\n",
    "print(\"climate_change\", original_scorer(bigram_transformer.vocab[b'climate'], bigram_transformer.vocab[b'change'], \n",
    "                    bigram_transformer.vocab[b'climate_change'], len(bigram_transformer.vocab), \n",
    "                    bigram_transformer.min_count, bigram_transformer.corpus_word_count))\n",
    "\n",
    "print(\"left_wing\", original_scorer(bigram_transformer.vocab[b'left'], bigram_transformer.vocab[b'wing'], \n",
    "                    bigram_transformer.vocab[b'left_wing'], len(bigram_transformer.vocab), \n",
    "                    bigram_transformer.min_count, bigram_transformer.corpus_word_count))\n",
    "\n",
    "print(\"civil_rights\", original_scorer(bigram_transformer.vocab[b'civil'], bigram_transformer.vocab[b'rights'], \n",
    "                    bigram_transformer.vocab[b'civil_rights'], len(bigram_transformer.vocab), \n",
    "                    bigram_transformer.min_count, bigram_transformer.corpus_word_count))\n",
    "\n",
    "print(\"human_rights\", original_scorer(bigram_transformer.vocab[b'human'], bigram_transformer.vocab[b'rights'], \n",
    "                    bigram_transformer.vocab[b'human_rights'], len(bigram_transformer.vocab), \n",
    "                    bigram_transformer.min_count, bigram_transformer.corpus_word_count))\n",
    "\n",
    "print(\"sexual_harassment\", original_scorer(bigram_transformer.vocab[b'sexual'], bigram_transformer.vocab[b'harassment'], \n",
    "                    bigram_transformer.vocab[b'sexual_harassment'], len(bigram_transformer.vocab), \n",
    "                    bigram_transformer.min_count, bigram_transformer.corpus_word_count))\n",
    "\n",
    "print(\"anti_semitic\", original_scorer(bigram_transformer.vocab[b'anti'], bigram_transformer.vocab[b'semitic'], \n",
    "                    bigram_transformer.vocab[b'anti_semitic'], len(bigram_transformer.vocab), \n",
    "                    bigram_transformer.min_count, bigram_transformer.corpus_word_count))\n",
    "\n",
    "print(\"anti_lgbtq\", original_scorer(bigram_transformer.vocab[b'anti'], bigram_transformer.vocab[b'lgbtq'], \n",
    "                    bigram_transformer.vocab[b'anti_lgbtq'], len(bigram_transformer.vocab), \n",
    "                    bigram_transformer.min_count, bigram_transformer.corpus_word_count))\n",
    "\n",
    "print(\"Medium frequent:\")\n",
    "print(\"self_promotion\", original_scorer(bigram_transformer.vocab[b'self'], bigram_transformer.vocab[b'promotion'], \n",
    "                    bigram_transformer.vocab[b'self_promotion'], len(bigram_transformer.vocab), \n",
    "                    bigram_transformer.min_count, bigram_transformer.corpus_word_count))\n",
    "\n",
    "print(\"tax_fraud\", original_scorer(bigram_transformer.vocab[b'tax'], bigram_transformer.vocab[b'fraud'], \n",
    "                    bigram_transformer.vocab[b'tax_fraud'], len(bigram_transformer.vocab), \n",
    "                    bigram_transformer.min_count, bigram_transformer.corpus_word_count))\n",
    "\n",
    "print(\"bike_share\", original_scorer(bigram_transformer.vocab[b'bike'], bigram_transformer.vocab[b'share'], \n",
    "                    bigram_transformer.vocab[b'bike_share'], len(bigram_transformer.vocab), \n",
    "                    bigram_transformer.min_count, bigram_transformer.corpus_word_count))\n",
    "\n",
    "print(\"illegal_aliens\", original_scorer(bigram_transformer.vocab[b'illegal'], bigram_transformer.vocab[b'aliens'], \n",
    "                    bigram_transformer.vocab[b'illegal_aliens'], len(bigram_transformer.vocab), \n",
    "                    bigram_transformer.min_count, bigram_transformer.corpus_word_count))\n",
    "\n",
    "print(\"pro_choice\", original_scorer(bigram_transformer.vocab[b'pro'], bigram_transformer.vocab[b'choice'], \n",
    "                    bigram_transformer.vocab[b'pro_choice'], len(bigram_transformer.vocab), \n",
    "                    bigram_transformer.min_count, bigram_transformer.corpus_word_count))\n",
    "\n",
    "print(\"Rare:\")\n",
    "print(\"limited_liability\", original_scorer(bigram_transformer.vocab[b'limited'], bigram_transformer.vocab[b'liability'], \n",
    "                    bigram_transformer.vocab[b'limited_liability'], len(bigram_transformer.vocab), \n",
    "                    bigram_transformer.min_count, bigram_transformer.corpus_word_count))\n",
    "\n",
    "print(\"audio_recordings\", original_scorer(bigram_transformer.vocab[b'audio'], bigram_transformer.vocab[b'recordings'], \n",
    "                    bigram_transformer.vocab[b'audio_recordings'], len(bigram_transformer.vocab), \n",
    "                    bigram_transformer.min_count, bigram_transformer.corpus_word_count))\n",
    "\n",
    "print(\"auto_pilot\", original_scorer(bigram_transformer.vocab[b'auto'], bigram_transformer.vocab[b'pilot'], \n",
    "                    bigram_transformer.vocab[b'auto_pilot'], len(bigram_transformer.vocab), \n",
    "                    bigram_transformer.min_count, bigram_transformer.corpus_word_count))\n",
    "\n",
    "print(\"westminster_abbey\", original_scorer(bigram_transformer.vocab[b'westminster'], bigram_transformer.vocab[b'abbey'], \n",
    "                    bigram_transformer.vocab[b'westminster_abbey'], len(bigram_transformer.vocab), \n",
    "                    bigram_transformer.min_count, bigram_transformer.corpus_word_count))"
   ]
  },
  {
   "cell_type": "code",
   "execution_count": null,
   "metadata": {
    "colab": {
     "base_uri": "https://localhost:8080/",
     "height": 289
    },
    "colab_type": "code",
    "executionInfo": {
     "elapsed": 833,
     "status": "ok",
     "timestamp": 1587889229228,
     "user": {
      "displayName": "Lada Rudnitckaia",
      "photoUrl": "",
      "userId": "10725902859466840654"
     },
     "user_tz": -120
    },
    "id": "Hd7YOItmS4SO",
    "outputId": "f8a91544-31c3-452d-efd8-b6c0846807cd"
   },
   "outputs": [
    {
     "name": "stdout",
     "output_type": "stream",
     "text": [
      "Very frequent:\n",
      "told_huffpost 146.77794285285\n",
      "last_week 93.78138720959296\n",
      "make_sure 79.4013327979774\n",
      "reminds_us 75.16414435876845\n",
      "every_day 40.89132798249094\n",
      "Medium frequent:\n",
      "moving_parts 23.061485884263444\n",
      "former_employer 21.37805797530887\n",
      "rising_temperatures 186.08611863155303\n",
      "documents_related 34.38382672744311\n",
      "Rare:\n",
      "incorrect_information 20.219643476422558\n",
      "christmas_presents 25.367923561439092\n",
      "primary_objective 25.254077557914783\n",
      "rental_income 19.52055580758316\n"
     ]
    }
   ],
   "source": [
    "# Check the scores of a sample of wrong bigrams\n",
    "print(\"Very frequent:\")\n",
    "print(\"told_huffpost\", original_scorer(bigram_transformer.vocab[b'told'], bigram_transformer.vocab[b'huffpost'], \n",
    "                    bigram_transformer.vocab[b'told_huffpost'], len(bigram_transformer.vocab), \n",
    "                    bigram_transformer.min_count, bigram_transformer.corpus_word_count))\n",
    "\n",
    "print(\"last_week\", original_scorer(bigram_transformer.vocab[b'last'], bigram_transformer.vocab[b'week'], \n",
    "                    bigram_transformer.vocab[b'last_week'], len(bigram_transformer.vocab), \n",
    "                    bigram_transformer.min_count, bigram_transformer.corpus_word_count))\n",
    "\n",
    "print(\"make_sure\", original_scorer(bigram_transformer.vocab[b'make'], bigram_transformer.vocab[b'sure'], \n",
    "                    bigram_transformer.vocab[b'make_sure'], len(bigram_transformer.vocab), \n",
    "                    bigram_transformer.min_count, bigram_transformer.corpus_word_count))\n",
    "\n",
    "print(\"reminds_us\", original_scorer(bigram_transformer.vocab[b'reminds'], bigram_transformer.vocab[b'us'], \n",
    "                    bigram_transformer.vocab[b'reminds_us'], len(bigram_transformer.vocab), \n",
    "                    bigram_transformer.min_count, bigram_transformer.corpus_word_count))\n",
    "\n",
    "print(\"every_day\", original_scorer(bigram_transformer.vocab[b'every'], bigram_transformer.vocab[b'day'], \n",
    "                    bigram_transformer.vocab[b'every_day'], len(bigram_transformer.vocab), \n",
    "                    bigram_transformer.min_count, bigram_transformer.corpus_word_count))\n",
    "\n",
    "print(\"Medium frequent:\")\n",
    "print(\"moving_parts\", original_scorer(bigram_transformer.vocab[b'moving'], bigram_transformer.vocab[b'parts'], \n",
    "                    bigram_transformer.vocab[b'moving_parts'], len(bigram_transformer.vocab), \n",
    "                    bigram_transformer.min_count, bigram_transformer.corpus_word_count))\n",
    "\n",
    "print(\"former_employer\", original_scorer(bigram_transformer.vocab[b'former'], bigram_transformer.vocab[b'employer'], \n",
    "                    bigram_transformer.vocab[b'former_employer'], len(bigram_transformer.vocab), \n",
    "                    bigram_transformer.min_count, bigram_transformer.corpus_word_count))\n",
    "\n",
    "print(\"rising_temperatures\", original_scorer(bigram_transformer.vocab[b'rising'], bigram_transformer.vocab[b'temperatures'], \n",
    "                    bigram_transformer.vocab[b'rising_temperatures'], len(bigram_transformer.vocab), \n",
    "                    bigram_transformer.min_count, bigram_transformer.corpus_word_count))\n",
    "\n",
    "print(\"documents_related\", original_scorer(bigram_transformer.vocab[b'documents'], bigram_transformer.vocab[b'related'], \n",
    "                    bigram_transformer.vocab[b'documents_related'], len(bigram_transformer.vocab), \n",
    "                    bigram_transformer.min_count, bigram_transformer.corpus_word_count))\n",
    "\n",
    "print(\"Rare:\")\n",
    "print(\"incorrect_information\", original_scorer(bigram_transformer.vocab[b'incorrect'], bigram_transformer.vocab[b'information'], \n",
    "                    bigram_transformer.vocab[b'incorrect_information'], len(bigram_transformer.vocab), \n",
    "                    bigram_transformer.min_count, bigram_transformer.corpus_word_count))\n",
    "\n",
    "print(\"christmas_presents\", original_scorer(bigram_transformer.vocab[b'christmas'], bigram_transformer.vocab[b'presents'], \n",
    "                    bigram_transformer.vocab[b'christmas_presents'], len(bigram_transformer.vocab), \n",
    "                    bigram_transformer.min_count, bigram_transformer.corpus_word_count))\n",
    "\n",
    "print(\"primary_objective\", original_scorer(bigram_transformer.vocab[b'primary'], bigram_transformer.vocab[b'objective'], \n",
    "                    bigram_transformer.vocab[b'primary_objective'], len(bigram_transformer.vocab), \n",
    "                    bigram_transformer.min_count, bigram_transformer.corpus_word_count))\n",
    "\n",
    "print(\"rental_income\", original_scorer(bigram_transformer.vocab[b'rental'], bigram_transformer.vocab[b'income'], \n",
    "                    bigram_transformer.vocab[b'rental_income'], len(bigram_transformer.vocab), \n",
    "                    bigram_transformer.min_count, bigram_transformer.corpus_word_count))"
   ]
  },
  {
   "cell_type": "code",
   "execution_count": null,
   "metadata": {
    "colab": {
     "base_uri": "https://localhost:8080/",
     "height": 34
    },
    "colab_type": "code",
    "executionInfo": {
     "elapsed": 1132,
     "status": "ok",
     "timestamp": 1587890512407,
     "user": {
      "displayName": "Lada Rudnitckaia",
      "photoUrl": "",
      "userId": "10725902859466840654"
     },
     "user_tz": -120
    },
    "id": "KIragNl3zB5e",
    "outputId": "64b590ac-9c77-4b86-fa1f-f2b4332546e3"
   },
   "outputs": [
    {
     "name": "stdout",
     "output_type": "stream",
     "text": [
      "I will use 179 stop words from nltk\n"
     ]
    }
   ],
   "source": [
    "stopwords = stopwords.words(\"english\")\n",
    "print('I will use', len(stopwords), 'stop words from nltk')\n",
    "common_terms = frozenset(stopwords)"
   ]
  },
  {
   "cell_type": "code",
   "execution_count": null,
   "metadata": {
    "colab": {
     "base_uri": "https://localhost:8080/",
     "height": 34
    },
    "colab_type": "code",
    "executionInfo": {
     "elapsed": 83123,
     "status": "ok",
     "timestamp": 1587890624059,
     "user": {
      "displayName": "Lada Rudnitckaia",
      "photoUrl": "",
      "userId": "10725902859466840654"
     },
     "user_tz": -120
    },
    "id": "SG7vlcAPzB5u",
    "outputId": "b7150d50-c05f-4860-fb16-106e0b563b94"
   },
   "outputs": [
    {
     "name": "stdout",
     "output_type": "stream",
     "text": [
      "Bigram transformer (Huffington Post) for 81.32 seconds\n"
     ]
    }
   ],
   "source": [
    "start_time = time.time()\n",
    "# threshold for forming the phrases - higher means fewer phrases\n",
    "# min_count (float, optional) – Ignore all words and bigrams with total collected count lower than this value\n",
    "bigram_transformer = Phrases(huffpost.tokens,\n",
    "                             min_count = 25, \n",
    "                             delimiter = b'_',\n",
    "                             common_terms = common_terms,\n",
    "                             scoring = 'default',\n",
    "                             threshold = 90.0)\n",
    "end_time = time.time()\n",
    "\n",
    "print(\"Bigram transformer (Huffington Post) for\", round((end_time - start_time),2), \"seconds\")"
   ]
  },
  {
   "cell_type": "code",
   "execution_count": null,
   "metadata": {
    "colab": {
     "base_uri": "https://localhost:8080/",
     "height": 34
    },
    "colab_type": "code",
    "executionInfo": {
     "elapsed": 262628,
     "status": "ok",
     "timestamp": 1587890958908,
     "user": {
      "displayName": "Lada Rudnitckaia",
      "photoUrl": "",
      "userId": "10725902859466840654"
     },
     "user_tz": -120
    },
    "id": "IE_hxbrYzB57",
    "outputId": "5f71a608-2bb4-4203-92db-d65f846a99ee"
   },
   "outputs": [
    {
     "name": "stdout",
     "output_type": "stream",
     "text": [
      "Bigram transformer (Huffington Post) for 261.58 seconds\n"
     ]
    }
   ],
   "source": [
    "start_time = time.time()\n",
    "bigram_transformer_second = Phrases(bigram_transformer[huffpost.tokens],\n",
    "                             min_count = 25, \n",
    "                             delimiter = b'_',\n",
    "                             common_terms = common_terms,\n",
    "                             scoring = 'default',\n",
    "                             threshold = 120.0)\n",
    "end_time = time.time()\n",
    "\n",
    "print(\"Bigram transformer (Huffington Post) for\", round((end_time - start_time),2), \"seconds\")"
   ]
  },
  {
   "cell_type": "markdown",
   "metadata": {
    "colab_type": "text",
    "id": "S1Njg435zB6f"
   },
   "source": [
    "#### 1.3.2 Training"
   ]
  },
  {
   "cell_type": "code",
   "execution_count": null,
   "metadata": {
    "colab": {
     "base_uri": "https://localhost:8080/",
     "height": 34
    },
    "colab_type": "code",
    "executionInfo": {
     "elapsed": 3130223,
     "status": "ok",
     "timestamp": 1587894217033,
     "user": {
      "displayName": "Lada Rudnitckaia",
      "photoUrl": "",
      "userId": "10725902859466840654"
     },
     "user_tz": -120
    },
    "id": "halvw11izB6f",
    "outputId": "795ee9f7-9a0e-4cfd-b325-c7ea6e62981b"
   },
   "outputs": [
    {
     "name": "stdout",
     "output_type": "stream",
     "text": [
      "Word2Vec for left news (Huffington Post) for 3128.95 seconds\n"
     ]
    }
   ],
   "source": [
    "start_time = time.time()\n",
    "huff_simp_bi_trigr10 = Word2Vec(bigram_transformer_second[huffpost['tokens']],\n",
    "                      size = 300, window = 8, min_count = 25, workers = 4, sample = 0.00001,\n",
    "                      sg = 1, compute_loss = True, callbacks = (), iter = 10)\n",
    "end_time = time.time()\n",
    "\n",
    "os.chdir(\"/content/gdrive/My Drive/CSS Project/Models\")\n",
    "huff_simp_bi_trigr10.save(\"huff_simp_bi_trigr10.model\")\n",
    "print(\"Word2Vec for left news (Huffington Post) for\", round((end_time - start_time),2), \"seconds\")"
   ]
  },
  {
   "cell_type": "markdown",
   "metadata": {
    "colab_type": "text",
    "id": "v3AU2am1zB6i"
   },
   "source": [
    "#### 1.3.3 Analysis of quality"
   ]
  },
  {
   "cell_type": "code",
   "execution_count": null,
   "metadata": {
    "colab": {},
    "colab_type": "code",
    "id": "0JApzcX-zB6j"
   },
   "outputs": [],
   "source": [
    "os.chdir(\"/content/gdrive/My Drive/CSS Project/Models\")\n",
    "huff_simp_bi_trigr10 = Word2Vec.load(\"huff_simp_bi_trigr10.model\")"
   ]
  },
  {
   "cell_type": "code",
   "execution_count": null,
   "metadata": {
    "colab": {
     "base_uri": "https://localhost:8080/",
     "height": 34
    },
    "colab_type": "code",
    "executionInfo": {
     "elapsed": 3118678,
     "status": "ok",
     "timestamp": 1587894217036,
     "user": {
      "displayName": "Lada Rudnitckaia",
      "photoUrl": "",
      "userId": "10725902859466840654"
     },
     "user_tz": -120
    },
    "id": "vGocW6LJzB6n",
    "outputId": "38a56374-ffdc-4c31-ad73-e91ded6a9504"
   },
   "outputs": [
    {
     "name": "stdout",
     "output_type": "stream",
     "text": [
      "Vocabulary length: 53223 words\n"
     ]
    }
   ],
   "source": [
    "print(\"Vocabulary length:\", len(huff_simp_bi_trigr10.wv.vocab), \"words\")"
   ]
  },
  {
   "cell_type": "code",
   "execution_count": null,
   "metadata": {
    "colab": {
     "base_uri": "https://localhost:8080/",
     "height": 85
    },
    "colab_type": "code",
    "executionInfo": {
     "elapsed": 3021459,
     "status": "ok",
     "timestamp": 1587894223557,
     "user": {
      "displayName": "Lada Rudnitckaia",
      "photoUrl": "",
      "userId": "10725902859466840654"
     },
     "user_tz": -120
    },
    "id": "y3l4QGsZzB61",
    "outputId": "59607395-4839-455b-842c-bc6aed83ec01"
   },
   "outputs": [
    {
     "name": "stdout",
     "output_type": "stream",
     "text": [
      "Test dataset WordSim-353 Pearson: 0.65 , Spearman: 0.68\n",
      "Test dataset SimVerb-3500 Pearson: 0.22 , Spearman: 0.24\n",
      "Test dataset MEN Pearson: 0.71 , Spearman: 0.72\n",
      "Test dataset RW Pearson: 0.47 , Spearman: 0.49\n"
     ]
    }
   ],
   "source": [
    "os.chdir(\"/content/gdrive/My Drive/CSS Project/Evaluation data\")\n",
    "wordsim353 = huff_simp_bi_trigr10.evaluate_word_pairs('wordsim353.tsv')\n",
    "# simverb3500 = huff_simp_bi_trigr10.evaluate_word_pairs('simverb-3500.txt')\n",
    "men = huff_simp_bi_trigr10.evaluate_word_pairs('men.txt')\n",
    "# rw = huff_simp_bi_trigr10.evaluate_word_pairs('rw.txt')\n",
    "\n",
    "print(\"Test dataset WordSim-353 Pearson:\", round(wordsim353[0][0],2), \", Spearman:\", round(wordsim353[1][0],2))\n",
    "# print(\"Test dataset SimVerb-3500 Pearson:\", round(simverb3500[0][0],2), \", Spearman:\", round(simverb3500[1][0],2))\n",
    "print(\"Test dataset MEN Pearson:\", round(men[0][0],2), \", Spearman:\", round(men[1][0],2))\n",
    "# print(\"Test dataset RW Pearson:\", round(rw[0][0],2), \", Spearman:\", round(rw[1][0],2))"
   ]
  },
  {
   "cell_type": "code",
   "execution_count": null,
   "metadata": {
    "colab": {
     "base_uri": "https://localhost:8080/",
     "height": 34
    },
    "colab_type": "code",
    "executionInfo": {
     "elapsed": 3067313,
     "status": "ok",
     "timestamp": 1587894272005,
     "user": {
      "displayName": "Lada Rudnitckaia",
      "photoUrl": "",
      "userId": "10725902859466840654"
     },
     "user_tz": -120
    },
    "id": "-8ErX0ZnzB66",
    "outputId": "6a4b7067-ff7d-4aed-e2a6-cb98e4826384"
   },
   "outputs": [
    {
     "name": "stdout",
     "output_type": "stream",
     "text": [
      "Test dataset Google: 0.5\n"
     ]
    }
   ],
   "source": [
    "analogy_google = huff_simp_bi_trigr10.wv.evaluate_word_analogies('questions-words.txt')\n",
    "#analogy_SemEval = huff_simp_bi_trigr10.wv.evaluate_word_analogies('semeval.txt')\n",
    "\n",
    "print(\"Test dataset Google:\", round(analogy_google[0],2))\n",
    "#print(\"Test dataset SemEval-2012:\", round(analogy_SemEval[0],2))"
   ]
  },
  {
   "cell_type": "markdown",
   "metadata": {
    "colab_type": "text",
    "id": "kH9GU3dbEuxo"
   },
   "source": [
    "## 2 Breitbart"
   ]
  },
  {
   "cell_type": "markdown",
   "metadata": {
    "colab_type": "text",
    "id": "DgNahPspQzVD"
   },
   "source": [
    "### 2.1 Data exploration"
   ]
  },
  {
   "cell_type": "code",
   "execution_count": null,
   "metadata": {
    "colab": {
     "base_uri": "https://localhost:8080/",
     "height": 289
    },
    "colab_type": "code",
    "executionInfo": {
     "elapsed": 26724,
     "status": "ok",
     "timestamp": 1587847711964,
     "user": {
      "displayName": "Lada Rudnitckaia",
      "photoUrl": "",
      "userId": "10725902859466840654"
     },
     "user_tz": -120
    },
    "id": "nEOrjupvF5e3",
    "outputId": "a48fe87e-6afd-400a-a0a8-3a2e6e2d46b8"
   },
   "outputs": [
    {
     "data": {
      "text/html": [
       "<div>\n",
       "<style scoped>\n",
       "    .dataframe tbody tr th:only-of-type {\n",
       "        vertical-align: middle;\n",
       "    }\n",
       "\n",
       "    .dataframe tbody tr th {\n",
       "        vertical-align: top;\n",
       "    }\n",
       "\n",
       "    .dataframe thead th {\n",
       "        text-align: right;\n",
       "    }\n",
       "</style>\n",
       "<table border=\"1\" class=\"dataframe\">\n",
       "  <thead>\n",
       "    <tr style=\"text-align: right;\">\n",
       "      <th></th>\n",
       "      <th>date_publish</th>\n",
       "      <th>lang</th>\n",
       "      <th>source_domain</th>\n",
       "      <th>title</th>\n",
       "      <th>text</th>\n",
       "    </tr>\n",
       "  </thead>\n",
       "  <tbody>\n",
       "    <tr>\n",
       "      <th>0</th>\n",
       "      <td>2019-07-30 11:42:14</td>\n",
       "      <td>en</td>\n",
       "      <td>www.breitbart.com</td>\n",
       "      <td>Boko Haram Kills Up to 70 Mourners at Funeral ...</td>\n",
       "      <td>The death toll from a suspected Boko Haram att...</td>\n",
       "    </tr>\n",
       "    <tr>\n",
       "      <th>1</th>\n",
       "      <td>2019-09-08 14:31:38</td>\n",
       "      <td>en</td>\n",
       "      <td>www.breitbart.com</td>\n",
       "      <td>I'll Help Johnson Get 100-Seat Majority in Ele...</td>\n",
       "      <td>Brexit Party leader Nigel Farage has said that...</td>\n",
       "    </tr>\n",
       "    <tr>\n",
       "      <th>2</th>\n",
       "      <td>2017-01-12 04:47:38</td>\n",
       "      <td>en</td>\n",
       "      <td>www.breitbart.com</td>\n",
       "      <td>ESPN: Chargers plan to announce move to LA</td>\n",
       "      <td>SIGN UP FOR OUR NEWSLETTER NEW YORK (AP) — The...</td>\n",
       "    </tr>\n",
       "    <tr>\n",
       "      <th>3</th>\n",
       "      <td>2019-07-18 10:54:40</td>\n",
       "      <td>en</td>\n",
       "      <td>www.breitbart.com</td>\n",
       "      <td>Iran Claims Revolutionary Guard Seize Foreign ...</td>\n",
       "      <td>Iran’s state TV claims marine elements of the ...</td>\n",
       "    </tr>\n",
       "    <tr>\n",
       "      <th>4</th>\n",
       "      <td>2019-07-03 21:35:37</td>\n",
       "      <td>en</td>\n",
       "      <td>www.breitbart.com</td>\n",
       "      <td>MTV to Air Raunchy Nicki Minaj Concert in Saud...</td>\n",
       "      <td>DUBAI, United Arab Emirates (AP) — Saudi Arabi...</td>\n",
       "    </tr>\n",
       "  </tbody>\n",
       "</table>\n",
       "</div>"
      ],
      "text/plain": [
       "          date_publish  ...                                               text\n",
       "0  2019-07-30 11:42:14  ...  The death toll from a suspected Boko Haram att...\n",
       "1  2019-09-08 14:31:38  ...  Brexit Party leader Nigel Farage has said that...\n",
       "2  2017-01-12 04:47:38  ...  SIGN UP FOR OUR NEWSLETTER NEW YORK (AP) — The...\n",
       "3  2019-07-18 10:54:40  ...  Iran’s state TV claims marine elements of the ...\n",
       "4  2019-07-03 21:35:37  ...  DUBAI, United Arab Emirates (AP) — Saudi Arabi...\n",
       "\n",
       "[5 rows x 5 columns]"
      ]
     },
     "execution_count": 3,
     "metadata": {
      "tags": []
     },
     "output_type": "execute_result"
    }
   ],
   "source": [
    "os.chdir(\"/content/gdrive/My Drive/CSS Project/Data\")\n",
    "right_news = pd.read_csv(\"right_news_dates.csv\")\n",
    "breitbart = right_news[right_news.source_domain == \"www.breitbart.com\"]\n",
    "del(right_news)\n",
    "breitbart.head()"
   ]
  },
  {
   "cell_type": "code",
   "execution_count": null,
   "metadata": {
    "colab": {
     "base_uri": "https://localhost:8080/",
     "height": 34
    },
    "colab_type": "code",
    "executionInfo": {
     "elapsed": 18863,
     "status": "ok",
     "timestamp": 1587847711966,
     "user": {
      "displayName": "Lada Rudnitckaia",
      "photoUrl": "",
      "userId": "10725902859466840654"
     },
     "user_tz": -120
    },
    "id": "apm8Liw0Q9nh",
    "outputId": "5ab1805c-5791-4ad4-9ae3-f1a45fe576c4"
   },
   "outputs": [
    {
     "name": "stdout",
     "output_type": "stream",
     "text": [
      "Number of articles: 81018\n"
     ]
    }
   ],
   "source": [
    "print(\"Number of articles:\", len(breitbart)) # 81018"
   ]
  },
  {
   "cell_type": "code",
   "execution_count": null,
   "metadata": {
    "colab": {
     "base_uri": "https://localhost:8080/",
     "height": 51
    },
    "colab_type": "code",
    "executionInfo": {
     "elapsed": 876,
     "status": "ok",
     "timestamp": 1587847796181,
     "user": {
      "displayName": "Lada Rudnitckaia",
      "photoUrl": "",
      "userId": "10725902859466840654"
     },
     "user_tz": -120
    },
    "id": "H3QzTONDGVGg",
    "outputId": "79ff0380-715f-4ab3-c5b6-eab1f5f9b55d"
   },
   "outputs": [
    {
     "name": "stdout",
     "output_type": "stream",
     "text": [
      "The number of articles published in or later than 2010: 81016 , 100.0 %\n",
      "The number of articles published earlier than 2010: 0 , 0.0 %\n"
     ]
    }
   ],
   "source": [
    "# Select only articles published in or later than 2010\n",
    "breitbart['year_publish'] = breitbart.apply(lambda row: int(row.date_publish[:4]) if (pd.notnull(row.date_publish)) else row.date_publish, axis=1)\n",
    "\n",
    "print(\"The number of articles published in or later than 2010:\",\n",
    "      len(breitbart[breitbart.year_publish >= 2010]), \",\",\n",
    "      round(len(breitbart[breitbart.year_publish >= 2010])/len(breitbart[pd.notnull(breitbart.year_publish)])*100,2),\n",
    "      \"%\")\n",
    "print(\"The number of articles published earlier than 2010:\",\n",
    "      len(breitbart[breitbart.year_publish < 2010]), \",\",\n",
    "      round(len(breitbart[breitbart.year_publish < 2010])/len(breitbart[pd.notnull(breitbart.year_publish)])*100,2),\n",
    "      \"%\")"
   ]
  },
  {
   "cell_type": "code",
   "execution_count": null,
   "metadata": {
    "colab": {
     "base_uri": "https://localhost:8080/",
     "height": 34
    },
    "colab_type": "code",
    "executionInfo": {
     "elapsed": 846,
     "status": "ok",
     "timestamp": 1587847806728,
     "user": {
      "displayName": "Lada Rudnitckaia",
      "photoUrl": "",
      "userId": "10725902859466840654"
     },
     "user_tz": -120
    },
    "id": "YEBRHPaCGVGr",
    "outputId": "ef54e627-5e3f-4960-fce2-29757f86967f"
   },
   "outputs": [
    {
     "name": "stdout",
     "output_type": "stream",
     "text": [
      "The number of articles with missing publish date: 2\n"
     ]
    }
   ],
   "source": [
    "print(\"The number of articles with missing publish date:\", breitbart.date_publish.isnull().sum())"
   ]
  },
  {
   "cell_type": "markdown",
   "metadata": {
    "colab_type": "text",
    "id": "YaZlRrojGVG3"
   },
   "source": [
    "Articles with unknown publish date are kept due to the scarcity of the data. Basing on the rest of the data, I assume that majority of them were published later than 2010."
   ]
  },
  {
   "cell_type": "code",
   "execution_count": null,
   "metadata": {
    "colab": {
     "base_uri": "https://localhost:8080/",
     "height": 170
    },
    "colab_type": "code",
    "executionInfo": {
     "elapsed": 798,
     "status": "ok",
     "timestamp": 1587847827207,
     "user": {
      "displayName": "Lada Rudnitckaia",
      "photoUrl": "",
      "userId": "10725902859466840654"
     },
     "user_tz": -120
    },
    "id": "O_w_dgNNGVG-",
    "outputId": "9cbcfc30-d838-4f9f-fe8b-61c62c0443f4"
   },
   "outputs": [
    {
     "name": "stdout",
     "output_type": "stream",
     "text": [
      "Is there missing values? True\n",
      "Number of missing values:\n",
      " date_publish      2\n",
      "lang              0\n",
      "source_domain     0\n",
      "title             0\n",
      "text             34\n",
      "year_publish      2\n",
      "dtype: int64\n"
     ]
    }
   ],
   "source": [
    "print('Is there missing values?', breitbart.isnull().values.any())\n",
    "print('Number of missing values:\\n', breitbart.isnull().sum())\n",
    "# Delete the rows with missing article text:\n",
    "breitbart = breitbart.dropna(subset=['text'])"
   ]
  },
  {
   "cell_type": "code",
   "execution_count": null,
   "metadata": {
    "colab": {
     "base_uri": "https://localhost:8080/",
     "height": 34
    },
    "colab_type": "code",
    "executionInfo": {
     "elapsed": 743,
     "status": "ok",
     "timestamp": 1587847835606,
     "user": {
      "displayName": "Lada Rudnitckaia",
      "photoUrl": "",
      "userId": "10725902859466840654"
     },
     "user_tz": -120
    },
    "id": "vqmUQ0dqGVHF",
    "outputId": "d12d28e0-2b6b-40e3-e40c-e7cac43eae07"
   },
   "outputs": [
    {
     "name": "stdout",
     "output_type": "stream",
     "text": [
      "Number of articles after filtering: 80984\n"
     ]
    }
   ],
   "source": [
    "print('Number of articles after filtering:', breitbart.shape[0]) # 80984"
   ]
  },
  {
   "cell_type": "markdown",
   "metadata": {
    "colab_type": "text",
    "id": "wHKs0rK2HCvJ"
   },
   "source": [
    "### 2.2 Pre-processing"
   ]
  },
  {
   "cell_type": "code",
   "execution_count": null,
   "metadata": {
    "colab": {},
    "colab_type": "code",
    "id": "V3EoFwbTHCvZ"
   },
   "outputs": [],
   "source": [
    "breitbart['text_preprocessed'] = breitbart[\"title\"].astype(str) + \". \" + breitbart[\"text\"]"
   ]
  },
  {
   "cell_type": "code",
   "execution_count": null,
   "metadata": {
    "colab": {
     "base_uri": "https://localhost:8080/",
     "height": 85
    },
    "colab_type": "code",
    "executionInfo": {
     "elapsed": 1286,
     "status": "ok",
     "timestamp": 1587848105844,
     "user": {
      "displayName": "Lada Rudnitckaia",
      "photoUrl": "",
      "userId": "10725902859466840654"
     },
     "user_tz": -120
    },
    "id": "2u5H28_GHCvq",
    "outputId": "691d2649-ac16-46f4-95b7-458b4153dcc0"
   },
   "outputs": [
    {
     "name": "stdout",
     "output_type": "stream",
     "text": [
      "The number of articles containing \"http\" in the text 11063\n",
      "The number of articles containing \"www\" in the text 333\n",
      "The number of articles containing \"pic.\" in the text 10125\n",
      "The number of articles containing \"@\" in the text 46296\n"
     ]
    }
   ],
   "source": [
    "# Remove links and nicknames\n",
    "http_number, www_number, pic_number, at_number = 0, 0, 0, 0\n",
    "for row in breitbart.text_preprocessed:\n",
    "  if \"http\" in row:\n",
    "    http_number += 1\n",
    "  if 'www' in row:\n",
    "    www_number += 1\n",
    "  if 'pic.' in row:\n",
    "    pic_number += 1\n",
    "  if '@' in row:\n",
    "    at_number += 1\n",
    "\n",
    "print('The number of articles containing \"http\" in the text', http_number)\n",
    "print('The number of articles containing \"www\" in the text', www_number)\n",
    "print('The number of articles containing \"pic.\" in the text', pic_number)\n",
    "print('The number of articles containing \"@\" in the text', at_number)"
   ]
  },
  {
   "cell_type": "code",
   "execution_count": null,
   "metadata": {
    "colab": {},
    "colab_type": "code",
    "id": "LfT1UHq5HCv3"
   },
   "outputs": [],
   "source": [
    "breitbart['text_preprocessed'] = breitbart.apply(lambda row: re.sub(r'http\\S+', '', row.text_preprocessed), axis=1) # including https\n",
    "breitbart['text_preprocessed'] = breitbart.apply(lambda row: re.sub(r'www\\.\\S+', '', row.text_preprocessed), axis=1)\n",
    "breitbart['text_preprocessed'] = breitbart.apply(lambda row: re.sub(r'pic\\.\\S+', '', row.text_preprocessed), axis=1)\n",
    "breitbart['text_preprocessed'] = breitbart.apply(lambda row: re.sub(r'@\\S+', '', row.text_preprocessed), axis=1)"
   ]
  },
  {
   "cell_type": "code",
   "execution_count": null,
   "metadata": {
    "colab": {
     "base_uri": "https://localhost:8080/",
     "height": 34
    },
    "colab_type": "code",
    "executionInfo": {
     "elapsed": 49373,
     "status": "ok",
     "timestamp": 1587848182809,
     "user": {
      "displayName": "Lada Rudnitckaia",
      "photoUrl": "",
      "userId": "10725902859466840654"
     },
     "user_tz": -120
    },
    "id": "o4noEB7oHCwB",
    "outputId": "a51723fe-438a-4119-c4bc-c2358de3a85d"
   },
   "outputs": [
    {
     "name": "stdout",
     "output_type": "stream",
     "text": [
      "breitbart gensim simple_preprocess 48.32 seconds\n"
     ]
    }
   ],
   "source": [
    "start_time = time.time()\n",
    "breitbart['tokens'] = breitbart.apply(lambda row: gensim.utils.simple_preprocess(row.text_preprocessed, \n",
    "                                                                               deacc=False, min_len=1, max_len=28),\n",
    "                                    axis=1)\n",
    "end_time = time.time()\n",
    "print(\"breitbart gensim simple_preprocess\", round((end_time - start_time),2), \"seconds\")"
   ]
  },
  {
   "cell_type": "code",
   "execution_count": null,
   "metadata": {
    "colab": {
     "base_uri": "https://localhost:8080/",
     "height": 51
    },
    "colab_type": "code",
    "executionInfo": {
     "elapsed": 28435,
     "status": "ok",
     "timestamp": 1587848184923,
     "user": {
      "displayName": "Lada Rudnitckaia",
      "photoUrl": "",
      "userId": "10725902859466840654"
     },
     "user_tz": -120
    },
    "id": "TAFwS65XHCwG",
    "outputId": "1b21b443-17f9-4de0-c68c-9afe2c6e715c"
   },
   "outputs": [
    {
     "name": "stdout",
     "output_type": "stream",
     "text": [
      "Total number of words for training: 39348959\n",
      "Average number of words per article: 486.0\n"
     ]
    }
   ],
   "source": [
    "breitbart['words'] = breitbart.apply(lambda row: len(row.tokens), axis=1)\n",
    "\n",
    "print(\"Total number of words for training:\", sum(breitbart['words']))\n",
    "print(\"Average number of words per article:\", round(statistics.mean(breitbart['words']),0))"
   ]
  },
  {
   "cell_type": "markdown",
   "metadata": {
    "colab_type": "text",
    "id": "TECNX8QqHCwM"
   },
   "source": [
    "### 2.3 Word embeddings"
   ]
  },
  {
   "cell_type": "markdown",
   "metadata": {
    "colab_type": "text",
    "id": "mKH5rqUlHCwM"
   },
   "source": [
    "#### 2.3.1 Bigrams generation"
   ]
  },
  {
   "cell_type": "code",
   "execution_count": null,
   "metadata": {
    "colab": {},
    "colab_type": "code",
    "id": "aEtQN9McHCwN"
   },
   "outputs": [],
   "source": [
    "stopwords = stopwords.words(\"english\")\n",
    "print('I will use', len(stopwords), 'stop words from nltk')\n",
    "common_terms = frozenset(stopwords)\n",
    "stopwords"
   ]
  },
  {
   "cell_type": "code",
   "execution_count": null,
   "metadata": {
    "colab": {
     "base_uri": "https://localhost:8080/",
     "height": 34
    },
    "colab_type": "code",
    "executionInfo": {
     "elapsed": 58008,
     "status": "ok",
     "timestamp": 1587848387657,
     "user": {
      "displayName": "Lada Rudnitckaia",
      "photoUrl": "",
      "userId": "10725902859466840654"
     },
     "user_tz": -120
    },
    "id": "d0SndPhnHCwR",
    "outputId": "e19f6400-23dc-4d14-f22b-435f850accca"
   },
   "outputs": [
    {
     "name": "stdout",
     "output_type": "stream",
     "text": [
      "Bigram transformer (Huffington Post) for 57.06 seconds\n"
     ]
    }
   ],
   "source": [
    "start_time = time.time()\n",
    "# threshold for forming the phrases - higher means fewer phrases\n",
    "# min_count (float, optional) – Ignore all words and bigrams with total collected count lower than this value\n",
    "bigram_transformer = Phrases(breitbart.tokens,\n",
    "                             min_count = 25, \n",
    "                             delimiter = b'_',\n",
    "                             common_terms = common_terms,\n",
    "                             scoring = 'default',\n",
    "                             threshold = 10.0)\n",
    "end_time = time.time()\n",
    "\n",
    "print(\"Bigram transformer (Huffington Post) for\", round((end_time - start_time),2), \"seconds\")"
   ]
  },
  {
   "cell_type": "code",
   "execution_count": null,
   "metadata": {
    "colab": {
     "base_uri": "https://localhost:8080/",
     "height": 34
    },
    "colab_type": "code",
    "executionInfo": {
     "elapsed": 226930,
     "status": "ok",
     "timestamp": 1587848561916,
     "user": {
      "displayName": "Lada Rudnitckaia",
      "photoUrl": "",
      "userId": "10725902859466840654"
     },
     "user_tz": -120
    },
    "id": "3lb7yhXOHCwU",
    "outputId": "f4e0d985-61ae-4049-e2d0-325f585ff665"
   },
   "outputs": [
    {
     "name": "stdout",
     "output_type": "stream",
     "text": [
      "Bigram transformer (Huffington Post) for 173.76 seconds\n"
     ]
    }
   ],
   "source": [
    "start_time = time.time()\n",
    "bigram_transformer_second = Phrases(bigram_transformer[breitbart.tokens],\n",
    "                             min_count = 25, \n",
    "                             delimiter = b'_',\n",
    "                             common_terms = common_terms,\n",
    "                             scoring = 'default',\n",
    "                             threshold = 30.0)\n",
    "end_time = time.time()\n",
    "\n",
    "print(\"Bigram transformer (Huffington Post) for\", round((end_time - start_time),2), \"seconds\")"
   ]
  },
  {
   "cell_type": "markdown",
   "metadata": {
    "colab_type": "text",
    "id": "e-VEoO5wHCwh"
   },
   "source": [
    "#### 2.3.2 Training"
   ]
  },
  {
   "cell_type": "code",
   "execution_count": null,
   "metadata": {
    "colab": {
     "base_uri": "https://localhost:8080/",
     "height": 34
    },
    "colab_type": "code",
    "executionInfo": {
     "elapsed": 2045352,
     "status": "ok",
     "timestamp": 1587850746451,
     "user": {
      "displayName": "Lada Rudnitckaia",
      "photoUrl": "",
      "userId": "10725902859466840654"
     },
     "user_tz": -120
    },
    "id": "GDuDNktyHCwi",
    "outputId": "62329a4e-ba03-458b-e7d2-afe3b04caa9d"
   },
   "outputs": [
    {
     "name": "stdout",
     "output_type": "stream",
     "text": [
      "Word2Vec for breitbart for 2044.3 seconds\n"
     ]
    }
   ],
   "source": [
    "start_time = time.time()\n",
    "breitbart10 = Word2Vec(bigram_transformer_second[breitbart['tokens']],\n",
    "                      size = 300, window = 8, min_count = 25, workers = 4, sample = 0.00001,\n",
    "                      sg = 1, compute_loss = True, callbacks = (), iter = 10)\n",
    "end_time = time.time()\n",
    "\n",
    "os.chdir(\"/content/gdrive/My Drive/CSS Project/Models\")\n",
    "breitbart10.save(\"breitbart10.model\")\n",
    "print(\"Word2Vec for breitbart for\", round((end_time - start_time),2), \"seconds\")"
   ]
  },
  {
   "cell_type": "markdown",
   "metadata": {
    "colab_type": "text",
    "id": "vMN92Js1HCwl"
   },
   "source": [
    "#### 2.3.3 Analysis of quality"
   ]
  },
  {
   "cell_type": "code",
   "execution_count": null,
   "metadata": {
    "colab": {},
    "colab_type": "code",
    "id": "R71YW3x9HCwl"
   },
   "outputs": [],
   "source": [
    "os.chdir(\"/content/gdrive/My Drive/CSS Project/Models\")\n",
    "breitbart10 = Word2Vec.load(\"breitbart10.model\")"
   ]
  },
  {
   "cell_type": "code",
   "execution_count": null,
   "metadata": {
    "colab": {
     "base_uri": "https://localhost:8080/",
     "height": 34
    },
    "colab_type": "code",
    "executionInfo": {
     "elapsed": 821,
     "status": "ok",
     "timestamp": 1587850786624,
     "user": {
      "displayName": "Lada Rudnitckaia",
      "photoUrl": "",
      "userId": "10725902859466840654"
     },
     "user_tz": -120
    },
    "id": "od78iqZOHCwp",
    "outputId": "090c7c25-ee6c-4a05-f4a0-d8d4ad844ff0"
   },
   "outputs": [
    {
     "name": "stdout",
     "output_type": "stream",
     "text": [
      "Vocabulary length: 44783 words\n"
     ]
    }
   ],
   "source": [
    "print(\"Vocabulary length:\", len(breitbart10.wv.vocab), \"words\")"
   ]
  },
  {
   "cell_type": "code",
   "execution_count": null,
   "metadata": {
    "colab": {
     "base_uri": "https://localhost:8080/",
     "height": 85
    },
    "colab_type": "code",
    "executionInfo": {
     "elapsed": 3620,
     "status": "ok",
     "timestamp": 1587850803088,
     "user": {
      "displayName": "Lada Rudnitckaia",
      "photoUrl": "",
      "userId": "10725902859466840654"
     },
     "user_tz": -120
    },
    "id": "XgQwaooEHCw2",
    "outputId": "81f4315d-d92b-4ad0-dd3c-2cf33e6c5882"
   },
   "outputs": [
    {
     "name": "stdout",
     "output_type": "stream",
     "text": [
      "Test dataset WordSim-353 Pearson: 0.58 , Spearman: 0.59\n",
      "Test dataset SimVerb-3500 Pearson: 0.16 , Spearman: 0.19\n",
      "Test dataset MEN Pearson: 0.59 , Spearman: 0.59\n",
      "Test dataset RW Pearson: 0.44 , Spearman: 0.49\n"
     ]
    }
   ],
   "source": [
    "os.chdir(\"/content/gdrive/My Drive/CSS Project/Evaluation data\")\n",
    "wordsim353 = breitbart10.evaluate_word_pairs('wordsim353.tsv')\n",
    "simverb3500 = breitbart10.evaluate_word_pairs('simverb-3500.txt')\n",
    "men = breitbart10.evaluate_word_pairs('men.txt')\n",
    "rw = breitbart10.evaluate_word_pairs('rw.txt')\n",
    "\n",
    "print(\"Test dataset WordSim-353 Pearson:\", round(wordsim353[0][0],2), \", Spearman:\", round(wordsim353[1][0],2))\n",
    "print(\"Test dataset SimVerb-3500 Pearson:\", round(simverb3500[0][0],2), \", Spearman:\", round(simverb3500[1][0],2))\n",
    "print(\"Test dataset MEN Pearson:\", round(men[0][0],2), \", Spearman:\", round(men[1][0],2))\n",
    "print(\"Test dataset RW Pearson:\", round(rw[0][0],2), \", Spearman:\", round(rw[1][0],2))"
   ]
  },
  {
   "cell_type": "code",
   "execution_count": null,
   "metadata": {
    "colab": {
     "base_uri": "https://localhost:8080/",
     "height": 51
    },
    "colab_type": "code",
    "executionInfo": {
     "elapsed": 63967,
     "status": "ok",
     "timestamp": 1587850880284,
     "user": {
      "displayName": "Lada Rudnitckaia",
      "photoUrl": "",
      "userId": "10725902859466840654"
     },
     "user_tz": -120
    },
    "id": "EKfGBKXSHCw8",
    "outputId": "be1892ee-7696-4f73-dc45-20920877f675"
   },
   "outputs": [
    {
     "name": "stdout",
     "output_type": "stream",
     "text": [
      "Test dataset Google: 0.37\n",
      "Test dataset SemEval-2012: 0.02\n"
     ]
    }
   ],
   "source": [
    "analogy_google = breitbart10.wv.evaluate_word_analogies('questions-words.txt')\n",
    "analogy_SemEval = breitbart10.wv.evaluate_word_analogies('semeval.txt')\n",
    "\n",
    "print(\"Test dataset Google:\", round(analogy_google[0],2))\n",
    "print(\"Test dataset SemEval-2012:\", round(analogy_SemEval[0],2))"
   ]
  },
  {
   "cell_type": "code",
   "execution_count": null,
   "metadata": {
    "colab": {
     "base_uri": "https://localhost:8080/",
     "height": 1000
    },
    "colab_type": "code",
    "executionInfo": {
     "elapsed": 147116,
     "status": "ok",
     "timestamp": 1587850967830,
     "user": {
      "displayName": "Lada Rudnitckaia",
      "photoUrl": "",
      "userId": "10725902859466840654"
     },
     "user_tz": -120
    },
    "id": "egQ2DsDIHCxA",
    "outputId": "fa6261c9-5737-4bcb-d557-2d13267fa86a"
   },
   "outputs": [
    {
     "data": {
      "text/plain": [
       "[('athens', 'greece', 'baghdad', 'krg'),\n",
       " ('athens', 'greece', 'hanoi', 'hanoi_vietnam'),\n",
       " ('athens', 'greece', 'kabul', 'afghan_government'),\n",
       " ('athens', 'greece', 'london', 'uk'),\n",
       " ('baghdad', 'iraq', 'kabul', 'taliban'),\n",
       " ('baghdad', 'iraq', 'london', 'mayor_sadiq'),\n",
       " ('beijing', 'china', 'hanoi', 'hanoi_vietnam'),\n",
       " ('beijing', 'china', 'helsinki', 'putin_in_helsinki'),\n",
       " ('beijing', 'china', 'kabul', 'taliban'),\n",
       " ('beijing', 'china', 'london', 'mayor_sadiq'),\n",
       " ('berlin', 'germany', 'hanoi', 'south_korea'),\n",
       " ('berlin', 'germany', 'kabul', 'afghan_government'),\n",
       " ('berlin', 'germany', 'london', 'uk'),\n",
       " ('cairo', 'egypt', 'hanoi', 'north_korea'),\n",
       " ('cairo', 'egypt', 'helsinki', 'putin_in_helsinki'),\n",
       " ('cairo', 'egypt', 'kabul', 'afghan_government'),\n",
       " ('cairo', 'egypt', 'london', 'mayor_sadiq'),\n",
       " ('canberra', 'australia', 'kabul', 'afghan_government'),\n",
       " ('canberra', 'australia', 'london', 'uk'),\n",
       " ('hanoi', 'vietnam', 'kabul', 'afghan_government'),\n",
       " ('hanoi', 'vietnam', 'london', 'mayor_sadiq'),\n",
       " ('hanoi', 'vietnam', 'ottawa', 'laos'),\n",
       " ('hanoi', 'vietnam', 'athens', 'greek'),\n",
       " ('hanoi', 'vietnam', 'berlin', 'german_capital'),\n",
       " ('havana', 'cuba', 'helsinki', 'putin_in_helsinki'),\n",
       " ('havana', 'cuba', 'kabul', 'taliban'),\n",
       " ('havana', 'cuba', 'london', 'mayor_sadiq'),\n",
       " ('havana', 'cuba', 'berlin', 'german_capital'),\n",
       " ('havana', 'cuba', 'hanoi', 'hanoi_vietnam'),\n",
       " ('helsinki', 'finland', 'kabul', 'taliban'),\n",
       " ('helsinki', 'finland', 'london', 'labour_mayor'),\n",
       " ('helsinki', 'finland', 'moscow', 'russian'),\n",
       " ('helsinki', 'finland', 'ottawa', 'british_columbia'),\n",
       " ('helsinki', 'finland', 'tehran', 'islamic_republic'),\n",
       " ('helsinki', 'finland', 'baghdad', 'iraqi'),\n",
       " ('islamabad', 'pakistan', 'kabul', 'taliban'),\n",
       " ('islamabad', 'pakistan', 'london', 'mayor_sadiq'),\n",
       " ('islamabad', 'pakistan', 'ottawa', 'canadian'),\n",
       " ('islamabad', 'pakistan', 'stockholm', 'swedish'),\n",
       " ('islamabad', 'pakistan', 'berlin', 'german_capital'),\n",
       " ('islamabad', 'pakistan', 'hanoi', 'north_korean'),\n",
       " ('islamabad', 'pakistan', 'helsinki', 'putin_in_helsinki'),\n",
       " ('kabul', 'afghanistan', 'london', 'mayor_sadiq'),\n",
       " ('kabul', 'afghanistan', 'madrid', 'catalonia'),\n",
       " ('kabul', 'afghanistan', 'ottawa', 'canadian'),\n",
       " ('kabul', 'afghanistan', 'stockholm', 'swedish'),\n",
       " ('kabul', 'afghanistan', 'berlin', 'german_capital'),\n",
       " ('kabul', 'afghanistan', 'helsinki', 'putin_in_helsinki'),\n",
       " ('london', 'england', 'moscow', 'russian'),\n",
       " ('london', 'england', 'ottawa', 'canadian'),\n",
       " ('london', 'england', 'rome', 'apostolic'),\n",
       " ('london', 'england', 'tehran', 'iranian'),\n",
       " ('london', 'england', 'athens', 'greek'),\n",
       " ('london', 'england', 'baghdad', 'iraqi_government'),\n",
       " ('london', 'england', 'hanoi', 'hanoi_vietnam'),\n",
       " ('london', 'england', 'kabul', 'political_reconciliation'),\n",
       " ('madrid', 'spain', 'baghdad', 'krg'),\n",
       " ('madrid', 'spain', 'cairo', 'egyptian'),\n",
       " ('madrid', 'spain', 'hanoi', 'hanoi_vietnam'),\n",
       " ('madrid', 'spain', 'kabul', 'taliban'),\n",
       " ('madrid', 'spain', 'london', 'uk'),\n",
       " ('moscow', 'russia', 'ottawa', 'canadian'),\n",
       " ('moscow', 'russia', 'paris', 'french'),\n",
       " ('moscow', 'russia', 'hanoi', 'north_korea'),\n",
       " ('moscow', 'russia', 'helsinki', 'putin_in_helsinki'),\n",
       " ('moscow', 'russia', 'kabul', 'taliban'),\n",
       " ('moscow', 'russia', 'london', 'mayor_sadiq'),\n",
       " ('oslo', 'norway', 'stockholm', 'swedish'),\n",
       " ('oslo', 'norway', 'hanoi', 'south_korea'),\n",
       " ('oslo', 'norway', 'kabul', 'afghan_government'),\n",
       " ('oslo', 'norway', 'london', 'uk'),\n",
       " ('ottawa', 'canada', 'baghdad', 'pmu'),\n",
       " ('ottawa', 'canada', 'hanoi', 'south_korea'),\n",
       " ('ottawa', 'canada', 'helsinki', 'putin_in_helsinki'),\n",
       " ('ottawa', 'canada', 'kabul', 'afghan_government'),\n",
       " ('ottawa', 'canada', 'london', 'uk'),\n",
       " ('paris', 'france', 'baghdad', 'krg'),\n",
       " ('paris', 'france', 'hanoi', 'north_korean'),\n",
       " ('paris', 'france', 'kabul', 'taliban'),\n",
       " ('paris', 'france', 'london', 'britain'),\n",
       " ('rome', 'italy', 'baghdad', 'pmf'),\n",
       " ('rome', 'italy', 'cairo', 'egyptian'),\n",
       " ('rome', 'italy', 'hanoi', 'south_korea'),\n",
       " ('rome', 'italy', 'kabul', 'afghan_government'),\n",
       " ('rome', 'italy', 'london', 'uk'),\n",
       " ('rome', 'italy', 'oslo', 'governing_coalition'),\n",
       " ('stockholm', 'sweden', 'baghdad', 'iraqi_government'),\n",
       " ('stockholm', 'sweden', 'cairo', 'egyptian'),\n",
       " ('stockholm', 'sweden', 'hanoi', 'hanoi_vietnam'),\n",
       " ('stockholm', 'sweden', 'kabul', 'afghan_government'),\n",
       " ('stockholm', 'sweden', 'london', 'mayor_sadiq'),\n",
       " ('stockholm', 'sweden', 'ottawa', 'canadian'),\n",
       " ('tehran', 'iran', 'hanoi', 'hanoi_vietnam'),\n",
       " ('tehran', 'iran', 'helsinki', 'putin_in_helsinki'),\n",
       " ('tehran', 'iran', 'kabul', 'taliban'),\n",
       " ('tehran', 'iran', 'london', 'mayor_sadiq'),\n",
       " ('tehran', 'iran', 'ottawa', 'canadian'),\n",
       " ('tehran', 'iran', 'rome', 'vatican'),\n",
       " ('tehran', 'iran', 'stockholm', 'swedish'),\n",
       " ('tokyo', 'japan', 'athens', 'greek'),\n",
       " ('tokyo', 'japan', 'hanoi', 'south_korea'),\n",
       " ('tokyo', 'japan', 'helsinki', 'putin_in_helsinki'),\n",
       " ('tokyo', 'japan', 'kabul', 'taliban'),\n",
       " ('tokyo', 'japan', 'london', 'sadiq_khan'),\n",
       " ('tokyo', 'japan', 'rome', 'pope_francis'),\n",
       " ('amman', 'jordan', 'athens', 'rep_jim'),\n",
       " ('amman', 'jordan', 'berlin', 'german_capital'),\n",
       " ('amman', 'jordan', 'brussels', 'eu'),\n",
       " ('amman', 'jordan', 'caracas', 'maduro'),\n",
       " ('amman', 'jordan', 'damascus', 'assad'),\n",
       " ('amman', 'jordan', 'georgetown', 'georgetown_university'),\n",
       " ('ankara', 'turkey', 'brussels', 'eu'),\n",
       " ('ankara', 'turkey', 'damascus', 'ghouta'),\n",
       " ('ankara', 'turkey', 'georgetown', 'georgetown_university'),\n",
       " ('ankara', 'turkey', 'hanoi', 'hanoi_vietnam'),\n",
       " ('athens', 'greece', 'baghdad', 'krg'),\n",
       " ('athens', 'greece', 'brussels', 'eu'),\n",
       " ('athens', 'greece', 'caracas', 'maduro'),\n",
       " ('athens', 'greece', 'damascus', 'syrian'),\n",
       " ('athens', 'greece', 'hanoi', 'hanoi_vietnam'),\n",
       " ('athens', 'greece', 'kabul', 'afghan_government'),\n",
       " ('baghdad', 'iraq', 'brussels', 'eu'),\n",
       " ('baghdad', 'iraq', 'copenhagen', 'danish'),\n",
       " ('baghdad', 'iraq', 'georgetown', 'georgetown_university'),\n",
       " ('baghdad', 'iraq', 'kabul', 'taliban'),\n",
       " ('beijing', 'china', 'brussels', 'eu'),\n",
       " ('beijing', 'china', 'damascus', 'assad'),\n",
       " ('beijing', 'china', 'georgetown', 'georgetown_university'),\n",
       " ('beijing', 'china', 'hanoi', 'hanoi_vietnam'),\n",
       " ('beijing', 'china', 'helsinki', 'putin_in_helsinki'),\n",
       " ('beijing', 'china', 'jakarta', 'indonesian'),\n",
       " ('beijing', 'china', 'kabul', 'taliban'),\n",
       " ('beirut', 'lebanon', 'berlin', 'german_capital'),\n",
       " ('beirut', 'lebanon', 'brussels', 'eu'),\n",
       " ('beirut', 'lebanon', 'copenhagen', 'danish'),\n",
       " ('beirut', 'lebanon', 'georgetown', 'georgetown_university'),\n",
       " ('beirut', 'lebanon', 'havana', 'castro_regime'),\n",
       " ('beirut', 'lebanon', 'kabul', 'taliban'),\n",
       " ('berlin', 'germany', 'brussels', 'eu'),\n",
       " ('berlin', 'germany', 'damascus', 'syrian'),\n",
       " ('berlin', 'germany', 'georgetown', 'georgetown_university'),\n",
       " ('berlin', 'germany', 'hanoi', 'south_korea'),\n",
       " ('berlin', 'germany', 'jakarta', 'indonesian'),\n",
       " ('berlin', 'germany', 'kabul', 'afghan_government'),\n",
       " ('berlin', 'germany', 'lima', 'uruguay'),\n",
       " ('brussels', 'belgium', 'caracas', 'maduro'),\n",
       " ('brussels', 'belgium', 'damascus', 'ghouta'),\n",
       " ('brussels', 'belgium', 'georgetown', 'georgetown_university'),\n",
       " ('brussels', 'belgium', 'hanoi', 'south_korea'),\n",
       " ('brussels', 'belgium', 'kabul', 'taliban'),\n",
       " ('brussels', 'belgium', 'lima', 'nuestro'),\n",
       " ('brussels', 'belgium', 'london', 'mayor_sadiq'),\n",
       " ('budapest', 'hungary', 'caracas', 'maduro'),\n",
       " ('budapest', 'hungary', 'damascus', 'assad'),\n",
       " ('budapest', 'hungary', 'georgetown', 'georgetown_university'),\n",
       " ('budapest', 'hungary', 'hanoi', 'hanoi_vietnam'),\n",
       " ('budapest', 'hungary', 'helsinki', 'putin_in_helsinki'),\n",
       " ('budapest', 'hungary', 'jakarta', 'indonesian'),\n",
       " ('budapest', 'hungary', 'kabul', 'afghan_government'),\n",
       " ('budapest', 'hungary', 'lima', 'bolivarian'),\n",
       " ('budapest', 'hungary', 'london', 'mayor_sadiq'),\n",
       " ('cairo', 'egypt', 'copenhagen', 'danish'),\n",
       " ('cairo', 'egypt', 'georgetown', 'georgetown_university'),\n",
       " ('cairo', 'egypt', 'hanoi', 'north_korea'),\n",
       " ('cairo', 'egypt', 'helsinki', 'putin_in_helsinki'),\n",
       " ('cairo', 'egypt', 'kabul', 'afghan_government'),\n",
       " ('cairo', 'egypt', 'lima', 'nigeria_saudi'),\n",
       " ('cairo', 'egypt', 'london', 'mayor_sadiq'),\n",
       " ('canberra', 'australia', 'damascus', 'assad'),\n",
       " ('canberra', 'australia', 'georgetown', 'higher_learning'),\n",
       " ('canberra', 'australia', 'kabul', 'afghan_government'),\n",
       " ('canberra', 'australia', 'london', 'uk'),\n",
       " ('caracas', 'venezuela', 'damascus', 'assad'),\n",
       " ('caracas', 'venezuela', 'georgetown', 'georgetown_university'),\n",
       " ('caracas', 'venezuela', 'hanoi', 'north_korea'),\n",
       " ('caracas', 'venezuela', 'helsinki', 'putin_in_helsinki'),\n",
       " ('caracas', 'venezuela', 'kabul', 'political_reconciliation'),\n",
       " ('caracas', 'venezuela', 'lima', 'states_oas'),\n",
       " ('caracas', 'venezuela', 'london', 'mayor_sadiq'),\n",
       " ('copenhagen', 'denmark', 'damascus', 'assad'),\n",
       " ('copenhagen', 'denmark', 'georgetown', 'georgetown_university'),\n",
       " ('copenhagen', 'denmark', 'hanoi', 'hanoi_vietnam'),\n",
       " ('copenhagen', 'denmark', 'kabul', 'afghan_government'),\n",
       " ('copenhagen', 'denmark', 'london', 'mayor_sadiq'),\n",
       " ('damascus', 'syria', 'doha', 'zalmay'),\n",
       " ('damascus', 'syria', 'georgetown', 'georgetown_university'),\n",
       " ('damascus', 'syria', 'hanoi', 'summit_with_kim'),\n",
       " ('damascus', 'syria', 'helsinki', 'putin_in_helsinki'),\n",
       " ('damascus', 'syria', 'kabul', 'taliban'),\n",
       " ('damascus', 'syria', 'lima', 'trinidad_and_tobago'),\n",
       " ('damascus', 'syria', 'london', 'uk'),\n",
       " ('damascus', 'syria', 'madrid', 'catalonia'),\n",
       " ('doha', 'qatar', 'georgetown', 'georgetown_university'),\n",
       " ('doha', 'qatar', 'hanoi', 'north_korean'),\n",
       " ('doha', 'qatar', 'helsinki', 'putin_in_helsinki'),\n",
       " ('doha', 'qatar', 'jakarta', 'indonesian'),\n",
       " ('doha', 'qatar', 'kabul', 'taliban'),\n",
       " ('doha', 'qatar', 'lima', 'santa_rosa'),\n",
       " ('doha', 'qatar', 'london', 'labour_mayor'),\n",
       " ('doha', 'qatar', 'manila', 'president_rodrigo'),\n",
       " ('dublin', 'ireland', 'georgetown', 'kavanaugh'),\n",
       " ('dublin', 'ireland', 'hanoi', 'hanoi_vietnam'),\n",
       " ('dublin', 'ireland', 'helsinki', 'putin_in_helsinki'),\n",
       " ('dublin', 'ireland', 'jakarta', 'indonesian'),\n",
       " ('dublin', 'ireland', 'kabul', 'taliban'),\n",
       " ('dublin', 'ireland', 'kiev', 'poroshenko'),\n",
       " ('dublin', 'ireland', 'lima', 'nuestro'),\n",
       " ('dublin', 'ireland', 'london', 'mayor_sadiq'),\n",
       " ('georgetown', 'guyana', 'hanoi', 'hanoi_vietnam'),\n",
       " ('georgetown', 'guyana', 'helsinki', 'putin_in_helsinki'),\n",
       " ('georgetown', 'guyana', 'jakarta', 'indonesian'),\n",
       " ('georgetown', 'guyana', 'kabul', 'ghani'),\n",
       " ('georgetown', 'guyana', 'kiev', 'sea_of_azov'),\n",
       " ('georgetown', 'guyana', 'london', 'labour_mayor'),\n",
       " ('georgetown', 'guyana', 'madrid', 'rajoy'),\n",
       " ('georgetown', 'guyana', 'manila', 'philippine'),\n",
       " ('georgetown', 'guyana', 'moscow', 'crimean_peninsula'),\n",
       " ('georgetown', 'guyana', 'oslo', 'oslo_accords'),\n",
       " ('hanoi', 'vietnam', 'kabul', 'afghan_government'),\n",
       " ('hanoi', 'vietnam', 'kiev', 'ukrainian'),\n",
       " ('hanoi', 'vietnam', 'lima', 'trinidad_and_tobago'),\n",
       " ('hanoi', 'vietnam', 'london', 'mayor_sadiq'),\n",
       " ('hanoi', 'vietnam', 'ottawa', 'laos'),\n",
       " ('havana', 'cuba', 'helsinki', 'putin_in_helsinki'),\n",
       " ('havana', 'cuba', 'kabul', 'taliban'),\n",
       " ('havana', 'cuba', 'lima', 'nuestro'),\n",
       " ('havana', 'cuba', 'london', 'mayor_sadiq'),\n",
       " ('helsinki', 'finland', 'jakarta', 'indonesian'),\n",
       " ('helsinki', 'finland', 'kabul', 'taliban'),\n",
       " ('helsinki', 'finland', 'kiev', 'ukrainian'),\n",
       " ('helsinki', 'finland', 'london', 'labour_mayor'),\n",
       " ('helsinki', 'finland', 'moscow', 'russian'),\n",
       " ('helsinki', 'finland', 'ottawa', 'british_columbia'),\n",
       " ('islamabad', 'pakistan', 'jakarta', 'punjab'),\n",
       " ('islamabad', 'pakistan', 'kabul', 'taliban'),\n",
       " ('islamabad', 'pakistan', 'kiev', 'ukrainian'),\n",
       " ('islamabad', 'pakistan', 'london', 'mayor_sadiq'),\n",
       " ('islamabad', 'pakistan', 'ottawa', 'canadian'),\n",
       " ('jakarta', 'indonesia', 'kabul', 'taliban'),\n",
       " ('jakarta', 'indonesia', 'london', 'mayor_sadiq'),\n",
       " ('kabul', 'afghanistan', 'lima', 'enrique'),\n",
       " ('kabul', 'afghanistan', 'london', 'mayor_sadiq'),\n",
       " ('kabul', 'afghanistan', 'madrid', 'catalonia'),\n",
       " ('kabul', 'afghanistan', 'ottawa', 'canadian'),\n",
       " ('kiev', 'ukraine', 'london', 'mayor_sadiq'),\n",
       " ('kiev', 'ukraine', 'madrid', 'spanish'),\n",
       " ('kiev', 'ukraine', 'ottawa', 'canadian'),\n",
       " ('kiev', 'ukraine', 'paris', 'french_capital'),\n",
       " ('kiev', 'ukraine', 'rome', 'papal_plane'),\n",
       " ('kiev', 'ukraine', 'santiago', 'esteban'),\n",
       " ('lima', 'peru', 'london', 'mayor_sadiq'),\n",
       " ('lima', 'peru', 'ottawa', 'canadian'),\n",
       " ('lima', 'peru', 'santiago', 'esteban'),\n",
       " ('lima', 'peru', 'sofia', 'ghana'),\n",
       " ('london', 'england', 'moscow', 'russian'),\n",
       " ('london', 'england', 'ottawa', 'canadian'),\n",
       " ('london', 'england', 'rome', 'apostolic'),\n",
       " ('london', 'england', 'santiago', 'esteban'),\n",
       " ('london', 'england', 'sofia', 'goddess'),\n",
       " ('madrid', 'spain', 'santiago', 'esteban'),\n",
       " ('madrid', 'spain', 'sofia', 'italy'),\n",
       " ('manila', 'philippines', 'santiago', 'esteban'),\n",
       " ('manila', 'philippines', 'tripoli', 'khalifa_haftar'),\n",
       " ('moscow', 'russia', 'ottawa', 'canadian'),\n",
       " ('moscow', 'russia', 'paris', 'french'),\n",
       " ('moscow', 'russia', 'santiago', 'esteban'),\n",
       " ('moscow', 'russia', 'tripoli', 'haftar'),\n",
       " ('nairobi', 'kenya', 'ottawa', 'british_columbia'),\n",
       " ('nairobi', 'kenya', 'santiago', 'esteban'),\n",
       " ('nairobi', 'kenya', 'sofia', 'abf'),\n",
       " ('nairobi', 'kenya', 'tripoli', 'haftar'),\n",
       " ('nairobi', 'kenya', 'warsaw', 'polish'),\n",
       " ('oslo', 'norway', 'santiago', 'esteban'),\n",
       " ('oslo', 'norway', 'sofia', 'aguilera'),\n",
       " ('oslo', 'norway', 'stockholm', 'swedish'),\n",
       " ('oslo', 'norway', 'tripoli', 'libyan_national'),\n",
       " ('oslo', 'norway', 'amman', 'jordanian'),\n",
       " ('ottawa', 'canada', 'santiago', 'esteban'),\n",
       " ('ottawa', 'canada', 'tripoli', 'haftar'),\n",
       " ('ottawa', 'canada', 'amman', 'jordanian'),\n",
       " ('paris', 'france', 'santiago', 'esteban'),\n",
       " ('paris', 'france', 'tripoli', 'lna'),\n",
       " ('paris', 'france', 'amman', 'jordanian'),\n",
       " ('rome', 'italy', 'santiago', 'esteban'),\n",
       " ('rome', 'italy', 'sofia', 'albanians'),\n",
       " ('rome', 'italy', 'tripoli', 'gna'),\n",
       " ('rome', 'italy', 'amman', 'jordanian'),\n",
       " ('rome', 'italy', 'baghdad', 'pmf'),\n",
       " ('santiago', 'chile', 'sofia', 'paraguay'),\n",
       " ('santiago', 'chile', 'tripoli', 'haftar'),\n",
       " ('santiago', 'chile', 'amman', 'king_abdullah'),\n",
       " ('santiago', 'chile', 'baghdad', 'haider_al'),\n",
       " ('sofia', 'bulgaria', 'tripoli', 'gna'),\n",
       " ('sofia', 'bulgaria', 'amman', 'jordanians'),\n",
       " ('sofia', 'bulgaria', 'ankara', 'turkish'),\n",
       " ('sofia', 'bulgaria', 'baghdad', 'iraqi_government'),\n",
       " ('stockholm', 'sweden', 'tripoli', 'haftar'),\n",
       " ('stockholm', 'sweden', 'amman', 'jordanian'),\n",
       " ('stockholm', 'sweden', 'baghdad', 'iraqi_government'),\n",
       " ('taipei', 'taiwan', 'tripoli', 'haftar'),\n",
       " ('taipei', 'taiwan', 'amman', 'jordanian'),\n",
       " ('tehran', 'iran', 'tripoli', 'haftar'),\n",
       " ('tehran', 'iran', 'vienna', 'austrian'),\n",
       " ('tehran', 'iran', 'amman', 'jordanian'),\n",
       " ('tehran', 'iran', 'brussels', 'eu'),\n",
       " ('tokyo', 'japan', 'tripoli', 'haftar'),\n",
       " ('tokyo', 'japan', 'amman', 'jordanian'),\n",
       " ('tokyo', 'japan', 'athens', 'greek'),\n",
       " ('tokyo', 'japan', 'brussels', 'eu'),\n",
       " ('tripoli', 'libya', 'amman', 'jordanian'),\n",
       " ('tripoli', 'libya', 'brussels', 'eu'),\n",
       " ('vienna', 'austria', 'amman', 'jordanian'),\n",
       " ('vienna', 'austria', 'baghdad', 'iraqi_government'),\n",
       " ('vienna', 'austria', 'brussels', 'eu'),\n",
       " ('vienna', 'austria', 'caracas', 'maduro'),\n",
       " ('warsaw', 'poland', 'amman', 'jordanian'),\n",
       " ('warsaw', 'poland', 'brussels', 'eu'),\n",
       " ('warsaw', 'poland', 'caracas', 'maduro'),\n",
       " ('warsaw', 'poland', 'damascus', 'rebel_held'),\n",
       " ('brazil', 'real', 'canada', 'canadian'),\n",
       " ('brazil', 'real', 'europe', 'european'),\n",
       " ('brazil', 'real', 'iran', 'decertification'),\n",
       " ('brazil', 'real', 'korea', 'japan_and_south'),\n",
       " ('brazil', 'real', 'usa', 'turning_point'),\n",
       " ('canada', 'dollar', 'iran', 'rials'),\n",
       " ('canada', 'dollar', 'korea', 'currency'),\n",
       " ('canada', 'dollar', 'brazil', 'bolsonaro'),\n",
       " ('europe', 'euro', 'iran', 'tehran'),\n",
       " ('europe', 'euro', 'korea', 'joongang'),\n",
       " ('europe', 'euro', 'usa', 'turning_point'),\n",
       " ('europe', 'euro', 'brazil', 'bolsonaro'),\n",
       " ('europe', 'euro', 'canada', 'canadian'),\n",
       " ('iran', 'rial', 'korea', 'korean'),\n",
       " ('iran', 'rial', 'usa', 'turning_point'),\n",
       " ('iran', 'rial', 'brazil', 'bolsonaro'),\n",
       " ('iran', 'rial', 'canada', 'canadian'),\n",
       " ('iran', 'rial', 'europe', 'european'),\n",
       " ('korea', 'won', 'usa', 'win'),\n",
       " ('korea', 'won', 'brazil', 'jair_bolsonaro'),\n",
       " ('korea', 'won', 'canada', 'win'),\n",
       " ('korea', 'won', 'europe', 'win'),\n",
       " ('korea', 'won', 'iran', 'iranian'),\n",
       " ('usa', 'dollar', 'brazil', 'bolsonaro'),\n",
       " ('usa', 'dollar', 'europe', 'eu_nations'),\n",
       " ('usa', 'dollar', 'iran', 'tehran'),\n",
       " ('usa', 'dollar', 'korea', 'seoul'),\n",
       " ('chicago', 'illinois', 'houston', 'houston_texas'),\n",
       " ('chicago', 'illinois', 'phoenix', 'phoenix_arizona'),\n",
       " ('chicago', 'illinois', 'austin', 'american_statesman'),\n",
       " ('chicago', 'illinois', 'seattle', 'oregon'),\n",
       " ('chicago', 'illinois', 'baltimore', 'rep_elijah'),\n",
       " ('chicago', 'illinois', 'tucson', 'tucson_arizona'),\n",
       " ('chicago', 'illinois', 'mesa', 'kim_reynolds'),\n",
       " ('chicago', 'illinois', 'minneapolis', 'star_tribune'),\n",
       " ('chicago', 'illinois', 'arlington', 'arlington_virginia'),\n",
       " ('chicago', 'illinois', 'lexington', 'red_hen'),\n",
       " ('houston', 'texas', 'jacksonville', 'jacksonville_florida'),\n",
       " ('houston', 'texas', 'seattle', 'seattle_times'),\n",
       " ('houston', 'texas', 'baltimore', 'elijah_cummings'),\n",
       " ('houston', 'texas', 'portland', 'mayor_ted'),\n",
       " ('houston', 'texas', 'tucson', 'tucson_arizona'),\n",
       " ('houston', 'texas', 'mesa', 'san_luis'),\n",
       " ('houston', 'texas', 'cleveland', 'browns'),\n",
       " ('houston', 'texas', 'pittsburgh', 'synagogue_shooting'),\n",
       " ('houston', 'texas', 'lexington', 'red_hen'),\n",
       " ('houston', 'texas', 'cincinnati', 'north_carolina'),\n",
       " ('houston', 'texas', 'toledo', 'el_paso'),\n",
       " ('philadelphia', 'pennsylvania', 'jacksonville', 'jacksonville_florida'),\n",
       " ('philadelphia', 'pennsylvania', 'seattle', 'michigan_wisconsin'),\n",
       " ('philadelphia', 'pennsylvania', 'baltimore', 'rep_elijah'),\n",
       " ('philadelphia', 'pennsylvania', 'portland', 'michigan_wisconsin'),\n",
       " ('philadelphia', 'pennsylvania', 'fresno', 'fresno_bee'),\n",
       " ('philadelphia', 'pennsylvania', 'oakland', 'michigan_wisconsin'),\n",
       " ('philadelphia', 'pennsylvania', 'arlington', 'arlington_virginia'),\n",
       " ('philadelphia', 'pennsylvania', 'bakersfield', 'wisconsin_michigan'),\n",
       " ('philadelphia', 'pennsylvania', 'anaheim', 'michigan_and_wisconsin'),\n",
       " ('philadelphia', 'pennsylvania', 'lexington', 'red_hen'),\n",
       " ('philadelphia', 'pennsylvania', 'stockton', 'michigan_wisconsin'),\n",
       " ('phoenix', 'arizona', 'seattle', 'seattle_times'),\n",
       " ('phoenix', 'arizona', 'baltimore', 'baltimore_sun'),\n",
       " ('phoenix', 'arizona', 'portland', 'portland_oregon'),\n",
       " ('phoenix', 'arizona', 'cleveland', 'browns'),\n",
       " ('phoenix', 'arizona', 'pittsburgh', 'tree_of_life'),\n",
       " ('phoenix', 'arizona', 'lexington', 'red_hen'),\n",
       " ('phoenix', 'arizona', 'stockton', 'scottsdale'),\n",
       " ('phoenix', 'arizona', 'cincinnati', 'colorado'),\n",
       " ('phoenix', 'arizona', 'henderson', 'kyrsten_sinema'),\n",
       " ('dallas', 'texas', 'seattle', 'arizona'),\n",
       " ('dallas', 'texas', 'baltimore', 'filthy_place'),\n",
       " ('dallas', 'texas', 'milwaukee', 'mexico'),\n",
       " ('dallas', 'texas', 'portland', 'mayor_ted'),\n",
       " ('dallas', 'texas', 'tucson', 'tucson_sector'),\n",
       " ('dallas', 'texas', 'mesa', 'san_luis'),\n",
       " ('dallas', 'texas', 'pittsburgh', 'tree_of_life'),\n",
       " ('dallas', 'texas', 'lexington', 'red_hen'),\n",
       " ('dallas', 'texas', 'anchorage', 'roadways'),\n",
       " ('dallas', 'texas', 'toledo', 'sioux_city'),\n",
       " ('dallas', 'texas', 'henderson', 'texas_governor'),\n",
       " ('jacksonville', 'florida', 'seattle', 'seattle_times'),\n",
       " ('jacksonville', 'florida', 'denver', 'denver_colorado'),\n",
       " ('jacksonville', 'florida', 'baltimore', 'rep_elijah'),\n",
       " ('jacksonville', 'florida', 'portland', 'portland_oregon'),\n",
       " ('jacksonville', 'florida', 'wichita', 'gop_gubernatorial'),\n",
       " ('jacksonville', 'florida', 'arlington', 'arlington_virginia'),\n",
       " ('jacksonville', 'florida', 'lexington', 'seminole'),\n",
       " ('jacksonville', 'florida', 'cincinnati', 'cincinnati_ohio'),\n",
       " ('jacksonville', 'florida', 'toledo', 'humala'),\n",
       " ('jacksonville', 'florida', 'henderson', 'tallahassee_mayor'),\n",
       " ('jacksonville', 'florida', 'laredo', 'kingsville'),\n",
       " ('indianapolis', 'indiana', 'austin', 'american_statesman'),\n",
       " ('indianapolis', 'indiana', 'seattle', 'seattle_times'),\n",
       " ('indianapolis', 'indiana', 'baltimore', 'baltimore_sun'),\n",
       " ('indianapolis', 'indiana', 'portland', 'mayor_ted'),\n",
       " ('indianapolis', 'indiana', 'atlanta', 'atlanta_journal'),\n",
       " ('indianapolis', 'indiana', 'wichita', 'ohio'),\n",
       " ('indianapolis', 'indiana', 'arlington', 'illinois'),\n",
       " ('indianapolis', 'indiana', 'pittsburgh', 'ohio'),\n",
       " ('indianapolis', 'indiana', 'henderson', 'kim_reynolds'),\n",
       " ('indianapolis', 'indiana', 'orlando', 'pulse_nightclub'),\n",
       " ('indianapolis', 'indiana', 'laredo', 'laredo_texas'),\n",
       " ('austin', 'texas', 'detroit', 'detroit_michigan'),\n",
       " ('austin', 'texas', 'seattle', 'lone_star'),\n",
       " ('austin', 'texas', 'baltimore', 'rep_elijah'),\n",
       " ('austin', 'texas', 'louisville', 'arizona'),\n",
       " ('austin', 'texas', 'milwaukee', 'arizona'),\n",
       " ('austin', 'texas', 'portland', 'mayor_ted'),\n",
       " ('austin', 'texas', 'tucson', 'tucson_arizona'),\n",
       " ('austin', 'texas', 'mesa', 'tecate'),\n",
       " ('austin', 'texas', 'minneapolis', 'star_tribune'),\n",
       " ('austin', 'texas', 'wichita', 'lone_star'),\n",
       " ('austin', 'texas', 'pittsburgh', 'tree_of_life'),\n",
       " ('austin', 'texas', 'lexington', 'red_hen'),\n",
       " ('austin', 'texas', 'cincinnati', 'cincinnati_ohio'),\n",
       " ('austin', 'texas', 'toledo', 'sioux_city'),\n",
       " ('austin', 'texas', 'henderson', 'lone_star'),\n",
       " ('austin', 'texas', 'madison', 'alabama'),\n",
       " ('detroit', 'michigan', 'seattle', 'ohio'),\n",
       " ('detroit', 'michigan', 'denver', 'wisconsin'),\n",
       " ('detroit', 'michigan', 'baltimore', 'rep_elijah'),\n",
       " ('detroit', 'michigan', 'portland', 'portland_oregon'),\n",
       " ('detroit', 'michigan', 'tucson', 'tucson_arizona'),\n",
       " ('detroit', 'michigan', 'fresno', 'fresno_bee'),\n",
       " ('detroit', 'michigan', 'mesa', 'r_co'),\n",
       " ('detroit', 'michigan', 'oakland', 'wisconsin'),\n",
       " ('detroit', 'michigan', 'arlington', 'illinois'),\n",
       " ('detroit', 'michigan', 'bakersfield', 'wisconsin'),\n",
       " ('detroit', 'michigan', 'anaheim', 'wisconsin'),\n",
       " ('detroit', 'michigan', 'pittsburgh', 'ohio'),\n",
       " ('detroit', 'michigan', 'lexington', 'red_hen'),\n",
       " ('detroit', 'michigan', 'stockton', 'wisconsin'),\n",
       " ('detroit', 'michigan', 'anchorage', 'roadways'),\n",
       " ('detroit', 'michigan', 'henderson', 'polk'),\n",
       " ('detroit', 'michigan', 'orlando', 'ohio'),\n",
       " ('detroit', 'michigan', 'laredo', 'laredo_sector'),\n",
       " ('detroit', 'michigan', 'chandler', 'wisconsin'),\n",
       " ('detroit', 'michigan', 'lubbock', 'kim_reynolds'),\n",
       " ('memphis', 'tennessee', 'seattle', 'blackburn'),\n",
       " ('memphis', 'tennessee', 'denver', 'phil_bredesen'),\n",
       " ('memphis', 'tennessee', 'baltimore', 'rep_elijah'),\n",
       " ('memphis', 'tennessee', 'portland', 'portland_oregon'),\n",
       " ('memphis', 'tennessee', 'oakland', 'lausd'),\n",
       " ('memphis', 'tennessee', 'arlington', 'arlington_virginia'),\n",
       " ('memphis', 'tennessee', 'lexington', 'red_hen'),\n",
       " ('memphis', 'tennessee', 'cincinnati', 'kentucky'),\n",
       " ('memphis', 'tennessee', 'henderson', 'hensley'),\n",
       " ('memphis', 'tennessee', 'orlando', 'chattanooga'),\n",
       " ('memphis', 'tennessee', 'laredo', 'laredo_sector'),\n",
       " ('memphis', 'tennessee', 'chandler', 'precinct'),\n",
       " ('memphis', 'tennessee', 'madison', 'tennesseans'),\n",
       " ('memphis', 'tennessee', 'lubbock', 'texas_legislature'),\n",
       " ('memphis', 'tennessee', 'garland', 'merrick_garland'),\n",
       " ('boston', 'massachusetts', 'seattle', 'charlie_baker'),\n",
       " ('boston', 'massachusetts', 'baltimore', 'rep_elijah'),\n",
       " ('boston', 'massachusetts', 'tucson', 'tucson_arizona'),\n",
       " ('boston', 'massachusetts', 'mesa', 'state'),\n",
       " ('boston', 'massachusetts', 'arlington', 'charlie_baker'),\n",
       " ('boston', 'massachusetts', 'pittsburgh', 'synagogue_shooting'),\n",
       " ('boston', 'massachusetts', 'lexington', 'larry_hogan'),\n",
       " ('boston', 'massachusetts', 'stockton', 'charlie_baker'),\n",
       " ('boston', 'massachusetts', 'toledo', 'sherrod_brown'),\n",
       " ('boston', 'massachusetts', 'henderson', 'charlie_baker'),\n",
       " ('boston', 'massachusetts', 'laredo', 'attempting_to_circumvent'),\n",
       " ('boston', 'massachusetts', 'madison', 'university_of_wisconsin'),\n",
       " ('boston', 'massachusetts', 'lubbock', 'governor_abbott'),\n",
       " ('boston', 'massachusetts', 'garland', 'merrick_garland'),\n",
       " ('seattle', 'washington', 'denver', 'washington_d_c'),\n",
       " ('seattle', 'washington', 'baltimore', 'rep_elijah'),\n",
       " ('seattle', 'washington', 'nashville', 'duck_dynasty'),\n",
       " ('seattle', 'washington', 'louisville', 'drain_the_swamp'),\n",
       " ('seattle', 'washington', 'portland', 'mayor_ted'),\n",
       " ('seattle', 'washington', 'tucson', 'tucson_arizona'),\n",
       " ('seattle', 'washington', 'fresno', 'fresno_bee'),\n",
       " ('seattle', 'washington', 'sacramento', 'san_joaquin'),\n",
       " ('seattle', 'washington', 'mesa', 'secret_meetings'),\n",
       " ('seattle', 'washington', 'atlanta', 'macon'),\n",
       " ('seattle', 'washington', 'omaha', 'establishment_wing'),\n",
       " ('seattle', 'washington', 'miami', 'doral'),\n",
       " ('seattle', 'washington', 'oakland', 'washington_d_c'),\n",
       " ('seattle', 'washington', 'cleveland', 'washington_d_c'),\n",
       " ('seattle', 'washington', 'minneapolis', 'star_tribune'),\n",
       " ('seattle', 'washington', 'wichita', 'estes'),\n",
       " ('seattle', 'washington', 'arlington', 'washington_dc'),\n",
       " ('seattle', 'washington', 'bakersfield', 'republican'),\n",
       " ('seattle', 'washington', 'tampa', 'gop_gubernatorial'),\n",
       " ('seattle', 'washington', 'anaheim', 'establishment_wing'),\n",
       " ('seattle', 'washington', 'pittsburgh', 'ron_dermer'),\n",
       " ('seattle', 'washington', 'lexington', 'jennifer_jacobs'),\n",
       " ('seattle', 'washington', 'stockton', 'state'),\n",
       " ('seattle', 'washington', 'cincinnati', 'ron_dermer'),\n",
       " ('seattle', 'washington', 'toledo', 'sherrod_brown'),\n",
       " ('seattle', 'washington', 'henderson', 'messrs'),\n",
       " ('seattle', 'washington', 'orlando', 'ron_dermer'),\n",
       " ('seattle', 'washington', 'laredo', 'laredo_sector'),\n",
       " ('seattle', 'washington', 'chandler', 'jennifer_jacobs'),\n",
       " ('seattle', 'washington', 'madison', 'james_madison'),\n",
       " ('seattle', 'washington', 'lubbock', 'state'),\n",
       " ('seattle', 'washington', 'garland', 'judge_neil'),\n",
       " ('denver', 'colorado', 'baltimore', 'baltimore_sun'),\n",
       " ('denver', 'colorado', 'milwaukee', 'idaho'),\n",
       " ('denver', 'colorado', 'portland', 'journalist_andy'),\n",
       " ('denver', 'colorado', 'tucson', 'tucson_arizona'),\n",
       " ('denver', 'colorado', 'mesa', 'río'),\n",
       " ('denver', 'colorado', 'pittsburgh', 'tree_of_life'),\n",
       " ('denver', 'colorado', 'lexington', 'red_hen'),\n",
       " ('denver', 'colorado', 'henderson', 'resource'),\n",
       " ('denver', 'colorado', 'orlando', 'newtown'),\n",
       " ('denver', 'colorado', 'laredo', 'laredo_texas'),\n",
       " ('denver', 'colorado', 'madison', 'alabama'),\n",
       " ('denver', 'colorado', 'garland', 'merrick_garland'),\n",
       " ('baltimore', 'maryland', 'tucson', 'tucson_arizona'),\n",
       " ('baltimore', 'maryland', 'mesa', 'nos'),\n",
       " ('baltimore', 'maryland', 'miami', 'miami_florida'),\n",
       " ('baltimore', 'maryland', 'wichita', 'oregon'),\n",
       " ('baltimore', 'maryland', 'arlington', 'illinois'),\n",
       " ('baltimore', 'maryland', 'pittsburgh', 'tree_of_life'),\n",
       " ('baltimore', 'maryland', 'lexington', 'red_hen'),\n",
       " ('baltimore', 'maryland', 'stockton', 'new_jersey'),\n",
       " ('baltimore', 'maryland', 'cincinnati', 'massachusetts'),\n",
       " ('baltimore', 'maryland', 'henderson', 'keller'),\n",
       " ('baltimore', 'maryland', 'orlando', 'orlando_florida'),\n",
       " ('baltimore', 'maryland', 'laredo', 'agents_assigned'),\n",
       " ('baltimore', 'maryland', 'garland', 'samuel_alito'),\n",
       " ('nashville', 'tennessee', 'portland', 'portland_oregon'),\n",
       " ('nashville', 'tennessee', 'fresno', 'fresno_bee'),\n",
       " ('nashville', 'tennessee', 'miami', 'south_florida'),\n",
       " ('nashville', 'tennessee', 'oakland', 'libby_schaaf'),\n",
       " ('nashville', 'tennessee', 'arlington', 'decatur'),\n",
       " ('nashville', 'tennessee', 'bakersfield', 'fresno'),\n",
       " ('nashville', 'tennessee', 'pittsburgh', 'tree_of_life'),\n",
       " ('nashville', 'tennessee', 'lexington', 'red_hen'),\n",
       " ('nashville', 'tennessee', 'stockton', 'jefferson_county'),\n",
       " ('nashville', 'tennessee', 'cincinnati', 'cincinnati_ohio'),\n",
       " ('nashville', 'tennessee', 'henderson', 'hays'),\n",
       " ('nashville', 'tennessee', 'orlando', 'chattanooga'),\n",
       " ('nashville', 'tennessee', 'laredo', 'attempting_to_circumvent'),\n",
       " ('nashville', 'tennessee', 'madison', 'alabama'),\n",
       " ('nashville', 'tennessee', 'lubbock', 'texas_legislature'),\n",
       " ('nashville', 'tennessee', 'garland', 'sixth_circuit'),\n",
       " ('nashville', 'tennessee', 'irving', 'cowboys'),\n",
       " ('louisville', 'kentucky', 'portland', 'journalist_andy'),\n",
       " ('louisville', 'kentucky', 'tucson', 'tucson_arizona'),\n",
       " ('louisville', 'kentucky', 'mesa', 'matt_bevin'),\n",
       " ('louisville', 'kentucky', 'arlington', 'arlington_virginia'),\n",
       " ('louisville', 'kentucky', 'pittsburgh', 'synagogue_shooting'),\n",
       " ('louisville', 'kentucky', 'cincinnati', 'bevin'),\n",
       " ('louisville', 'kentucky', 'henderson', 'matt_bevin'),\n",
       " ('louisville', 'kentucky', 'orlando', 'pulse_nightclub'),\n",
       " ('louisville', 'kentucky', 'laredo', 'agents_assigned'),\n",
       " ('louisville', 'kentucky', 'chandler', 'arkansas'),\n",
       " ('louisville', 'kentucky', 'madison', 'matt_bevin'),\n",
       " ('louisville', 'kentucky', 'lubbock', 'texas_legislature'),\n",
       " ('louisville', 'kentucky', 'garland', 'merrick_garland'),\n",
       " ('louisville', 'kentucky', 'fremont', 'fremont_california'),\n",
       " ('milwaukee', 'wisconsin', 'portland', 'mayor_ted'),\n",
       " ('milwaukee', 'wisconsin', 'mesa', 'state'),\n",
       " ('milwaukee', 'wisconsin', 'oakland', 'deep_blue'),\n",
       " ('milwaukee', 'wisconsin', 'arlington', 'illinois'),\n",
       " ('milwaukee', 'wisconsin', 'bakersfield', 'illinois'),\n",
       " ('milwaukee', 'wisconsin', 'anaheim', 'deep_blue'),\n",
       " ('milwaukee', 'wisconsin', 'lexington', 'pennsylvania'),\n",
       " ('milwaukee', 'wisconsin', 'stockton', 'pennsylvania'),\n",
       " ('milwaukee', 'wisconsin', 'henderson', 'electoral_votes'),\n",
       " ('milwaukee', 'wisconsin', 'laredo', 'laredo_texas'),\n",
       " ('milwaukee', 'wisconsin', 'chandler', 'arkansas'),\n",
       " ('milwaukee', 'wisconsin', 'lubbock', 'texas_legislature'),\n",
       " ('milwaukee', 'wisconsin', 'garland', 'merrick_garland'),\n",
       " ('milwaukee', 'wisconsin', 'fremont', 'fremont_california'),\n",
       " ('milwaukee', 'wisconsin', 'irvine', 'pennsylvania'),\n",
       " ('portland', 'oregon', 'mesa', 'california'),\n",
       " ('portland', 'oregon', 'wichita', 'ohio'),\n",
       " ('portland', 'oregon', 'arlington', 'arlington_virginia'),\n",
       " ('portland', 'oregon', 'tampa', 'ohio'),\n",
       " ('portland', 'oregon', 'pittsburgh', 'ohio'),\n",
       " ('portland', 'oregon', 'lexington', 'virginia'),\n",
       " ('portland', 'oregon', 'henderson', 'pine'),\n",
       " ('portland', 'oregon', 'orlando', 'ohio'),\n",
       " ('portland', 'oregon', 'laredo', 'attempting_to_circumvent'),\n",
       " ('portland', 'oregon', 'madison', 'fork'),\n",
       " ('portland', 'oregon', 'lubbock', 'texas_legislature'),\n",
       " ('portland', 'oregon', 'garland', 'nation_s_highest'),\n",
       " ('portland', 'oregon', 'irving', 'oklahoma'),\n",
       " ('portland', 'oregon', 'fremont', 'fremont_california'),\n",
       " ('tucson', 'arizona', 'oakland', 'oakland_raiders'),\n",
       " ('tucson', 'arizona', 'cleveland', 'browns'),\n",
       " ('tucson', 'arizona', 'arlington', 'arlington_virginia'),\n",
       " ('tucson', 'arizona', 'anaheim', 'scottsdale'),\n",
       " ('tucson', 'arizona', 'pittsburgh', 'oakland_raiders'),\n",
       " ('tucson', 'arizona', 'lexington', 'red_hen'),\n",
       " ('tucson', 'arizona', 'stockton', 'scottsdale'),\n",
       " ('tucson', 'arizona', 'cincinnati', 'cincinnati_ohio'),\n",
       " ('tucson', 'arizona', 'henderson', 'scottsdale'),\n",
       " ('tucson', 'arizona', 'laredo', 'pounds_of_meth'),\n",
       " ('tucson', 'arizona', 'madison', 'ducey'),\n",
       " ('tucson', 'arizona', 'lubbock', 'texas_legislature'),\n",
       " ('tucson', 'arizona', 'garland', 'vacancy'),\n",
       " ('tucson', 'arizona', 'irving', 'scottsdale'),\n",
       " ('tucson', 'arizona', 'fremont', 'fremont_california'),\n",
       " ('tucson', 'arizona', 'irvine', 'scottsdale'),\n",
       " ('fresno', 'california', 'mesa', 'alamitos'),\n",
       " ('fresno', 'california', 'atlanta', 'atlanta_georgia'),\n",
       " ('fresno', 'california', 'cleveland', 'san_francisco'),\n",
       " ('fresno', 'california', 'wichita', 'attorney_generals'),\n",
       " ('fresno', 'california', 'arlington', 'arlington_virginia'),\n",
       " ('fresno', 'california', 'pittsburgh', 'pittsburgh_pennsylvania'),\n",
       " ('fresno', 'california', 'henderson', 'rhode_island'),\n",
       " ('fresno', 'california', 'laredo', 'laredo_texas'),\n",
       " ('fresno', 'california', 'madison', 'state'),\n",
       " ('fresno', 'california', 'lubbock', 'state'),\n",
       " ('fresno', 'california', 'garland', 'federal_appellate'),\n",
       " ('fresno', 'california', 'irving', 'california_s_sanctuary'),\n",
       " ('sacramento', 'california', 'mesa', 'oaxaca'),\n",
       " ('sacramento', 'california', 'miami', 'miami_florida'),\n",
       " ('sacramento', 'california', 'wichita', 'plano'),\n",
       " ('sacramento', 'california', 'pittsburgh', 'synagogue_shooting'),\n",
       " ('sacramento', 'california', 'lexington', 'maryland'),\n",
       " ('sacramento', 'california', 'henderson', 'maryland'),\n",
       " ('sacramento', 'california', 'orlando', 'attacker_october'),\n",
       " ('sacramento', 'california', 'laredo', 'eagle_pass'),\n",
       " ('sacramento', 'california', 'madison', 'university_of_wisconsin'),\n",
       " ('sacramento', 'california', 'tacoma', 'tacoma_washington'),\n",
       " ('mesa', 'arizona', 'oakland', 'unionized'),\n",
       " ('mesa', 'arizona', 'anaheim', 'scottsdale'),\n",
       " ('mesa', 'arizona', 'lexington', 'red_hen'),\n",
       " ('mesa', 'arizona', 'stockton', 'scottsdale'),\n",
       " ('mesa', 'arizona', 'cincinnati', 'north_carolina'),\n",
       " ('mesa', 'arizona', 'henderson', 'kyrsten_sinema'),\n",
       " ('mesa', 'arizona', 'laredo', 'tucson_sector'),\n",
       " ('mesa', 'arizona', 'garland', 'kyrsten_sinema'),\n",
       " ('mesa', 'arizona', 'fremont', 'fremont_california'),\n",
       " ('mesa', 'arizona', 'irvine', 'scottsdale'),\n",
       " ('mesa', 'arizona', 'tacoma', 'tacoma_washington'),\n",
       " ('atlanta', 'georgia', 'oakland', 'libby_schaaf'),\n",
       " ('atlanta', 'georgia', 'minneapolis', 'star_tribune'),\n",
       " ('atlanta', 'georgia', 'arlington', 'farris'),\n",
       " ('atlanta', 'georgia', 'anaheim', 'honolulu'),\n",
       " ('atlanta', 'georgia', 'pittsburgh', 'ohio'),\n",
       " ('atlanta', 'georgia', 'lexington', 'red_hen'),\n",
       " ('atlanta', 'georgia', 'stockton', 'state'),\n",
       " ('atlanta', 'georgia', 'henderson', 'brian_kemp'),\n",
       " ('atlanta', 'georgia', 'orlando', 'brian_kemp'),\n",
       " ('atlanta', 'georgia', 'laredo', 'attempting_to_circumvent'),\n",
       " ('atlanta', 'georgia', 'chandler', 'arkansas'),\n",
       " ('atlanta', 'georgia', 'madison', 'alabama'),\n",
       " ('atlanta', 'georgia', 'lubbock', 'kim_reynolds'),\n",
       " ('atlanta', 'georgia', 'garland', 'voter_id'),\n",
       " ('atlanta', 'georgia', 'irving', 'heartbeat_abortion'),\n",
       " ('atlanta', 'georgia', 'fremont', 'assembly_plant'),\n",
       " ('atlanta', 'georgia', 'irvine', 'heartbeat_abortion'),\n",
       " ('atlanta', 'georgia', 'tacoma', 'tacoma_washington'),\n",
       " ('omaha', 'nebraska', 'miami', 'miami_florida'),\n",
       " ('omaha', 'nebraska', 'oakland', 'alameda'),\n",
       " ('omaha', 'nebraska', 'tampa', 'tampa_bay'),\n",
       " ('omaha', 'nebraska', 'anaheim', 'sonoma'),\n",
       " ('omaha', 'nebraska', 'pittsburgh', 'synagogue_shooting'),\n",
       " ('omaha', 'nebraska', 'lexington', 'red_hen'),\n",
       " ('omaha', 'nebraska', 'stockton', 'idaho'),\n",
       " ('omaha', 'nebraska', 'henderson', 'bowman'),\n",
       " ('omaha', 'nebraska', 'orlando', 'pulse_nightclub'),\n",
       " ('omaha', 'nebraska', 'laredo', 'laredo_texas'),\n",
       " ('omaha', 'nebraska', 'chandler', 'arkansas'),\n",
       " ('omaha', 'nebraska', 'madison', 'university_of_wisconsin'),\n",
       " ('omaha', 'nebraska', 'lubbock', 'texas_legislature'),\n",
       " ('omaha', 'nebraska', 'garland', 'merrick_garland'),\n",
       " ('omaha', 'nebraska', 'irving', 'manziel'),\n",
       " ('omaha', 'nebraska', 'fremont', 'fremont_california'),\n",
       " ('omaha', 'nebraska', 'irvine', 'mimi_walters'),\n",
       " ('omaha', 'nebraska', 'tacoma', 'tacoma_washington'),\n",
       " ('miami', 'florida', 'bakersfield', 'sarasota'),\n",
       " ('miami', 'florida', 'pittsburgh', 'synagogue_shooting'),\n",
       " ('miami', 'florida', 'lexington', 'seminole'),\n",
       " ('miami', 'florida', 'stockton', 'seminole'),\n",
       " ('miami', 'florida', 'anchorage', 'panhandle'),\n",
       " ('miami', 'florida', 'henderson', 'governor_rick'),\n",
       " ('miami', 'florida', 'laredo', 'attempting_to_circumvent'),\n",
       " ('miami', 'florida', 'madison', 'pasco'),\n",
       " ('miami', 'florida', 'lubbock', 'legislative_session'),\n",
       " ('miami', 'florida', 'garland', 'agriculture_commissioner'),\n",
       " ('miami', 'florida', 'fremont', 'fremont_california'),\n",
       " ('miami', 'florida', 'irvine', 'mimi_walters'),\n",
       " ('miami', 'florida', 'tacoma', 'tacoma_washington'),\n",
       " ('oakland', 'california', 'cleveland', 'golden_state'),\n",
       " ('oakland', 'california', 'arlington', 'illinois'),\n",
       " ('oakland', 'california', 'pittsburgh', 'synagogue_shooting'),\n",
       " ('oakland', 'california', 'lexington', 'virginia'),\n",
       " ('oakland', 'california', 'cincinnati', 'state'),\n",
       " ('oakland', 'california', 'anchorage', 'anchorage_alaska'),\n",
       " ('oakland', 'california', 'henderson', 'state'),\n",
       " ('oakland', 'california', 'laredo', 'attempting_to_circumvent'),\n",
       " ('oakland', 'california', 'madison', 'california_governor'),\n",
       " ('oakland', 'california', 'lubbock', 'state'),\n",
       " ('oakland', 'california', 'garland', 'sisolak'),\n",
       " ('oakland', 'california', 'tacoma', 'tacoma_washington'),\n",
       " ('oakland', 'california', 'tallahassee', 'andrew_gillum'),\n",
       " ('cleveland', 'ohio', 'bakersfield', 'mike_dewine'),\n",
       " ('cleveland', 'ohio', 'anaheim', 'flash_flooding'),\n",
       " ('cleveland', 'ohio', 'pittsburgh', 'tree_of_life'),\n",
       " ('cleveland', 'ohio', 'lexington', 'red_hen'),\n",
       " ('cleveland', 'ohio', 'stockton', 'new_jersey'),\n",
       " ('cleveland', 'ohio', 'henderson', 'kim_reynolds'),\n",
       " ('cleveland', 'ohio', 'laredo', 'laredo_texas'),\n",
       " ('cleveland', 'ohio', 'madison', 'university_of_wisconsin'),\n",
       " ('cleveland', 'ohio', 'garland', 'merrick_garland'),\n",
       " ('cleveland', 'ohio', 'fremont', 'fremont_california'),\n",
       " ('cleveland', 'ohio', 'irvine', 'mimi_walters'),\n",
       " ('cleveland', 'ohio', 'tacoma', 'tacoma_washington'),\n",
       " ('cleveland', 'ohio', 'tallahassee', 'gillum'),\n",
       " ('minneapolis', 'minnesota', 'arlington', 'arlington_national'),\n",
       " ('minneapolis', 'minnesota', 'anaheim', 'duluth'),\n",
       " ('minneapolis', 'minnesota', 'pittsburgh', 'synagogue_shooting'),\n",
       " ('minneapolis', 'minnesota', 'lexington', 'red_hen'),\n",
       " ('minneapolis', 'minnesota', 'stockton', 'cedar_rapids'),\n",
       " ('minneapolis', 'minnesota', 'henderson', 'victor'),\n",
       " ('minneapolis', 'minnesota', 'laredo', 'attempting_to_circumvent'),\n",
       " ('minneapolis', 'minnesota', 'madison', 'university_of_wisconsin'),\n",
       " ('minneapolis', 'minnesota', 'garland', 'merrick_garland'),\n",
       " ('minneapolis', 'minnesota', 'fremont', 'fremont_california'),\n",
       " ('minneapolis', 'minnesota', 'irvine', 'mimi_walters'),\n",
       " ('minneapolis', 'minnesota', 'tacoma', 'tacoma_washington'),\n",
       " ('minneapolis', 'minnesota', 'tallahassee', 'andrew_gillum'),\n",
       " ('wichita', 'kansas', 'arlington', 'nebraska'),\n",
       " ('wichita', 'kansas', 'bakersfield', 'rep_kevin'),\n",
       " ('wichita', 'kansas', 'tampa', 'topeka'),\n",
       " ('wichita', 'kansas', 'anaheim', 'cleveland_indians'),\n",
       " ('wichita', 'kansas', 'pittsburgh', 'pittsburgh_pennsylvania'),\n",
       " ('wichita', 'kansas', 'lexington', 'red_hen'),\n",
       " ('wichita', 'kansas', 'stockton', 'kris_kobach'),\n",
       " ('wichita', 'kansas', 'cincinnati', 'washington_redskins'),\n",
       " ('wichita', 'kansas', 'toledo', 'michigan_ohio'),\n",
       " ('wichita', 'kansas', 'henderson', 'thapar'),\n",
       " ('wichita', 'kansas', 'orlando', 'topeka'),\n",
       " ('wichita', 'kansas', 'laredo', 'laredo_sector'),\n",
       " ('wichita', 'kansas', 'madison', 'university_of_wisconsin'),\n",
       " ('wichita', 'kansas', 'lubbock', 'texas_legislature'),\n",
       " ('wichita', 'kansas', 'garland', 'merrick_garland'),\n",
       " ('wichita', 'kansas', 'irving', 'kris_w'),\n",
       " ('wichita', 'kansas', 'fremont', 'manufacturer_tesla'),\n",
       " ('wichita', 'kansas', 'irvine', 'mimi_walters'),\n",
       " ('wichita', 'kansas', 'tacoma', 'tacoma_washington'),\n",
       " ('wichita', 'kansas', 'tallahassee', 'gillum'),\n",
       " ('wichita', 'kansas', 'chicago', 'windy_city'),\n",
       " ('arlington', 'texas', 'pittsburgh', 'tree_of_life'),\n",
       " ('arlington', 'texas', 'lexington', 'red_hen'),\n",
       " ('arlington', 'texas', 'cincinnati', 'lone_star'),\n",
       " ('arlington', 'texas', 'anchorage', 'made_landfall'),\n",
       " ('arlington', 'texas', 'toledo', 'el_paso'),\n",
       " ('arlington', 'texas', 'henderson', 'texas_governor'),\n",
       " ('arlington', 'texas', 'madison', 'texas_tribune'),\n",
       " ('arlington', 'texas', 'fremont', 'fremont_california'),\n",
       " ('arlington', 'texas', 'tacoma', 'tacoma_washington'),\n",
       " ('arlington', 'texas', 'tallahassee', 'gillum'),\n",
       " ('arlington', 'texas', 'chicago', 'chicago_mayor'),\n",
       " ('bakersfield', 'california', 'pittsburgh', 'southern_california'),\n",
       " ('bakersfield', 'california', 'lexington', 'red_hen'),\n",
       " ('bakersfield', 'california', 'cincinnati', 'columbus_ohio'),\n",
       " ('bakersfield', 'california', 'anchorage', 'southern_california'),\n",
       " ('bakersfield', 'california', 'henderson', 'robyn'),\n",
       " ('bakersfield', 'california', 'orlando', 'southern_california'),\n",
       " ('bakersfield', 'california', 'laredo', 'laredo_texas'),\n",
       " ('bakersfield', 'california', 'madison', 'oregon'),\n",
       " ('bakersfield', 'california', 'tacoma', 'tacoma_washington'),\n",
       " ('bakersfield', 'california', 'tallahassee', 'andrew_gillum'),\n",
       " ('bakersfield', 'california', 'chicago', 'mayor_rahm'),\n",
       " ('bakersfield', 'california', 'houston', 'houston_texas'),\n",
       " ('bakersfield', 'california', 'philadelphia', 'san_francisco'),\n",
       " ('tampa', 'florida', 'pittsburgh', 'tree_of_life'),\n",
       " ('tampa', 'florida', 'lexington', 'revolutionary_war'),\n",
       " ('tampa', 'florida', 'henderson', 'marc_elias'),\n",
       " ('tampa', 'florida', 'laredo', 'eagle_pass'),\n",
       " ('tampa', 'florida', 'madison', 'university_of_wisconsin'),\n",
       " ('tampa', 'florida', 'lubbock', 'legislative_session'),\n",
       " ('tampa', 'florida', 'garland', 'merrick_garland'),\n",
       " ('tampa', 'florida', 'fremont', 'fremont_california'),\n",
       " ('tampa', 'florida', 'tacoma', 'tacoma_washington'),\n",
       " ('tampa', 'florida', 'chicago', 'mayor_rahm'),\n",
       " ('tampa', 'florida', 'philadelphia', 'philly'),\n",
       " ('anaheim', 'california', 'pittsburgh', 'peduto'),\n",
       " ('anaheim', 'california', 'cincinnati', 'state'),\n",
       " ('anaheim', 'california', 'anchorage', 'southern_california'),\n",
       " ('anaheim', 'california', 'henderson', 'laws'),\n",
       " ('anaheim', 'california', 'orlando', 'synagogue_attacker'),\n",
       " ('anaheim', 'california', 'laredo', 'attempting_to_circumvent'),\n",
       " ('anaheim', 'california', 'madison', 'university_of_wisconsin'),\n",
       " ('anaheim', 'california', 'garland', 'merrick_garland'),\n",
       " ('anaheim', 'california', 'tacoma', 'tacoma_washington'),\n",
       " ('anaheim', 'california', 'tallahassee', 'gillum'),\n",
       " ('anaheim', 'california', 'chicago', 'mayor_rahm'),\n",
       " ('anaheim', 'california', 'philadelphia', 'kenney'),\n",
       " ('pittsburgh', 'pennsylvania', 'lexington', 'red_hen'),\n",
       " ('pittsburgh', 'pennsylvania', 'stockton', 'plano'),\n",
       " ('pittsburgh', 'pennsylvania', 'cincinnati', 'michigan'),\n",
       " ('pittsburgh', 'pennsylvania', 'henderson', 'wisconsin'),\n",
       " ('pittsburgh', 'pennsylvania', 'laredo', 'attempting_to_circumvent'),\n",
       " ('pittsburgh', 'pennsylvania', 'lubbock', 'kim_reynolds'),\n",
       " ('pittsburgh', 'pennsylvania', 'garland', 'merrick_garland'),\n",
       " ('pittsburgh', 'pennsylvania', 'fremont', 'fremont_california'),\n",
       " ('pittsburgh', 'pennsylvania', 'irvine', 'plano'),\n",
       " ('pittsburgh', 'pennsylvania', 'tacoma', 'tacoma_washington'),\n",
       " ('pittsburgh', 'pennsylvania', 'tallahassee', 'gillum'),\n",
       " ('pittsburgh', 'pennsylvania', 'chicago', 'chicago_sun'),\n",
       " ('pittsburgh', 'pennsylvania', 'houston', 'houston_texas'),\n",
       " ('lexington', 'kentucky', 'henderson', 'matt_bevin'),\n",
       " ('lexington', 'kentucky', 'laredo', 'laredo_texas'),\n",
       " ('lexington', 'kentucky', 'madison', 'indiana'),\n",
       " ('lexington', 'kentucky', 'lubbock', 'legislative_session'),\n",
       " ('lexington', 'kentucky', 'garland', 'merrick_garland'),\n",
       " ('lexington', 'kentucky', 'irving', 'matt_bevin'),\n",
       " ('lexington', 'kentucky', 'fremont', 'fremont_california'),\n",
       " ('lexington', 'kentucky', 'tacoma', 'tacoma_washington'),\n",
       " ('lexington', 'kentucky', 'tallahassee', 'gillum'),\n",
       " ('lexington', 'kentucky', 'chicago', 'chicago_tribune'),\n",
       " ('lexington', 'kentucky', 'houston', 'houston_texas'),\n",
       " ('lexington', 'kentucky', 'philadelphia', 'philly'),\n",
       " ('lexington', 'kentucky', 'phoenix', 'phoenix_arizona'),\n",
       " ('lexington', 'kentucky', 'austin', 'american_statesman'),\n",
       " ('stockton', 'california', 'cincinnati', 'los_angeles'),\n",
       " ('stockton', 'california', 'anchorage', 'southern_california'),\n",
       " ('stockton', 'california', 'toledo', 'southern_california'),\n",
       " ('stockton', 'california', 'henderson', 'becerra'),\n",
       " ('stockton', 'california', 'orlando', 'synagogue_attacker'),\n",
       " ('stockton', 'california', 'laredo', 'laredo_texas'),\n",
       " ('stockton', 'california', 'chandler', 'riverside_county'),\n",
       " ('stockton', 'california', 'madison', 'xavier_becerra'),\n",
       " ('stockton', 'california', 'garland', 'merrick_garland'),\n",
       " ('stockton', 'california', 'tacoma', 'tacoma_washington'),\n",
       " ('stockton', 'california', 'tallahassee', 'andrew_gillum'),\n",
       " ('stockton', 'california', 'chicago', 'chicago_tribune'),\n",
       " ('stockton', 'california', 'houston', 'houston_texas'),\n",
       " ('stockton', 'california', 'philadelphia', 'southern_california'),\n",
       " ('stockton', 'california', 'phoenix', 'phoenix_arizona'),\n",
       " ('stockton', 'california', 'jacksonville', 'firearm_confiscation'),\n",
       " ('stockton', 'california', 'detroit', 'detroit_michigan'),\n",
       " ('cincinnati', 'ohio', 'henderson', 'kristen'),\n",
       " ('cincinnati', 'ohio', 'orlando', 'pulse_nightclub'),\n",
       " ('cincinnati', 'ohio', 'laredo', 'attempting_to_circumvent'),\n",
       " ('cincinnati', 'ohio', 'chandler', 'applegate'),\n",
       " ('cincinnati', 'ohio', 'garland', 'merrick_garland'),\n",
       " ('cincinnati', 'ohio', 'fremont', 'assembly_plant'),\n",
       " ('cincinnati', 'ohio', 'tacoma', 'tacoma_washington'),\n",
       " ('cincinnati', 'ohio', 'tallahassee', 'gillum'),\n",
       " ('cincinnati', 'ohio', 'chicago', 'mayor_rahm'),\n",
       " ('cincinnati', 'ohio', 'houston', 'houston_texas'),\n",
       " ('cincinnati', 'ohio', 'phoenix', 'phoenix_arizona'),\n",
       " ('cincinnati', 'ohio', 'jacksonville', 'mike_dewine'),\n",
       " ('cincinnati', 'ohio', 'austin', 'american_statesman'),\n",
       " ('anchorage', 'alaska', 'toledo', 'sioux_city'),\n",
       " ('anchorage', 'alaska', 'henderson', 'permit_requirement'),\n",
       " ('anchorage', 'alaska', 'orlando', 'orlando_florida'),\n",
       " ('anchorage', 'alaska', 'laredo', 'laredo_texas'),\n",
       " ('anchorage', 'alaska', 'chandler', 'idaho'),\n",
       " ('anchorage', 'alaska', 'madison', 'permit_requirement'),\n",
       " ('anchorage', 'alaska', 'garland', 'justice_antonin'),\n",
       " ('anchorage', 'alaska', 'irving', 'dallas_cowboys'),\n",
       " ('anchorage', 'alaska', 'fremont', 'fremont_california'),\n",
       " ('anchorage', 'alaska', 'irvine', 'wyoming'),\n",
       " ('anchorage', 'alaska', 'tacoma', 'tacoma_washington'),\n",
       " ('anchorage', 'alaska', 'tallahassee', 'gillum'),\n",
       " ('anchorage', 'alaska', 'chicago', 'windy_city'),\n",
       " ('anchorage', 'alaska', 'houston', 'houston_texas'),\n",
       " ('anchorage', 'alaska', 'philadelphia', 'philly'),\n",
       " ('anchorage', 'alaska', 'jacksonville', 'jacksonville_florida'),\n",
       " ('anchorage', 'alaska', 'austin', 'american_statesman'),\n",
       " ('anchorage', 'alaska', 'detroit', 'detroit_michigan'),\n",
       " ('toledo', 'ohio', 'henderson', 'arkansas'),\n",
       " ('toledo', 'ohio', 'orlando', 'pulse_nightclub'),\n",
       " ('toledo', 'ohio', 'laredo', 'laredo_texas'),\n",
       " ('toledo', 'ohio', 'chandler', 'arkansas'),\n",
       " ('toledo', 'ohio', 'garland', 'merrick_garland'),\n",
       " ('toledo', 'ohio', 'fremont', 'lawsuit_alleges'),\n",
       " ('toledo', 'ohio', 'irvine', 'mimi_walters'),\n",
       " ('toledo', 'ohio', 'tacoma', 'willem_van'),\n",
       " ('toledo', 'ohio', 'tallahassee', 'gillum'),\n",
       " ('toledo', 'ohio', 'chicago', 'chicago_tribune'),\n",
       " ('toledo', 'ohio', 'phoenix', 'phoenix_arizona'),\n",
       " ('toledo', 'ohio', 'jacksonville', 'jacksonville_florida'),\n",
       " ('toledo', 'ohio', 'seattle', 'san_francisco'),\n",
       " ('henderson', 'nevada', 'orlando', 'las_vegas'),\n",
       " ('henderson', 'nevada', 'laredo', 'station_agents'),\n",
       " ('henderson', 'nevada', 'madison', 'reno'),\n",
       " ('henderson', 'nevada', 'lubbock', 'california'),\n",
       " ('henderson', 'nevada', 'garland', 'las_vegas'),\n",
       " ('henderson', 'nevada', 'irving', 'las_vegas'),\n",
       " ('henderson', 'nevada', 'fremont', 'fremont_california'),\n",
       " ('henderson', 'nevada', 'tacoma', 'tacoma_washington'),\n",
       " ('henderson', 'nevada', 'tallahassee', 'andrew_gillum'),\n",
       " ('henderson', 'nevada', 'huntsville', 'huntsville_alabama'),\n",
       " ('henderson', 'nevada', 'chicago', 'chicago_tribune'),\n",
       " ('henderson', 'nevada', 'houston', 'houston_texas'),\n",
       " ('henderson', 'nevada', 'jacksonville', 'jacksonville_florida'),\n",
       " ('henderson', 'nevada', 'austin', 'american_statesman'),\n",
       " ('henderson', 'nevada', 'seattle', 'las_vegas'),\n",
       " ('henderson', 'nevada', 'baltimore', 'baltimore_maryland'),\n",
       " ('orlando', 'florida', 'laredo', 'eagle_pass'),\n",
       " ('orlando', 'florida', 'madison', 'university_of_wisconsin'),\n",
       " ('orlando', 'florida', 'garland', 'agriculture_commissioner'),\n",
       " ('orlando', 'florida', 'fremont', 'fremont_california'),\n",
       " ('orlando', 'florida', 'tacoma', 'tacoma_washington'),\n",
       " ('orlando', 'florida', 'chicago', 'mayor_rahm'),\n",
       " ('orlando', 'florida', 'houston', 'houston_texas'),\n",
       " ('orlando', 'florida', 'philadelphia', 'philly'),\n",
       " ('orlando', 'florida', 'austin', 'american_statesman'),\n",
       " ('orlando', 'florida', 'seattle', 'south_florida'),\n",
       " ('orlando', 'florida', 'denver', 'south_florida'),\n",
       " ('orlando', 'florida', 'baltimore', 'rodent_infested'),\n",
       " ('laredo', 'texas', 'chandler', 'dallas_morning'),\n",
       " ('laredo', 'texas', 'madison', 'dallas_morning'),\n",
       " ('laredo', 'texas', 'tacoma', 'tacoma_washington'),\n",
       " ('laredo', 'texas', 'chicago', 'chicago_mayor'),\n",
       " ('laredo', 'texas', 'philadelphia', 'lone_star'),\n",
       " ('laredo', 'texas', 'jacksonville', 'jacksonville_florida'),\n",
       " ('laredo', 'texas', 'seattle', 'lone_star'),\n",
       " ('laredo', 'texas', 'baltimore', 'baltimore_sun'),\n",
       " ('chandler', 'arizona', 'madison', 'alabama'),\n",
       " ('chandler', 'arizona', 'fremont', 'fremont_california'),\n",
       " ('chandler', 'arizona', 'tacoma', 'tacoma_washington'),\n",
       " ('chandler', 'arizona', 'tallahassee', 'gillum'),\n",
       " ('chandler', 'arizona', 'chicago', 'mayor_rahm'),\n",
       " ('chandler', 'arizona', 'seattle', 'states'),\n",
       " ('chandler', 'arizona', 'baltimore', 'rep_elijah'),\n",
       " ('madison', 'wisconsin', 'garland', 'merrick_garland'),\n",
       " ('madison', 'wisconsin', 'fremont', 'fremont_california'),\n",
       " ('madison', 'wisconsin', 'irvine', 'pennsylvania'),\n",
       " ('madison', 'wisconsin', 'tacoma', 'tacoma_washington'),\n",
       " ('madison', 'wisconsin', 'tallahassee', 'governor_scott'),\n",
       " ('madison', 'wisconsin', 'huntsville', 'establishment_backed'),\n",
       " ('madison', 'wisconsin', 'houston', 'houston_texas'),\n",
       " ('madison', 'wisconsin', 'phoenix', 'phoenix_arizona'),\n",
       " ('madison', 'wisconsin', 'austin', 'american_statesman'),\n",
       " ('madison', 'wisconsin', 'memphis', 'michigan'),\n",
       " ('madison', 'wisconsin', 'seattle', 'michigan'),\n",
       " ('madison', 'wisconsin', 'denver', 'michigan'),\n",
       " ('madison', 'wisconsin', 'baltimore', 'elijah_cummings'),\n",
       " ('madison', 'wisconsin', 'louisville', 'michigan'),\n",
       " ('madison', 'wisconsin', 'portland', 'mayor_ted'),\n",
       " ('lubbock', 'texas', 'fremont', 'fremont_california'),\n",
       " ('lubbock', 'texas', 'irvine', 'dallas_fort'),\n",
       " ('lubbock', 'texas', 'tacoma', 'tacoma_washington'),\n",
       " ('lubbock', 'texas', 'tallahassee', 'gillum'),\n",
       " ('lubbock', 'texas', 'chicago', 'mayor_rahm'),\n",
       " ('lubbock', 'texas', 'philadelphia', 'philly'),\n",
       " ('lubbock', 'texas', 'jacksonville', 'jacksonville_florida'),\n",
       " ('lubbock', 'texas', 'detroit', 'detroit_michigan'),\n",
       " ('lubbock', 'texas', 'seattle', 'san_francisco'),\n",
       " ('lubbock', 'texas', 'baltimore', 'rep_elijah'),\n",
       " ('lubbock', 'texas', 'milwaukee', 'brewers'),\n",
       " ('lubbock', 'texas', 'portland', 'portland_oregon'),\n",
       " ('lubbock', 'texas', 'tucson', 'tucson_arizona'),\n",
       " ('garland', 'texas', 'reno', 'galveston'),\n",
       " ('garland', 'texas', 'fremont', 'fremont_california'),\n",
       " ('garland', 'texas', 'irvine', 'galveston'),\n",
       " ('garland', 'texas', 'tacoma', 'tacoma_washington'),\n",
       " ('garland', 'texas', 'chicago', 'mayor_rahm'),\n",
       " ('garland', 'texas', 'phoenix', 'phoenix_arizona'),\n",
       " ('garland', 'texas', 'jacksonville', 'jacksonville_florida'),\n",
       " ('garland', 'texas', 'detroit', 'detroit_michigan'),\n",
       " ('garland', 'texas', 'seattle', 'houston'),\n",
       " ('garland', 'texas', 'denver', 'houston'),\n",
       " ('garland', 'texas', 'baltimore', 'filthy_place'),\n",
       " ('garland', 'texas', 'louisville', 'conroe'),\n",
       " ('garland', 'texas', 'portland', 'portland_oregon'),\n",
       " ('garland', 'texas', 'tucson', 'tucson_arizona'),\n",
       " ('reno', 'nevada', 'irving', 'celtics'),\n",
       " ('reno', 'nevada', 'fremont', 'fremont_california'),\n",
       " ('reno', 'nevada', 'irvine', 'mimi_walters'),\n",
       " ('reno', 'nevada', 'tacoma', 'tacoma_washington'),\n",
       " ('reno', 'nevada', 'tallahassee', 'andrew_gillum'),\n",
       " ('reno', 'nevada', 'huntsville', 'candidate_luther'),\n",
       " ('reno', 'nevada', 'chicago', 'windy_city'),\n",
       " ('reno', 'nevada', 'houston', 'houston_texas'),\n",
       " ('reno', 'nevada', 'philadelphia', 'philly'),\n",
       " ('reno', 'nevada', 'austin', 'american_statesman'),\n",
       " ('reno', 'nevada', 'detroit', 'detroit_michigan'),\n",
       " ('reno', 'nevada', 'seattle', 'iowa'),\n",
       " ('reno', 'nevada', 'denver', 'riggleman'),\n",
       " ('reno', 'nevada', 'baltimore', 'rep_elijah'),\n",
       " ('reno', 'nevada', 'portland', 'portland_oregon'),\n",
       " ('reno', 'nevada', 'tucson', 'tucson_arizona'),\n",
       " ('reno', 'nevada', 'mesa', 'mimi_walters'),\n",
       " ('irving', 'texas', 'fremont', 'fremont_california'),\n",
       " ('irving', 'texas', 'tacoma', 'tacoma_washington'),\n",
       " ('irving', 'texas', 'chicago', 'mayor_rahm'),\n",
       " ...]"
      ]
     },
     "execution_count": 30,
     "metadata": {
      "tags": []
     },
     "output_type": "execute_result"
    }
   ],
   "source": [
    "incorrect_answers = []\n",
    "\n",
    "for question in range(len(incorrects)):\n",
    "  try:\n",
    "    pos1 = incorrects[question][1].lower()\n",
    "    pos2 = incorrects[question][2].lower()\n",
    "    neg = incorrects[question][0].lower()\n",
    "    answer = breitbart10.wv.most_similar(positive=[pos1,pos2], negative=[neg], topn=1)[0][0]\n",
    "    incorrect_answers.append((neg,pos1,pos2,answer))\n",
    "  except:\n",
    "    continue\n",
    "    \n",
    "incorrect_answers"
   ]
  },
  {
   "cell_type": "markdown",
   "metadata": {
    "colab_type": "text",
    "id": "d09xtFnfZKtH"
   },
   "source": [
    "## 3 Extract seed biased words"
   ]
  },
  {
   "cell_type": "code",
   "execution_count": 4,
   "metadata": {
    "colab": {},
    "colab_type": "code",
    "executionInfo": {
     "elapsed": 4843,
     "status": "ok",
     "timestamp": 1600990828966,
     "user": {
      "displayName": "Lada Rudnitckaia",
      "photoUrl": "",
      "userId": "10725902859466840654"
     },
     "user_tz": -120
    },
    "id": "BOMWLui2eJjs"
   },
   "outputs": [],
   "source": [
    "os.chdir(\"/content/gdrive/My Drive/CSS Project/Models\")\n",
    "left_model = Word2Vec.load(\"huff_simp_bi_trigr10.model\")\n",
    "right_model = Word2Vec.load(\"breitbart10.model\")"
   ]
  },
  {
   "cell_type": "code",
   "execution_count": null,
   "metadata": {
    "colab": {},
    "colab_type": "code",
    "id": "WXmI8GTbZOTH"
   },
   "outputs": [],
   "source": [
    "seed_words = ['regulation', 'regulations', 'involvement', 'control', 'unregulated',\n",
    "              'government', 'centralization', 'law',\n",
    "              'tax', 'taxes', 'taxation', 'funding', 'spending',\n",
    "              'corporation', 'corporations', 'business', 'businesses', 'economy',\n",
    "              'equality', 'inequality', 'rights', 'equal_rights', 'wealth', 'living_wage', 'welfare', 'welfare_state',\n",
    "              'services', 'government_services', 'social_security', 'benefit', 'benefits', 'help',\n",
    "              'student', 'students', 'loan', 'loans', 'student_loan', 'student_loans', 'education', 'healthcare',\n",
    "              'individual', 'personal_responsibility', 'collective',\n",
    "              'security', 'military', 'military_force', 'defense', 'intervention', 'protect', 'protection',\n",
    "              'border', 'border_security', 'migration', 'migrant', 'migrants', 'immigration', 'immigrant', 'immigrants',\n",
    "              'terror', 'terrorism', 'terrorist', 'terrorists',\n",
    "              'tradition', 'norms', 'cultural_norms', 'progress', 'change', 'changes',\n",
    "              'race', 'racism',\n",
    "              'gender', 'man', 'woman', 'he', 'she',\n",
    "              'sexual', 'orientation', 'sexual_orientation', 'gay', 'lesbian', 'homosexuality', 'homosexual',\n",
    "              'identity',\n",
    "              'religion', 'islam',\n",
    "              'tolerance', 'multiculturalism', 'family', 'values', 'family_values', 'bible', 'constitution',\n",
    "              'freedom', 'speech', 'freedom_of_speech', 'free_speech', 'hate_speech', 'gun', 'guns', 'gun_owner', 'gun_owners',\n",
    "              'abortion', 'environment', 'media']\n",
    "              \n",
    "print(\"The number of seed words:\", len(seed_words))"
   ]
  },
  {
   "cell_type": "code",
   "execution_count": null,
   "metadata": {
    "colab": {},
    "colab_type": "code",
    "id": "TTP0oNAjZZDu"
   },
   "outputs": [],
   "source": [
    "close_to_seed_huffpost = {}\n",
    "\n",
    "for seed_word in seed_words:\n",
    "  if seed_word not in left_model.wv.vocab:\n",
    "    close_to_seed_huffpost[seed_word] = ['not in the vocabulary']\n",
    "  else:\n",
    "    close_to_seed_huffpost[seed_word] = left_model.most_similar(positive=seed_word, topn=20)\n",
    "    \n",
    "close_to_seed_huffpost_pd = pd.DataFrame(columns = [\"seed_word\", \"close_word\", \"cos_sim\"])\n",
    "\n",
    "for seed_word in seed_words:\n",
    "  if seed_word not in left_model.wv.vocab:\n",
    "    row = pd.DataFrame([[seed_word, 'not in the vocabulary', None]], \n",
    "                       columns=[\"seed_word\", \"close_word\", \"cos_sim\"])\n",
    "    close_to_seed_huffpost_pd = close_to_seed_huffpost_pd.append(row)\n",
    "\n",
    "  else:\n",
    "    for tuple_num in range(len(left_model.most_similar(positive=seed_word, topn=20))):\n",
    "      close_word = left_model.most_similar(positive=seed_word, topn=20)[tuple_num][0]\n",
    "      cos_sim = left_model.most_similar(positive=seed_word, topn=20)[tuple_num][1]\n",
    "      row = pd.DataFrame([[seed_word, close_word, cos_sim]], \n",
    "                         columns=[\"seed_word\", \"close_word\", \"cos_sim\"])\n",
    "      close_to_seed_huffpost_pd = close_to_seed_huffpost_pd.append(row)"
   ]
  },
  {
   "cell_type": "code",
   "execution_count": null,
   "metadata": {
    "colab": {},
    "colab_type": "code",
    "id": "8zZWrzSnZcJZ"
   },
   "outputs": [],
   "source": [
    "# os.chdir(\"/content/gdrive/My Drive/CSS Project/Lexicon analysis\")\n",
    "# close_to_seed_huffpost_pd.to_csv(r'close_to_seed_huffpost.csv', index = False, header = True)"
   ]
  },
  {
   "cell_type": "code",
   "execution_count": null,
   "metadata": {
    "colab": {},
    "colab_type": "code",
    "id": "L2zZblCDZkB6"
   },
   "outputs": [],
   "source": [
    "close_to_seed_breitbart = {}\n",
    "\n",
    "for seed_word in seed_words:\n",
    "  if seed_word not in right_model.wv.vocab:\n",
    "    close_to_seed_breitbart[seed_word] = ['not in the vocabulary']\n",
    "  else:\n",
    "    close_to_seed_breitbart[seed_word] = right_model.most_similar(positive=seed_word, topn=20)\n",
    "    \n",
    "close_to_seed_breitbart_pd = pd.DataFrame(columns = [\"seed_word\", \"close_word\", \"cos_sim\"])\n",
    "\n",
    "for seed_word in seed_words:\n",
    "  if seed_word not in right_model.wv.vocab:\n",
    "    row = pd.DataFrame([[seed_word, 'not in the vocabulary', None]], \n",
    "                       columns=[\"seed_word\", \"close_word\", \"cos_sim\"])\n",
    "    close_to_seed_breitbart_pd = close_to_seed_breitbart_pd.append(row)\n",
    "\n",
    "  else:\n",
    "    for tuple_num in range(len(right_model.most_similar(positive=seed_word, topn=20))):\n",
    "      close_word = right_model.most_similar(positive=seed_word, topn=20)[tuple_num][0]\n",
    "      cos_sim = right_model.most_similar(positive=seed_word, topn=20)[tuple_num][1]\n",
    "      row = pd.DataFrame([[seed_word, close_word, cos_sim]], \n",
    "                         columns=[\"seed_word\", \"close_word\", \"cos_sim\"])\n",
    "      close_to_seed_breitbart_pd = close_to_seed_breitbart_pd.append(row)"
   ]
  },
  {
   "cell_type": "code",
   "execution_count": null,
   "metadata": {
    "colab": {},
    "colab_type": "code",
    "id": "yjGLgORmZuZ3"
   },
   "outputs": [],
   "source": [
    "# os.chdir(\"/content/gdrive/My Drive/CSS Project/Lexicon analysis\")\n",
    "# close_to_seed_breitbart_pd.to_csv(r'close_to_seed_breitbart.csv', index = False, header = True)"
   ]
  }
 ],
 "metadata": {
  "colab": {
   "collapsed_sections": [
    "6Qxdldh3E-wR",
    "ewOo_TEmE-wS",
    "zjXkL0rivNXk",
    "S1awIfoFvbT6",
    "Y0y0dcTKzB5a",
    "S1Njg435zB6f",
    "v3AU2am1zB6i",
    "kH9GU3dbEuxo",
    "DgNahPspQzVD",
    "wHKs0rK2HCvJ",
    "TECNX8QqHCwM",
    "mKH5rqUlHCwM",
    "e-VEoO5wHCwh",
    "vMN92Js1HCwl",
    "d09xtFnfZKtH"
   ],
   "machine_shape": "hm",
   "name": "Word_emb_for_biased_corpora.ipynb",
   "provenance": [],
   "toc_visible": true
  },
  "kernelspec": {
   "display_name": "Python 3",
   "language": "python",
   "name": "python3"
  },
  "language_info": {
   "codemirror_mode": {
    "name": "ipython",
    "version": 3
   },
   "file_extension": ".py",
   "mimetype": "text/x-python",
   "name": "python",
   "nbconvert_exporter": "python",
   "pygments_lexer": "ipython3",
   "version": "3.7.4"
  }
 },
 "nbformat": 4,
 "nbformat_minor": 1
}
