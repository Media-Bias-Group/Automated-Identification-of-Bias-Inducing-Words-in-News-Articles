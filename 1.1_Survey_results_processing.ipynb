{
 "cells": [
  {
   "cell_type": "markdown",
   "metadata": {},
   "source": [
    "# Survey results processing"
   ]
  },
  {
   "cell_type": "markdown",
   "metadata": {},
   "source": [
    "In this script, we:\n",
    "- assemble the row survey data into a dataset for further media bias analysis,\n",
    "- retrieve descriptive statistics of the assembled dataset.\n",
    "\n",
    "To run this script, the following data files are needed (attached):\n",
    "- annotations_final_notempty.xlsx\n",
    "- sentences_final.xlsx\n",
    "- biased_words_analysis.xlsx\n",
    "- articles.xlsx\n",
    "- labeled_dataset.xlsx\n",
    "- annotators.csv"
   ]
  },
  {
   "cell_type": "code",
   "execution_count": 56,
   "metadata": {
    "scrolled": true
   },
   "outputs": [],
   "source": [
    "# data\n",
    "import pandas as pd\n",
    "import numpy as np\n",
    "\n",
    "# misc\n",
    "import os\n",
    "import re\n",
    "import time\n",
    "import ast\n",
    "import copy\n",
    "from newsplease import NewsPlease\n",
    "\n",
    "# statistics\n",
    "import statistics\n",
    "import statsmodels\n",
    "from statsmodels.stats import inter_rater\n",
    "\n",
    "# visualizations\n",
    "import matplotlib.pyplot as plt\n",
    "from matplotlib.patches import Patch\n",
    "import plotly.express as px\n",
    "from matplotlib import colors"
   ]
  },
  {
   "cell_type": "markdown",
   "metadata": {},
   "source": [
    "## 1 Dataset assembling"
   ]
  },
  {
   "cell_type": "code",
   "execution_count": 2,
   "metadata": {
    "scrolled": true
   },
   "outputs": [
    {
     "data": {
      "text/html": [
       "<div>\n",
       "<style scoped>\n",
       "    .dataframe tbody tr th:only-of-type {\n",
       "        vertical-align: middle;\n",
       "    }\n",
       "\n",
       "    .dataframe tbody tr th {\n",
       "        vertical-align: top;\n",
       "    }\n",
       "\n",
       "    .dataframe thead th {\n",
       "        text-align: right;\n",
       "    }\n",
       "</style>\n",
       "<table border=\"1\" class=\"dataframe\">\n",
       "  <thead>\n",
       "    <tr style=\"text-align: right;\">\n",
       "      <th></th>\n",
       "      <th>Unnamed: 0</th>\n",
       "      <th>Unnamed: 0.1</th>\n",
       "      <th>survey_record_id</th>\n",
       "      <th>sentence_id</th>\n",
       "      <th>sentence_group_id</th>\n",
       "      <th>created_at</th>\n",
       "      <th>label</th>\n",
       "      <th>words</th>\n",
       "      <th>factual</th>\n",
       "      <th>group_id</th>\n",
       "      <th>...</th>\n",
       "      <th>mturk_id</th>\n",
       "      <th>age</th>\n",
       "      <th>gender</th>\n",
       "      <th>education</th>\n",
       "      <th>native_english_speaker</th>\n",
       "      <th>political_ideology</th>\n",
       "      <th>followed_news_outlets</th>\n",
       "      <th>news_check_frequency</th>\n",
       "      <th>survey_completed</th>\n",
       "      <th>political_ideology_lcr</th>\n",
       "    </tr>\n",
       "  </thead>\n",
       "  <tbody>\n",
       "    <tr>\n",
       "      <td>0</td>\n",
       "      <td>0</td>\n",
       "      <td>19227</td>\n",
       "      <td>0045473f40ec42a2bd2ca0ee35df0b75</td>\n",
       "      <td>06e9e57e549d4dd48d8ac649ff81fd2e</td>\n",
       "      <td>67</td>\n",
       "      <td>2020-08-12 06:09:53</td>\n",
       "      <td>Non-biased</td>\n",
       "      <td>NaN</td>\n",
       "      <td>Entirely factual</td>\n",
       "      <td>67</td>\n",
       "      <td>...</td>\n",
       "      <td>Jonathan Daniel Garavito</td>\n",
       "      <td>29</td>\n",
       "      <td>Male</td>\n",
       "      <td>Bachelor’s degree</td>\n",
       "      <td>Native speaker</td>\n",
       "      <td>7</td>\n",
       "      <td>[ABC News, MSNBC]</td>\n",
       "      <td>Every day</td>\n",
       "      <td>True</td>\n",
       "      <td>right</td>\n",
       "    </tr>\n",
       "    <tr>\n",
       "      <td>1</td>\n",
       "      <td>1</td>\n",
       "      <td>19228</td>\n",
       "      <td>0045473f40ec42a2bd2ca0ee35df0b75</td>\n",
       "      <td>07f2137fd3ae4dd2b5c990b93e5c2a62</td>\n",
       "      <td>67</td>\n",
       "      <td>2020-08-12 06:10:21</td>\n",
       "      <td>Non-biased</td>\n",
       "      <td>NaN</td>\n",
       "      <td>Expresses writer’s opinion</td>\n",
       "      <td>67</td>\n",
       "      <td>...</td>\n",
       "      <td>Jonathan Daniel Garavito</td>\n",
       "      <td>29</td>\n",
       "      <td>Male</td>\n",
       "      <td>Bachelor’s degree</td>\n",
       "      <td>Native speaker</td>\n",
       "      <td>7</td>\n",
       "      <td>[ABC News, MSNBC]</td>\n",
       "      <td>Every day</td>\n",
       "      <td>True</td>\n",
       "      <td>right</td>\n",
       "    </tr>\n",
       "  </tbody>\n",
       "</table>\n",
       "<p>2 rows × 25 columns</p>\n",
       "</div>"
      ],
      "text/plain": [
       "   Unnamed: 0  Unnamed: 0.1                  survey_record_id  \\\n",
       "0           0         19227  0045473f40ec42a2bd2ca0ee35df0b75   \n",
       "1           1         19228  0045473f40ec42a2bd2ca0ee35df0b75   \n",
       "\n",
       "                        sentence_id  sentence_group_id           created_at  \\\n",
       "0  06e9e57e549d4dd48d8ac649ff81fd2e                 67  2020-08-12 06:09:53   \n",
       "1  07f2137fd3ae4dd2b5c990b93e5c2a62                 67  2020-08-12 06:10:21   \n",
       "\n",
       "        label words                     factual  group_id  ...  \\\n",
       "0  Non-biased   NaN            Entirely factual        67  ...   \n",
       "1  Non-biased   NaN  Expresses writer’s opinion        67  ...   \n",
       "\n",
       "                   mturk_id age gender          education  \\\n",
       "0  Jonathan Daniel Garavito  29   Male  Bachelor’s degree   \n",
       "1  Jonathan Daniel Garavito  29   Male  Bachelor’s degree   \n",
       "\n",
       "  native_english_speaker political_ideology  followed_news_outlets  \\\n",
       "0         Native speaker                  7      [ABC News, MSNBC]   \n",
       "1         Native speaker                  7      [ABC News, MSNBC]   \n",
       "\n",
       "  news_check_frequency survey_completed political_ideology_lcr  \n",
       "0            Every day             True                  right  \n",
       "1            Every day             True                  right  \n",
       "\n",
       "[2 rows x 25 columns]"
      ]
     },
     "execution_count": 2,
     "metadata": {},
     "output_type": "execute_result"
    }
   ],
   "source": [
    "# upload annotation results without rejected ones and without the following ones:\n",
    "os.chdir('/Users/ladarudnitckaia/Desktop/Master Thesis/4. Survey/Results processing')\n",
    "annotations = pd.read_excel(\"annotations_final_notempty.xlsx\")\n",
    "annotations['political_ideology_lcr'] = annotations['political_ideology'].apply(lambda x: \"left\" if x < -3\n",
    "                                                                                else (\"right\" if x > 3 else \"center\"))\n",
    "annotations[\"followed_news_outlets\"] = annotations.followed_news_outlets.apply(lambda s: list(ast.literal_eval(s)))\n",
    "\n",
    "annotations.head(2)"
   ]
  },
  {
   "cell_type": "code",
   "execution_count": 3,
   "metadata": {},
   "outputs": [
    {
     "data": {
      "text/html": [
       "<div>\n",
       "<style scoped>\n",
       "    .dataframe tbody tr th:only-of-type {\n",
       "        vertical-align: middle;\n",
       "    }\n",
       "\n",
       "    .dataframe tbody tr th {\n",
       "        vertical-align: top;\n",
       "    }\n",
       "\n",
       "    .dataframe thead th {\n",
       "        text-align: right;\n",
       "    }\n",
       "</style>\n",
       "<table border=\"1\" class=\"dataframe\">\n",
       "  <thead>\n",
       "    <tr style=\"text-align: right;\">\n",
       "      <th></th>\n",
       "      <th>sentence</th>\n",
       "      <th>news_link</th>\n",
       "      <th>outlet</th>\n",
       "      <th>topic</th>\n",
       "      <th>type</th>\n",
       "      <th>group_id</th>\n",
       "      <th>num_sent</th>\n",
       "      <th>Unnamed: 7</th>\n",
       "    </tr>\n",
       "  </thead>\n",
       "  <tbody>\n",
       "    <tr>\n",
       "      <td>0</td>\n",
       "      <td>YouTube is making clear there will be no “birt...</td>\n",
       "      <td>https://eu.usatoday.com/story/tech/2020/02/03/...</td>\n",
       "      <td>usa-today</td>\n",
       "      <td>elections-2020</td>\n",
       "      <td>center</td>\n",
       "      <td>1</td>\n",
       "      <td>1</td>\n",
       "      <td>NaN</td>\n",
       "    </tr>\n",
       "    <tr>\n",
       "      <td>1</td>\n",
       "      <td>The increasingly bitter dispute between Americ...</td>\n",
       "      <td>https://www.nbcnews.com/news/sports/women-s-te...</td>\n",
       "      <td>msnbc</td>\n",
       "      <td>sport</td>\n",
       "      <td>left</td>\n",
       "      <td>1</td>\n",
       "      <td>1</td>\n",
       "      <td>NaN</td>\n",
       "    </tr>\n",
       "  </tbody>\n",
       "</table>\n",
       "</div>"
      ],
      "text/plain": [
       "                                            sentence  \\\n",
       "0  YouTube is making clear there will be no “birt...   \n",
       "1  The increasingly bitter dispute between Americ...   \n",
       "\n",
       "                                           news_link     outlet  \\\n",
       "0  https://eu.usatoday.com/story/tech/2020/02/03/...  usa-today   \n",
       "1  https://www.nbcnews.com/news/sports/women-s-te...      msnbc   \n",
       "\n",
       "            topic    type  group_id  num_sent Unnamed: 7  \n",
       "0  elections-2020  center         1         1        NaN  \n",
       "1           sport    left         1         1        NaN  "
      ]
     },
     "execution_count": 3,
     "metadata": {},
     "output_type": "execute_result"
    }
   ],
   "source": [
    "os.chdir('/Users/ladarudnitckaia/Desktop/Master Thesis/4. Survey/Sentences collection')\n",
    "all_sentences = pd.read_excel(\"sentences_final.xlsx\")\n",
    "all_sentences.head(2)"
   ]
  },
  {
   "cell_type": "code",
   "execution_count": 4,
   "metadata": {},
   "outputs": [],
   "source": [
    "# pivoting\n",
    "turker_words = annotations.pivot(index='text', columns='survey_record_id', values='words')\n",
    "turker_bias = annotations.pivot(index='text', columns='survey_record_id', values='label')\n",
    "turker_opin = annotations.pivot(index='text', columns='survey_record_id', values='factual')"
   ]
  },
  {
   "cell_type": "markdown",
   "metadata": {},
   "source": [
    "### 1.1 Labels - biased/non-biased"
   ]
  },
  {
   "cell_type": "code",
   "execution_count": 5,
   "metadata": {
    "collapsed": true
   },
   "outputs": [
    {
     "name": "stderr",
     "output_type": "stream",
     "text": [
      "/Users/ladarudnitckaia/opt/anaconda3/lib/python3.7/site-packages/ipykernel_launcher.py:4: SettingWithCopyWarning: \n",
      "A value is trying to be set on a copy of a slice from a DataFrame.\n",
      "Try using .loc[row_indexer,col_indexer] = value instead\n",
      "\n",
      "See the caveats in the documentation: http://pandas.pydata.org/pandas-docs/stable/user_guide/indexing.html#returning-a-view-versus-a-copy\n",
      "  after removing the cwd from sys.path.\n",
      "/Users/ladarudnitckaia/opt/anaconda3/lib/python3.7/site-packages/ipykernel_launcher.py:6: SettingWithCopyWarning: \n",
      "A value is trying to be set on a copy of a slice from a DataFrame.\n",
      "Try using .loc[row_indexer,col_indexer] = value instead\n",
      "\n",
      "See the caveats in the documentation: http://pandas.pydata.org/pandas-docs/stable/user_guide/indexing.html#returning-a-view-versus-a-copy\n",
      "  \n"
     ]
    }
   ],
   "source": [
    "turker_bias[\"Biased\"] = turker_bias.apply(lambda row: sum(row[1:len(turker_bias.columns)]==\"Biased\") ,axis=1)\n",
    "turker_bias[\"Non-biased\"] = turker_bias.apply(lambda row: sum(row[1:(len(turker_bias.columns)-1)]==\"Non-biased\") ,axis=1)\n",
    "results_bias = turker_bias[[\"Biased\", 'Non-biased']]\n",
    "results_bias[\"Label_bias\"] = results_bias.apply(lambda row: \"Biased\" if row[\"Biased\"]>((row[\"Biased\"]+row[\"Non-biased\"])/2) else (\"Non-biased\" if row[\"Non-biased\"]>((row[\"Biased\"]+row[\"Non-biased\"])/2) else \"No agreement\"), axis=1)\n",
    "\n",
    "results_bias[\"Total_annotations\"] = results_bias[\"Biased\"] + results_bias[\"Non-biased\"]"
   ]
  },
  {
   "cell_type": "code",
   "execution_count": 6,
   "metadata": {
    "scrolled": true
   },
   "outputs": [
    {
     "data": {
      "text/html": [
       "<div>\n",
       "<style scoped>\n",
       "    .dataframe tbody tr th:only-of-type {\n",
       "        vertical-align: middle;\n",
       "    }\n",
       "\n",
       "    .dataframe tbody tr th {\n",
       "        vertical-align: top;\n",
       "    }\n",
       "\n",
       "    .dataframe thead th {\n",
       "        text-align: right;\n",
       "    }\n",
       "</style>\n",
       "<table border=\"1\" class=\"dataframe\">\n",
       "  <thead>\n",
       "    <tr style=\"text-align: right;\">\n",
       "      <th>survey_record_id</th>\n",
       "      <th>Biased</th>\n",
       "      <th>Non-biased</th>\n",
       "      <th>Label_bias</th>\n",
       "      <th>Total_annotations</th>\n",
       "    </tr>\n",
       "    <tr>\n",
       "      <th>text</th>\n",
       "      <th></th>\n",
       "      <th></th>\n",
       "      <th></th>\n",
       "      <th></th>\n",
       "    </tr>\n",
       "  </thead>\n",
       "  <tbody>\n",
       "    <tr>\n",
       "      <td>Gautney consented to this field, job, and city, so if she has an issue with compensation or cost of living, switching to a more lucrative field or cheaper place to live is a decision she should make for herself, not a decision that ought to be bailed out by unsuspecting taxpayers who played no role in the choice.</td>\n",
       "      <td>8</td>\n",
       "      <td>3</td>\n",
       "      <td>Biased</td>\n",
       "      <td>11</td>\n",
       "    </tr>\n",
       "    <tr>\n",
       "      <td>Trade jobs such as electricians or carpenters are in demand and provide steady salaries. Policymakers shouldn’t deter students who know a good job when they see it.</td>\n",
       "      <td>6</td>\n",
       "      <td>4</td>\n",
       "      <td>Biased</td>\n",
       "      <td>10</td>\n",
       "    </tr>\n",
       "    <tr>\n",
       "      <td>While conservatives may find comfort in the old saw that those who aren’t liberal at 20 have no heart, and those who aren’t conservative at 40 have no brain, the truth, as Levin knows, is that those who are statists at 20 usually end up statists at 40. And he’s not content to allow time to take its uncertain political toll.</td>\n",
       "      <td>9</td>\n",
       "      <td>1</td>\n",
       "      <td>Biased</td>\n",
       "      <td>10</td>\n",
       "    </tr>\n",
       "    <tr>\n",
       "      <td>\"Orange Is the New Black\" star Yael Stone is renouncing her U.S. green card to return to her native Australia in order to fight climate change.</td>\n",
       "      <td>6</td>\n",
       "      <td>6</td>\n",
       "      <td>No agreement</td>\n",
       "      <td>12</td>\n",
       "    </tr>\n",
       "    <tr>\n",
       "      <td>...immigrants as criminals and eugenics, all of which were once considered fringe and extreme. White nationalists embrace white supremacist and white separatist views.</td>\n",
       "      <td>6</td>\n",
       "      <td>4</td>\n",
       "      <td>Biased</td>\n",
       "      <td>10</td>\n",
       "    </tr>\n",
       "    <tr>\n",
       "      <td>...we sounded the alarm in the early months of Trump’s presidency, when prime-time Fox News host Tucker Carlson began to experiment with segments that used euphemisms like “Western civilization” to package the idea that white people are inherently more civilized while people of color are a threat to national stability.</td>\n",
       "      <td>8</td>\n",
       "      <td>3</td>\n",
       "      <td>Biased</td>\n",
       "      <td>11</td>\n",
       "    </tr>\n",
       "    <tr>\n",
       "      <td>A 10-hour hearing broadcast on the court’s website showed Sun, China's greatest ever swimmer, and one of its biggest sports stars, to be evasive at times under questioning that was hampered by severe translation issues between Chinese and English.</td>\n",
       "      <td>5</td>\n",
       "      <td>4</td>\n",
       "      <td>Biased</td>\n",
       "      <td>9</td>\n",
       "    </tr>\n",
       "    <tr>\n",
       "      <td>A 60-foot chunk of the Ocean Cleanup device, deployed with much fanfare in the Great Pacific Garbage Patch in October, has broken off and the entire plastic collection system will now be towed back to port for an overhaul and upgrade.</td>\n",
       "      <td>5</td>\n",
       "      <td>5</td>\n",
       "      <td>No agreement</td>\n",
       "      <td>10</td>\n",
       "    </tr>\n",
       "    <tr>\n",
       "      <td>A 70% majority of Americans view the economy as unfairly favoring those with power, and large majorities also say politicians, giant corporations, and wealthy individuals wield too much power over the economy, according to Pew Research Center.</td>\n",
       "      <td>5</td>\n",
       "      <td>6</td>\n",
       "      <td>Non-biased</td>\n",
       "      <td>11</td>\n",
       "    </tr>\n",
       "    <tr>\n",
       "      <td>A Catholic priest in Rhode Island who barred state lawmakers who supported an abortion rights bill from receiving communion at his church has doubled down on his stance, saying abortion is worse than pedophilia.</td>\n",
       "      <td>7</td>\n",
       "      <td>5</td>\n",
       "      <td>Biased</td>\n",
       "      <td>12</td>\n",
       "    </tr>\n",
       "    <tr>\n",
       "      <td>A Gallup poll reports that women are still more likely to do laundry, clean the house, do grocery shopping, prepare meals, wash dishes and make decisions about furniture and decorations – even among younger generations who are reportedly more egalitarian as ever.</td>\n",
       "      <td>3</td>\n",
       "      <td>8</td>\n",
       "      <td>Non-biased</td>\n",
       "      <td>11</td>\n",
       "    </tr>\n",
       "    <tr>\n",
       "      <td>A Guatemalan mom who says she sustained severe chemical burns and was sexually assaulted in front of her young daughter during a kidnapping in Mexico is asking the U.S. government to let her into the country while her asylum case plays out.</td>\n",
       "      <td>3</td>\n",
       "      <td>7</td>\n",
       "      <td>Non-biased</td>\n",
       "      <td>10</td>\n",
       "    </tr>\n",
       "    <tr>\n",
       "      <td>A Republican group opposed to President Donald Trump is urging voters to end his “American carnage” by voting him out of office in November. And it’s using one of Trump’s favorite TV shows to spread the message.</td>\n",
       "      <td>4</td>\n",
       "      <td>6</td>\n",
       "      <td>Non-biased</td>\n",
       "      <td>10</td>\n",
       "    </tr>\n",
       "    <tr>\n",
       "      <td>A Texas law requires contractors who work for or do business with the state to certify that they do not boycott Israel or Israeli-occupied territories.</td>\n",
       "      <td>1</td>\n",
       "      <td>11</td>\n",
       "      <td>Non-biased</td>\n",
       "      <td>12</td>\n",
       "    </tr>\n",
       "    <tr>\n",
       "      <td>A U.S. official, speaking on condition of anonymity, confirmed that a range of options were under discussion but that it had not yet reached the level of Trump’s top national security team or been taken to the president.</td>\n",
       "      <td>0</td>\n",
       "      <td>12</td>\n",
       "      <td>Non-biased</td>\n",
       "      <td>12</td>\n",
       "    </tr>\n",
       "    <tr>\n",
       "      <td>A bill proposed by a group of Republican lawmakers on Wednesday that would have amended the Iowa Civil Rights Act by removing protections against discrimination for transgender people is dead</td>\n",
       "      <td>2</td>\n",
       "      <td>8</td>\n",
       "      <td>Non-biased</td>\n",
       "      <td>10</td>\n",
       "    </tr>\n",
       "    <tr>\n",
       "      <td>A bold statement Wednesday from former Secretary of Defense Gen. James Mattis eviscerating Donald Trump has landed like a bomb in the Senate Republican caucus, sending members fleeing in all different directions.</td>\n",
       "      <td>8</td>\n",
       "      <td>3</td>\n",
       "      <td>Biased</td>\n",
       "      <td>11</td>\n",
       "    </tr>\n",
       "    <tr>\n",
       "      <td>A divided federal appeals court on Tuesday rejected Planned Parenthood’s constitutional challenge to an Ohio law depriving the organization of state funding because it performs abortions, handing a victory to anti-abortion advocates.</td>\n",
       "      <td>4</td>\n",
       "      <td>6</td>\n",
       "      <td>Non-biased</td>\n",
       "      <td>10</td>\n",
       "    </tr>\n",
       "    <tr>\n",
       "      <td>A family-run network of pro-gun groups is behind five of the largest Facebook groups dedicated to protesting the shelter-in-place restrictions, according to an NBC News analysis of Facebook groups and website registration information.</td>\n",
       "      <td>7</td>\n",
       "      <td>5</td>\n",
       "      <td>Biased</td>\n",
       "      <td>12</td>\n",
       "    </tr>\n",
       "    <tr>\n",
       "      <td>A federal judge dismissed the United States women’s soccer team’s bid for equal pay on Friday, rejecting claims the players had been underpaid in a crushing defeat for the reigning world champions.</td>\n",
       "      <td>4</td>\n",
       "      <td>6</td>\n",
       "      <td>Non-biased</td>\n",
       "      <td>10</td>\n",
       "    </tr>\n",
       "    <tr>\n",
       "      <td>A federal judge in Tucson, Arizona delivered a blow Monday to the Trump administration’s strategy of criminalizing humanitarian aid work along the southern border with her decision to overturn the convictions of four volunteers on religious freedom grounds.</td>\n",
       "      <td>8</td>\n",
       "      <td>2</td>\n",
       "      <td>Biased</td>\n",
       "      <td>10</td>\n",
       "    </tr>\n",
       "    <tr>\n",
       "      <td>A federal judge on Wednesday temporarily blocked a Trump administration order that allowed state and local governments to refuse the resettling of refugees, finding the policy likely “unlawful.”</td>\n",
       "      <td>5</td>\n",
       "      <td>5</td>\n",
       "      <td>No agreement</td>\n",
       "      <td>10</td>\n",
       "    </tr>\n",
       "    <tr>\n",
       "      <td>A federal visa program allowing international students to work at firms in the United States after graduation appears to have been exploited by fake companies providing false employment verifications, according to an NBC News/NBC Bay Area investigation.</td>\n",
       "      <td>6</td>\n",
       "      <td>5</td>\n",
       "      <td>Biased</td>\n",
       "      <td>11</td>\n",
       "    </tr>\n",
       "    <tr>\n",
       "      <td>A firefighter was killed by a falling tree while battling the Australian wildfire crisis overnight, and the prime minister on Sunday said his government was adapting and building resilience to the fire danger posed by climate change.</td>\n",
       "      <td>6</td>\n",
       "      <td>6</td>\n",
       "      <td>No agreement</td>\n",
       "      <td>12</td>\n",
       "    </tr>\n",
       "    <tr>\n",
       "      <td>A former North Korean diplomat who staged a high-profile defection to the South on Saturday urged an old colleague who has gone missing in Italy to defect to Seoul, following a report that he was seeking asylum in the United States.</td>\n",
       "      <td>3</td>\n",
       "      <td>7</td>\n",
       "      <td>Non-biased</td>\n",
       "      <td>10</td>\n",
       "    </tr>\n",
       "  </tbody>\n",
       "</table>\n",
       "</div>"
      ],
      "text/plain": [
       "survey_record_id                                    Biased  Non-biased  \\\n",
       "text                                                                     \n",
       " Gautney consented to this field, job, and city...       8           3   \n",
       " Trade jobs such as electricians or carpenters ...       6           4   \n",
       " While conservatives may find comfort in the ol...       9           1   \n",
       "\"Orange Is the New Black\" star Yael Stone is re...       6           6   \n",
       "...immigrants as criminals and eugenics, all of...       6           4   \n",
       "...we sounded the alarm in the early months of ...       8           3   \n",
       "A 10-hour hearing broadcast on the court’s webs...       5           4   \n",
       "A 60-foot chunk of the Ocean Cleanup device, de...       5           5   \n",
       "A 70% majority of Americans view the economy as...       5           6   \n",
       "A Catholic priest in Rhode Island who barred st...       7           5   \n",
       "A Gallup poll reports that women are still more...       3           8   \n",
       "A Guatemalan mom who says she sustained severe ...       3           7   \n",
       "A Republican group opposed to President Donald ...       4           6   \n",
       "A Texas law requires contractors who work for o...       1          11   \n",
       "A U.S. official, speaking on condition of anony...       0          12   \n",
       "A bill proposed by a group of Republican lawmak...       2           8   \n",
       "A bold statement Wednesday from former Secretar...       8           3   \n",
       "A divided federal appeals court on Tuesday reje...       4           6   \n",
       "A family-run network of pro-gun groups is behin...       7           5   \n",
       "A federal judge dismissed the United States wom...       4           6   \n",
       "A federal judge in Tucson, Arizona delivered a ...       8           2   \n",
       "A federal judge on Wednesday temporarily blocke...       5           5   \n",
       "A federal visa program allowing international s...       6           5   \n",
       "A firefighter was killed by a falling tree whil...       6           6   \n",
       "A former North Korean diplomat who staged a hig...       3           7   \n",
       "\n",
       "survey_record_id                                      Label_bias  \\\n",
       "text                                                               \n",
       " Gautney consented to this field, job, and city...        Biased   \n",
       " Trade jobs such as electricians or carpenters ...        Biased   \n",
       " While conservatives may find comfort in the ol...        Biased   \n",
       "\"Orange Is the New Black\" star Yael Stone is re...  No agreement   \n",
       "...immigrants as criminals and eugenics, all of...        Biased   \n",
       "...we sounded the alarm in the early months of ...        Biased   \n",
       "A 10-hour hearing broadcast on the court’s webs...        Biased   \n",
       "A 60-foot chunk of the Ocean Cleanup device, de...  No agreement   \n",
       "A 70% majority of Americans view the economy as...    Non-biased   \n",
       "A Catholic priest in Rhode Island who barred st...        Biased   \n",
       "A Gallup poll reports that women are still more...    Non-biased   \n",
       "A Guatemalan mom who says she sustained severe ...    Non-biased   \n",
       "A Republican group opposed to President Donald ...    Non-biased   \n",
       "A Texas law requires contractors who work for o...    Non-biased   \n",
       "A U.S. official, speaking on condition of anony...    Non-biased   \n",
       "A bill proposed by a group of Republican lawmak...    Non-biased   \n",
       "A bold statement Wednesday from former Secretar...        Biased   \n",
       "A divided federal appeals court on Tuesday reje...    Non-biased   \n",
       "A family-run network of pro-gun groups is behin...        Biased   \n",
       "A federal judge dismissed the United States wom...    Non-biased   \n",
       "A federal judge in Tucson, Arizona delivered a ...        Biased   \n",
       "A federal judge on Wednesday temporarily blocke...  No agreement   \n",
       "A federal visa program allowing international s...        Biased   \n",
       "A firefighter was killed by a falling tree whil...  No agreement   \n",
       "A former North Korean diplomat who staged a hig...    Non-biased   \n",
       "\n",
       "survey_record_id                                    Total_annotations  \n",
       "text                                                                   \n",
       " Gautney consented to this field, job, and city...                 11  \n",
       " Trade jobs such as electricians or carpenters ...                 10  \n",
       " While conservatives may find comfort in the ol...                 10  \n",
       "\"Orange Is the New Black\" star Yael Stone is re...                 12  \n",
       "...immigrants as criminals and eugenics, all of...                 10  \n",
       "...we sounded the alarm in the early months of ...                 11  \n",
       "A 10-hour hearing broadcast on the court’s webs...                  9  \n",
       "A 60-foot chunk of the Ocean Cleanup device, de...                 10  \n",
       "A 70% majority of Americans view the economy as...                 11  \n",
       "A Catholic priest in Rhode Island who barred st...                 12  \n",
       "A Gallup poll reports that women are still more...                 11  \n",
       "A Guatemalan mom who says she sustained severe ...                 10  \n",
       "A Republican group opposed to President Donald ...                 10  \n",
       "A Texas law requires contractors who work for o...                 12  \n",
       "A U.S. official, speaking on condition of anony...                 12  \n",
       "A bill proposed by a group of Republican lawmak...                 10  \n",
       "A bold statement Wednesday from former Secretar...                 11  \n",
       "A divided federal appeals court on Tuesday reje...                 10  \n",
       "A family-run network of pro-gun groups is behin...                 12  \n",
       "A federal judge dismissed the United States wom...                 10  \n",
       "A federal judge in Tucson, Arizona delivered a ...                 10  \n",
       "A federal judge on Wednesday temporarily blocke...                 10  \n",
       "A federal visa program allowing international s...                 11  \n",
       "A firefighter was killed by a falling tree whil...                 12  \n",
       "A former North Korean diplomat who staged a hig...                 10  "
      ]
     },
     "execution_count": 6,
     "metadata": {},
     "output_type": "execute_result"
    }
   ],
   "source": [
    "results_bias.head(25)"
   ]
  },
  {
   "cell_type": "code",
   "execution_count": 54,
   "metadata": {},
   "outputs": [],
   "source": [
    "# os.chdir('/Users/ladarudnitckaia/Desktop/Master Thesis/4. Survey/Results processing')\n",
    "# results_bias.to_excel('results_bias.xlsx')"
   ]
  },
  {
   "cell_type": "code",
   "execution_count": 7,
   "metadata": {},
   "outputs": [
    {
     "name": "stdout",
     "output_type": "stream",
     "text": [
      "Out of 1700 149 have no agreement.\n"
     ]
    }
   ],
   "source": [
    "no_ag_bias = results_bias[results_bias['Label_bias']=='No agreement']\n",
    "print(\"Out of\", len(results_bias), len(no_ag_bias), \"have no agreement.\")"
   ]
  },
  {
   "cell_type": "code",
   "execution_count": 8,
   "metadata": {},
   "outputs": [
    {
     "name": "stdout",
     "output_type": "stream",
     "text": [
      "Fleiss Kappa for annotation on whether the sentence is biased/impartial: 0.21 (Fair agreement)\n"
     ]
    }
   ],
   "source": [
    "results_bias10 = results_bias[results_bias['Total_annotations']==10]\n",
    "\n",
    "fk_bias = inter_rater.fleiss_kappa(results_bias10[[\"Biased\",\"Non-biased\"]], method='fleiss')\n",
    "\n",
    "print(\"Fleiss Kappa for annotation on whether the sentence is biased/impartial:\", \n",
    "      round(fk_bias,2), \"(Fair agreement)\")"
   ]
  },
  {
   "cell_type": "markdown",
   "metadata": {},
   "source": [
    "### 1.2 Labels - opinionated/factual"
   ]
  },
  {
   "cell_type": "code",
   "execution_count": 9,
   "metadata": {
    "collapsed": true
   },
   "outputs": [
    {
     "name": "stderr",
     "output_type": "stream",
     "text": [
      "/Users/ladarudnitckaia/opt/anaconda3/lib/python3.7/site-packages/ipykernel_launcher.py:9: SettingWithCopyWarning: \n",
      "A value is trying to be set on a copy of a slice from a DataFrame.\n",
      "Try using .loc[row_indexer,col_indexer] = value instead\n",
      "\n",
      "See the caveats in the documentation: http://pandas.pydata.org/pandas-docs/stable/user_guide/indexing.html#returning-a-view-versus-a-copy\n",
      "  if __name__ == '__main__':\n",
      "/Users/ladarudnitckaia/opt/anaconda3/lib/python3.7/site-packages/ipykernel_launcher.py:16: SettingWithCopyWarning: \n",
      "A value is trying to be set on a copy of a slice from a DataFrame.\n",
      "Try using .loc[row_indexer,col_indexer] = value instead\n",
      "\n",
      "See the caveats in the documentation: http://pandas.pydata.org/pandas-docs/stable/user_guide/indexing.html#returning-a-view-versus-a-copy\n",
      "  app.launch_new_instance()\n"
     ]
    }
   ],
   "source": [
    "turker_opin[\"Entirely factual\"] = turker_opin.apply(lambda row: sum(row[1:len(turker_opin.columns)]==\"Entirely factual\") ,axis=1)\n",
    "turker_opin[\"Somewhat factual but also opinionated\"] = turker_opin.apply(lambda row: sum(row[1:(len(turker_opin.columns)-1)]==\"Somewhat factual but also opinionated\") ,axis=1)\n",
    "turker_opin[\"Expresses writer’s opinion\"] = turker_opin.apply(lambda row: sum(row[1:(len(turker_opin.columns)-2)]==\"Expresses writer’s opinion\") ,axis=1)\n",
    "\n",
    "results_opin = turker_opin[[\"Entirely factual\", 'Somewhat factual but also opinionated', \"Expresses writer’s opinion\"]]\n",
    "\n",
    "results_opin[\"max_Label_opinion\"] = results_opin.apply(lambda row: max(row[\"Entirely factual\"],\n",
    "                                                                      row[\"Somewhat factual but also opinionated\"],\n",
    "                                                                       row[\"Expresses writer’s opinion\"]), axis=1)\n",
    "results_opin[\"Label_opinion\"] = results_opin.apply(lambda row: \"No agreement\" if ((row[\"Entirely factual\"]==row[\"max_Label_opinion\"] and row[\"Somewhat factual but also opinionated\"]==row[\"max_Label_opinion\"]) \n",
    "                                                   or (row[\"Entirely factual\"]==row[\"max_Label_opinion\"] and row[\"Expresses writer’s opinion\"]==row[\"max_Label_opinion\"])\n",
    "                                                   or (row[\"Somewhat factual but also opinionated\"]==row[\"max_Label_opinion\"] and row[\"Expresses writer’s opinion\"]==row[\"max_Label_opinion\"]))\n",
    "                                                   else (\"Entirely factual\" if row[\"Entirely factual\"]==row[\"max_Label_opinion\"]\n",
    "                                                        else \"Somewhat factual but also opinionated\" if row[\"Somewhat factual but also opinionated\"]==row[\"max_Label_opinion\"]\n",
    "                                                        else \"Expresses writer’s opinion\")\n",
    "                                                   , axis=1)\n",
    "\n",
    "results_opin = results_opin[[\"Entirely factual\", \"Somewhat factual but also opinionated\", \n",
    "                             \"Expresses writer’s opinion\", \"Label_opinion\"]]\n",
    "\n",
    "results_opin[\"Total_annotations\"] = results_opin[\"Entirely factual\"] + results_opin[\"Somewhat factual but also opinionated\"] + results_opin[\"Expresses writer’s opinion\"]\n"
   ]
  },
  {
   "cell_type": "code",
   "execution_count": 10,
   "metadata": {
    "scrolled": true
   },
   "outputs": [
    {
     "data": {
      "text/html": [
       "<div>\n",
       "<style scoped>\n",
       "    .dataframe tbody tr th:only-of-type {\n",
       "        vertical-align: middle;\n",
       "    }\n",
       "\n",
       "    .dataframe tbody tr th {\n",
       "        vertical-align: top;\n",
       "    }\n",
       "\n",
       "    .dataframe thead th {\n",
       "        text-align: right;\n",
       "    }\n",
       "</style>\n",
       "<table border=\"1\" class=\"dataframe\">\n",
       "  <thead>\n",
       "    <tr style=\"text-align: right;\">\n",
       "      <th>survey_record_id</th>\n",
       "      <th>Entirely factual</th>\n",
       "      <th>Somewhat factual but also opinionated</th>\n",
       "      <th>Expresses writer’s opinion</th>\n",
       "      <th>Label_opinion</th>\n",
       "      <th>Total_annotations</th>\n",
       "    </tr>\n",
       "    <tr>\n",
       "      <th>text</th>\n",
       "      <th></th>\n",
       "      <th></th>\n",
       "      <th></th>\n",
       "      <th></th>\n",
       "      <th></th>\n",
       "    </tr>\n",
       "  </thead>\n",
       "  <tbody>\n",
       "    <tr>\n",
       "      <td>Gautney consented to this field, job, and city, so if she has an issue with compensation or cost of living, switching to a more lucrative field or cheaper place to live is a decision she should make for herself, not a decision that ought to be bailed out by unsuspecting taxpayers who played no role in the choice.</td>\n",
       "      <td>2</td>\n",
       "      <td>0</td>\n",
       "      <td>9</td>\n",
       "      <td>Expresses writer’s opinion</td>\n",
       "      <td>11</td>\n",
       "    </tr>\n",
       "    <tr>\n",
       "      <td>Trade jobs such as electricians or carpenters are in demand and provide steady salaries. Policymakers shouldn’t deter students who know a good job when they see it.</td>\n",
       "      <td>0</td>\n",
       "      <td>4</td>\n",
       "      <td>6</td>\n",
       "      <td>Expresses writer’s opinion</td>\n",
       "      <td>10</td>\n",
       "    </tr>\n",
       "    <tr>\n",
       "      <td>While conservatives may find comfort in the old saw that those who aren’t liberal at 20 have no heart, and those who aren’t conservative at 40 have no brain, the truth, as Levin knows, is that those who are statists at 20 usually end up statists at 40. And he’s not content to allow time to take its uncertain political toll.</td>\n",
       "      <td>0</td>\n",
       "      <td>2</td>\n",
       "      <td>8</td>\n",
       "      <td>Expresses writer’s opinion</td>\n",
       "      <td>10</td>\n",
       "    </tr>\n",
       "    <tr>\n",
       "      <td>\"Orange Is the New Black\" star Yael Stone is renouncing her U.S. green card to return to her native Australia in order to fight climate change.</td>\n",
       "      <td>5</td>\n",
       "      <td>4</td>\n",
       "      <td>3</td>\n",
       "      <td>Entirely factual</td>\n",
       "      <td>12</td>\n",
       "    </tr>\n",
       "    <tr>\n",
       "      <td>...immigrants as criminals and eugenics, all of which were once considered fringe and extreme. White nationalists embrace white supremacist and white separatist views.</td>\n",
       "      <td>2</td>\n",
       "      <td>2</td>\n",
       "      <td>6</td>\n",
       "      <td>Expresses writer’s opinion</td>\n",
       "      <td>10</td>\n",
       "    </tr>\n",
       "    <tr>\n",
       "      <td>...we sounded the alarm in the early months of Trump’s presidency, when prime-time Fox News host Tucker Carlson began to experiment with segments that used euphemisms like “Western civilization” to package the idea that white people are inherently more civilized while people of color are a threat to national stability.</td>\n",
       "      <td>3</td>\n",
       "      <td>3</td>\n",
       "      <td>5</td>\n",
       "      <td>Expresses writer’s opinion</td>\n",
       "      <td>11</td>\n",
       "    </tr>\n",
       "    <tr>\n",
       "      <td>A 10-hour hearing broadcast on the court’s website showed Sun, China's greatest ever swimmer, and one of its biggest sports stars, to be evasive at times under questioning that was hampered by severe translation issues between Chinese and English.</td>\n",
       "      <td>2</td>\n",
       "      <td>4</td>\n",
       "      <td>3</td>\n",
       "      <td>Somewhat factual but also opinionated</td>\n",
       "      <td>9</td>\n",
       "    </tr>\n",
       "    <tr>\n",
       "      <td>A 60-foot chunk of the Ocean Cleanup device, deployed with much fanfare in the Great Pacific Garbage Patch in October, has broken off and the entire plastic collection system will now be towed back to port for an overhaul and upgrade.</td>\n",
       "      <td>4</td>\n",
       "      <td>4</td>\n",
       "      <td>2</td>\n",
       "      <td>No agreement</td>\n",
       "      <td>10</td>\n",
       "    </tr>\n",
       "    <tr>\n",
       "      <td>A 70% majority of Americans view the economy as unfairly favoring those with power, and large majorities also say politicians, giant corporations, and wealthy individuals wield too much power over the economy, according to Pew Research Center.</td>\n",
       "      <td>8</td>\n",
       "      <td>1</td>\n",
       "      <td>2</td>\n",
       "      <td>Entirely factual</td>\n",
       "      <td>11</td>\n",
       "    </tr>\n",
       "    <tr>\n",
       "      <td>A Catholic priest in Rhode Island who barred state lawmakers who supported an abortion rights bill from receiving communion at his church has doubled down on his stance, saying abortion is worse than pedophilia.</td>\n",
       "      <td>5</td>\n",
       "      <td>4</td>\n",
       "      <td>3</td>\n",
       "      <td>Entirely factual</td>\n",
       "      <td>12</td>\n",
       "    </tr>\n",
       "    <tr>\n",
       "      <td>A Gallup poll reports that women are still more likely to do laundry, clean the house, do grocery shopping, prepare meals, wash dishes and make decisions about furniture and decorations – even among younger generations who are reportedly more egalitarian as ever.</td>\n",
       "      <td>8</td>\n",
       "      <td>3</td>\n",
       "      <td>0</td>\n",
       "      <td>Entirely factual</td>\n",
       "      <td>11</td>\n",
       "    </tr>\n",
       "    <tr>\n",
       "      <td>A Guatemalan mom who says she sustained severe chemical burns and was sexually assaulted in front of her young daughter during a kidnapping in Mexico is asking the U.S. government to let her into the country while her asylum case plays out.</td>\n",
       "      <td>7</td>\n",
       "      <td>1</td>\n",
       "      <td>2</td>\n",
       "      <td>Entirely factual</td>\n",
       "      <td>10</td>\n",
       "    </tr>\n",
       "    <tr>\n",
       "      <td>A Republican group opposed to President Donald Trump is urging voters to end his “American carnage” by voting him out of office in November. And it’s using one of Trump’s favorite TV shows to spread the message.</td>\n",
       "      <td>7</td>\n",
       "      <td>2</td>\n",
       "      <td>1</td>\n",
       "      <td>Entirely factual</td>\n",
       "      <td>10</td>\n",
       "    </tr>\n",
       "    <tr>\n",
       "      <td>A Texas law requires contractors who work for or do business with the state to certify that they do not boycott Israel or Israeli-occupied territories.</td>\n",
       "      <td>10</td>\n",
       "      <td>1</td>\n",
       "      <td>1</td>\n",
       "      <td>Entirely factual</td>\n",
       "      <td>12</td>\n",
       "    </tr>\n",
       "    <tr>\n",
       "      <td>A U.S. official, speaking on condition of anonymity, confirmed that a range of options were under discussion but that it had not yet reached the level of Trump’s top national security team or been taken to the president.</td>\n",
       "      <td>11</td>\n",
       "      <td>0</td>\n",
       "      <td>1</td>\n",
       "      <td>Entirely factual</td>\n",
       "      <td>12</td>\n",
       "    </tr>\n",
       "  </tbody>\n",
       "</table>\n",
       "</div>"
      ],
      "text/plain": [
       "survey_record_id                                    Entirely factual  \\\n",
       "text                                                                   \n",
       " Gautney consented to this field, job, and city...                 2   \n",
       " Trade jobs such as electricians or carpenters ...                 0   \n",
       " While conservatives may find comfort in the ol...                 0   \n",
       "\"Orange Is the New Black\" star Yael Stone is re...                 5   \n",
       "...immigrants as criminals and eugenics, all of...                 2   \n",
       "...we sounded the alarm in the early months of ...                 3   \n",
       "A 10-hour hearing broadcast on the court’s webs...                 2   \n",
       "A 60-foot chunk of the Ocean Cleanup device, de...                 4   \n",
       "A 70% majority of Americans view the economy as...                 8   \n",
       "A Catholic priest in Rhode Island who barred st...                 5   \n",
       "A Gallup poll reports that women are still more...                 8   \n",
       "A Guatemalan mom who says she sustained severe ...                 7   \n",
       "A Republican group opposed to President Donald ...                 7   \n",
       "A Texas law requires contractors who work for o...                10   \n",
       "A U.S. official, speaking on condition of anony...                11   \n",
       "\n",
       "survey_record_id                                    Somewhat factual but also opinionated  \\\n",
       "text                                                                                        \n",
       " Gautney consented to this field, job, and city...                                      0   \n",
       " Trade jobs such as electricians or carpenters ...                                      4   \n",
       " While conservatives may find comfort in the ol...                                      2   \n",
       "\"Orange Is the New Black\" star Yael Stone is re...                                      4   \n",
       "...immigrants as criminals and eugenics, all of...                                      2   \n",
       "...we sounded the alarm in the early months of ...                                      3   \n",
       "A 10-hour hearing broadcast on the court’s webs...                                      4   \n",
       "A 60-foot chunk of the Ocean Cleanup device, de...                                      4   \n",
       "A 70% majority of Americans view the economy as...                                      1   \n",
       "A Catholic priest in Rhode Island who barred st...                                      4   \n",
       "A Gallup poll reports that women are still more...                                      3   \n",
       "A Guatemalan mom who says she sustained severe ...                                      1   \n",
       "A Republican group opposed to President Donald ...                                      2   \n",
       "A Texas law requires contractors who work for o...                                      1   \n",
       "A U.S. official, speaking on condition of anony...                                      0   \n",
       "\n",
       "survey_record_id                                    Expresses writer’s opinion  \\\n",
       "text                                                                             \n",
       " Gautney consented to this field, job, and city...                           9   \n",
       " Trade jobs such as electricians or carpenters ...                           6   \n",
       " While conservatives may find comfort in the ol...                           8   \n",
       "\"Orange Is the New Black\" star Yael Stone is re...                           3   \n",
       "...immigrants as criminals and eugenics, all of...                           6   \n",
       "...we sounded the alarm in the early months of ...                           5   \n",
       "A 10-hour hearing broadcast on the court’s webs...                           3   \n",
       "A 60-foot chunk of the Ocean Cleanup device, de...                           2   \n",
       "A 70% majority of Americans view the economy as...                           2   \n",
       "A Catholic priest in Rhode Island who barred st...                           3   \n",
       "A Gallup poll reports that women are still more...                           0   \n",
       "A Guatemalan mom who says she sustained severe ...                           2   \n",
       "A Republican group opposed to President Donald ...                           1   \n",
       "A Texas law requires contractors who work for o...                           1   \n",
       "A U.S. official, speaking on condition of anony...                           1   \n",
       "\n",
       "survey_record_id                                                            Label_opinion  \\\n",
       "text                                                                                        \n",
       " Gautney consented to this field, job, and city...             Expresses writer’s opinion   \n",
       " Trade jobs such as electricians or carpenters ...             Expresses writer’s opinion   \n",
       " While conservatives may find comfort in the ol...             Expresses writer’s opinion   \n",
       "\"Orange Is the New Black\" star Yael Stone is re...                       Entirely factual   \n",
       "...immigrants as criminals and eugenics, all of...             Expresses writer’s opinion   \n",
       "...we sounded the alarm in the early months of ...             Expresses writer’s opinion   \n",
       "A 10-hour hearing broadcast on the court’s webs...  Somewhat factual but also opinionated   \n",
       "A 60-foot chunk of the Ocean Cleanup device, de...                           No agreement   \n",
       "A 70% majority of Americans view the economy as...                       Entirely factual   \n",
       "A Catholic priest in Rhode Island who barred st...                       Entirely factual   \n",
       "A Gallup poll reports that women are still more...                       Entirely factual   \n",
       "A Guatemalan mom who says she sustained severe ...                       Entirely factual   \n",
       "A Republican group opposed to President Donald ...                       Entirely factual   \n",
       "A Texas law requires contractors who work for o...                       Entirely factual   \n",
       "A U.S. official, speaking on condition of anony...                       Entirely factual   \n",
       "\n",
       "survey_record_id                                    Total_annotations  \n",
       "text                                                                   \n",
       " Gautney consented to this field, job, and city...                 11  \n",
       " Trade jobs such as electricians or carpenters ...                 10  \n",
       " While conservatives may find comfort in the ol...                 10  \n",
       "\"Orange Is the New Black\" star Yael Stone is re...                 12  \n",
       "...immigrants as criminals and eugenics, all of...                 10  \n",
       "...we sounded the alarm in the early months of ...                 11  \n",
       "A 10-hour hearing broadcast on the court’s webs...                  9  \n",
       "A 60-foot chunk of the Ocean Cleanup device, de...                 10  \n",
       "A 70% majority of Americans view the economy as...                 11  \n",
       "A Catholic priest in Rhode Island who barred st...                 12  \n",
       "A Gallup poll reports that women are still more...                 11  \n",
       "A Guatemalan mom who says she sustained severe ...                 10  \n",
       "A Republican group opposed to President Donald ...                 10  \n",
       "A Texas law requires contractors who work for o...                 12  \n",
       "A U.S. official, speaking on condition of anony...                 12  "
      ]
     },
     "execution_count": 10,
     "metadata": {},
     "output_type": "execute_result"
    }
   ],
   "source": [
    "results_opin.head(15)"
   ]
  },
  {
   "cell_type": "code",
   "execution_count": 55,
   "metadata": {},
   "outputs": [],
   "source": [
    "# os.chdir('/Users/ladarudnitckaia/Desktop/Master Thesis/4. Survey/Results processing')\n",
    "# results_opin.to_excel('results_opin.xlsx')"
   ]
  },
  {
   "cell_type": "code",
   "execution_count": 11,
   "metadata": {},
   "outputs": [
    {
     "name": "stdout",
     "output_type": "stream",
     "text": [
      "Out of 1700 174 have no agreement.\n"
     ]
    }
   ],
   "source": [
    "no_ag_opin = results_opin[results_opin['Label_opinion']=='No agreement']\n",
    "print(\"Out of\", len(results_opin), len(no_ag_opin), \"have no agreement.\")"
   ]
  },
  {
   "cell_type": "code",
   "execution_count": 12,
   "metadata": {},
   "outputs": [
    {
     "name": "stdout",
     "output_type": "stream",
     "text": [
      "Fleiss Kappa for annotation on whether the sentence is opinionated/factual: 0.16 (Slight agreement)\n"
     ]
    }
   ],
   "source": [
    "results_opin10 = results_opin[results_opin['Total_annotations']==10]\n",
    "\n",
    "fk_opinion = inter_rater.fleiss_kappa(results_opin10[[\"Entirely factual\", \"Expresses writer’s opinion\", \n",
    "                                                    \"Somewhat factual but also opinionated\"]], method='fleiss')\n",
    "\n",
    "print(\"Fleiss Kappa for annotation on whether the sentence is opinionated/factual:\", \n",
    "      round(fk_opinion,2), \"(Slight agreement)\")"
   ]
  },
  {
   "cell_type": "markdown",
   "metadata": {},
   "source": [
    "### 1.3 Biased words"
   ]
  },
  {
   "cell_type": "markdown",
   "metadata": {},
   "source": [
    "#### 1.3.1 Count frequency of highlighted words"
   ]
  },
  {
   "cell_type": "code",
   "execution_count": 13,
   "metadata": {},
   "outputs": [],
   "source": [
    "survey_codes = list(turker_words)\n",
    "results_words = turker_words.copy(deep = True)\n",
    "\n",
    "for survey in survey_codes: \n",
    "    # remove quotation marks, spaces and dots. Split string to list of selected words\n",
    "    results_words[survey] = results_words[survey].apply(lambda x: re.sub(r'“', '', x) if pd.isna(x) == False else x)\n",
    "    results_words[survey] = results_words[survey].apply(lambda x: re.sub(r'”', '', x) if pd.isna(x) == False else x)\n",
    "    results_words[survey] = results_words[survey].apply(lambda x: re.sub(r'\\.', '', x) if pd.isna(x) == False else x)\n",
    "    results_words[survey] = results_words[survey].apply(lambda x: x.split(',') if pd.isna(x) == False else x)\n",
    "\n",
    "results_words = results_words.where(pd.notnull(results_words), None)"
   ]
  },
  {
   "cell_type": "code",
   "execution_count": 14,
   "metadata": {
    "scrolled": true
   },
   "outputs": [
    {
     "data": {
      "text/html": [
       "<div>\n",
       "<style scoped>\n",
       "    .dataframe tbody tr th:only-of-type {\n",
       "        vertical-align: middle;\n",
       "    }\n",
       "\n",
       "    .dataframe tbody tr th {\n",
       "        vertical-align: top;\n",
       "    }\n",
       "\n",
       "    .dataframe thead th {\n",
       "        text-align: right;\n",
       "    }\n",
       "</style>\n",
       "<table border=\"1\" class=\"dataframe\">\n",
       "  <thead>\n",
       "    <tr style=\"text-align: right;\">\n",
       "      <th>survey_record_id</th>\n",
       "      <th>text</th>\n",
       "      <th>Words_freq</th>\n",
       "      <th>Total_annotations</th>\n",
       "    </tr>\n",
       "  </thead>\n",
       "  <tbody>\n",
       "    <tr>\n",
       "      <td>0</td>\n",
       "      <td>Gautney consented to this field, job, and cit...</td>\n",
       "      <td>{'bailed out': 3, 'that ought to be': 1, 'chea...</td>\n",
       "      <td>11</td>\n",
       "    </tr>\n",
       "    <tr>\n",
       "      <td>1</td>\n",
       "      <td>Trade jobs such as electricians or carpenters...</td>\n",
       "      <td>{'Policymakers shouldn’t deter': 1, 'deter': 4...</td>\n",
       "      <td>10</td>\n",
       "    </tr>\n",
       "    <tr>\n",
       "      <td>2</td>\n",
       "      <td>While conservatives may find comfort in the o...</td>\n",
       "      <td>{'no hear': 1, 'no brain': 2, 'old saw': 2, 'h...</td>\n",
       "      <td>10</td>\n",
       "    </tr>\n",
       "    <tr>\n",
       "      <td>3</td>\n",
       "      <td>\"Orange Is the New Black\" star Yael Stone is r...</td>\n",
       "      <td>{'renouncing': 4, 'Australia': 1, 'fight': 2, ...</td>\n",
       "      <td>12</td>\n",
       "    </tr>\n",
       "    <tr>\n",
       "      <td>4</td>\n",
       "      <td>...immigrants as criminals and eugenics, all o...</td>\n",
       "      <td>{'embrace': 2, 'immigrants as criminals': 2, '...</td>\n",
       "      <td>10</td>\n",
       "    </tr>\n",
       "    <tr>\n",
       "      <td>5</td>\n",
       "      <td>...we sounded the alarm in the early months of...</td>\n",
       "      <td>{'euphemisms': 3, 'sounded the alarm': 3, 'pac...</td>\n",
       "      <td>11</td>\n",
       "    </tr>\n",
       "    <tr>\n",
       "      <td>6</td>\n",
       "      <td>A 10-hour hearing broadcast on the court’s web...</td>\n",
       "      <td>{'evasive at times': 1, 'greatest ever': 4, 'g...</td>\n",
       "      <td>9</td>\n",
       "    </tr>\n",
       "    <tr>\n",
       "      <td>7</td>\n",
       "      <td>A 60-foot chunk of the Ocean Cleanup device, d...</td>\n",
       "      <td>{'fanfare': 2, 'with much fanfare': 1, 'entire...</td>\n",
       "      <td>10</td>\n",
       "    </tr>\n",
       "    <tr>\n",
       "      <td>8</td>\n",
       "      <td>A 70% majority of Americans view the economy a...</td>\n",
       "      <td>{'large majorities': 1, 'Pew Research Center':...</td>\n",
       "      <td>11</td>\n",
       "    </tr>\n",
       "    <tr>\n",
       "      <td>9</td>\n",
       "      <td>A Catholic priest in Rhode Island who barred s...</td>\n",
       "      <td>{'abortio': 1, 'abortion is worse than pedophi...</td>\n",
       "      <td>12</td>\n",
       "    </tr>\n",
       "    <tr>\n",
       "      <td>10</td>\n",
       "      <td>A Gallup poll reports that women are still mor...</td>\n",
       "      <td>{'egalitarian': 6, 'reportedly': 1, 'ven among...</td>\n",
       "      <td>11</td>\n",
       "    </tr>\n",
       "    <tr>\n",
       "      <td>11</td>\n",
       "      <td>A Guatemalan mom who says she sustained severe...</td>\n",
       "      <td>{'A Guatemalan mom': 1, 'sexually assaulted': ...</td>\n",
       "      <td>10</td>\n",
       "    </tr>\n",
       "    <tr>\n",
       "      <td>12</td>\n",
       "      <td>A Republican group opposed to President Donald...</td>\n",
       "      <td>{'opposed': 1, 'carnage': 1, 'American carnage...</td>\n",
       "      <td>10</td>\n",
       "    </tr>\n",
       "    <tr>\n",
       "      <td>13</td>\n",
       "      <td>A Texas law requires contractors who work for ...</td>\n",
       "      <td>{'law requires': 1, 'Israeli-occupied territor...</td>\n",
       "      <td>12</td>\n",
       "    </tr>\n",
       "    <tr>\n",
       "      <td>14</td>\n",
       "      <td>A U.S. official, speaking on condition of anon...</td>\n",
       "      <td>{'anonymity': 3, 'national security': 2, 'conf...</td>\n",
       "      <td>12</td>\n",
       "    </tr>\n",
       "    <tr>\n",
       "      <td>15</td>\n",
       "      <td>A bill proposed by a group of Republican lawma...</td>\n",
       "      <td>{'proposed': 2, 'dead': 2, 'Republican lawmake...</td>\n",
       "      <td>10</td>\n",
       "    </tr>\n",
       "    <tr>\n",
       "      <td>16</td>\n",
       "      <td>A bold statement Wednesday from former Secreta...</td>\n",
       "      <td>{'eviscerating': 8, 'like a bomb': 2, 'bold': ...</td>\n",
       "      <td>11</td>\n",
       "    </tr>\n",
       "    <tr>\n",
       "      <td>17</td>\n",
       "      <td>A divided federal appeals court on Tuesday rej...</td>\n",
       "      <td>{'divided': 2, 'rejected': 2, 'depriving': 4, ...</td>\n",
       "      <td>10</td>\n",
       "    </tr>\n",
       "    <tr>\n",
       "      <td>18</td>\n",
       "      <td>A family-run network of pro-gun groups is behi...</td>\n",
       "      <td>{'pro-gun': 4, 'behind': 3, 'pro': 2, 'gun': 2...</td>\n",
       "      <td>12</td>\n",
       "    </tr>\n",
       "    <tr>\n",
       "      <td>19</td>\n",
       "      <td>A federal judge dismissed the United States wo...</td>\n",
       "      <td>{'dismissed': 2, 'crushing': 4, 'crushing defe...</td>\n",
       "      <td>10</td>\n",
       "    </tr>\n",
       "    <tr>\n",
       "      <td>20</td>\n",
       "      <td>A federal judge in Tucson, Arizona delivered a...</td>\n",
       "      <td>{'blow Monday': 1, 'blow': 5, 'criminalizing':...</td>\n",
       "      <td>10</td>\n",
       "    </tr>\n",
       "    <tr>\n",
       "      <td>21</td>\n",
       "      <td>A federal judge on Wednesday temporarily block...</td>\n",
       "      <td>{'unlawful': 3, 'refuse': 2, 'resettling': 1, ...</td>\n",
       "      <td>10</td>\n",
       "    </tr>\n",
       "    <tr>\n",
       "      <td>22</td>\n",
       "      <td>A federal visa program allowing international ...</td>\n",
       "      <td>{'exploited': 7, 'fake companies': 2, 'fake': ...</td>\n",
       "      <td>11</td>\n",
       "    </tr>\n",
       "    <tr>\n",
       "      <td>23</td>\n",
       "      <td>A firefighter was killed by a falling tree whi...</td>\n",
       "      <td>{'climate': 1, 'change': 1, 'battling': 1, 're...</td>\n",
       "      <td>12</td>\n",
       "    </tr>\n",
       "    <tr>\n",
       "      <td>24</td>\n",
       "      <td>A former North Korean diplomat who staged a hi...</td>\n",
       "      <td>{'seeking asylum': 1, 'defect to Seoul': 1, 's...</td>\n",
       "      <td>10</td>\n",
       "    </tr>\n",
       "  </tbody>\n",
       "</table>\n",
       "</div>"
      ],
      "text/plain": [
       "survey_record_id                                               text  \\\n",
       "0                  Gautney consented to this field, job, and cit...   \n",
       "1                  Trade jobs such as electricians or carpenters...   \n",
       "2                  While conservatives may find comfort in the o...   \n",
       "3                 \"Orange Is the New Black\" star Yael Stone is r...   \n",
       "4                 ...immigrants as criminals and eugenics, all o...   \n",
       "5                 ...we sounded the alarm in the early months of...   \n",
       "6                 A 10-hour hearing broadcast on the court’s web...   \n",
       "7                 A 60-foot chunk of the Ocean Cleanup device, d...   \n",
       "8                 A 70% majority of Americans view the economy a...   \n",
       "9                 A Catholic priest in Rhode Island who barred s...   \n",
       "10                A Gallup poll reports that women are still mor...   \n",
       "11                A Guatemalan mom who says she sustained severe...   \n",
       "12                A Republican group opposed to President Donald...   \n",
       "13                A Texas law requires contractors who work for ...   \n",
       "14                A U.S. official, speaking on condition of anon...   \n",
       "15                A bill proposed by a group of Republican lawma...   \n",
       "16                A bold statement Wednesday from former Secreta...   \n",
       "17                A divided federal appeals court on Tuesday rej...   \n",
       "18                A family-run network of pro-gun groups is behi...   \n",
       "19                A federal judge dismissed the United States wo...   \n",
       "20                A federal judge in Tucson, Arizona delivered a...   \n",
       "21                A federal judge on Wednesday temporarily block...   \n",
       "22                A federal visa program allowing international ...   \n",
       "23                A firefighter was killed by a falling tree whi...   \n",
       "24                A former North Korean diplomat who staged a hi...   \n",
       "\n",
       "survey_record_id                                         Words_freq  \\\n",
       "0                 {'bailed out': 3, 'that ought to be': 1, 'chea...   \n",
       "1                 {'Policymakers shouldn’t deter': 1, 'deter': 4...   \n",
       "2                 {'no hear': 1, 'no brain': 2, 'old saw': 2, 'h...   \n",
       "3                 {'renouncing': 4, 'Australia': 1, 'fight': 2, ...   \n",
       "4                 {'embrace': 2, 'immigrants as criminals': 2, '...   \n",
       "5                 {'euphemisms': 3, 'sounded the alarm': 3, 'pac...   \n",
       "6                 {'evasive at times': 1, 'greatest ever': 4, 'g...   \n",
       "7                 {'fanfare': 2, 'with much fanfare': 1, 'entire...   \n",
       "8                 {'large majorities': 1, 'Pew Research Center':...   \n",
       "9                 {'abortio': 1, 'abortion is worse than pedophi...   \n",
       "10                {'egalitarian': 6, 'reportedly': 1, 'ven among...   \n",
       "11                {'A Guatemalan mom': 1, 'sexually assaulted': ...   \n",
       "12                {'opposed': 1, 'carnage': 1, 'American carnage...   \n",
       "13                {'law requires': 1, 'Israeli-occupied territor...   \n",
       "14                {'anonymity': 3, 'national security': 2, 'conf...   \n",
       "15                {'proposed': 2, 'dead': 2, 'Republican lawmake...   \n",
       "16                {'eviscerating': 8, 'like a bomb': 2, 'bold': ...   \n",
       "17                {'divided': 2, 'rejected': 2, 'depriving': 4, ...   \n",
       "18                {'pro-gun': 4, 'behind': 3, 'pro': 2, 'gun': 2...   \n",
       "19                {'dismissed': 2, 'crushing': 4, 'crushing defe...   \n",
       "20                {'blow Monday': 1, 'blow': 5, 'criminalizing':...   \n",
       "21                {'unlawful': 3, 'refuse': 2, 'resettling': 1, ...   \n",
       "22                {'exploited': 7, 'fake companies': 2, 'fake': ...   \n",
       "23                {'climate': 1, 'change': 1, 'battling': 1, 're...   \n",
       "24                {'seeking asylum': 1, 'defect to Seoul': 1, 's...   \n",
       "\n",
       "survey_record_id  Total_annotations  \n",
       "0                                11  \n",
       "1                                10  \n",
       "2                                10  \n",
       "3                                12  \n",
       "4                                10  \n",
       "5                                11  \n",
       "6                                 9  \n",
       "7                                10  \n",
       "8                                11  \n",
       "9                                12  \n",
       "10                               11  \n",
       "11                               10  \n",
       "12                               10  \n",
       "13                               12  \n",
       "14                               12  \n",
       "15                               10  \n",
       "16                               11  \n",
       "17                               10  \n",
       "18                               12  \n",
       "19                               10  \n",
       "20                               10  \n",
       "21                               10  \n",
       "22                               11  \n",
       "23                               12  \n",
       "24                               10  "
      ]
     },
     "execution_count": 14,
     "metadata": {},
     "output_type": "execute_result"
    }
   ],
   "source": [
    "results_words[\"Words_freq\"] = [{} for _ in range(len(results_words))]\n",
    "\n",
    "for ind in results_words.index: # iterate over each sentence\n",
    "    for survey in survey_codes: # iterate over columns to include each survey\n",
    "        if results_words[survey][ind] != None:\n",
    "            for word in results_words[survey][ind]:\n",
    "                word_ = word.strip() # remove whitespaces from the beginning and end\n",
    "                if word_ in results_words[\"Words_freq\"][ind]:\n",
    "                    results_words[\"Words_freq\"][ind][word_] += 1\n",
    "                else:\n",
    "                    results_words[\"Words_freq\"][ind][word_] = 1\n",
    "\n",
    "results_words = pd.merge(results_words, results_bias, left_index = True, right_index = True, how='left')\n",
    "\n",
    "results_words = results_words[[\"Words_freq\", \"Total_annotations\"]]\n",
    "results_words = results_words.reset_index()\n",
    "results_words.head(25)"
   ]
  },
  {
   "cell_type": "code",
   "execution_count": 15,
   "metadata": {},
   "outputs": [],
   "source": [
    "def update_annotations(d):\n",
    "    d_upd = {}\n",
    "    for p in d:\n",
    "        w_list = p.split(\" \")\n",
    "        for w in w_list:\n",
    "            if w in d_upd:\n",
    "                d_upd[w]+=d[p]\n",
    "            else:\n",
    "                d_upd[w]=d[p]\n",
    "    return(d_upd)\n",
    "\n",
    "results_words[\"biased_upd\"] = results_words.apply(lambda row: update_annotations(row['Words_freq']), axis=1)\n",
    "results_words['words_freq_manual'] = None\n",
    "\n",
    "# biased_words_analysis.to_excel(\"biased_words_analysis.xlsx\")"
   ]
  },
  {
   "cell_type": "markdown",
   "metadata": {},
   "source": [
    "We manually go through all the sentences, correct mistakes in annotations, and decide on the reasonable threshold. Corrected annotations are in the column \"words_freq_manual\". The threshold is chosen to be 4."
   ]
  },
  {
   "cell_type": "markdown",
   "metadata": {},
   "source": [
    "#### 1.3.2 Select only words highlighted at least 4 times"
   ]
  },
  {
   "cell_type": "code",
   "execution_count": 16,
   "metadata": {},
   "outputs": [],
   "source": [
    "# words selected more than 4 times\n",
    "def list_biased_words(dic):\n",
    "    biased = {k: v for k, v in dic.items() if v >= 4}\n",
    "    biased = list(biased.keys())\n",
    "    return(biased)"
   ]
  },
  {
   "cell_type": "code",
   "execution_count": 17,
   "metadata": {},
   "outputs": [
    {
     "data": {
      "text/html": [
       "<div>\n",
       "<style scoped>\n",
       "    .dataframe tbody tr th:only-of-type {\n",
       "        vertical-align: middle;\n",
       "    }\n",
       "\n",
       "    .dataframe tbody tr th {\n",
       "        vertical-align: top;\n",
       "    }\n",
       "\n",
       "    .dataframe thead th {\n",
       "        text-align: right;\n",
       "    }\n",
       "</style>\n",
       "<table border=\"1\" class=\"dataframe\">\n",
       "  <thead>\n",
       "    <tr style=\"text-align: right;\">\n",
       "      <th></th>\n",
       "      <th>text</th>\n",
       "      <th>Total_annotations</th>\n",
       "      <th>biased_words4</th>\n",
       "    </tr>\n",
       "  </thead>\n",
       "  <tbody>\n",
       "    <tr>\n",
       "      <td>0</td>\n",
       "      <td>Gautney consented to this field, job, and cit...</td>\n",
       "      <td>11</td>\n",
       "      <td>[bailed, unsuspecting]</td>\n",
       "    </tr>\n",
       "    <tr>\n",
       "      <td>1</td>\n",
       "      <td>Trade jobs such as electricians or carpenters...</td>\n",
       "      <td>10</td>\n",
       "      <td>[deter]</td>\n",
       "    </tr>\n",
       "    <tr>\n",
       "      <td>2</td>\n",
       "      <td>While conservatives may find comfort in the o...</td>\n",
       "      <td>10</td>\n",
       "      <td>[brain, statists]</td>\n",
       "    </tr>\n",
       "    <tr>\n",
       "      <td>3</td>\n",
       "      <td>\"Orange Is the New Black\" star Yael Stone is r...</td>\n",
       "      <td>12</td>\n",
       "      <td>[renouncing]</td>\n",
       "    </tr>\n",
       "    <tr>\n",
       "      <td>4</td>\n",
       "      <td>...immigrants as criminals and eugenics, all o...</td>\n",
       "      <td>10</td>\n",
       "      <td>[]</td>\n",
       "    </tr>\n",
       "    <tr>\n",
       "      <td>5</td>\n",
       "      <td>...we sounded the alarm in the early months of...</td>\n",
       "      <td>11</td>\n",
       "      <td>[alarm, inherently, threat]</td>\n",
       "    </tr>\n",
       "    <tr>\n",
       "      <td>6</td>\n",
       "      <td>A 10-hour hearing broadcast on the court’s web...</td>\n",
       "      <td>9</td>\n",
       "      <td>[evasive, greatest, ever]</td>\n",
       "    </tr>\n",
       "    <tr>\n",
       "      <td>7</td>\n",
       "      <td>A 60-foot chunk of the Ocean Cleanup device, d...</td>\n",
       "      <td>10</td>\n",
       "      <td>[fanfare]</td>\n",
       "    </tr>\n",
       "    <tr>\n",
       "      <td>8</td>\n",
       "      <td>A 70% majority of Americans view the economy a...</td>\n",
       "      <td>11</td>\n",
       "      <td>[unfairly]</td>\n",
       "    </tr>\n",
       "    <tr>\n",
       "      <td>9</td>\n",
       "      <td>A Catholic priest in Rhode Island who barred s...</td>\n",
       "      <td>12</td>\n",
       "      <td>[abortion, worse, than, pedophilia]</td>\n",
       "    </tr>\n",
       "  </tbody>\n",
       "</table>\n",
       "</div>"
      ],
      "text/plain": [
       "                                                text  Total_annotations  \\\n",
       "0   Gautney consented to this field, job, and cit...                 11   \n",
       "1   Trade jobs such as electricians or carpenters...                 10   \n",
       "2   While conservatives may find comfort in the o...                 10   \n",
       "3  \"Orange Is the New Black\" star Yael Stone is r...                 12   \n",
       "4  ...immigrants as criminals and eugenics, all o...                 10   \n",
       "5  ...we sounded the alarm in the early months of...                 11   \n",
       "6  A 10-hour hearing broadcast on the court’s web...                  9   \n",
       "7  A 60-foot chunk of the Ocean Cleanup device, d...                 10   \n",
       "8  A 70% majority of Americans view the economy a...                 11   \n",
       "9  A Catholic priest in Rhode Island who barred s...                 12   \n",
       "\n",
       "                         biased_words4  \n",
       "0               [bailed, unsuspecting]  \n",
       "1                              [deter]  \n",
       "2                    [brain, statists]  \n",
       "3                         [renouncing]  \n",
       "4                                   []  \n",
       "5          [alarm, inherently, threat]  \n",
       "6            [evasive, greatest, ever]  \n",
       "7                            [fanfare]  \n",
       "8                           [unfairly]  \n",
       "9  [abortion, worse, than, pedophilia]  "
      ]
     },
     "execution_count": 17,
     "metadata": {},
     "output_type": "execute_result"
    }
   ],
   "source": [
    "os.chdir('/Users/ladarudnitckaia/Desktop/Master Thesis/4. Survey/Results processing')\n",
    "annotations_words = pd.read_excel(\"biased_words_analysis.xlsx\")\n",
    "annotations_words['words_freq_manual_dic']=annotations_words['words_freq_manual'].apply(lambda s: ast.literal_eval(s))\n",
    "annotations_words['biased_words4'] = annotations_words.apply(lambda row: list_biased_words(row['words_freq_manual_dic']), axis=1)\n",
    "annotations_biased_words = annotations_words[['text','Total_annotations','biased_words4']]\n",
    "annotations_biased_words.head(10)"
   ]
  },
  {
   "cell_type": "markdown",
   "metadata": {},
   "source": [
    "### 1.4 Final labeled sentences"
   ]
  },
  {
   "cell_type": "code",
   "execution_count": 35,
   "metadata": {},
   "outputs": [],
   "source": [
    "# download articles\n",
    "# articles = all_sentences.replace({np.nan: None})\n",
    "# articles['article'] = None\n",
    "\n",
    "# for index, row in articles.iterrows():\n",
    "#     if row['news_link'] != None:\n",
    "#         try:\n",
    "#             print(index)\n",
    "#             articles.at[index,'article'] = NewsPlease.from_url(row['news_link']).maintext\n",
    "#         except:\n",
    "#             print(index, \"An exception occurred\")\n",
    "            \n",
    "# articles = articles[['sentence','article']]\n",
    "\n",
    "# articles.to_excel(\"articles.xlsx\")"
   ]
  },
  {
   "cell_type": "code",
   "execution_count": 18,
   "metadata": {},
   "outputs": [],
   "source": [
    "os.chdir('/Users/ladarudnitckaia/Desktop/Master Thesis/4. Survey/Results processing')\n",
    "all_articles = pd.read_excel(\"articles.xlsx\")"
   ]
  },
  {
   "cell_type": "code",
   "execution_count": 19,
   "metadata": {},
   "outputs": [
    {
     "name": "stdout",
     "output_type": "stream",
     "text": [
      "len: 1700\n",
      "Is there missing values? True\n",
      "Number of missing values:\n",
      " sentence           0\n",
      "news_link          0\n",
      "outlet             0\n",
      "topic              0\n",
      "type               0\n",
      "group_id           0\n",
      "num_sent           0\n",
      "Label_bias         0\n",
      "Label_opinion      0\n",
      "biased_words4      0\n",
      "article          100\n",
      "dtype: int64\n"
     ]
    }
   ],
   "source": [
    "labeled_sentences = pd.merge(all_sentences, results_bias,\n",
    "                           left_on = 'sentence', right_index = True,\n",
    "                           how='left')\n",
    "labeled_sentences = pd.merge(labeled_sentences, results_opin,\n",
    "                           left_on = 'sentence', right_index = True,\n",
    "                           how='left')\n",
    "labeled_sentences = pd.merge(labeled_sentences, annotations_biased_words,\n",
    "                           left_on = 'sentence', right_on = 'text',\n",
    "                           how='left')\n",
    "labeled_sentences = pd.merge(labeled_sentences, all_articles,\n",
    "                           left_on = 'sentence', right_on = 'sentence',\n",
    "                           how='left')\n",
    "labeled_sentences = labeled_sentences[['sentence',\n",
    " 'news_link',\n",
    " 'outlet',\n",
    " 'topic',\n",
    " 'type',\n",
    " 'group_id',\n",
    " 'num_sent',\n",
    " 'Label_bias',\n",
    " 'Label_opinion',\n",
    " 'biased_words4',\n",
    " 'article']]\n",
    "\n",
    "print('len:', len(labeled_sentences))\n",
    "print('Is there missing values?', labeled_sentences.isnull().values.any())\n",
    "print('Number of missing values:\\n', labeled_sentences.isnull().sum())"
   ]
  },
  {
   "cell_type": "code",
   "execution_count": 20,
   "metadata": {},
   "outputs": [
    {
     "data": {
      "text/html": [
       "<div>\n",
       "<style scoped>\n",
       "    .dataframe tbody tr th:only-of-type {\n",
       "        vertical-align: middle;\n",
       "    }\n",
       "\n",
       "    .dataframe tbody tr th {\n",
       "        vertical-align: top;\n",
       "    }\n",
       "\n",
       "    .dataframe thead th {\n",
       "        text-align: right;\n",
       "    }\n",
       "</style>\n",
       "<table border=\"1\" class=\"dataframe\">\n",
       "  <thead>\n",
       "    <tr style=\"text-align: right;\">\n",
       "      <th></th>\n",
       "      <th>sentence</th>\n",
       "      <th>news_link</th>\n",
       "      <th>outlet</th>\n",
       "      <th>topic</th>\n",
       "      <th>type</th>\n",
       "      <th>group_id</th>\n",
       "      <th>num_sent</th>\n",
       "      <th>Label_bias</th>\n",
       "      <th>Label_opinion</th>\n",
       "      <th>biased_words4</th>\n",
       "      <th>article</th>\n",
       "    </tr>\n",
       "  </thead>\n",
       "  <tbody>\n",
       "    <tr>\n",
       "      <td>0</td>\n",
       "      <td>YouTube is making clear there will be no “birt...</td>\n",
       "      <td>https://eu.usatoday.com/story/tech/2020/02/03/...</td>\n",
       "      <td>usa-today</td>\n",
       "      <td>elections-2020</td>\n",
       "      <td>center</td>\n",
       "      <td>1</td>\n",
       "      <td>1</td>\n",
       "      <td>Biased</td>\n",
       "      <td>Somewhat factual but also opinionated</td>\n",
       "      <td>[belated, birtherism]</td>\n",
       "      <td>YouTube says no ‘deepfakes’ or ‘birther’ video...</td>\n",
       "    </tr>\n",
       "    <tr>\n",
       "      <td>1</td>\n",
       "      <td>The increasingly bitter dispute between Americ...</td>\n",
       "      <td>https://www.nbcnews.com/news/sports/women-s-te...</td>\n",
       "      <td>msnbc</td>\n",
       "      <td>sport</td>\n",
       "      <td>left</td>\n",
       "      <td>1</td>\n",
       "      <td>1</td>\n",
       "      <td>Non-biased</td>\n",
       "      <td>Entirely factual</td>\n",
       "      <td>[bitter]</td>\n",
       "      <td>FRISCO, Texas — The increasingly bitter disput...</td>\n",
       "    </tr>\n",
       "    <tr>\n",
       "      <td>2</td>\n",
       "      <td>So while there may be a humanitarian crisis dr...</td>\n",
       "      <td>https://www.alternet.org/2019/01/here-are-5-of...</td>\n",
       "      <td>alternet</td>\n",
       "      <td>immigration</td>\n",
       "      <td>left</td>\n",
       "      <td>1</td>\n",
       "      <td>1</td>\n",
       "      <td>Biased</td>\n",
       "      <td>Expresses writer’s opinion</td>\n",
       "      <td>[crisis]</td>\n",
       "      <td>Speaking to the country for the first time fro...</td>\n",
       "    </tr>\n",
       "  </tbody>\n",
       "</table>\n",
       "</div>"
      ],
      "text/plain": [
       "                                            sentence  \\\n",
       "0  YouTube is making clear there will be no “birt...   \n",
       "1  The increasingly bitter dispute between Americ...   \n",
       "2  So while there may be a humanitarian crisis dr...   \n",
       "\n",
       "                                           news_link     outlet  \\\n",
       "0  https://eu.usatoday.com/story/tech/2020/02/03/...  usa-today   \n",
       "1  https://www.nbcnews.com/news/sports/women-s-te...      msnbc   \n",
       "2  https://www.alternet.org/2019/01/here-are-5-of...   alternet   \n",
       "\n",
       "            topic    type  group_id  num_sent  Label_bias  \\\n",
       "0  elections-2020  center         1         1      Biased   \n",
       "1           sport    left         1         1  Non-biased   \n",
       "2     immigration    left         1         1      Biased   \n",
       "\n",
       "                           Label_opinion          biased_words4  \\\n",
       "0  Somewhat factual but also opinionated  [belated, birtherism]   \n",
       "1                       Entirely factual               [bitter]   \n",
       "2             Expresses writer’s opinion               [crisis]   \n",
       "\n",
       "                                             article  \n",
       "0  YouTube says no ‘deepfakes’ or ‘birther’ video...  \n",
       "1  FRISCO, Texas — The increasingly bitter disput...  \n",
       "2  Speaking to the country for the first time fro...  "
      ]
     },
     "execution_count": 20,
     "metadata": {},
     "output_type": "execute_result"
    }
   ],
   "source": [
    "labeled_sentences.head(3)"
   ]
  },
  {
   "cell_type": "code",
   "execution_count": 28,
   "metadata": {
    "scrolled": true
   },
   "outputs": [],
   "source": [
    "# os.chdir('/Users/ladarudnitckaia/Desktop/Master Thesis/4. Survey/Results processing')\n",
    "# labeled_sentences.to_excel('labeled_dataset.xlsx')"
   ]
  },
  {
   "cell_type": "markdown",
   "metadata": {},
   "source": [
    "## 2 Descriptive statistics"
   ]
  },
  {
   "cell_type": "markdown",
   "metadata": {},
   "source": [
    "### 2.1 Dataset exploration"
   ]
  },
  {
   "cell_type": "code",
   "execution_count": 21,
   "metadata": {},
   "outputs": [],
   "source": [
    "os.chdir('/Users/ladarudnitckaia/Desktop/Master Thesis/4. Survey/Results processing')\n",
    "sentences = pd.read_excel('labeled_dataset.xlsx')"
   ]
  },
  {
   "cell_type": "code",
   "execution_count": 22,
   "metadata": {},
   "outputs": [
    {
     "data": {
      "text/html": [
       "<div>\n",
       "<style scoped>\n",
       "    .dataframe tbody tr th:only-of-type {\n",
       "        vertical-align: middle;\n",
       "    }\n",
       "\n",
       "    .dataframe tbody tr th {\n",
       "        vertical-align: top;\n",
       "    }\n",
       "\n",
       "    .dataframe thead th {\n",
       "        text-align: right;\n",
       "    }\n",
       "</style>\n",
       "<table border=\"1\" class=\"dataframe\">\n",
       "  <thead>\n",
       "    <tr style=\"text-align: right;\">\n",
       "      <th></th>\n",
       "      <th>Unnamed: 0</th>\n",
       "      <th>sentence</th>\n",
       "      <th>news_link</th>\n",
       "      <th>outlet</th>\n",
       "      <th>topic</th>\n",
       "      <th>type</th>\n",
       "      <th>group_id</th>\n",
       "      <th>num_sent</th>\n",
       "      <th>Label_bias</th>\n",
       "      <th>Label_opinion</th>\n",
       "      <th>article</th>\n",
       "      <th>biased_words4</th>\n",
       "    </tr>\n",
       "  </thead>\n",
       "  <tbody>\n",
       "    <tr>\n",
       "      <td>0</td>\n",
       "      <td>0</td>\n",
       "      <td>YouTube is making clear there will be no “birt...</td>\n",
       "      <td>https://eu.usatoday.com/story/tech/2020/02/03/...</td>\n",
       "      <td>usa-today</td>\n",
       "      <td>elections-2020</td>\n",
       "      <td>center</td>\n",
       "      <td>1</td>\n",
       "      <td>1</td>\n",
       "      <td>Biased</td>\n",
       "      <td>Somewhat factual but also opinionated</td>\n",
       "      <td>YouTube says no ‘deepfakes’ or ‘birther’ video...</td>\n",
       "      <td>['belated', 'birtherism']</td>\n",
       "    </tr>\n",
       "    <tr>\n",
       "      <td>1</td>\n",
       "      <td>1</td>\n",
       "      <td>The increasingly bitter dispute between Americ...</td>\n",
       "      <td>https://www.nbcnews.com/news/sports/women-s-te...</td>\n",
       "      <td>msnbc</td>\n",
       "      <td>sport</td>\n",
       "      <td>left</td>\n",
       "      <td>1</td>\n",
       "      <td>1</td>\n",
       "      <td>Non-biased</td>\n",
       "      <td>Entirely factual</td>\n",
       "      <td>FRISCO, Texas — The increasingly bitter disput...</td>\n",
       "      <td>['bitter']</td>\n",
       "    </tr>\n",
       "    <tr>\n",
       "      <td>2</td>\n",
       "      <td>2</td>\n",
       "      <td>So while there may be a humanitarian crisis dr...</td>\n",
       "      <td>https://www.alternet.org/2019/01/here-are-5-of...</td>\n",
       "      <td>alternet</td>\n",
       "      <td>immigration</td>\n",
       "      <td>left</td>\n",
       "      <td>1</td>\n",
       "      <td>1</td>\n",
       "      <td>Biased</td>\n",
       "      <td>Expresses writer’s opinion</td>\n",
       "      <td>Speaking to the country for the first time fro...</td>\n",
       "      <td>['crisis']</td>\n",
       "    </tr>\n",
       "  </tbody>\n",
       "</table>\n",
       "</div>"
      ],
      "text/plain": [
       "   Unnamed: 0                                           sentence  \\\n",
       "0           0  YouTube is making clear there will be no “birt...   \n",
       "1           1  The increasingly bitter dispute between Americ...   \n",
       "2           2  So while there may be a humanitarian crisis dr...   \n",
       "\n",
       "                                           news_link     outlet  \\\n",
       "0  https://eu.usatoday.com/story/tech/2020/02/03/...  usa-today   \n",
       "1  https://www.nbcnews.com/news/sports/women-s-te...      msnbc   \n",
       "2  https://www.alternet.org/2019/01/here-are-5-of...   alternet   \n",
       "\n",
       "            topic    type  group_id  num_sent  Label_bias  \\\n",
       "0  elections-2020  center         1         1      Biased   \n",
       "1           sport    left         1         1  Non-biased   \n",
       "2     immigration    left         1         1      Biased   \n",
       "\n",
       "                           Label_opinion  \\\n",
       "0  Somewhat factual but also opinionated   \n",
       "1                       Entirely factual   \n",
       "2             Expresses writer’s opinion   \n",
       "\n",
       "                                             article  \\\n",
       "0  YouTube says no ‘deepfakes’ or ‘birther’ video...   \n",
       "1  FRISCO, Texas — The increasingly bitter disput...   \n",
       "2  Speaking to the country for the first time fro...   \n",
       "\n",
       "               biased_words4  \n",
       "0  ['belated', 'birtherism']  \n",
       "1                 ['bitter']  \n",
       "2                 ['crisis']  "
      ]
     },
     "execution_count": 22,
     "metadata": {},
     "output_type": "execute_result"
    }
   ],
   "source": [
    "sentences.head(3)"
   ]
  },
  {
   "cell_type": "code",
   "execution_count": 23,
   "metadata": {},
   "outputs": [
    {
     "data": {
      "text/html": [
       "<div>\n",
       "<style scoped>\n",
       "    .dataframe tbody tr th:only-of-type {\n",
       "        vertical-align: middle;\n",
       "    }\n",
       "\n",
       "    .dataframe tbody tr th {\n",
       "        vertical-align: top;\n",
       "    }\n",
       "\n",
       "    .dataframe thead th {\n",
       "        text-align: right;\n",
       "    }\n",
       "</style>\n",
       "<table border=\"1\" class=\"dataframe\">\n",
       "  <thead>\n",
       "    <tr style=\"text-align: right;\">\n",
       "      <th></th>\n",
       "      <th>type</th>\n",
       "      <th>outlet</th>\n",
       "      <th>num_sentences</th>\n",
       "    </tr>\n",
       "  </thead>\n",
       "  <tbody>\n",
       "    <tr>\n",
       "      <td>0</td>\n",
       "      <td>center</td>\n",
       "      <td>reuters</td>\n",
       "      <td>158</td>\n",
       "    </tr>\n",
       "    <tr>\n",
       "      <td>1</td>\n",
       "      <td>center</td>\n",
       "      <td>usa-today</td>\n",
       "      <td>157</td>\n",
       "    </tr>\n",
       "    <tr>\n",
       "      <td>2</td>\n",
       "      <td>left</td>\n",
       "      <td>alternet</td>\n",
       "      <td>338</td>\n",
       "    </tr>\n",
       "    <tr>\n",
       "      <td>3</td>\n",
       "      <td>left</td>\n",
       "      <td>huffpost</td>\n",
       "      <td>114</td>\n",
       "    </tr>\n",
       "    <tr>\n",
       "      <td>4</td>\n",
       "      <td>left</td>\n",
       "      <td>msnbc</td>\n",
       "      <td>242</td>\n",
       "    </tr>\n",
       "    <tr>\n",
       "      <td>5</td>\n",
       "      <td>right</td>\n",
       "      <td>breitbart</td>\n",
       "      <td>377</td>\n",
       "    </tr>\n",
       "    <tr>\n",
       "      <td>6</td>\n",
       "      <td>right</td>\n",
       "      <td>federalist</td>\n",
       "      <td>203</td>\n",
       "    </tr>\n",
       "    <tr>\n",
       "      <td>7</td>\n",
       "      <td>right</td>\n",
       "      <td>fox-news</td>\n",
       "      <td>111</td>\n",
       "    </tr>\n",
       "  </tbody>\n",
       "</table>\n",
       "</div>"
      ],
      "text/plain": [
       "     type      outlet  num_sentences\n",
       "0  center     reuters            158\n",
       "1  center   usa-today            157\n",
       "2    left    alternet            338\n",
       "3    left    huffpost            114\n",
       "4    left       msnbc            242\n",
       "5   right   breitbart            377\n",
       "6   right  federalist            203\n",
       "7   right    fox-news            111"
      ]
     },
     "execution_count": 23,
     "metadata": {},
     "output_type": "execute_result"
    }
   ],
   "source": [
    "# outlets\n",
    "types_outlets = sentences.groupby(['type','outlet'])[['sentence']].count()\n",
    "types_outlets = types_outlets.reset_index()\n",
    "types_outlets = types_outlets.rename(columns={\"sentence\": \"num_sentences\"})\n",
    "types_outlets"
   ]
  },
  {
   "cell_type": "code",
   "execution_count": 25,
   "metadata": {},
   "outputs": [
    {
     "data": {
      "application/vnd.plotly.v1+json": {
       "config": {
        "plotlyServerURL": "https://plot.ly"
       },
       "data": [
        {
         "branchvalues": "total",
         "customdata": [
          [
           "left"
          ],
          [
           "right"
          ],
          [
           "right"
          ],
          [
           "right"
          ],
          [
           "left"
          ],
          [
           "left"
          ],
          [
           "center"
          ],
          [
           "center"
          ],
          [
           "center"
          ],
          [
           "left"
          ],
          [
           "right"
          ]
         ],
         "domain": {
          "x": [
           0,
           1
          ],
          "y": [
           0,
           1
          ]
         },
         "hovertemplate": "labels=%{label}<br>num_sentences=%{value}<br>parent=%{parent}<br>id=%{id}<br>type=%{customdata[0]}<extra></extra>",
         "ids": [
          "left/alternet",
          "right/breitbart",
          "right/federalist",
          "right/fox-news",
          "left/huffpost",
          "left/msnbc",
          "center/reuters",
          "center/usa-today",
          "center",
          "left",
          "right"
         ],
         "labels": [
          "alternet",
          "breitbart",
          "federalist",
          "fox-news",
          "huffpost",
          "msnbc",
          "reuters",
          "usa-today",
          "center",
          "left",
          "right"
         ],
         "marker": {
          "colors": [
           "steelblue",
           "indianred",
           "indianred",
           "indianred",
           "steelblue",
           "steelblue",
           "thistle",
           "thistle",
           "thistle",
           "steelblue",
           "indianred"
          ]
         },
         "name": "",
         "parents": [
          "left",
          "right",
          "right",
          "right",
          "left",
          "left",
          "center",
          "center",
          "",
          "",
          ""
         ],
         "textfont": {
          "size": 20
         },
         "type": "sunburst",
         "values": [
          338,
          377,
          203,
          111,
          114,
          242,
          158,
          157,
          315,
          694,
          691
         ]
        }
       ],
       "layout": {
        "legend": {
         "tracegroupgap": 0
        },
        "margin": {
         "t": 60
        },
        "template": {
         "data": {
          "bar": [
           {
            "error_x": {
             "color": "#2a3f5f"
            },
            "error_y": {
             "color": "#2a3f5f"
            },
            "marker": {
             "line": {
              "color": "#E5ECF6",
              "width": 0.5
             }
            },
            "type": "bar"
           }
          ],
          "barpolar": [
           {
            "marker": {
             "line": {
              "color": "#E5ECF6",
              "width": 0.5
             }
            },
            "type": "barpolar"
           }
          ],
          "carpet": [
           {
            "aaxis": {
             "endlinecolor": "#2a3f5f",
             "gridcolor": "white",
             "linecolor": "white",
             "minorgridcolor": "white",
             "startlinecolor": "#2a3f5f"
            },
            "baxis": {
             "endlinecolor": "#2a3f5f",
             "gridcolor": "white",
             "linecolor": "white",
             "minorgridcolor": "white",
             "startlinecolor": "#2a3f5f"
            },
            "type": "carpet"
           }
          ],
          "choropleth": [
           {
            "colorbar": {
             "outlinewidth": 0,
             "ticks": ""
            },
            "type": "choropleth"
           }
          ],
          "contour": [
           {
            "colorbar": {
             "outlinewidth": 0,
             "ticks": ""
            },
            "colorscale": [
             [
              0,
              "#0d0887"
             ],
             [
              0.1111111111111111,
              "#46039f"
             ],
             [
              0.2222222222222222,
              "#7201a8"
             ],
             [
              0.3333333333333333,
              "#9c179e"
             ],
             [
              0.4444444444444444,
              "#bd3786"
             ],
             [
              0.5555555555555556,
              "#d8576b"
             ],
             [
              0.6666666666666666,
              "#ed7953"
             ],
             [
              0.7777777777777778,
              "#fb9f3a"
             ],
             [
              0.8888888888888888,
              "#fdca26"
             ],
             [
              1,
              "#f0f921"
             ]
            ],
            "type": "contour"
           }
          ],
          "contourcarpet": [
           {
            "colorbar": {
             "outlinewidth": 0,
             "ticks": ""
            },
            "type": "contourcarpet"
           }
          ],
          "heatmap": [
           {
            "colorbar": {
             "outlinewidth": 0,
             "ticks": ""
            },
            "colorscale": [
             [
              0,
              "#0d0887"
             ],
             [
              0.1111111111111111,
              "#46039f"
             ],
             [
              0.2222222222222222,
              "#7201a8"
             ],
             [
              0.3333333333333333,
              "#9c179e"
             ],
             [
              0.4444444444444444,
              "#bd3786"
             ],
             [
              0.5555555555555556,
              "#d8576b"
             ],
             [
              0.6666666666666666,
              "#ed7953"
             ],
             [
              0.7777777777777778,
              "#fb9f3a"
             ],
             [
              0.8888888888888888,
              "#fdca26"
             ],
             [
              1,
              "#f0f921"
             ]
            ],
            "type": "heatmap"
           }
          ],
          "heatmapgl": [
           {
            "colorbar": {
             "outlinewidth": 0,
             "ticks": ""
            },
            "colorscale": [
             [
              0,
              "#0d0887"
             ],
             [
              0.1111111111111111,
              "#46039f"
             ],
             [
              0.2222222222222222,
              "#7201a8"
             ],
             [
              0.3333333333333333,
              "#9c179e"
             ],
             [
              0.4444444444444444,
              "#bd3786"
             ],
             [
              0.5555555555555556,
              "#d8576b"
             ],
             [
              0.6666666666666666,
              "#ed7953"
             ],
             [
              0.7777777777777778,
              "#fb9f3a"
             ],
             [
              0.8888888888888888,
              "#fdca26"
             ],
             [
              1,
              "#f0f921"
             ]
            ],
            "type": "heatmapgl"
           }
          ],
          "histogram": [
           {
            "marker": {
             "colorbar": {
              "outlinewidth": 0,
              "ticks": ""
             }
            },
            "type": "histogram"
           }
          ],
          "histogram2d": [
           {
            "colorbar": {
             "outlinewidth": 0,
             "ticks": ""
            },
            "colorscale": [
             [
              0,
              "#0d0887"
             ],
             [
              0.1111111111111111,
              "#46039f"
             ],
             [
              0.2222222222222222,
              "#7201a8"
             ],
             [
              0.3333333333333333,
              "#9c179e"
             ],
             [
              0.4444444444444444,
              "#bd3786"
             ],
             [
              0.5555555555555556,
              "#d8576b"
             ],
             [
              0.6666666666666666,
              "#ed7953"
             ],
             [
              0.7777777777777778,
              "#fb9f3a"
             ],
             [
              0.8888888888888888,
              "#fdca26"
             ],
             [
              1,
              "#f0f921"
             ]
            ],
            "type": "histogram2d"
           }
          ],
          "histogram2dcontour": [
           {
            "colorbar": {
             "outlinewidth": 0,
             "ticks": ""
            },
            "colorscale": [
             [
              0,
              "#0d0887"
             ],
             [
              0.1111111111111111,
              "#46039f"
             ],
             [
              0.2222222222222222,
              "#7201a8"
             ],
             [
              0.3333333333333333,
              "#9c179e"
             ],
             [
              0.4444444444444444,
              "#bd3786"
             ],
             [
              0.5555555555555556,
              "#d8576b"
             ],
             [
              0.6666666666666666,
              "#ed7953"
             ],
             [
              0.7777777777777778,
              "#fb9f3a"
             ],
             [
              0.8888888888888888,
              "#fdca26"
             ],
             [
              1,
              "#f0f921"
             ]
            ],
            "type": "histogram2dcontour"
           }
          ],
          "mesh3d": [
           {
            "colorbar": {
             "outlinewidth": 0,
             "ticks": ""
            },
            "type": "mesh3d"
           }
          ],
          "parcoords": [
           {
            "line": {
             "colorbar": {
              "outlinewidth": 0,
              "ticks": ""
             }
            },
            "type": "parcoords"
           }
          ],
          "pie": [
           {
            "automargin": true,
            "type": "pie"
           }
          ],
          "scatter": [
           {
            "marker": {
             "colorbar": {
              "outlinewidth": 0,
              "ticks": ""
             }
            },
            "type": "scatter"
           }
          ],
          "scatter3d": [
           {
            "line": {
             "colorbar": {
              "outlinewidth": 0,
              "ticks": ""
             }
            },
            "marker": {
             "colorbar": {
              "outlinewidth": 0,
              "ticks": ""
             }
            },
            "type": "scatter3d"
           }
          ],
          "scattercarpet": [
           {
            "marker": {
             "colorbar": {
              "outlinewidth": 0,
              "ticks": ""
             }
            },
            "type": "scattercarpet"
           }
          ],
          "scattergeo": [
           {
            "marker": {
             "colorbar": {
              "outlinewidth": 0,
              "ticks": ""
             }
            },
            "type": "scattergeo"
           }
          ],
          "scattergl": [
           {
            "marker": {
             "colorbar": {
              "outlinewidth": 0,
              "ticks": ""
             }
            },
            "type": "scattergl"
           }
          ],
          "scattermapbox": [
           {
            "marker": {
             "colorbar": {
              "outlinewidth": 0,
              "ticks": ""
             }
            },
            "type": "scattermapbox"
           }
          ],
          "scatterpolar": [
           {
            "marker": {
             "colorbar": {
              "outlinewidth": 0,
              "ticks": ""
             }
            },
            "type": "scatterpolar"
           }
          ],
          "scatterpolargl": [
           {
            "marker": {
             "colorbar": {
              "outlinewidth": 0,
              "ticks": ""
             }
            },
            "type": "scatterpolargl"
           }
          ],
          "scatterternary": [
           {
            "marker": {
             "colorbar": {
              "outlinewidth": 0,
              "ticks": ""
             }
            },
            "type": "scatterternary"
           }
          ],
          "surface": [
           {
            "colorbar": {
             "outlinewidth": 0,
             "ticks": ""
            },
            "colorscale": [
             [
              0,
              "#0d0887"
             ],
             [
              0.1111111111111111,
              "#46039f"
             ],
             [
              0.2222222222222222,
              "#7201a8"
             ],
             [
              0.3333333333333333,
              "#9c179e"
             ],
             [
              0.4444444444444444,
              "#bd3786"
             ],
             [
              0.5555555555555556,
              "#d8576b"
             ],
             [
              0.6666666666666666,
              "#ed7953"
             ],
             [
              0.7777777777777778,
              "#fb9f3a"
             ],
             [
              0.8888888888888888,
              "#fdca26"
             ],
             [
              1,
              "#f0f921"
             ]
            ],
            "type": "surface"
           }
          ],
          "table": [
           {
            "cells": {
             "fill": {
              "color": "#EBF0F8"
             },
             "line": {
              "color": "white"
             }
            },
            "header": {
             "fill": {
              "color": "#C8D4E3"
             },
             "line": {
              "color": "white"
             }
            },
            "type": "table"
           }
          ]
         },
         "layout": {
          "annotationdefaults": {
           "arrowcolor": "#2a3f5f",
           "arrowhead": 0,
           "arrowwidth": 1
          },
          "coloraxis": {
           "colorbar": {
            "outlinewidth": 0,
            "ticks": ""
           }
          },
          "colorscale": {
           "diverging": [
            [
             0,
             "#8e0152"
            ],
            [
             0.1,
             "#c51b7d"
            ],
            [
             0.2,
             "#de77ae"
            ],
            [
             0.3,
             "#f1b6da"
            ],
            [
             0.4,
             "#fde0ef"
            ],
            [
             0.5,
             "#f7f7f7"
            ],
            [
             0.6,
             "#e6f5d0"
            ],
            [
             0.7,
             "#b8e186"
            ],
            [
             0.8,
             "#7fbc41"
            ],
            [
             0.9,
             "#4d9221"
            ],
            [
             1,
             "#276419"
            ]
           ],
           "sequential": [
            [
             0,
             "#0d0887"
            ],
            [
             0.1111111111111111,
             "#46039f"
            ],
            [
             0.2222222222222222,
             "#7201a8"
            ],
            [
             0.3333333333333333,
             "#9c179e"
            ],
            [
             0.4444444444444444,
             "#bd3786"
            ],
            [
             0.5555555555555556,
             "#d8576b"
            ],
            [
             0.6666666666666666,
             "#ed7953"
            ],
            [
             0.7777777777777778,
             "#fb9f3a"
            ],
            [
             0.8888888888888888,
             "#fdca26"
            ],
            [
             1,
             "#f0f921"
            ]
           ],
           "sequentialminus": [
            [
             0,
             "#0d0887"
            ],
            [
             0.1111111111111111,
             "#46039f"
            ],
            [
             0.2222222222222222,
             "#7201a8"
            ],
            [
             0.3333333333333333,
             "#9c179e"
            ],
            [
             0.4444444444444444,
             "#bd3786"
            ],
            [
             0.5555555555555556,
             "#d8576b"
            ],
            [
             0.6666666666666666,
             "#ed7953"
            ],
            [
             0.7777777777777778,
             "#fb9f3a"
            ],
            [
             0.8888888888888888,
             "#fdca26"
            ],
            [
             1,
             "#f0f921"
            ]
           ]
          },
          "colorway": [
           "#636efa",
           "#EF553B",
           "#00cc96",
           "#ab63fa",
           "#FFA15A",
           "#19d3f3",
           "#FF6692",
           "#B6E880",
           "#FF97FF",
           "#FECB52"
          ],
          "font": {
           "color": "#2a3f5f"
          },
          "geo": {
           "bgcolor": "white",
           "lakecolor": "white",
           "landcolor": "#E5ECF6",
           "showlakes": true,
           "showland": true,
           "subunitcolor": "white"
          },
          "hoverlabel": {
           "align": "left"
          },
          "hovermode": "closest",
          "mapbox": {
           "style": "light"
          },
          "paper_bgcolor": "white",
          "plot_bgcolor": "#E5ECF6",
          "polar": {
           "angularaxis": {
            "gridcolor": "white",
            "linecolor": "white",
            "ticks": ""
           },
           "bgcolor": "#E5ECF6",
           "radialaxis": {
            "gridcolor": "white",
            "linecolor": "white",
            "ticks": ""
           }
          },
          "scene": {
           "xaxis": {
            "backgroundcolor": "#E5ECF6",
            "gridcolor": "white",
            "gridwidth": 2,
            "linecolor": "white",
            "showbackground": true,
            "ticks": "",
            "zerolinecolor": "white"
           },
           "yaxis": {
            "backgroundcolor": "#E5ECF6",
            "gridcolor": "white",
            "gridwidth": 2,
            "linecolor": "white",
            "showbackground": true,
            "ticks": "",
            "zerolinecolor": "white"
           },
           "zaxis": {
            "backgroundcolor": "#E5ECF6",
            "gridcolor": "white",
            "gridwidth": 2,
            "linecolor": "white",
            "showbackground": true,
            "ticks": "",
            "zerolinecolor": "white"
           }
          },
          "shapedefaults": {
           "line": {
            "color": "#2a3f5f"
           }
          },
          "ternary": {
           "aaxis": {
            "gridcolor": "white",
            "linecolor": "white",
            "ticks": ""
           },
           "baxis": {
            "gridcolor": "white",
            "linecolor": "white",
            "ticks": ""
           },
           "bgcolor": "#E5ECF6",
           "caxis": {
            "gridcolor": "white",
            "linecolor": "white",
            "ticks": ""
           }
          },
          "title": {
           "x": 0.05
          },
          "xaxis": {
           "automargin": true,
           "gridcolor": "white",
           "linecolor": "white",
           "ticks": "",
           "title": {
            "standoff": 15
           },
           "zerolinecolor": "white",
           "zerolinewidth": 2
          },
          "yaxis": {
           "automargin": true,
           "gridcolor": "white",
           "linecolor": "white",
           "ticks": "",
           "title": {
            "standoff": 15
           },
           "zerolinecolor": "white",
           "zerolinewidth": 2
          }
         }
        }
       }
      },
      "text/html": [
       "<div>\n",
       "        \n",
       "        \n",
       "            <div id=\"8fdbd7de-2047-42fe-b598-583bc266fe48\" class=\"plotly-graph-div\" style=\"height:525px; width:100%;\"></div>\n",
       "            <script type=\"text/javascript\">\n",
       "                require([\"plotly\"], function(Plotly) {\n",
       "                    window.PLOTLYENV=window.PLOTLYENV || {};\n",
       "                    \n",
       "                if (document.getElementById(\"8fdbd7de-2047-42fe-b598-583bc266fe48\")) {\n",
       "                    Plotly.newPlot(\n",
       "                        '8fdbd7de-2047-42fe-b598-583bc266fe48',\n",
       "                        [{\"branchvalues\": \"total\", \"customdata\": [[\"left\"], [\"right\"], [\"right\"], [\"right\"], [\"left\"], [\"left\"], [\"center\"], [\"center\"], [\"center\"], [\"left\"], [\"right\"]], \"domain\": {\"x\": [0.0, 1.0], \"y\": [0.0, 1.0]}, \"hovertemplate\": \"labels=%{label}<br>num_sentences=%{value}<br>parent=%{parent}<br>id=%{id}<br>type=%{customdata[0]}<extra></extra>\", \"ids\": [\"left/alternet\", \"right/breitbart\", \"right/federalist\", \"right/fox-news\", \"left/huffpost\", \"left/msnbc\", \"center/reuters\", \"center/usa-today\", \"center\", \"left\", \"right\"], \"labels\": [\"alternet\", \"breitbart\", \"federalist\", \"fox-news\", \"huffpost\", \"msnbc\", \"reuters\", \"usa-today\", \"center\", \"left\", \"right\"], \"marker\": {\"colors\": [\"steelblue\", \"indianred\", \"indianred\", \"indianred\", \"steelblue\", \"steelblue\", \"thistle\", \"thistle\", \"thistle\", \"steelblue\", \"indianred\"]}, \"name\": \"\", \"parents\": [\"left\", \"right\", \"right\", \"right\", \"left\", \"left\", \"center\", \"center\", \"\", \"\", \"\"], \"textfont\": {\"size\": 20}, \"type\": \"sunburst\", \"values\": [338, 377, 203, 111, 114, 242, 158, 157, 315, 694, 691]}],\n",
       "                        {\"legend\": {\"tracegroupgap\": 0}, \"margin\": {\"t\": 60}, \"template\": {\"data\": {\"bar\": [{\"error_x\": {\"color\": \"#2a3f5f\"}, \"error_y\": {\"color\": \"#2a3f5f\"}, \"marker\": {\"line\": {\"color\": \"#E5ECF6\", \"width\": 0.5}}, \"type\": \"bar\"}], \"barpolar\": [{\"marker\": {\"line\": {\"color\": \"#E5ECF6\", \"width\": 0.5}}, \"type\": \"barpolar\"}], \"carpet\": [{\"aaxis\": {\"endlinecolor\": \"#2a3f5f\", \"gridcolor\": \"white\", \"linecolor\": \"white\", \"minorgridcolor\": \"white\", \"startlinecolor\": \"#2a3f5f\"}, \"baxis\": {\"endlinecolor\": \"#2a3f5f\", \"gridcolor\": \"white\", \"linecolor\": \"white\", \"minorgridcolor\": \"white\", \"startlinecolor\": \"#2a3f5f\"}, \"type\": \"carpet\"}], \"choropleth\": [{\"colorbar\": {\"outlinewidth\": 0, \"ticks\": \"\"}, \"type\": \"choropleth\"}], \"contour\": [{\"colorbar\": {\"outlinewidth\": 0, \"ticks\": \"\"}, \"colorscale\": [[0.0, \"#0d0887\"], [0.1111111111111111, \"#46039f\"], [0.2222222222222222, \"#7201a8\"], [0.3333333333333333, \"#9c179e\"], [0.4444444444444444, \"#bd3786\"], [0.5555555555555556, \"#d8576b\"], [0.6666666666666666, \"#ed7953\"], [0.7777777777777778, \"#fb9f3a\"], [0.8888888888888888, \"#fdca26\"], [1.0, \"#f0f921\"]], \"type\": \"contour\"}], \"contourcarpet\": [{\"colorbar\": {\"outlinewidth\": 0, \"ticks\": \"\"}, \"type\": \"contourcarpet\"}], \"heatmap\": [{\"colorbar\": {\"outlinewidth\": 0, \"ticks\": \"\"}, \"colorscale\": [[0.0, \"#0d0887\"], [0.1111111111111111, \"#46039f\"], [0.2222222222222222, \"#7201a8\"], [0.3333333333333333, \"#9c179e\"], [0.4444444444444444, \"#bd3786\"], [0.5555555555555556, \"#d8576b\"], [0.6666666666666666, \"#ed7953\"], [0.7777777777777778, \"#fb9f3a\"], [0.8888888888888888, \"#fdca26\"], [1.0, \"#f0f921\"]], \"type\": \"heatmap\"}], \"heatmapgl\": [{\"colorbar\": {\"outlinewidth\": 0, \"ticks\": \"\"}, \"colorscale\": [[0.0, \"#0d0887\"], [0.1111111111111111, \"#46039f\"], [0.2222222222222222, \"#7201a8\"], [0.3333333333333333, \"#9c179e\"], [0.4444444444444444, \"#bd3786\"], [0.5555555555555556, \"#d8576b\"], [0.6666666666666666, \"#ed7953\"], [0.7777777777777778, \"#fb9f3a\"], [0.8888888888888888, \"#fdca26\"], [1.0, \"#f0f921\"]], \"type\": \"heatmapgl\"}], \"histogram\": [{\"marker\": {\"colorbar\": {\"outlinewidth\": 0, \"ticks\": \"\"}}, \"type\": \"histogram\"}], \"histogram2d\": [{\"colorbar\": {\"outlinewidth\": 0, \"ticks\": \"\"}, \"colorscale\": [[0.0, \"#0d0887\"], [0.1111111111111111, \"#46039f\"], [0.2222222222222222, \"#7201a8\"], [0.3333333333333333, \"#9c179e\"], [0.4444444444444444, \"#bd3786\"], [0.5555555555555556, \"#d8576b\"], [0.6666666666666666, \"#ed7953\"], [0.7777777777777778, \"#fb9f3a\"], [0.8888888888888888, \"#fdca26\"], [1.0, \"#f0f921\"]], \"type\": \"histogram2d\"}], \"histogram2dcontour\": [{\"colorbar\": {\"outlinewidth\": 0, \"ticks\": \"\"}, \"colorscale\": [[0.0, \"#0d0887\"], [0.1111111111111111, \"#46039f\"], [0.2222222222222222, \"#7201a8\"], [0.3333333333333333, \"#9c179e\"], [0.4444444444444444, \"#bd3786\"], [0.5555555555555556, \"#d8576b\"], [0.6666666666666666, \"#ed7953\"], [0.7777777777777778, \"#fb9f3a\"], [0.8888888888888888, \"#fdca26\"], [1.0, \"#f0f921\"]], \"type\": \"histogram2dcontour\"}], \"mesh3d\": [{\"colorbar\": {\"outlinewidth\": 0, \"ticks\": \"\"}, \"type\": \"mesh3d\"}], \"parcoords\": [{\"line\": {\"colorbar\": {\"outlinewidth\": 0, \"ticks\": \"\"}}, \"type\": \"parcoords\"}], \"pie\": [{\"automargin\": true, \"type\": \"pie\"}], \"scatter\": [{\"marker\": {\"colorbar\": {\"outlinewidth\": 0, \"ticks\": \"\"}}, \"type\": \"scatter\"}], \"scatter3d\": [{\"line\": {\"colorbar\": {\"outlinewidth\": 0, \"ticks\": \"\"}}, \"marker\": {\"colorbar\": {\"outlinewidth\": 0, \"ticks\": \"\"}}, \"type\": \"scatter3d\"}], \"scattercarpet\": [{\"marker\": {\"colorbar\": {\"outlinewidth\": 0, \"ticks\": \"\"}}, \"type\": \"scattercarpet\"}], \"scattergeo\": [{\"marker\": {\"colorbar\": {\"outlinewidth\": 0, \"ticks\": \"\"}}, \"type\": \"scattergeo\"}], \"scattergl\": [{\"marker\": {\"colorbar\": {\"outlinewidth\": 0, \"ticks\": \"\"}}, \"type\": \"scattergl\"}], \"scattermapbox\": [{\"marker\": {\"colorbar\": {\"outlinewidth\": 0, \"ticks\": \"\"}}, \"type\": \"scattermapbox\"}], \"scatterpolar\": [{\"marker\": {\"colorbar\": {\"outlinewidth\": 0, \"ticks\": \"\"}}, \"type\": \"scatterpolar\"}], \"scatterpolargl\": [{\"marker\": {\"colorbar\": {\"outlinewidth\": 0, \"ticks\": \"\"}}, \"type\": \"scatterpolargl\"}], \"scatterternary\": [{\"marker\": {\"colorbar\": {\"outlinewidth\": 0, \"ticks\": \"\"}}, \"type\": \"scatterternary\"}], \"surface\": [{\"colorbar\": {\"outlinewidth\": 0, \"ticks\": \"\"}, \"colorscale\": [[0.0, \"#0d0887\"], [0.1111111111111111, \"#46039f\"], [0.2222222222222222, \"#7201a8\"], [0.3333333333333333, \"#9c179e\"], [0.4444444444444444, \"#bd3786\"], [0.5555555555555556, \"#d8576b\"], [0.6666666666666666, \"#ed7953\"], [0.7777777777777778, \"#fb9f3a\"], [0.8888888888888888, \"#fdca26\"], [1.0, \"#f0f921\"]], \"type\": \"surface\"}], \"table\": [{\"cells\": {\"fill\": {\"color\": \"#EBF0F8\"}, \"line\": {\"color\": \"white\"}}, \"header\": {\"fill\": {\"color\": \"#C8D4E3\"}, \"line\": {\"color\": \"white\"}}, \"type\": \"table\"}]}, \"layout\": {\"annotationdefaults\": {\"arrowcolor\": \"#2a3f5f\", \"arrowhead\": 0, \"arrowwidth\": 1}, \"coloraxis\": {\"colorbar\": {\"outlinewidth\": 0, \"ticks\": \"\"}}, \"colorscale\": {\"diverging\": [[0, \"#8e0152\"], [0.1, \"#c51b7d\"], [0.2, \"#de77ae\"], [0.3, \"#f1b6da\"], [0.4, \"#fde0ef\"], [0.5, \"#f7f7f7\"], [0.6, \"#e6f5d0\"], [0.7, \"#b8e186\"], [0.8, \"#7fbc41\"], [0.9, \"#4d9221\"], [1, \"#276419\"]], \"sequential\": [[0.0, \"#0d0887\"], [0.1111111111111111, \"#46039f\"], [0.2222222222222222, \"#7201a8\"], [0.3333333333333333, \"#9c179e\"], [0.4444444444444444, \"#bd3786\"], [0.5555555555555556, \"#d8576b\"], [0.6666666666666666, \"#ed7953\"], [0.7777777777777778, \"#fb9f3a\"], [0.8888888888888888, \"#fdca26\"], [1.0, \"#f0f921\"]], \"sequentialminus\": [[0.0, \"#0d0887\"], [0.1111111111111111, \"#46039f\"], [0.2222222222222222, \"#7201a8\"], [0.3333333333333333, \"#9c179e\"], [0.4444444444444444, \"#bd3786\"], [0.5555555555555556, \"#d8576b\"], [0.6666666666666666, \"#ed7953\"], [0.7777777777777778, \"#fb9f3a\"], [0.8888888888888888, \"#fdca26\"], [1.0, \"#f0f921\"]]}, \"colorway\": [\"#636efa\", \"#EF553B\", \"#00cc96\", \"#ab63fa\", \"#FFA15A\", \"#19d3f3\", \"#FF6692\", \"#B6E880\", \"#FF97FF\", \"#FECB52\"], \"font\": {\"color\": \"#2a3f5f\"}, \"geo\": {\"bgcolor\": \"white\", \"lakecolor\": \"white\", \"landcolor\": \"#E5ECF6\", \"showlakes\": true, \"showland\": true, \"subunitcolor\": \"white\"}, \"hoverlabel\": {\"align\": \"left\"}, \"hovermode\": \"closest\", \"mapbox\": {\"style\": \"light\"}, \"paper_bgcolor\": \"white\", \"plot_bgcolor\": \"#E5ECF6\", \"polar\": {\"angularaxis\": {\"gridcolor\": \"white\", \"linecolor\": \"white\", \"ticks\": \"\"}, \"bgcolor\": \"#E5ECF6\", \"radialaxis\": {\"gridcolor\": \"white\", \"linecolor\": \"white\", \"ticks\": \"\"}}, \"scene\": {\"xaxis\": {\"backgroundcolor\": \"#E5ECF6\", \"gridcolor\": \"white\", \"gridwidth\": 2, \"linecolor\": \"white\", \"showbackground\": true, \"ticks\": \"\", \"zerolinecolor\": \"white\"}, \"yaxis\": {\"backgroundcolor\": \"#E5ECF6\", \"gridcolor\": \"white\", \"gridwidth\": 2, \"linecolor\": \"white\", \"showbackground\": true, \"ticks\": \"\", \"zerolinecolor\": \"white\"}, \"zaxis\": {\"backgroundcolor\": \"#E5ECF6\", \"gridcolor\": \"white\", \"gridwidth\": 2, \"linecolor\": \"white\", \"showbackground\": true, \"ticks\": \"\", \"zerolinecolor\": \"white\"}}, \"shapedefaults\": {\"line\": {\"color\": \"#2a3f5f\"}}, \"ternary\": {\"aaxis\": {\"gridcolor\": \"white\", \"linecolor\": \"white\", \"ticks\": \"\"}, \"baxis\": {\"gridcolor\": \"white\", \"linecolor\": \"white\", \"ticks\": \"\"}, \"bgcolor\": \"#E5ECF6\", \"caxis\": {\"gridcolor\": \"white\", \"linecolor\": \"white\", \"ticks\": \"\"}}, \"title\": {\"x\": 0.05}, \"xaxis\": {\"automargin\": true, \"gridcolor\": \"white\", \"linecolor\": \"white\", \"ticks\": \"\", \"title\": {\"standoff\": 15}, \"zerolinecolor\": \"white\", \"zerolinewidth\": 2}, \"yaxis\": {\"automargin\": true, \"gridcolor\": \"white\", \"linecolor\": \"white\", \"ticks\": \"\", \"title\": {\"standoff\": 15}, \"zerolinecolor\": \"white\", \"zerolinewidth\": 2}}}},\n",
       "                        {\"responsive\": true}\n",
       "                    ).then(function(){\n",
       "                            \n",
       "var gd = document.getElementById('8fdbd7de-2047-42fe-b598-583bc266fe48');\n",
       "var x = new MutationObserver(function (mutations, observer) {{\n",
       "        var display = window.getComputedStyle(gd).display;\n",
       "        if (!display || display === 'none') {{\n",
       "            console.log([gd, 'removed!']);\n",
       "            Plotly.purge(gd);\n",
       "            observer.disconnect();\n",
       "        }}\n",
       "}});\n",
       "\n",
       "// Listen for the removal of the full notebook cells\n",
       "var notebookContainer = gd.closest('#notebook-container');\n",
       "if (notebookContainer) {{\n",
       "    x.observe(notebookContainer, {childList: true});\n",
       "}}\n",
       "\n",
       "// Listen for the clearing of the current output cell\n",
       "var outputEl = gd.closest('.output');\n",
       "if (outputEl) {{\n",
       "    x.observe(outputEl, {childList: true});\n",
       "}}\n",
       "\n",
       "                        })\n",
       "                };\n",
       "                });\n",
       "            </script>\n",
       "        </div>"
      ]
     },
     "metadata": {},
     "output_type": "display_data"
    }
   ],
   "source": [
    "fig = px.sunburst(data_frame = types_outlets,\n",
    "                  path = ['type', 'outlet'],\n",
    "                  values = 'num_sentences',\n",
    "                  color='type',\n",
    "                  color_discrete_map={'center':'thistle', 'left':'steelblue','right':'indianred'})\n",
    "fig.update_traces(textfont_size=20)\n",
    "fig.show()"
   ]
  },
  {
   "cell_type": "code",
   "execution_count": 30,
   "metadata": {},
   "outputs": [
    {
     "data": {
      "text/html": [
       "<div>\n",
       "<style scoped>\n",
       "    .dataframe tbody tr th:only-of-type {\n",
       "        vertical-align: middle;\n",
       "    }\n",
       "\n",
       "    .dataframe tbody tr th {\n",
       "        vertical-align: top;\n",
       "    }\n",
       "\n",
       "    .dataframe thead th {\n",
       "        text-align: right;\n",
       "    }\n",
       "</style>\n",
       "<table border=\"1\" class=\"dataframe\">\n",
       "  <thead>\n",
       "    <tr style=\"text-align: right;\">\n",
       "      <th></th>\n",
       "      <th>topic</th>\n",
       "      <th>num_sentences</th>\n",
       "    </tr>\n",
       "  </thead>\n",
       "  <tbody>\n",
       "    <tr>\n",
       "      <td>0</td>\n",
       "      <td>abortion</td>\n",
       "      <td>126</td>\n",
       "    </tr>\n",
       "    <tr>\n",
       "      <td>1</td>\n",
       "      <td>coronavirus</td>\n",
       "      <td>122</td>\n",
       "    </tr>\n",
       "    <tr>\n",
       "      <td>2</td>\n",
       "      <td>elections-2020</td>\n",
       "      <td>111</td>\n",
       "    </tr>\n",
       "    <tr>\n",
       "      <td>3</td>\n",
       "      <td>environment</td>\n",
       "      <td>135</td>\n",
       "    </tr>\n",
       "    <tr>\n",
       "      <td>4</td>\n",
       "      <td>gender</td>\n",
       "      <td>128</td>\n",
       "    </tr>\n",
       "    <tr>\n",
       "      <td>5</td>\n",
       "      <td>gun-control</td>\n",
       "      <td>124</td>\n",
       "    </tr>\n",
       "    <tr>\n",
       "      <td>6</td>\n",
       "      <td>immigration</td>\n",
       "      <td>122</td>\n",
       "    </tr>\n",
       "    <tr>\n",
       "      <td>7</td>\n",
       "      <td>int.-politics-&amp;-world-news</td>\n",
       "      <td>88</td>\n",
       "    </tr>\n",
       "    <tr>\n",
       "      <td>8</td>\n",
       "      <td>middle-class</td>\n",
       "      <td>118</td>\n",
       "    </tr>\n",
       "    <tr>\n",
       "      <td>9</td>\n",
       "      <td>sport</td>\n",
       "      <td>126</td>\n",
       "    </tr>\n",
       "    <tr>\n",
       "      <td>10</td>\n",
       "      <td>student-debt</td>\n",
       "      <td>127</td>\n",
       "    </tr>\n",
       "    <tr>\n",
       "      <td>11</td>\n",
       "      <td>trump-presidency</td>\n",
       "      <td>120</td>\n",
       "    </tr>\n",
       "    <tr>\n",
       "      <td>12</td>\n",
       "      <td>vaccines</td>\n",
       "      <td>122</td>\n",
       "    </tr>\n",
       "    <tr>\n",
       "      <td>13</td>\n",
       "      <td>white-nationalism</td>\n",
       "      <td>131</td>\n",
       "    </tr>\n",
       "  </tbody>\n",
       "</table>\n",
       "</div>"
      ],
      "text/plain": [
       "                         topic  num_sentences\n",
       "0                     abortion            126\n",
       "1                  coronavirus            122\n",
       "2               elections-2020            111\n",
       "3                  environment            135\n",
       "4                       gender            128\n",
       "5                  gun-control            124\n",
       "6                  immigration            122\n",
       "7   int.-politics-&-world-news             88\n",
       "8                 middle-class            118\n",
       "9                        sport            126\n",
       "10                student-debt            127\n",
       "11            trump-presidency            120\n",
       "12                    vaccines            122\n",
       "13           white-nationalism            131"
      ]
     },
     "execution_count": 30,
     "metadata": {},
     "output_type": "execute_result"
    }
   ],
   "source": [
    "# topics\n",
    "topics = sentences.groupby(['topic'])[['sentence']].count()\n",
    "topics = topics.reset_index()\n",
    "topics = topics.rename(columns={\"sentence\": \"num_sentences\"})\n",
    "topics = topics.replace('international-politics-and-world-news', 'int.-politics-&-world-news')\n",
    "\n",
    "topics"
   ]
  },
  {
   "cell_type": "code",
   "execution_count": 31,
   "metadata": {},
   "outputs": [
    {
     "data": {
      "image/png": "[encoded data removed]",
      "text/plain": [
       "<Figure size 720x504 with 1 Axes>"
      ]
     },
     "metadata": {},
     "output_type": "display_data"
    }
   ],
   "source": [
    "alphas = np.linspace(0.05, 0.95, 14)\n",
    "teal_rgba = np.array([np.array(list(colors.to_rgba('teal', alpha=None))),]*14)\n",
    "teal_rgba[:, 3] = alphas\n",
    "teal_rgba\n",
    "\n",
    "def my_autopct(pct):\n",
    "    return ('%.1f%%' % pct) if pct > 3 else ''\n",
    "\n",
    "fig1, ax1 = plt.subplots(figsize=(10,7))\n",
    "my_pie = ax1.pie(topics.num_sentences, labels=topics.topic,\n",
    "        startangle=90, textprops={'fontsize': 18}, #labeldistance=None,\n",
    "        autopct=my_autopct, pctdistance=0.8,\n",
    "       colors=teal_rgba)\n",
    "ax1.axis('equal')  # Equal aspect ratio ensures that pie is drawn as a circle.\n",
    "#ax1.legend(loc='upper right') #, bbox_to_anchor=(1.24, 0.95))\n",
    "\n",
    "for pie_wedge in my_pie[0]:\n",
    "    pie_wedge.set_edgecolor('white')\n",
    "\n",
    "plt.show()"
   ]
  },
  {
   "cell_type": "markdown",
   "metadata": {},
   "source": [
    "### 2.2 Who are our annotators?"
   ]
  },
  {
   "cell_type": "code",
   "execution_count": 34,
   "metadata": {},
   "outputs": [
    {
     "name": "stdout",
     "output_type": "stream",
     "text": [
      "Total number of annotators: 784\n"
     ]
    }
   ],
   "source": [
    "os.chdir('/Users/ladarudnitckaia/Desktop/Master Thesis/4. Survey/Results processing')\n",
    "all_annotators = pd.read_csv('annotators.csv')\n",
    "\n",
    "annotators = all_annotators[all_annotators.id.isin(set(annotations.survey_record_id))]\n",
    "annotators = annotators.drop_duplicates(subset=['mturk_id'])\n",
    "annotators['political_ideology_lcr'] = annotators['political_ideology'].apply(lambda x: \"left\" if x < -3\n",
    "                                                                                else (\"right\" if x > 3 else \"center\"))\n",
    "annotators[\"followed_news_outlets\"] = annotators.followed_news_outlets.apply(lambda s: list(ast.literal_eval(s)))\n",
    "\n",
    "print('Total number of annotators:', len(annotators))"
   ]
  },
  {
   "cell_type": "code",
   "execution_count": 35,
   "metadata": {},
   "outputs": [
    {
     "data": {
      "text/html": [
       "<div>\n",
       "<style scoped>\n",
       "    .dataframe tbody tr th:only-of-type {\n",
       "        vertical-align: middle;\n",
       "    }\n",
       "\n",
       "    .dataframe tbody tr th {\n",
       "        vertical-align: top;\n",
       "    }\n",
       "\n",
       "    .dataframe thead th {\n",
       "        text-align: right;\n",
       "    }\n",
       "</style>\n",
       "<table border=\"1\" class=\"dataframe\">\n",
       "  <thead>\n",
       "    <tr style=\"text-align: right;\">\n",
       "      <th></th>\n",
       "      <th>id</th>\n",
       "      <th>mturk_id</th>\n",
       "      <th>age</th>\n",
       "      <th>gender</th>\n",
       "      <th>education</th>\n",
       "      <th>native_english_speaker</th>\n",
       "      <th>political_ideology</th>\n",
       "      <th>followed_news_outlets</th>\n",
       "      <th>news_check_frequency</th>\n",
       "      <th>survey_completed</th>\n",
       "      <th>political_ideology_lcr</th>\n",
       "    </tr>\n",
       "  </thead>\n",
       "  <tbody>\n",
       "    <tr>\n",
       "      <td>0</td>\n",
       "      <td>cd0bc7394bd8486c825c452de1640d06</td>\n",
       "      <td>A4W9APAHFWVLO</td>\n",
       "      <td>39</td>\n",
       "      <td>Male</td>\n",
       "      <td>Bachelor’s degree</td>\n",
       "      <td>Native speaker</td>\n",
       "      <td>-7</td>\n",
       "      <td>[ABC News]</td>\n",
       "      <td>Several times per week</td>\n",
       "      <td>True</td>\n",
       "      <td>left</td>\n",
       "    </tr>\n",
       "    <tr>\n",
       "      <td>1</td>\n",
       "      <td>aef3ca5391f04e788d6f11a0602c17bb</td>\n",
       "      <td>A2MFMT03E21ZIT</td>\n",
       "      <td>29</td>\n",
       "      <td>Female</td>\n",
       "      <td>Some college</td>\n",
       "      <td>Native speaker</td>\n",
       "      <td>-10</td>\n",
       "      <td>[CNN, MSNBC]</td>\n",
       "      <td>Never</td>\n",
       "      <td>True</td>\n",
       "      <td>left</td>\n",
       "    </tr>\n",
       "  </tbody>\n",
       "</table>\n",
       "</div>"
      ],
      "text/plain": [
       "                                 id        mturk_id  age  gender  \\\n",
       "0  cd0bc7394bd8486c825c452de1640d06   A4W9APAHFWVLO   39    Male   \n",
       "1  aef3ca5391f04e788d6f11a0602c17bb  A2MFMT03E21ZIT   29  Female   \n",
       "\n",
       "           education native_english_speaker  political_ideology  \\\n",
       "0  Bachelor’s degree         Native speaker                  -7   \n",
       "1       Some college         Native speaker                 -10   \n",
       "\n",
       "  followed_news_outlets    news_check_frequency  survey_completed  \\\n",
       "0            [ABC News]  Several times per week              True   \n",
       "1          [CNN, MSNBC]                   Never              True   \n",
       "\n",
       "  political_ideology_lcr  \n",
       "0                   left  \n",
       "1                   left  "
      ]
     },
     "execution_count": 35,
     "metadata": {},
     "output_type": "execute_result"
    }
   ],
   "source": [
    "annotators.head(2)"
   ]
  },
  {
   "cell_type": "code",
   "execution_count": 36,
   "metadata": {},
   "outputs": [
    {
     "data": {
      "text/html": [
       "<div>\n",
       "<style scoped>\n",
       "    .dataframe tbody tr th:only-of-type {\n",
       "        vertical-align: middle;\n",
       "    }\n",
       "\n",
       "    .dataframe tbody tr th {\n",
       "        vertical-align: top;\n",
       "    }\n",
       "\n",
       "    .dataframe thead th {\n",
       "        text-align: right;\n",
       "    }\n",
       "</style>\n",
       "<table border=\"1\" class=\"dataframe\">\n",
       "  <thead>\n",
       "    <tr style=\"text-align: right;\">\n",
       "      <th></th>\n",
       "      <th>age_bins</th>\n",
       "      <th>num_participants</th>\n",
       "    </tr>\n",
       "  </thead>\n",
       "  <tbody>\n",
       "    <tr>\n",
       "      <td>0</td>\n",
       "      <td>(0, 20]</td>\n",
       "      <td>6</td>\n",
       "    </tr>\n",
       "    <tr>\n",
       "      <td>1</td>\n",
       "      <td>(20, 30]</td>\n",
       "      <td>236</td>\n",
       "    </tr>\n",
       "    <tr>\n",
       "      <td>2</td>\n",
       "      <td>(30, 40]</td>\n",
       "      <td>292</td>\n",
       "    </tr>\n",
       "    <tr>\n",
       "      <td>3</td>\n",
       "      <td>(40, 50]</td>\n",
       "      <td>141</td>\n",
       "    </tr>\n",
       "    <tr>\n",
       "      <td>4</td>\n",
       "      <td>(50, 60]</td>\n",
       "      <td>76</td>\n",
       "    </tr>\n",
       "    <tr>\n",
       "      <td>5</td>\n",
       "      <td>(60, 70]</td>\n",
       "      <td>31</td>\n",
       "    </tr>\n",
       "    <tr>\n",
       "      <td>6</td>\n",
       "      <td>(70, 80]</td>\n",
       "      <td>1</td>\n",
       "    </tr>\n",
       "  </tbody>\n",
       "</table>\n",
       "</div>"
      ],
      "text/plain": [
       "   age_bins  num_participants\n",
       "0   (0, 20]                 6\n",
       "1  (20, 30]               236\n",
       "2  (30, 40]               292\n",
       "3  (40, 50]               141\n",
       "4  (50, 60]                76\n",
       "5  (60, 70]                31\n",
       "6  (70, 80]                 1"
      ]
     },
     "execution_count": 36,
     "metadata": {},
     "output_type": "execute_result"
    }
   ],
   "source": [
    "# age distribution\n",
    "annotators_age = annotators.groupby(['age'])[['id']].count()\n",
    "annotators_age = annotators_age.reset_index()\n",
    "annotators_age = annotators_age.rename(columns={\"id\": \"num_participants\"})\n",
    "annotators_age['age_bins'] = pd.cut(x=annotators_age['age'], bins=[0, 20, 30, 40, 50, 60, 70, 80])\n",
    "\n",
    "annotators_age = annotators_age[annotators_age['age']>0]\n",
    "\n",
    "annotators_age = annotators_age.groupby(['age_bins'])[['num_participants']].sum()\n",
    "annotators_age = annotators_age.reset_index()\n",
    "annotators_age"
   ]
  },
  {
   "cell_type": "code",
   "execution_count": 38,
   "metadata": {},
   "outputs": [
    {
     "data": {
      "image/png": "[encoded data removed]",
      "text/plain": [
       "<Figure size 720x504 with 1 Axes>"
      ]
     },
     "metadata": {},
     "output_type": "display_data"
    }
   ],
   "source": [
    "alphas = np.linspace(0.05, 0.95, 7)\n",
    "teal_rgba = np.array([np.array(list(colors.to_rgba('teal', alpha=None))),]*7)\n",
    "teal_rgba[:, 3] = alphas\n",
    "teal_rgba\n",
    "\n",
    "def my_autopct(pct):\n",
    "    return ('%.1f%%' % pct) if pct > 3 else ''\n",
    "\n",
    "fig1, ax1 = plt.subplots(figsize=(10,7))\n",
    "my_pie = ax1.pie(annotators_age.num_participants, labels=annotators_age.age_bins,\n",
    "        startangle=90, textprops={'fontsize': 20}, #labeldistance=None,\n",
    "        autopct=my_autopct, pctdistance=0.8,\n",
    "       colors=teal_rgba)\n",
    "ax1.axis('equal')  # Equal aspect ratio ensures that pie is drawn as a circle.\n",
    "#ax1.legend(loc='upper right') #, bbox_to_anchor=(1.24, 0.95))\n",
    "\n",
    "for pie_wedge in my_pie[0]:\n",
    "    pie_wedge.set_edgecolor('white')\n",
    "\n",
    "plt.show()"
   ]
  },
  {
   "cell_type": "code",
   "execution_count": 39,
   "metadata": {},
   "outputs": [
    {
     "data": {
      "text/html": [
       "<div>\n",
       "<style scoped>\n",
       "    .dataframe tbody tr th:only-of-type {\n",
       "        vertical-align: middle;\n",
       "    }\n",
       "\n",
       "    .dataframe tbody tr th {\n",
       "        vertical-align: top;\n",
       "    }\n",
       "\n",
       "    .dataframe thead th {\n",
       "        text-align: right;\n",
       "    }\n",
       "</style>\n",
       "<table border=\"1\" class=\"dataframe\">\n",
       "  <thead>\n",
       "    <tr style=\"text-align: right;\">\n",
       "      <th></th>\n",
       "      <th>gender</th>\n",
       "      <th>num_participants</th>\n",
       "    </tr>\n",
       "  </thead>\n",
       "  <tbody>\n",
       "    <tr>\n",
       "      <td>0</td>\n",
       "      <td>Female</td>\n",
       "      <td>334</td>\n",
       "    </tr>\n",
       "    <tr>\n",
       "      <td>1</td>\n",
       "      <td>Male</td>\n",
       "      <td>443</td>\n",
       "    </tr>\n",
       "    <tr>\n",
       "      <td>2</td>\n",
       "      <td>Other/Prefer not to say</td>\n",
       "      <td>7</td>\n",
       "    </tr>\n",
       "  </tbody>\n",
       "</table>\n",
       "</div>"
      ],
      "text/plain": [
       "                    gender  num_participants\n",
       "0                   Female               334\n",
       "1                     Male               443\n",
       "2  Other/Prefer not to say                 7"
      ]
     },
     "execution_count": 39,
     "metadata": {},
     "output_type": "execute_result"
    }
   ],
   "source": [
    "# gender distribution\n",
    "annotators_gender = annotators.groupby(['gender'])[['id']].count()\n",
    "annotators_gender = annotators_gender.reset_index()\n",
    "annotators_gender = annotators_gender.rename(columns={\"id\": \"num_participants\"})\n",
    "annotators_gender"
   ]
  },
  {
   "cell_type": "code",
   "execution_count": 40,
   "metadata": {},
   "outputs": [
    {
     "data": {
      "image/png": "[encoded data removed]",
      "text/plain": [
       "<Figure size 720x504 with 1 Axes>"
      ]
     },
     "metadata": {},
     "output_type": "display_data"
    }
   ],
   "source": [
    "alphas = np.linspace(0.2, 0.95, 3)\n",
    "teal_rgba = np.array([np.array(list(colors.to_rgba('rosybrown', alpha=None))),]*3)\n",
    "teal_rgba[:, 3] = alphas\n",
    "teal_rgba\n",
    "\n",
    "def my_autopct(pct):\n",
    "    return ('%.1f%%' % pct) if pct > 3 else ''\n",
    "\n",
    "fig1, ax1 = plt.subplots(figsize=(10,7))\n",
    "my_pie = ax1.pie(annotators_gender.num_participants, labels=annotators_gender.gender,\n",
    "        startangle=90, textprops={'fontsize': 20}, #labeldistance=None,\n",
    "        autopct=my_autopct, pctdistance=0.8,\n",
    "       colors=teal_rgba)\n",
    "ax1.axis('equal')  # Equal aspect ratio ensures that pie is drawn as a circle.\n",
    "#ax1.legend(loc='upper right') #, bbox_to_anchor=(1.24, 0.95))\n",
    "\n",
    "for pie_wedge in my_pie[0]:\n",
    "    pie_wedge.set_edgecolor('white')\n",
    "\n",
    "plt.show()"
   ]
  },
  {
   "cell_type": "code",
   "execution_count": 41,
   "metadata": {},
   "outputs": [
    {
     "data": {
      "text/html": [
       "<div>\n",
       "<style scoped>\n",
       "    .dataframe tbody tr th:only-of-type {\n",
       "        vertical-align: middle;\n",
       "    }\n",
       "\n",
       "    .dataframe tbody tr th {\n",
       "        vertical-align: top;\n",
       "    }\n",
       "\n",
       "    .dataframe thead th {\n",
       "        text-align: right;\n",
       "    }\n",
       "</style>\n",
       "<table border=\"1\" class=\"dataframe\">\n",
       "  <thead>\n",
       "    <tr style=\"text-align: right;\">\n",
       "      <th></th>\n",
       "      <th>education</th>\n",
       "      <th>num_participants</th>\n",
       "    </tr>\n",
       "  </thead>\n",
       "  <tbody>\n",
       "    <tr>\n",
       "      <td>0</td>\n",
       "      <td>Some high school</td>\n",
       "      <td>7</td>\n",
       "    </tr>\n",
       "    <tr>\n",
       "      <td>1</td>\n",
       "      <td>High school graduate</td>\n",
       "      <td>64</td>\n",
       "    </tr>\n",
       "    <tr>\n",
       "      <td>2</td>\n",
       "      <td>Vocational or technical school</td>\n",
       "      <td>18</td>\n",
       "    </tr>\n",
       "    <tr>\n",
       "      <td>3</td>\n",
       "      <td>Some college</td>\n",
       "      <td>120</td>\n",
       "    </tr>\n",
       "    <tr>\n",
       "      <td>4</td>\n",
       "      <td>Associate degree</td>\n",
       "      <td>78</td>\n",
       "    </tr>\n",
       "    <tr>\n",
       "      <td>5</td>\n",
       "      <td>Bachelor’s degree</td>\n",
       "      <td>387</td>\n",
       "    </tr>\n",
       "    <tr>\n",
       "      <td>6</td>\n",
       "      <td>Graduate work</td>\n",
       "      <td>107</td>\n",
       "    </tr>\n",
       "    <tr>\n",
       "      <td>7</td>\n",
       "      <td>I prefer not to say</td>\n",
       "      <td>3</td>\n",
       "    </tr>\n",
       "  </tbody>\n",
       "</table>\n",
       "</div>"
      ],
      "text/plain": [
       "                        education  num_participants\n",
       "0                Some high school                 7\n",
       "1            High school graduate                64\n",
       "2  Vocational or technical school                18\n",
       "3                    Some college               120\n",
       "4                Associate degree                78\n",
       "5               Bachelor’s degree               387\n",
       "6                   Graduate work               107\n",
       "7             I prefer not to say                 3"
      ]
     },
     "execution_count": 41,
     "metadata": {},
     "output_type": "execute_result"
    }
   ],
   "source": [
    "# education\n",
    "annotators_edu = annotators.groupby(['education'])[['id']].count()\n",
    "annotators_edu = annotators_edu.reset_index()\n",
    "annotators_edu = annotators_edu.rename(columns={\"id\": \"num_participants\"})\n",
    "annotators_edu['sorting'] = [5,6,7,2,8,4,1,3]\n",
    "annotators_edu = annotators_edu.sort_values(by=['sorting']).reset_index()\n",
    "annotators_edu = annotators_edu[['education','num_participants']]\n",
    "annotators_edu"
   ]
  },
  {
   "cell_type": "code",
   "execution_count": 42,
   "metadata": {},
   "outputs": [
    {
     "data": {
      "image/png": "[encoded data removed]",
      "text/plain": [
       "<Figure size 720x504 with 1 Axes>"
      ]
     },
     "metadata": {},
     "output_type": "display_data"
    }
   ],
   "source": [
    "alphas = np.linspace(0.05, 0.95, 8)\n",
    "teal_rgba = np.array([np.array(list(colors.to_rgba('olive', alpha=None))),]*8)\n",
    "teal_rgba[:, 3] = alphas\n",
    "teal_rgba\n",
    "\n",
    "def my_autopct(pct):\n",
    "    return ('%.1f%%' % pct) if pct > 3 else ''\n",
    "\n",
    "fig1, ax1 = plt.subplots(figsize=(10,7))\n",
    "my_pie = ax1.pie(annotators_edu.num_participants, labels=annotators_edu.education,\n",
    "        startangle=90, textprops={'fontsize': 20}, #labeldistance=None,\n",
    "        autopct=my_autopct, pctdistance=0.8,\n",
    "       colors=teal_rgba)\n",
    "ax1.axis('equal')  # Equal aspect ratio ensures that pie is drawn as a circle.\n",
    "#ax1.legend(loc='upper right', bbox_to_anchor=(1.15, 0.95))\n",
    "\n",
    "for pie_wedge in my_pie[0]:\n",
    "    pie_wedge.set_edgecolor('white')\n",
    "\n",
    "plt.show()"
   ]
  },
  {
   "cell_type": "code",
   "execution_count": 43,
   "metadata": {},
   "outputs": [
    {
     "data": {
      "text/html": [
       "<div>\n",
       "<style scoped>\n",
       "    .dataframe tbody tr th:only-of-type {\n",
       "        vertical-align: middle;\n",
       "    }\n",
       "\n",
       "    .dataframe tbody tr th {\n",
       "        vertical-align: top;\n",
       "    }\n",
       "\n",
       "    .dataframe thead th {\n",
       "        text-align: right;\n",
       "    }\n",
       "</style>\n",
       "<table border=\"1\" class=\"dataframe\">\n",
       "  <thead>\n",
       "    <tr style=\"text-align: right;\">\n",
       "      <th></th>\n",
       "      <th>native_english_speaker</th>\n",
       "      <th>num_participants</th>\n",
       "    </tr>\n",
       "  </thead>\n",
       "  <tbody>\n",
       "    <tr>\n",
       "      <td>0</td>\n",
       "      <td>Native speaker</td>\n",
       "      <td>761</td>\n",
       "    </tr>\n",
       "    <tr>\n",
       "      <td>1</td>\n",
       "      <td>Near-native speaker</td>\n",
       "      <td>22</td>\n",
       "    </tr>\n",
       "    <tr>\n",
       "      <td>2</td>\n",
       "      <td>Non-native speaker</td>\n",
       "      <td>1</td>\n",
       "    </tr>\n",
       "  </tbody>\n",
       "</table>\n",
       "</div>"
      ],
      "text/plain": [
       "  native_english_speaker  num_participants\n",
       "0         Native speaker               761\n",
       "1    Near-native speaker                22\n",
       "2     Non-native speaker                 1"
      ]
     },
     "execution_count": 43,
     "metadata": {},
     "output_type": "execute_result"
    }
   ],
   "source": [
    "# english knowledge\n",
    "annotators_eng = annotators.groupby(['native_english_speaker'])[['id']].count()\n",
    "annotators_eng = annotators_eng.reset_index()\n",
    "annotators_eng = annotators_eng.rename(columns={\"id\": \"num_participants\"})\n",
    "annotators_eng"
   ]
  },
  {
   "cell_type": "code",
   "execution_count": 44,
   "metadata": {},
   "outputs": [
    {
     "data": {
      "image/png": "[encoded data removed]",
      "text/plain": [
       "<Figure size 720x504 with 1 Axes>"
      ]
     },
     "metadata": {},
     "output_type": "display_data"
    }
   ],
   "source": [
    "alphas = np.linspace(0.3, 0.99, 3)\n",
    "teal_rgba = np.array([np.array(list(colors.to_rgba('saddlebrown', alpha=None))),]*3)\n",
    "teal_rgba[:, 3] = alphas\n",
    "teal_rgba\n",
    "\n",
    "def my_autopct(pct):\n",
    "    return ('%.1f%%' % pct) if pct > 2 else ''\n",
    "\n",
    "fig1, ax1 = plt.subplots(figsize=(10,7))\n",
    "my_pie = ax1.pie(annotators_eng.num_participants, labels=annotators_eng.native_english_speaker,\n",
    "        startangle=90, textprops={'fontsize': 20}, #labeldistance=None,\n",
    "        autopct=my_autopct, pctdistance=0.8,\n",
    "       colors=teal_rgba)\n",
    "ax1.axis('equal')  # Equal aspect ratio ensures that pie is drawn as a circle.\n",
    "#ax1.legend(loc='upper right', bbox_to_anchor=(1.15, 0.95))\n",
    "\n",
    "for pie_wedge in my_pie[0]:\n",
    "    pie_wedge.set_edgecolor('white')\n",
    "\n",
    "plt.show()"
   ]
  },
  {
   "cell_type": "code",
   "execution_count": 47,
   "metadata": {},
   "outputs": [
    {
     "data": {
      "text/html": [
       "<div>\n",
       "<style scoped>\n",
       "    .dataframe tbody tr th:only-of-type {\n",
       "        vertical-align: middle;\n",
       "    }\n",
       "\n",
       "    .dataframe tbody tr th {\n",
       "        vertical-align: top;\n",
       "    }\n",
       "\n",
       "    .dataframe thead th {\n",
       "        text-align: right;\n",
       "    }\n",
       "</style>\n",
       "<table border=\"1\" class=\"dataframe\">\n",
       "  <thead>\n",
       "    <tr style=\"text-align: right;\">\n",
       "      <th></th>\n",
       "      <th>political_ideology_lcr</th>\n",
       "      <th>num_participants</th>\n",
       "    </tr>\n",
       "  </thead>\n",
       "  <tbody>\n",
       "    <tr>\n",
       "      <td>0</td>\n",
       "      <td>liberal</td>\n",
       "      <td>347</td>\n",
       "    </tr>\n",
       "    <tr>\n",
       "      <td>1</td>\n",
       "      <td>center</td>\n",
       "      <td>228</td>\n",
       "    </tr>\n",
       "    <tr>\n",
       "      <td>2</td>\n",
       "      <td>conservative</td>\n",
       "      <td>209</td>\n",
       "    </tr>\n",
       "  </tbody>\n",
       "</table>\n",
       "</div>"
      ],
      "text/plain": [
       "  political_ideology_lcr  num_participants\n",
       "0                liberal               347\n",
       "1                 center               228\n",
       "2           conservative               209"
      ]
     },
     "execution_count": 47,
     "metadata": {},
     "output_type": "execute_result"
    }
   ],
   "source": [
    "# political orientation\n",
    "annotators_polit = annotators.groupby(['political_ideology_lcr'])[['id']].count()\n",
    "annotators_polit = annotators_polit.reset_index()\n",
    "annotators_polit = annotators_polit.rename(columns={\"id\": \"num_participants\"})\n",
    "annotators_polit['sorting'] = [2, 1, 3]\n",
    "annotators_polit = annotators_polit.sort_values(by=['sorting']).reset_index()\n",
    "annotators_polit = annotators_polit[['political_ideology_lcr','num_participants']]\n",
    "annotators_polit = annotators_polit.replace('left', 'liberal')\n",
    "annotators_polit = annotators_polit.replace('right', 'conservative')\n",
    "annotators_polit"
   ]
  },
  {
   "cell_type": "code",
   "execution_count": 48,
   "metadata": {},
   "outputs": [
    {
     "data": {
      "image/png": "[encoded data removed]",
      "text/plain": [
       "<Figure size 720x504 with 1 Axes>"
      ]
     },
     "metadata": {},
     "output_type": "display_data"
    }
   ],
   "source": [
    "cols = np.array([\n",
    "    np.array(colors.to_rgba('steelblue', alpha=0.8)),\n",
    "    np.array(colors.to_rgba('indianred', alpha=0.8)),\n",
    "    np.array(colors.to_rgba('thistle', alpha=0.8))])\n",
    "\n",
    "def my_autopct(pct):\n",
    "    return ('%.1f%%' % pct) if pct > 2 else ''\n",
    "\n",
    "fig1, ax1 = plt.subplots(figsize=(10,7))\n",
    "my_pie = ax1.pie(annotators_polit.num_participants, labels=annotators_polit.political_ideology_lcr,\n",
    "        startangle=90, textprops={'fontsize': 20}, #labeldistance=None,\n",
    "        autopct=my_autopct, pctdistance=0.8,\n",
    "       colors=cols)\n",
    "ax1.axis('equal')  # Equal aspect ratio ensures that pie is drawn as a circle.\n",
    "#ax1.legend(loc='upper right', bbox_to_anchor=(1.15, 0.95))\n",
    "\n",
    "for pie_wedge in my_pie[0]:\n",
    "    pie_wedge.set_edgecolor('white')\n",
    "\n",
    "plt.show()"
   ]
  },
  {
   "cell_type": "code",
   "execution_count": 49,
   "metadata": {},
   "outputs": [
    {
     "data": {
      "text/html": [
       "<div>\n",
       "<style scoped>\n",
       "    .dataframe tbody tr th:only-of-type {\n",
       "        vertical-align: middle;\n",
       "    }\n",
       "\n",
       "    .dataframe tbody tr th {\n",
       "        vertical-align: top;\n",
       "    }\n",
       "\n",
       "    .dataframe thead th {\n",
       "        text-align: right;\n",
       "    }\n",
       "</style>\n",
       "<table border=\"1\" class=\"dataframe\">\n",
       "  <thead>\n",
       "    <tr style=\"text-align: right;\">\n",
       "      <th></th>\n",
       "      <th>news_outlet</th>\n",
       "      <th>num_participants</th>\n",
       "      <th>slant_allsides</th>\n",
       "    </tr>\n",
       "  </thead>\n",
       "  <tbody>\n",
       "    <tr>\n",
       "      <td>0</td>\n",
       "      <td>misc</td>\n",
       "      <td>74</td>\n",
       "      <td>misc</td>\n",
       "    </tr>\n",
       "    <tr>\n",
       "      <td>1</td>\n",
       "      <td>ABC News</td>\n",
       "      <td>140</td>\n",
       "      <td>left</td>\n",
       "    </tr>\n",
       "    <tr>\n",
       "      <td>2</td>\n",
       "      <td>CNN</td>\n",
       "      <td>367</td>\n",
       "      <td>left</td>\n",
       "    </tr>\n",
       "    <tr>\n",
       "      <td>3</td>\n",
       "      <td>MSNBC</td>\n",
       "      <td>138</td>\n",
       "      <td>left</td>\n",
       "    </tr>\n",
       "    <tr>\n",
       "      <td>4</td>\n",
       "      <td>The Washington Post</td>\n",
       "      <td>201</td>\n",
       "      <td>left</td>\n",
       "    </tr>\n",
       "    <tr>\n",
       "      <td>5</td>\n",
       "      <td>New York Post</td>\n",
       "      <td>98</td>\n",
       "      <td>right</td>\n",
       "    </tr>\n",
       "    <tr>\n",
       "      <td>6</td>\n",
       "      <td>New York Times</td>\n",
       "      <td>312</td>\n",
       "      <td>left</td>\n",
       "    </tr>\n",
       "    <tr>\n",
       "      <td>7</td>\n",
       "      <td>NPR</td>\n",
       "      <td>28</td>\n",
       "      <td>center</td>\n",
       "    </tr>\n",
       "    <tr>\n",
       "      <td>8</td>\n",
       "      <td>Fox News</td>\n",
       "      <td>262</td>\n",
       "      <td>right</td>\n",
       "    </tr>\n",
       "    <tr>\n",
       "      <td>9</td>\n",
       "      <td>Breitbart</td>\n",
       "      <td>34</td>\n",
       "      <td>right</td>\n",
       "    </tr>\n",
       "    <tr>\n",
       "      <td>10</td>\n",
       "      <td>The Wall Street Journal</td>\n",
       "      <td>125</td>\n",
       "      <td>right</td>\n",
       "    </tr>\n",
       "    <tr>\n",
       "      <td>11</td>\n",
       "      <td>Business Insider</td>\n",
       "      <td>45</td>\n",
       "      <td>center</td>\n",
       "    </tr>\n",
       "    <tr>\n",
       "      <td>12</td>\n",
       "      <td>Reuters</td>\n",
       "      <td>93</td>\n",
       "      <td>center</td>\n",
       "    </tr>\n",
       "    <tr>\n",
       "      <td>13</td>\n",
       "      <td>The Guardian</td>\n",
       "      <td>80</td>\n",
       "      <td>left</td>\n",
       "    </tr>\n",
       "    <tr>\n",
       "      <td>14</td>\n",
       "      <td>CBS News</td>\n",
       "      <td>113</td>\n",
       "      <td>left</td>\n",
       "    </tr>\n",
       "    <tr>\n",
       "      <td>15</td>\n",
       "      <td>USA Today</td>\n",
       "      <td>127</td>\n",
       "      <td>center</td>\n",
       "    </tr>\n",
       "    <tr>\n",
       "      <td>16</td>\n",
       "      <td>Time magazine</td>\n",
       "      <td>32</td>\n",
       "      <td>left</td>\n",
       "    </tr>\n",
       "    <tr>\n",
       "      <td>17</td>\n",
       "      <td>Vice</td>\n",
       "      <td>58</td>\n",
       "      <td>left</td>\n",
       "    </tr>\n",
       "    <tr>\n",
       "      <td>18</td>\n",
       "      <td>BuzzFeed</td>\n",
       "      <td>44</td>\n",
       "      <td>left</td>\n",
       "    </tr>\n",
       "    <tr>\n",
       "      <td>19</td>\n",
       "      <td>Huffington Post</td>\n",
       "      <td>72</td>\n",
       "      <td>left</td>\n",
       "    </tr>\n",
       "    <tr>\n",
       "      <td>20</td>\n",
       "      <td>The Federalist</td>\n",
       "      <td>14</td>\n",
       "      <td>right</td>\n",
       "    </tr>\n",
       "    <tr>\n",
       "      <td>21</td>\n",
       "      <td>BBC</td>\n",
       "      <td>11</td>\n",
       "      <td>center</td>\n",
       "    </tr>\n",
       "  </tbody>\n",
       "</table>\n",
       "</div>"
      ],
      "text/plain": [
       "                news_outlet  num_participants slant_allsides\n",
       "0                      misc                74           misc\n",
       "1                  ABC News               140           left\n",
       "2                       CNN               367           left\n",
       "3                     MSNBC               138           left\n",
       "4       The Washington Post               201           left\n",
       "5             New York Post                98          right\n",
       "6            New York Times               312           left\n",
       "7                       NPR                28         center\n",
       "8                  Fox News               262          right\n",
       "9                 Breitbart                34          right\n",
       "10  The Wall Street Journal               125          right\n",
       "11         Business Insider                45         center\n",
       "12                  Reuters                93         center\n",
       "13             The Guardian                80           left\n",
       "14                 CBS News               113           left\n",
       "15                USA Today               127         center\n",
       "16            Time magazine                32           left\n",
       "17                     Vice                58           left\n",
       "18                 BuzzFeed                44           left\n",
       "19          Huffington Post                72           left\n",
       "20           The Federalist                14          right\n",
       "21                      BBC                11         center"
      ]
     },
     "execution_count": 49,
     "metadata": {},
     "output_type": "execute_result"
    }
   ],
   "source": [
    "# followed news outlets\n",
    "all_outlets = []\n",
    "all_outlets_freq = {}\n",
    "\n",
    "for ind in annotators.index:\n",
    "    #print(type(annotators['followed_news_outlets'][ind]))\n",
    "    for outlet in annotators['followed_news_outlets'][ind]:\n",
    "        if outlet not in all_outlets:\n",
    "            all_outlets.append(outlet)\n",
    "            all_outlets_freq[outlet]=1\n",
    "        else:\n",
    "            all_outlets_freq[outlet]+=1\n",
    "            \n",
    "all_outlets_freq_filt = {}\n",
    "all_outlets_freq_filt['misc']=0\n",
    "\n",
    "for outlet in all_outlets_freq:\n",
    "    if all_outlets_freq[outlet] > 5:\n",
    "        all_outlets_freq_filt[outlet]=all_outlets_freq[outlet]\n",
    "    else:\n",
    "        all_outlets_freq_filt['misc']+=1\n",
    "\n",
    "all_outlets_freq_filt\n",
    "\n",
    "# pd\n",
    "annotators_outlets = pd.DataFrame.from_dict(all_outlets_freq_filt, orient='index')\n",
    "annotators_outlets = annotators_outlets.reset_index()\n",
    "annotators_outlets = annotators_outlets.rename(columns={\"index\": \"news_outlet\",\n",
    "                                                        0:\"num_participants\"})\n",
    "\n",
    "# add slant from allsides\n",
    "slant_allsides_dict = {'misc':'misc',\n",
    " 'ABC News':'left',\n",
    " 'CNN':'left',\n",
    " 'MSNBC':'left',\n",
    " 'The Washington Post':'left',\n",
    " 'New York Post':'right',\n",
    " 'New York Times':'left',\n",
    " 'NPR':'center',\n",
    " 'Fox News':'right',\n",
    " 'Breitbart':'right',\n",
    " 'The Wall Street Journal':'right',\n",
    " 'Business Insider':'center',\n",
    " 'Reuters':'center',\n",
    " 'The Guardian':'left',\n",
    " 'CBS News':'left',\n",
    " 'USA Today':'center',\n",
    " 'Time magazine':'left',\n",
    " 'Vice':'left',\n",
    " 'BuzzFeed':'left',\n",
    " 'Huffington Post':'left',\n",
    " 'The Federalist':'right',\n",
    " 'BBC':'center'}\n",
    "\n",
    "slant_allsides = pd.DataFrame.from_dict(slant_allsides_dict, orient='index')\n",
    "slant_allsides = slant_allsides.reset_index()\n",
    "slant_allsides = slant_allsides.rename(columns={\"index\": \"news_outlet\",\n",
    "                                                        0:\"slant_allsides\"})\n",
    "\n",
    "annotators_outlets = pd.merge(annotators_outlets, slant_allsides,\n",
    "                             left_on='news_outlet', right_on='news_outlet', how='left')\n",
    "annotators_outlets"
   ]
  },
  {
   "cell_type": "code",
   "execution_count": 51,
   "metadata": {},
   "outputs": [
    {
     "data": {
      "application/vnd.plotly.v1+json": {
       "config": {
        "plotlyServerURL": "https://plot.ly"
       },
       "data": [
        {
         "branchvalues": "total",
         "customdata": [
          [
           "misc"
          ],
          [
           "right"
          ],
          [
           "right"
          ],
          [
           "left"
          ],
          [
           "left"
          ],
          [
           "center"
          ],
          [
           "right"
          ],
          [
           "center"
          ],
          [
           "left"
          ],
          [
           "center"
          ],
          [
           "left"
          ],
          [
           "left"
          ],
          [
           "left"
          ],
          [
           "right"
          ],
          [
           "center"
          ],
          [
           "right"
          ],
          [
           "left"
          ],
          [
           "left"
          ],
          [
           "left"
          ],
          [
           "left"
          ],
          [
           "left"
          ],
          [
           "center"
          ],
          [
           "center"
          ],
          [
           "left"
          ],
          [
           "misc"
          ],
          [
           "right"
          ]
         ],
         "domain": {
          "x": [
           0,
           1
          ],
          "y": [
           0,
           1
          ]
         },
         "hovertemplate": "labels=%{label}<br>num_participants=%{value}<br>parent=%{parent}<br>id=%{id}<br>slant_allsides=%{customdata[0]}<extra></extra>",
         "ids": [
          "misc/misc",
          "right/Fox News",
          "right/New York Post",
          "left/New York Times",
          "left/The Guardian",
          "center/BBC",
          "right/Breitbart",
          "center/Business Insider",
          "left/BuzzFeed",
          "center/USA Today",
          "left/CNN",
          "left/Time magazine",
          "left/The Washington Post",
          "right/The Wall Street Journal",
          "center/Reuters",
          "right/The Federalist",
          "left/ABC News",
          "left/MSNBC",
          "left/Huffington Post",
          "left/CBS News",
          "left/Vice",
          "center/NPR",
          "center",
          "left",
          "misc",
          "right"
         ],
         "labels": [
          "misc",
          "Fox News",
          "New York Post",
          "New York Times",
          "The Guardian",
          "BBC",
          "Breitbart",
          "Business Insider",
          "BuzzFeed",
          "USA Today",
          "CNN",
          "Time magazine",
          "The Washington Post",
          "The Wall Street Journal",
          "Reuters",
          "The Federalist",
          "ABC News",
          "MSNBC",
          "Huffington Post",
          "CBS News",
          "Vice",
          "NPR",
          "center",
          "left",
          "misc",
          "right"
         ],
         "marker": {
          "colors": [
           "dimgray",
           "indianred",
           "indianred",
           "steelblue",
           "steelblue",
           "thistle",
           "indianred",
           "thistle",
           "steelblue",
           "thistle",
           "steelblue",
           "steelblue",
           "steelblue",
           "indianred",
           "thistle",
           "indianred",
           "steelblue",
           "steelblue",
           "steelblue",
           "steelblue",
           "steelblue",
           "thistle",
           "thistle",
           "steelblue",
           "dimgray",
           "indianred"
          ]
         },
         "name": "",
         "parents": [
          "misc",
          "right",
          "right",
          "left",
          "left",
          "center",
          "right",
          "center",
          "left",
          "center",
          "left",
          "left",
          "left",
          "right",
          "center",
          "right",
          "left",
          "left",
          "left",
          "left",
          "left",
          "center",
          "",
          "",
          "",
          ""
         ],
         "textfont": {
          "size": 20
         },
         "type": "sunburst",
         "values": [
          74,
          262,
          98,
          312,
          80,
          11,
          34,
          45,
          44,
          127,
          367,
          32,
          201,
          125,
          93,
          14,
          140,
          138,
          72,
          113,
          58,
          28,
          304,
          1557,
          74,
          533
         ]
        }
       ],
       "layout": {
        "legend": {
         "tracegroupgap": 0
        },
        "margin": {
         "t": 60
        },
        "template": {
         "data": {
          "bar": [
           {
            "error_x": {
             "color": "#2a3f5f"
            },
            "error_y": {
             "color": "#2a3f5f"
            },
            "marker": {
             "line": {
              "color": "#E5ECF6",
              "width": 0.5
             }
            },
            "type": "bar"
           }
          ],
          "barpolar": [
           {
            "marker": {
             "line": {
              "color": "#E5ECF6",
              "width": 0.5
             }
            },
            "type": "barpolar"
           }
          ],
          "carpet": [
           {
            "aaxis": {
             "endlinecolor": "#2a3f5f",
             "gridcolor": "white",
             "linecolor": "white",
             "minorgridcolor": "white",
             "startlinecolor": "#2a3f5f"
            },
            "baxis": {
             "endlinecolor": "#2a3f5f",
             "gridcolor": "white",
             "linecolor": "white",
             "minorgridcolor": "white",
             "startlinecolor": "#2a3f5f"
            },
            "type": "carpet"
           }
          ],
          "choropleth": [
           {
            "colorbar": {
             "outlinewidth": 0,
             "ticks": ""
            },
            "type": "choropleth"
           }
          ],
          "contour": [
           {
            "colorbar": {
             "outlinewidth": 0,
             "ticks": ""
            },
            "colorscale": [
             [
              0,
              "#0d0887"
             ],
             [
              0.1111111111111111,
              "#46039f"
             ],
             [
              0.2222222222222222,
              "#7201a8"
             ],
             [
              0.3333333333333333,
              "#9c179e"
             ],
             [
              0.4444444444444444,
              "#bd3786"
             ],
             [
              0.5555555555555556,
              "#d8576b"
             ],
             [
              0.6666666666666666,
              "#ed7953"
             ],
             [
              0.7777777777777778,
              "#fb9f3a"
             ],
             [
              0.8888888888888888,
              "#fdca26"
             ],
             [
              1,
              "#f0f921"
             ]
            ],
            "type": "contour"
           }
          ],
          "contourcarpet": [
           {
            "colorbar": {
             "outlinewidth": 0,
             "ticks": ""
            },
            "type": "contourcarpet"
           }
          ],
          "heatmap": [
           {
            "colorbar": {
             "outlinewidth": 0,
             "ticks": ""
            },
            "colorscale": [
             [
              0,
              "#0d0887"
             ],
             [
              0.1111111111111111,
              "#46039f"
             ],
             [
              0.2222222222222222,
              "#7201a8"
             ],
             [
              0.3333333333333333,
              "#9c179e"
             ],
             [
              0.4444444444444444,
              "#bd3786"
             ],
             [
              0.5555555555555556,
              "#d8576b"
             ],
             [
              0.6666666666666666,
              "#ed7953"
             ],
             [
              0.7777777777777778,
              "#fb9f3a"
             ],
             [
              0.8888888888888888,
              "#fdca26"
             ],
             [
              1,
              "#f0f921"
             ]
            ],
            "type": "heatmap"
           }
          ],
          "heatmapgl": [
           {
            "colorbar": {
             "outlinewidth": 0,
             "ticks": ""
            },
            "colorscale": [
             [
              0,
              "#0d0887"
             ],
             [
              0.1111111111111111,
              "#46039f"
             ],
             [
              0.2222222222222222,
              "#7201a8"
             ],
             [
              0.3333333333333333,
              "#9c179e"
             ],
             [
              0.4444444444444444,
              "#bd3786"
             ],
             [
              0.5555555555555556,
              "#d8576b"
             ],
             [
              0.6666666666666666,
              "#ed7953"
             ],
             [
              0.7777777777777778,
              "#fb9f3a"
             ],
             [
              0.8888888888888888,
              "#fdca26"
             ],
             [
              1,
              "#f0f921"
             ]
            ],
            "type": "heatmapgl"
           }
          ],
          "histogram": [
           {
            "marker": {
             "colorbar": {
              "outlinewidth": 0,
              "ticks": ""
             }
            },
            "type": "histogram"
           }
          ],
          "histogram2d": [
           {
            "colorbar": {
             "outlinewidth": 0,
             "ticks": ""
            },
            "colorscale": [
             [
              0,
              "#0d0887"
             ],
             [
              0.1111111111111111,
              "#46039f"
             ],
             [
              0.2222222222222222,
              "#7201a8"
             ],
             [
              0.3333333333333333,
              "#9c179e"
             ],
             [
              0.4444444444444444,
              "#bd3786"
             ],
             [
              0.5555555555555556,
              "#d8576b"
             ],
             [
              0.6666666666666666,
              "#ed7953"
             ],
             [
              0.7777777777777778,
              "#fb9f3a"
             ],
             [
              0.8888888888888888,
              "#fdca26"
             ],
             [
              1,
              "#f0f921"
             ]
            ],
            "type": "histogram2d"
           }
          ],
          "histogram2dcontour": [
           {
            "colorbar": {
             "outlinewidth": 0,
             "ticks": ""
            },
            "colorscale": [
             [
              0,
              "#0d0887"
             ],
             [
              0.1111111111111111,
              "#46039f"
             ],
             [
              0.2222222222222222,
              "#7201a8"
             ],
             [
              0.3333333333333333,
              "#9c179e"
             ],
             [
              0.4444444444444444,
              "#bd3786"
             ],
             [
              0.5555555555555556,
              "#d8576b"
             ],
             [
              0.6666666666666666,
              "#ed7953"
             ],
             [
              0.7777777777777778,
              "#fb9f3a"
             ],
             [
              0.8888888888888888,
              "#fdca26"
             ],
             [
              1,
              "#f0f921"
             ]
            ],
            "type": "histogram2dcontour"
           }
          ],
          "mesh3d": [
           {
            "colorbar": {
             "outlinewidth": 0,
             "ticks": ""
            },
            "type": "mesh3d"
           }
          ],
          "parcoords": [
           {
            "line": {
             "colorbar": {
              "outlinewidth": 0,
              "ticks": ""
             }
            },
            "type": "parcoords"
           }
          ],
          "pie": [
           {
            "automargin": true,
            "type": "pie"
           }
          ],
          "scatter": [
           {
            "marker": {
             "colorbar": {
              "outlinewidth": 0,
              "ticks": ""
             }
            },
            "type": "scatter"
           }
          ],
          "scatter3d": [
           {
            "line": {
             "colorbar": {
              "outlinewidth": 0,
              "ticks": ""
             }
            },
            "marker": {
             "colorbar": {
              "outlinewidth": 0,
              "ticks": ""
             }
            },
            "type": "scatter3d"
           }
          ],
          "scattercarpet": [
           {
            "marker": {
             "colorbar": {
              "outlinewidth": 0,
              "ticks": ""
             }
            },
            "type": "scattercarpet"
           }
          ],
          "scattergeo": [
           {
            "marker": {
             "colorbar": {
              "outlinewidth": 0,
              "ticks": ""
             }
            },
            "type": "scattergeo"
           }
          ],
          "scattergl": [
           {
            "marker": {
             "colorbar": {
              "outlinewidth": 0,
              "ticks": ""
             }
            },
            "type": "scattergl"
           }
          ],
          "scattermapbox": [
           {
            "marker": {
             "colorbar": {
              "outlinewidth": 0,
              "ticks": ""
             }
            },
            "type": "scattermapbox"
           }
          ],
          "scatterpolar": [
           {
            "marker": {
             "colorbar": {
              "outlinewidth": 0,
              "ticks": ""
             }
            },
            "type": "scatterpolar"
           }
          ],
          "scatterpolargl": [
           {
            "marker": {
             "colorbar": {
              "outlinewidth": 0,
              "ticks": ""
             }
            },
            "type": "scatterpolargl"
           }
          ],
          "scatterternary": [
           {
            "marker": {
             "colorbar": {
              "outlinewidth": 0,
              "ticks": ""
             }
            },
            "type": "scatterternary"
           }
          ],
          "surface": [
           {
            "colorbar": {
             "outlinewidth": 0,
             "ticks": ""
            },
            "colorscale": [
             [
              0,
              "#0d0887"
             ],
             [
              0.1111111111111111,
              "#46039f"
             ],
             [
              0.2222222222222222,
              "#7201a8"
             ],
             [
              0.3333333333333333,
              "#9c179e"
             ],
             [
              0.4444444444444444,
              "#bd3786"
             ],
             [
              0.5555555555555556,
              "#d8576b"
             ],
             [
              0.6666666666666666,
              "#ed7953"
             ],
             [
              0.7777777777777778,
              "#fb9f3a"
             ],
             [
              0.8888888888888888,
              "#fdca26"
             ],
             [
              1,
              "#f0f921"
             ]
            ],
            "type": "surface"
           }
          ],
          "table": [
           {
            "cells": {
             "fill": {
              "color": "#EBF0F8"
             },
             "line": {
              "color": "white"
             }
            },
            "header": {
             "fill": {
              "color": "#C8D4E3"
             },
             "line": {
              "color": "white"
             }
            },
            "type": "table"
           }
          ]
         },
         "layout": {
          "annotationdefaults": {
           "arrowcolor": "#2a3f5f",
           "arrowhead": 0,
           "arrowwidth": 1
          },
          "coloraxis": {
           "colorbar": {
            "outlinewidth": 0,
            "ticks": ""
           }
          },
          "colorscale": {
           "diverging": [
            [
             0,
             "#8e0152"
            ],
            [
             0.1,
             "#c51b7d"
            ],
            [
             0.2,
             "#de77ae"
            ],
            [
             0.3,
             "#f1b6da"
            ],
            [
             0.4,
             "#fde0ef"
            ],
            [
             0.5,
             "#f7f7f7"
            ],
            [
             0.6,
             "#e6f5d0"
            ],
            [
             0.7,
             "#b8e186"
            ],
            [
             0.8,
             "#7fbc41"
            ],
            [
             0.9,
             "#4d9221"
            ],
            [
             1,
             "#276419"
            ]
           ],
           "sequential": [
            [
             0,
             "#0d0887"
            ],
            [
             0.1111111111111111,
             "#46039f"
            ],
            [
             0.2222222222222222,
             "#7201a8"
            ],
            [
             0.3333333333333333,
             "#9c179e"
            ],
            [
             0.4444444444444444,
             "#bd3786"
            ],
            [
             0.5555555555555556,
             "#d8576b"
            ],
            [
             0.6666666666666666,
             "#ed7953"
            ],
            [
             0.7777777777777778,
             "#fb9f3a"
            ],
            [
             0.8888888888888888,
             "#fdca26"
            ],
            [
             1,
             "#f0f921"
            ]
           ],
           "sequentialminus": [
            [
             0,
             "#0d0887"
            ],
            [
             0.1111111111111111,
             "#46039f"
            ],
            [
             0.2222222222222222,
             "#7201a8"
            ],
            [
             0.3333333333333333,
             "#9c179e"
            ],
            [
             0.4444444444444444,
             "#bd3786"
            ],
            [
             0.5555555555555556,
             "#d8576b"
            ],
            [
             0.6666666666666666,
             "#ed7953"
            ],
            [
             0.7777777777777778,
             "#fb9f3a"
            ],
            [
             0.8888888888888888,
             "#fdca26"
            ],
            [
             1,
             "#f0f921"
            ]
           ]
          },
          "colorway": [
           "#636efa",
           "#EF553B",
           "#00cc96",
           "#ab63fa",
           "#FFA15A",
           "#19d3f3",
           "#FF6692",
           "#B6E880",
           "#FF97FF",
           "#FECB52"
          ],
          "font": {
           "color": "#2a3f5f"
          },
          "geo": {
           "bgcolor": "white",
           "lakecolor": "white",
           "landcolor": "#E5ECF6",
           "showlakes": true,
           "showland": true,
           "subunitcolor": "white"
          },
          "hoverlabel": {
           "align": "left"
          },
          "hovermode": "closest",
          "mapbox": {
           "style": "light"
          },
          "paper_bgcolor": "white",
          "plot_bgcolor": "#E5ECF6",
          "polar": {
           "angularaxis": {
            "gridcolor": "white",
            "linecolor": "white",
            "ticks": ""
           },
           "bgcolor": "#E5ECF6",
           "radialaxis": {
            "gridcolor": "white",
            "linecolor": "white",
            "ticks": ""
           }
          },
          "scene": {
           "xaxis": {
            "backgroundcolor": "#E5ECF6",
            "gridcolor": "white",
            "gridwidth": 2,
            "linecolor": "white",
            "showbackground": true,
            "ticks": "",
            "zerolinecolor": "white"
           },
           "yaxis": {
            "backgroundcolor": "#E5ECF6",
            "gridcolor": "white",
            "gridwidth": 2,
            "linecolor": "white",
            "showbackground": true,
            "ticks": "",
            "zerolinecolor": "white"
           },
           "zaxis": {
            "backgroundcolor": "#E5ECF6",
            "gridcolor": "white",
            "gridwidth": 2,
            "linecolor": "white",
            "showbackground": true,
            "ticks": "",
            "zerolinecolor": "white"
           }
          },
          "shapedefaults": {
           "line": {
            "color": "#2a3f5f"
           }
          },
          "ternary": {
           "aaxis": {
            "gridcolor": "white",
            "linecolor": "white",
            "ticks": ""
           },
           "baxis": {
            "gridcolor": "white",
            "linecolor": "white",
            "ticks": ""
           },
           "bgcolor": "#E5ECF6",
           "caxis": {
            "gridcolor": "white",
            "linecolor": "white",
            "ticks": ""
           }
          },
          "title": {
           "x": 0.05
          },
          "xaxis": {
           "automargin": true,
           "gridcolor": "white",
           "linecolor": "white",
           "ticks": "",
           "title": {
            "standoff": 15
           },
           "zerolinecolor": "white",
           "zerolinewidth": 2
          },
          "yaxis": {
           "automargin": true,
           "gridcolor": "white",
           "linecolor": "white",
           "ticks": "",
           "title": {
            "standoff": 15
           },
           "zerolinecolor": "white",
           "zerolinewidth": 2
          }
         }
        }
       }
      },
      "text/html": [
       "<div>\n",
       "        \n",
       "        \n",
       "            <div id=\"0085d09a-8366-41aa-8ce3-e72b2f867067\" class=\"plotly-graph-div\" style=\"height:525px; width:100%;\"></div>\n",
       "            <script type=\"text/javascript\">\n",
       "                require([\"plotly\"], function(Plotly) {\n",
       "                    window.PLOTLYENV=window.PLOTLYENV || {};\n",
       "                    \n",
       "                if (document.getElementById(\"0085d09a-8366-41aa-8ce3-e72b2f867067\")) {\n",
       "                    Plotly.newPlot(\n",
       "                        '0085d09a-8366-41aa-8ce3-e72b2f867067',\n",
       "                        [{\"branchvalues\": \"total\", \"customdata\": [[\"misc\"], [\"right\"], [\"right\"], [\"left\"], [\"left\"], [\"center\"], [\"right\"], [\"center\"], [\"left\"], [\"center\"], [\"left\"], [\"left\"], [\"left\"], [\"right\"], [\"center\"], [\"right\"], [\"left\"], [\"left\"], [\"left\"], [\"left\"], [\"left\"], [\"center\"], [\"center\"], [\"left\"], [\"misc\"], [\"right\"]], \"domain\": {\"x\": [0.0, 1.0], \"y\": [0.0, 1.0]}, \"hovertemplate\": \"labels=%{label}<br>num_participants=%{value}<br>parent=%{parent}<br>id=%{id}<br>slant_allsides=%{customdata[0]}<extra></extra>\", \"ids\": [\"misc/misc\", \"right/Fox News\", \"right/New York Post\", \"left/New York Times\", \"left/The Guardian\", \"center/BBC\", \"right/Breitbart\", \"center/Business Insider\", \"left/BuzzFeed\", \"center/USA Today\", \"left/CNN\", \"left/Time magazine\", \"left/The Washington Post\", \"right/The Wall Street Journal\", \"center/Reuters\", \"right/The Federalist\", \"left/ABC News\", \"left/MSNBC\", \"left/Huffington Post\", \"left/CBS News\", \"left/Vice\", \"center/NPR\", \"center\", \"left\", \"misc\", \"right\"], \"labels\": [\"misc\", \"Fox News\", \"New York Post\", \"New York Times\", \"The Guardian\", \"BBC\", \"Breitbart\", \"Business Insider\", \"BuzzFeed\", \"USA Today\", \"CNN\", \"Time magazine\", \"The Washington Post\", \"The Wall Street Journal\", \"Reuters\", \"The Federalist\", \"ABC News\", \"MSNBC\", \"Huffington Post\", \"CBS News\", \"Vice\", \"NPR\", \"center\", \"left\", \"misc\", \"right\"], \"marker\": {\"colors\": [\"dimgray\", \"indianred\", \"indianred\", \"steelblue\", \"steelblue\", \"thistle\", \"indianred\", \"thistle\", \"steelblue\", \"thistle\", \"steelblue\", \"steelblue\", \"steelblue\", \"indianred\", \"thistle\", \"indianred\", \"steelblue\", \"steelblue\", \"steelblue\", \"steelblue\", \"steelblue\", \"thistle\", \"thistle\", \"steelblue\", \"dimgray\", \"indianred\"]}, \"name\": \"\", \"parents\": [\"misc\", \"right\", \"right\", \"left\", \"left\", \"center\", \"right\", \"center\", \"left\", \"center\", \"left\", \"left\", \"left\", \"right\", \"center\", \"right\", \"left\", \"left\", \"left\", \"left\", \"left\", \"center\", \"\", \"\", \"\", \"\"], \"textfont\": {\"size\": 20}, \"type\": \"sunburst\", \"values\": [74, 262, 98, 312, 80, 11, 34, 45, 44, 127, 367, 32, 201, 125, 93, 14, 140, 138, 72, 113, 58, 28, 304, 1557, 74, 533]}],\n",
       "                        {\"legend\": {\"tracegroupgap\": 0}, \"margin\": {\"t\": 60}, \"template\": {\"data\": {\"bar\": [{\"error_x\": {\"color\": \"#2a3f5f\"}, \"error_y\": {\"color\": \"#2a3f5f\"}, \"marker\": {\"line\": {\"color\": \"#E5ECF6\", \"width\": 0.5}}, \"type\": \"bar\"}], \"barpolar\": [{\"marker\": {\"line\": {\"color\": \"#E5ECF6\", \"width\": 0.5}}, \"type\": \"barpolar\"}], \"carpet\": [{\"aaxis\": {\"endlinecolor\": \"#2a3f5f\", \"gridcolor\": \"white\", \"linecolor\": \"white\", \"minorgridcolor\": \"white\", \"startlinecolor\": \"#2a3f5f\"}, \"baxis\": {\"endlinecolor\": \"#2a3f5f\", \"gridcolor\": \"white\", \"linecolor\": \"white\", \"minorgridcolor\": \"white\", \"startlinecolor\": \"#2a3f5f\"}, \"type\": \"carpet\"}], \"choropleth\": [{\"colorbar\": {\"outlinewidth\": 0, \"ticks\": \"\"}, \"type\": \"choropleth\"}], \"contour\": [{\"colorbar\": {\"outlinewidth\": 0, \"ticks\": \"\"}, \"colorscale\": [[0.0, \"#0d0887\"], [0.1111111111111111, \"#46039f\"], [0.2222222222222222, \"#7201a8\"], [0.3333333333333333, \"#9c179e\"], [0.4444444444444444, \"#bd3786\"], [0.5555555555555556, \"#d8576b\"], [0.6666666666666666, \"#ed7953\"], [0.7777777777777778, \"#fb9f3a\"], [0.8888888888888888, \"#fdca26\"], [1.0, \"#f0f921\"]], \"type\": \"contour\"}], \"contourcarpet\": [{\"colorbar\": {\"outlinewidth\": 0, \"ticks\": \"\"}, \"type\": \"contourcarpet\"}], \"heatmap\": [{\"colorbar\": {\"outlinewidth\": 0, \"ticks\": \"\"}, \"colorscale\": [[0.0, \"#0d0887\"], [0.1111111111111111, \"#46039f\"], [0.2222222222222222, \"#7201a8\"], [0.3333333333333333, \"#9c179e\"], [0.4444444444444444, \"#bd3786\"], [0.5555555555555556, \"#d8576b\"], [0.6666666666666666, \"#ed7953\"], [0.7777777777777778, \"#fb9f3a\"], [0.8888888888888888, \"#fdca26\"], [1.0, \"#f0f921\"]], \"type\": \"heatmap\"}], \"heatmapgl\": [{\"colorbar\": {\"outlinewidth\": 0, \"ticks\": \"\"}, \"colorscale\": [[0.0, \"#0d0887\"], [0.1111111111111111, \"#46039f\"], [0.2222222222222222, \"#7201a8\"], [0.3333333333333333, \"#9c179e\"], [0.4444444444444444, \"#bd3786\"], [0.5555555555555556, \"#d8576b\"], [0.6666666666666666, \"#ed7953\"], [0.7777777777777778, \"#fb9f3a\"], [0.8888888888888888, \"#fdca26\"], [1.0, \"#f0f921\"]], \"type\": \"heatmapgl\"}], \"histogram\": [{\"marker\": {\"colorbar\": {\"outlinewidth\": 0, \"ticks\": \"\"}}, \"type\": \"histogram\"}], \"histogram2d\": [{\"colorbar\": {\"outlinewidth\": 0, \"ticks\": \"\"}, \"colorscale\": [[0.0, \"#0d0887\"], [0.1111111111111111, \"#46039f\"], [0.2222222222222222, \"#7201a8\"], [0.3333333333333333, \"#9c179e\"], [0.4444444444444444, \"#bd3786\"], [0.5555555555555556, \"#d8576b\"], [0.6666666666666666, \"#ed7953\"], [0.7777777777777778, \"#fb9f3a\"], [0.8888888888888888, \"#fdca26\"], [1.0, \"#f0f921\"]], \"type\": \"histogram2d\"}], \"histogram2dcontour\": [{\"colorbar\": {\"outlinewidth\": 0, \"ticks\": \"\"}, \"colorscale\": [[0.0, \"#0d0887\"], [0.1111111111111111, \"#46039f\"], [0.2222222222222222, \"#7201a8\"], [0.3333333333333333, \"#9c179e\"], [0.4444444444444444, \"#bd3786\"], [0.5555555555555556, \"#d8576b\"], [0.6666666666666666, \"#ed7953\"], [0.7777777777777778, \"#fb9f3a\"], [0.8888888888888888, \"#fdca26\"], [1.0, \"#f0f921\"]], \"type\": \"histogram2dcontour\"}], \"mesh3d\": [{\"colorbar\": {\"outlinewidth\": 0, \"ticks\": \"\"}, \"type\": \"mesh3d\"}], \"parcoords\": [{\"line\": {\"colorbar\": {\"outlinewidth\": 0, \"ticks\": \"\"}}, \"type\": \"parcoords\"}], \"pie\": [{\"automargin\": true, \"type\": \"pie\"}], \"scatter\": [{\"marker\": {\"colorbar\": {\"outlinewidth\": 0, \"ticks\": \"\"}}, \"type\": \"scatter\"}], \"scatter3d\": [{\"line\": {\"colorbar\": {\"outlinewidth\": 0, \"ticks\": \"\"}}, \"marker\": {\"colorbar\": {\"outlinewidth\": 0, \"ticks\": \"\"}}, \"type\": \"scatter3d\"}], \"scattercarpet\": [{\"marker\": {\"colorbar\": {\"outlinewidth\": 0, \"ticks\": \"\"}}, \"type\": \"scattercarpet\"}], \"scattergeo\": [{\"marker\": {\"colorbar\": {\"outlinewidth\": 0, \"ticks\": \"\"}}, \"type\": \"scattergeo\"}], \"scattergl\": [{\"marker\": {\"colorbar\": {\"outlinewidth\": 0, \"ticks\": \"\"}}, \"type\": \"scattergl\"}], \"scattermapbox\": [{\"marker\": {\"colorbar\": {\"outlinewidth\": 0, \"ticks\": \"\"}}, \"type\": \"scattermapbox\"}], \"scatterpolar\": [{\"marker\": {\"colorbar\": {\"outlinewidth\": 0, \"ticks\": \"\"}}, \"type\": \"scatterpolar\"}], \"scatterpolargl\": [{\"marker\": {\"colorbar\": {\"outlinewidth\": 0, \"ticks\": \"\"}}, \"type\": \"scatterpolargl\"}], \"scatterternary\": [{\"marker\": {\"colorbar\": {\"outlinewidth\": 0, \"ticks\": \"\"}}, \"type\": \"scatterternary\"}], \"surface\": [{\"colorbar\": {\"outlinewidth\": 0, \"ticks\": \"\"}, \"colorscale\": [[0.0, \"#0d0887\"], [0.1111111111111111, \"#46039f\"], [0.2222222222222222, \"#7201a8\"], [0.3333333333333333, \"#9c179e\"], [0.4444444444444444, \"#bd3786\"], [0.5555555555555556, \"#d8576b\"], [0.6666666666666666, \"#ed7953\"], [0.7777777777777778, \"#fb9f3a\"], [0.8888888888888888, \"#fdca26\"], [1.0, \"#f0f921\"]], \"type\": \"surface\"}], \"table\": [{\"cells\": {\"fill\": {\"color\": \"#EBF0F8\"}, \"line\": {\"color\": \"white\"}}, \"header\": {\"fill\": {\"color\": \"#C8D4E3\"}, \"line\": {\"color\": \"white\"}}, \"type\": \"table\"}]}, \"layout\": {\"annotationdefaults\": {\"arrowcolor\": \"#2a3f5f\", \"arrowhead\": 0, \"arrowwidth\": 1}, \"coloraxis\": {\"colorbar\": {\"outlinewidth\": 0, \"ticks\": \"\"}}, \"colorscale\": {\"diverging\": [[0, \"#8e0152\"], [0.1, \"#c51b7d\"], [0.2, \"#de77ae\"], [0.3, \"#f1b6da\"], [0.4, \"#fde0ef\"], [0.5, \"#f7f7f7\"], [0.6, \"#e6f5d0\"], [0.7, \"#b8e186\"], [0.8, \"#7fbc41\"], [0.9, \"#4d9221\"], [1, \"#276419\"]], \"sequential\": [[0.0, \"#0d0887\"], [0.1111111111111111, \"#46039f\"], [0.2222222222222222, \"#7201a8\"], [0.3333333333333333, \"#9c179e\"], [0.4444444444444444, \"#bd3786\"], [0.5555555555555556, \"#d8576b\"], [0.6666666666666666, \"#ed7953\"], [0.7777777777777778, \"#fb9f3a\"], [0.8888888888888888, \"#fdca26\"], [1.0, \"#f0f921\"]], \"sequentialminus\": [[0.0, \"#0d0887\"], [0.1111111111111111, \"#46039f\"], [0.2222222222222222, \"#7201a8\"], [0.3333333333333333, \"#9c179e\"], [0.4444444444444444, \"#bd3786\"], [0.5555555555555556, \"#d8576b\"], [0.6666666666666666, \"#ed7953\"], [0.7777777777777778, \"#fb9f3a\"], [0.8888888888888888, \"#fdca26\"], [1.0, \"#f0f921\"]]}, \"colorway\": [\"#636efa\", \"#EF553B\", \"#00cc96\", \"#ab63fa\", \"#FFA15A\", \"#19d3f3\", \"#FF6692\", \"#B6E880\", \"#FF97FF\", \"#FECB52\"], \"font\": {\"color\": \"#2a3f5f\"}, \"geo\": {\"bgcolor\": \"white\", \"lakecolor\": \"white\", \"landcolor\": \"#E5ECF6\", \"showlakes\": true, \"showland\": true, \"subunitcolor\": \"white\"}, \"hoverlabel\": {\"align\": \"left\"}, \"hovermode\": \"closest\", \"mapbox\": {\"style\": \"light\"}, \"paper_bgcolor\": \"white\", \"plot_bgcolor\": \"#E5ECF6\", \"polar\": {\"angularaxis\": {\"gridcolor\": \"white\", \"linecolor\": \"white\", \"ticks\": \"\"}, \"bgcolor\": \"#E5ECF6\", \"radialaxis\": {\"gridcolor\": \"white\", \"linecolor\": \"white\", \"ticks\": \"\"}}, \"scene\": {\"xaxis\": {\"backgroundcolor\": \"#E5ECF6\", \"gridcolor\": \"white\", \"gridwidth\": 2, \"linecolor\": \"white\", \"showbackground\": true, \"ticks\": \"\", \"zerolinecolor\": \"white\"}, \"yaxis\": {\"backgroundcolor\": \"#E5ECF6\", \"gridcolor\": \"white\", \"gridwidth\": 2, \"linecolor\": \"white\", \"showbackground\": true, \"ticks\": \"\", \"zerolinecolor\": \"white\"}, \"zaxis\": {\"backgroundcolor\": \"#E5ECF6\", \"gridcolor\": \"white\", \"gridwidth\": 2, \"linecolor\": \"white\", \"showbackground\": true, \"ticks\": \"\", \"zerolinecolor\": \"white\"}}, \"shapedefaults\": {\"line\": {\"color\": \"#2a3f5f\"}}, \"ternary\": {\"aaxis\": {\"gridcolor\": \"white\", \"linecolor\": \"white\", \"ticks\": \"\"}, \"baxis\": {\"gridcolor\": \"white\", \"linecolor\": \"white\", \"ticks\": \"\"}, \"bgcolor\": \"#E5ECF6\", \"caxis\": {\"gridcolor\": \"white\", \"linecolor\": \"white\", \"ticks\": \"\"}}, \"title\": {\"x\": 0.05}, \"xaxis\": {\"automargin\": true, \"gridcolor\": \"white\", \"linecolor\": \"white\", \"ticks\": \"\", \"title\": {\"standoff\": 15}, \"zerolinecolor\": \"white\", \"zerolinewidth\": 2}, \"yaxis\": {\"automargin\": true, \"gridcolor\": \"white\", \"linecolor\": \"white\", \"ticks\": \"\", \"title\": {\"standoff\": 15}, \"zerolinecolor\": \"white\", \"zerolinewidth\": 2}}}},\n",
       "                        {\"responsive\": true}\n",
       "                    ).then(function(){\n",
       "                            \n",
       "var gd = document.getElementById('0085d09a-8366-41aa-8ce3-e72b2f867067');\n",
       "var x = new MutationObserver(function (mutations, observer) {{\n",
       "        var display = window.getComputedStyle(gd).display;\n",
       "        if (!display || display === 'none') {{\n",
       "            console.log([gd, 'removed!']);\n",
       "            Plotly.purge(gd);\n",
       "            observer.disconnect();\n",
       "        }}\n",
       "}});\n",
       "\n",
       "// Listen for the removal of the full notebook cells\n",
       "var notebookContainer = gd.closest('#notebook-container');\n",
       "if (notebookContainer) {{\n",
       "    x.observe(notebookContainer, {childList: true});\n",
       "}}\n",
       "\n",
       "// Listen for the clearing of the current output cell\n",
       "var outputEl = gd.closest('.output');\n",
       "if (outputEl) {{\n",
       "    x.observe(outputEl, {childList: true});\n",
       "}}\n",
       "\n",
       "                        })\n",
       "                };\n",
       "                });\n",
       "            </script>\n",
       "        </div>"
      ]
     },
     "metadata": {},
     "output_type": "display_data"
    }
   ],
   "source": [
    "fig = px.sunburst(data_frame = annotators_outlets,\n",
    "                  path = ['slant_allsides', 'news_outlet'],\n",
    "                  values = 'num_participants',\n",
    "                  color='slant_allsides',\n",
    "                  color_discrete_map={'center':'thistle', 'left':'steelblue',\n",
    "                                      'right':'indianred', 'misc':'dimgray'})\n",
    "fig.update_traces(textfont_size=20)\n",
    "fig.show()"
   ]
  },
  {
   "cell_type": "code",
   "execution_count": 52,
   "metadata": {},
   "outputs": [
    {
     "data": {
      "text/html": [
       "<div>\n",
       "<style scoped>\n",
       "    .dataframe tbody tr th:only-of-type {\n",
       "        vertical-align: middle;\n",
       "    }\n",
       "\n",
       "    .dataframe tbody tr th {\n",
       "        vertical-align: top;\n",
       "    }\n",
       "\n",
       "    .dataframe thead th {\n",
       "        text-align: right;\n",
       "    }\n",
       "</style>\n",
       "<table border=\"1\" class=\"dataframe\">\n",
       "  <thead>\n",
       "    <tr style=\"text-align: right;\">\n",
       "      <th></th>\n",
       "      <th>news_check_frequency</th>\n",
       "      <th>num_participants</th>\n",
       "    </tr>\n",
       "  </thead>\n",
       "  <tbody>\n",
       "    <tr>\n",
       "      <td>0</td>\n",
       "      <td>Never</td>\n",
       "      <td>8</td>\n",
       "    </tr>\n",
       "    <tr>\n",
       "      <td>1</td>\n",
       "      <td>Very rarely</td>\n",
       "      <td>35</td>\n",
       "    </tr>\n",
       "    <tr>\n",
       "      <td>2</td>\n",
       "      <td>Several times per month</td>\n",
       "      <td>51</td>\n",
       "    </tr>\n",
       "    <tr>\n",
       "      <td>3</td>\n",
       "      <td>Several times per week</td>\n",
       "      <td>145</td>\n",
       "    </tr>\n",
       "    <tr>\n",
       "      <td>4</td>\n",
       "      <td>Every day</td>\n",
       "      <td>364</td>\n",
       "    </tr>\n",
       "    <tr>\n",
       "      <td>5</td>\n",
       "      <td>Several times per day</td>\n",
       "      <td>181</td>\n",
       "    </tr>\n",
       "  </tbody>\n",
       "</table>\n",
       "</div>"
      ],
      "text/plain": [
       "      news_check_frequency  num_participants\n",
       "0                    Never                 8\n",
       "1              Very rarely                35\n",
       "2  Several times per month                51\n",
       "3   Several times per week               145\n",
       "4                Every day               364\n",
       "5    Several times per day               181"
      ]
     },
     "execution_count": 52,
     "metadata": {},
     "output_type": "execute_result"
    }
   ],
   "source": [
    "# news consumption frequency\n",
    "annotators_cons = annotators.groupby(['news_check_frequency'])[['id']].count()\n",
    "annotators_cons = annotators_cons.reset_index()\n",
    "annotators_cons = annotators_cons.rename(columns={\"id\": \"num_participants\"})\n",
    "annotators_cons['sorting'] = [4, 0, 5, 2, 3, 1]\n",
    "annotators_cons = annotators_cons.sort_values(by=['sorting']).reset_index()\n",
    "annotators_cons = annotators_cons[['news_check_frequency','num_participants']]\n",
    "annotators_cons"
   ]
  },
  {
   "cell_type": "code",
   "execution_count": 55,
   "metadata": {},
   "outputs": [
    {
     "data": {
      "image/png": "[encoded data removed]",
      "text/plain": [
       "<Figure size 720x504 with 1 Axes>"
      ]
     },
     "metadata": {},
     "output_type": "display_data"
    }
   ],
   "source": [
    "alphas = np.linspace(0.05, 0.8, 6)\n",
    "teal_rgba = np.array([np.array(list(colors.to_rgba('maroon', alpha=None))),]*6)\n",
    "teal_rgba[:, 3] = alphas\n",
    "teal_rgba\n",
    "\n",
    "def my_autopct(pct):\n",
    "    return ('%.1f%%' % pct) if pct > 2 else ''\n",
    "\n",
    "fig1, ax1 = plt.subplots(figsize=(10,7))\n",
    "my_pie = ax1.pie(annotators_cons.num_participants, labels=annotators_cons.news_check_frequency,\n",
    "        startangle=90, textprops={'fontsize': 20}, #labeldistance=None,\n",
    "        autopct=my_autopct, pctdistance=0.8,\n",
    "       colors=teal_rgba)\n",
    "ax1.axis('equal')  # Equal aspect ratio ensures that pie is drawn as a circle.\n",
    "#ax1.legend(loc='upper right', bbox_to_anchor=(1.15, 0.95))\n",
    "\n",
    "for pie_wedge in my_pie[0]:\n",
    "    pie_wedge.set_edgecolor('white')\n",
    "\n",
    "plt.show()"
   ]
  }
 ],
 "metadata": {
  "kernelspec": {
   "display_name": "Python 3",
   "language": "python",
   "name": "python3"
  },
  "language_info": {
   "codemirror_mode": {
    "name": "ipython",
    "version": 3
   },
   "file_extension": ".py",
   "mimetype": "text/x-python",
   "name": "python",
   "nbconvert_exporter": "python",
   "pygments_lexer": "ipython3",
   "version": "3.7.4"
  }
 },
 "nbformat": 4,
 "nbformat_minor": 2
}
